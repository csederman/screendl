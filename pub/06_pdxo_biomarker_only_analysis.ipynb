{
 "cells": [
  {
   "cell_type": "markdown",
   "metadata": {},
   "source": [
    "# Comparison of ScreenDL with Biomarker-Only Models in PDxOs\n",
    "\n",
    "* [Talazoparib + BRCA1/2](#Talazoparib-+-BRCA1/2)\n",
    "* [Capivasertib + PIK3CA/AKT1/PTEN](#Capivasertib-+-PIK3CA/AKT1/PTEN)"
   ]
  },
  {
   "cell_type": "code",
   "execution_count": null,
   "metadata": {},
   "outputs": [],
   "source": [
    "from __future__ import annotations\n",
    "\n",
    "import altair as alt\n",
    "import pandas as pd\n",
    "import sklearn.metrics as skm\n",
    "import typing as t\n",
    "\n",
    "from pathlib import Path\n",
    "from scipy import stats\n",
    "from omegaconf import OmegaConf\n",
    "\n",
    "from cdrpy.datasets import Dataset\n",
    "\n",
    "from screendl.utils import evaluation as eval_utils"
   ]
  },
  {
   "cell_type": "code",
   "execution_count": null,
   "metadata": {},
   "outputs": [],
   "source": [
    "root = Path(\"../../../datastore\")\n",
    "\n",
    "dataset = \"CellModelPassports-GDSCv1v2-HCI\"\n",
    "model = \"ScreenDL\""
   ]
  },
  {
   "cell_type": "code",
   "execution_count": null,
   "metadata": {},
   "outputs": [],
   "source": [
    "dataset_dir = root / \"inputs/CellModelPassports-GDSCv1v2-HCI-v1.0.0\"\n",
    "\n",
    "drug_meta = pd.read_csv(dataset_dir / \"MetaDrugAnnotations.csv\", index_col=0)\n",
    "cell_meta = pd.read_csv(dataset_dir / \"MetaSampleAnnotations.csv\", index_col=0)\n",
    "\n",
    "D = Dataset.from_csv(\n",
    "    dataset_dir / \"LabelsLogIC50.csv\",\n",
    "    cell_meta=cell_meta,\n",
    "    drug_meta=drug_meta,\n",
    "    name=\"CellModelPassports-GDSC-HCI\",\n",
    ")\n",
    "\n",
    "cell_ids = D.cell_meta[D.cell_meta[\"domain\"] == \"CELL\"].index\n",
    "pdmc_ids = D.cell_meta[D.cell_meta[\"domain\"] == \"PDMC\"].index\n",
    "\n",
    "cell_ds = D.select_cells(cell_ids, name=\"cell_ds\")\n",
    "pdmc_ds = D.select_cells(pdmc_ids, name=\"pdmc_ds\")\n",
    "\n",
    "print(cell_ds)\n",
    "print(pdmc_ds)"
   ]
  },
  {
   "cell_type": "code",
   "execution_count": null,
   "metadata": {},
   "outputs": [],
   "source": [
    "mut_path = (\n",
    "    root / \"processed/WelmBreastPDMC-v1.0.0/internal-raw/Omics.WESMutations.MAF.csv\"\n",
    ")\n",
    "mut_data = pd.read_csv(mut_path)\n",
    "mut_data[\"cell_id\"] = mut_data[\"Tumor_Sample_Barcode\"].str.split(\"_\").str[0]\n",
    "\n",
    "# assign VAF\n",
    "total_counts = mut_data[\"t_alt_count\"] + mut_data[\"t_ref_count\"]\n",
    "mut_data[\"VAF\"] = mut_data[\"t_alt_count\"] / (total_counts)\n",
    "\n",
    "mut_data.head()"
   ]
  },
  {
   "cell_type": "code",
   "execution_count": null,
   "metadata": {},
   "outputs": [],
   "source": [
    "pdmc_meta_path = root / f\"datasets/{dataset}-v1.0.0/pdmc/CellLineAnnotations.csv\"\n",
    "pdmc_meta = pd.read_csv(pdmc_meta_path, index_col=0).dropna(subset=\"sample_id_wes\")\n",
    "pdmc_meta.head()"
   ]
  },
  {
   "cell_type": "code",
   "execution_count": null,
   "metadata": {},
   "outputs": [],
   "source": [
    "pdmc_to_wes_id = pdmc_meta[\"sample_id_wes\"].to_dict()"
   ]
  },
  {
   "cell_type": "code",
   "execution_count": null,
   "metadata": {},
   "outputs": [],
   "source": [
    "MODELS = [\"ScreenDL-PT\", \"ScreenDL-FT\", \"ScreenDL-SA\"]"
   ]
  },
  {
   "cell_type": "code",
   "execution_count": null,
   "metadata": {},
   "outputs": [],
   "source": [
    "parse_sift = lambda x: x if not isinstance(x, str) else x.split(\"(\")[0]\n",
    "parse_polyphen = lambda x: x if not isinstance(x, str) else x.split(\"(\")[0]"
   ]
  },
  {
   "cell_type": "code",
   "execution_count": null,
   "metadata": {},
   "outputs": [],
   "source": [
    "HEIGHT = 200\n",
    "WIDTH = 200"
   ]
  },
  {
   "cell_type": "code",
   "execution_count": null,
   "metadata": {},
   "outputs": [],
   "source": [
    "def load_multirun_predictions(\n",
    "    multirun_dir: str | Path, regex: str, splits: list[str] | None = None\n",
    ") -> pd.DataFrame:\n",
    "    \"\"\"Loads predictions from a multirun.\"\"\"\n",
    "    if isinstance(multirun_dir, str):\n",
    "        multirun_dir = Path(multirun_dir)\n",
    "\n",
    "    def load_run(file_path: Path) -> pd.DataFrame:\n",
    "        fold_id = file_path.parent.stem.split(\"_\")[-1]\n",
    "        fold_pred_df = pd.read_csv(file_path)\n",
    "        fold_pred_df[\"fold\"] = int(fold_id)\n",
    "        return fold_pred_df\n",
    "\n",
    "    file_list = multirun_dir.glob(regex)\n",
    "    pred_df = pd.concat(map(load_run, file_list))\n",
    "\n",
    "    if splits is not None:\n",
    "        pred_df = pred_df[pred_df[\"split_group\"].isin(splits)]\n",
    "\n",
    "    return pred_df"
   ]
  },
  {
   "cell_type": "code",
   "execution_count": null,
   "metadata": {},
   "outputs": [],
   "source": [
    "AXIS_CONFIG = {\n",
    "    \"titleFont\": \"arial\",\n",
    "    \"titlePadding\": 5,\n",
    "    \"titleFontStyle\": \"regular\",\n",
    "    \"labelFont\": \"arial\",\n",
    "    \"tickColor\": \"black\",\n",
    "    \"domainColor\": \"black\",\n",
    "}\n",
    "\n",
    "BOXPLOT_CONFIG = {\n",
    "    \"size\": 25,\n",
    "    \"median\": alt.MarkConfig(fill=\"black\"),\n",
    "    \"box\": alt.MarkConfig(stroke=\"black\"),\n",
    "    \"ticks\": alt.MarkConfig(size=10),\n",
    "    \"outliers\": alt.MarkConfig(stroke=\"black\", size=15, strokeWidth=1.5),\n",
    "}\n",
    "\n",
    "def configure_chart(chart: alt.Chart) -> alt.Chart:\n",
    "    \"\"\"Configures boxplot for viewing.\"\"\"\n",
    "    return (\n",
    "        chart.configure_view(strokeOpacity=0)\n",
    "        .configure_axis(**AXIS_CONFIG)\n",
    "        .configure_header(labelFont=\"arial\")\n",
    "        .configure_boxplot(**BOXPLOT_CONFIG)\n",
    "    )"
   ]
  },
  {
   "cell_type": "code",
   "execution_count": null,
   "metadata": {},
   "outputs": [],
   "source": [
    "class Plotter:\n",
    "    \"\"\"Builds plots for comparisons with biomarker-only models.\"\"\"\n",
    "\n",
    "    def __init__(\n",
    "        self,\n",
    "        D_bm: pd.DataFrame,\n",
    "        D_ft: pd.DataFrame,\n",
    "        D_sa: pd.DataFrame,\n",
    "        x_domain: t.Tuple[int, int],\n",
    "        y_domain: t.Tuple[int, int],\n",
    "        biomarker_name: str,\n",
    "    ) -> None:\n",
    "        self.D_bm = D_bm.sort_values(\"is_ANY\", ascending=False)\n",
    "        self.D_ft = D_ft.sort_values(\"is_ANY\", ascending=False)\n",
    "        self.D_sa = D_sa.sort_values(\"is_ANY\", ascending=False)\n",
    "        self.x_domain = x_domain\n",
    "        self.y_domain = y_domain\n",
    "        self.biomarker_name = biomarker_name\n",
    "\n",
    "    def plot(self) -> alt.Chart:\n",
    "        \"\"\"Renders the full plot.\"\"\"\n",
    "        bm_boxes = self.make_boxes(self.D_bm)\n",
    "        bm_scatter = self.make_scatter(self.D_bm, include_mut_lines=False)\n",
    "        ft_scatter = self.make_scatter(self.D_ft, include_mut_lines=True)\n",
    "        sa_scatter = self.make_scatter(self.D_sa, include_mut_lines=True)\n",
    "        return alt.hconcat(bm_boxes, bm_scatter, ft_scatter, sa_scatter)\n",
    "\n",
    "    def make_boxes(self, D: pd.DataFrame) -> alt.Chart:\n",
    "        \"\"\"Makes the boxlplots stratified by mutation status\"\"\"\n",
    "        return (\n",
    "            alt.Chart(D, width=35 * 2, height=HEIGHT)\n",
    "            .mark_boxplot()\n",
    "            .encode(\n",
    "                alt.X(\"is_ANY:N\")\n",
    "                .axis(labelAngle=0, title=self.biomarker_name)\n",
    "                .scale(domain=(\"MUT\", \"WT\")),\n",
    "                self.true_y_encoding,\n",
    "                self.color_encoding,\n",
    "            )\n",
    "        )\n",
    "\n",
    "    def make_scatter(self, D: pd.DataFrame, include_mut_lines: bool) -> alt.Chart:\n",
    "        \"\"\"Makes the scatter plots.\"\"\"\n",
    "        base = alt.Chart(\n",
    "            D.sort_values(\"is_ANY\", ascending=False),\n",
    "            width=WIDTH,\n",
    "            height=HEIGHT,\n",
    "        )\n",
    "\n",
    "        extent = self.true_x_encoding.to_dict()[\"scale\"][\"domain\"]\n",
    "\n",
    "        chart = (\n",
    "            base.transform_regression(\n",
    "                \"y_true\",\n",
    "                \"y_pred\",\n",
    "                extent=extent,\n",
    "            )\n",
    "            .mark_line(stroke=\"black\", strokeWidth=1)\n",
    "            .encode(self.true_x_encoding, self.pred_y_encoding)\n",
    "        )\n",
    "\n",
    "        if include_mut_lines:\n",
    "\n",
    "            chart += (\n",
    "                base.transform_filter(alt.datum.is_ANY == \"MUT\")\n",
    "                .transform_regression(\n",
    "                    \"y_true\",\n",
    "                    \"y_pred\",\n",
    "                    extent=extent,\n",
    "                )\n",
    "                .mark_line(stroke=\"#5CA453\", strokeWidth=2.5, strokeDash=[4, 4])\n",
    "                .encode(self.true_x_encoding, self.pred_y_encoding)\n",
    "            )\n",
    "\n",
    "            chart += (\n",
    "                base.transform_filter(alt.datum.is_ANY == \"WT\")\n",
    "                .transform_regression(\n",
    "                    \"y_true\",\n",
    "                    \"y_pred\",\n",
    "                    extent=extent,\n",
    "                )\n",
    "                .mark_line(stroke=\"darkgray\", strokeWidth=2.5, strokeDash=[4, 4])\n",
    "                .encode(self.true_x_encoding, self.pred_y_encoding)\n",
    "            )\n",
    "\n",
    "        chart += base.mark_circle(stroke=\"black\").encode(\n",
    "            self.true_x_encoding,\n",
    "            self.pred_y_encoding,\n",
    "            self.color_encoding,\n",
    "            self.size_encoding,\n",
    "            self.opacity_encoding,\n",
    "            self.stroke_width_encoding,\n",
    "            tooltip=[\n",
    "                \"cell_id:N\",\n",
    "                \"y_true:Q\",\n",
    "                \"y_pred:Q\",\n",
    "                \"is_SIFT:N\",\n",
    "                \"is_POLYPHEN:N\",\n",
    "                \"is_CLINVAR:N\",\n",
    "                \"is_HIGH:N\",\n",
    "            ],\n",
    "        )\n",
    "\n",
    "        return chart\n",
    "\n",
    "    @property\n",
    "    def true_x_encoding(self) -> alt.X:\n",
    "        return (\n",
    "            alt.X(\"y_true:Q\")\n",
    "            .scale(domain=self.x_domain)\n",
    "            .axis(tickCount=3, grid=False)\n",
    "            .title(\"Observed Z-Score ln(IC50)\")\n",
    "        )\n",
    "\n",
    "    @property\n",
    "    def true_y_encoding(self) -> alt.Y:\n",
    "        return (\n",
    "            alt.Y(\"y_true:Q\")\n",
    "            .scale(domain=self.y_domain)\n",
    "            .axis(tickCount=3, grid=False)\n",
    "            .title(\"Observed Z-Score ln(IC50)\")\n",
    "        )\n",
    "\n",
    "    @property\n",
    "    def pred_y_encoding(self) -> alt.Y:\n",
    "        return (\n",
    "            alt.Y(\"y_pred:Q\")\n",
    "            .scale(domain=self.y_domain)\n",
    "            .axis(tickCount=3, grid=False)\n",
    "            .title(\"Predicted Z-Score ln(IC50)\")\n",
    "        )\n",
    "\n",
    "    @property\n",
    "    def color_encoding(self) -> alt.Color:\n",
    "        return (\n",
    "            alt.Color(\"is_ANY:N\")\n",
    "            .scale(domain=(\"MUT\", \"WT\", \"U\"), range=(\"#5CA453\", \"darkgray\", \"lightgray\"))\n",
    "            .legend(None)\n",
    "        )\n",
    "\n",
    "    @property\n",
    "    def size_encoding(self) -> alt.SizeValue:\n",
    "        return alt.condition(\n",
    "            alt.datum.is_ANY == \"U\", alt.SizeValue(40), alt.SizeValue(80)\n",
    "        )\n",
    "\n",
    "    @property\n",
    "    def stroke_width_encoding(self) -> alt.StrokeWidthValue:\n",
    "        return alt.condition(\n",
    "            alt.datum.is_ANY == \"U\", alt.StrokeWidthValue(0.25), alt.StrokeWidthValue(0.5)\n",
    "        )\n",
    "\n",
    "    @property\n",
    "    def opacity_encoding(self) -> alt.Opacity:\n",
    "        return alt.condition(\n",
    "            alt.datum.is_ANY == \"U\",\n",
    "            alt.OpacityValue(0.7),\n",
    "            alt.Opacity(\"is_mut:N\")\n",
    "            .scale(domain=(\"MUT\", \"WT\"), range=(0.8, 0.8))\n",
    "            .legend(None),\n",
    "        )"
   ]
  },
  {
   "cell_type": "markdown",
   "metadata": {},
   "source": [
    "## Talazoparib + BRCA1/2"
   ]
  },
  {
   "cell_type": "code",
   "execution_count": null,
   "metadata": {},
   "outputs": [],
   "source": [
    "dataset = \"CellModelPassports-GDSCv1v2-HCI\"\n",
    "model = \"ScreenDL\"\n",
    "date = \"2025-06-23_19-21-52\"\n",
    "\n",
    "path_fmt = \"experiments/pdxo_validation/{0}/{1}/multiruns/{2}\"\n",
    "run_dir = root /\"outputs\" / path_fmt.format(dataset, model, date)\n",
    "run_regex = \"*/predictions.csv\"\n",
    "\n",
    "fixed_model_names = {\n",
    "    \"base\": \"ScreenDL-PT\",\n",
    "    \"xfer\": f\"{model}-FT\",\n",
    "    \"screen\": f\"{model}-SA\",\n",
    "}\n",
    "\n",
    "results = load_multirun_predictions(run_dir, run_regex, splits=None).assign(\n",
    "    model=lambda df: df[\"model\"].map(fixed_model_names),\n",
    "    was_screened=lambda df: df[\"was_screened\"].fillna(False),\n",
    ")\n",
    "results.head()"
   ]
  },
  {
   "cell_type": "code",
   "execution_count": null,
   "metadata": {},
   "outputs": [],
   "source": [
    "DRUG_ID = \"Talazoparib\"\n",
    "BIOMARKER_GENE_IDS = [\"BRCA1\", \"BRCA2\"]"
   ]
  },
  {
   "cell_type": "code",
   "execution_count": null,
   "metadata": {},
   "outputs": [],
   "source": [
    "conf = OmegaConf.load(run_dir / \"multirun.yaml\")\n",
    "assert DRUG_ID in conf.screenahead.opt.exclude_drugs"
   ]
  },
  {
   "cell_type": "code",
   "execution_count": null,
   "metadata": {},
   "outputs": [],
   "source": [
    "ensembl_results = (\n",
    "    results.groupby([\"model\", \"drug_id\", \"cell_id\"])\n",
    "    .agg({\"y_true\": \"first\", \"y_pred\": lambda x: stats.trim_mean(x, 0.2)})\n",
    "    .reset_index()\n",
    ")\n",
    "\n",
    "corrs = (\n",
    "    ensembl_results.dropna(subset=\"y_true\")\n",
    "    .groupby([\"model\", \"drug_id\"])\n",
    "    .apply(eval_utils.pcorr)\n",
    "    .unstack(0)\n",
    ")\n",
    "corrs.loc[corrs.index.str.contains(\"parib\")][MODELS]"
   ]
  },
  {
   "cell_type": "code",
   "execution_count": null,
   "metadata": {},
   "outputs": [],
   "source": [
    "results_drug: pd.DataFrame = (\n",
    "    ensembl_results.query(\"drug_id == @DRUG_ID\").dropna(subset=\"y_true\").copy()\n",
    ")\n",
    "results_drug[\"sample_id_wes\"] = results_drug[\"cell_id\"].map(pdmc_to_wes_id)\n",
    "results_drug.head()"
   ]
  },
  {
   "cell_type": "code",
   "execution_count": null,
   "metadata": {},
   "outputs": [],
   "source": [
    "gene_muts = (\n",
    "    mut_data.query(\"Tumor_Sample_Barcode in @results_drug.sample_id_wes\")\n",
    "    .query(\"Hugo_Symbol in @BIOMARKER_GENE_IDS\")\n",
    "    .assign(SIFT=lambda df: df[\"SIFT\"].map(parse_sift))\n",
    "    .assign(PolyPhen=lambda df: df[\"PolyPhen\"].map(parse_polyphen))\n",
    "    .copy()\n",
    ")\n",
    "gene_muts.head()"
   ]
  },
  {
   "cell_type": "code",
   "execution_count": null,
   "metadata": {},
   "outputs": [],
   "source": [
    "MUT_CATEGORIES = {True: \"MUT\", False: \"WT\", pd.NA: \"U\"}"
   ]
  },
  {
   "cell_type": "code",
   "execution_count": null,
   "metadata": {},
   "outputs": [],
   "source": [
    "is_high_impact = lambda df: (df[\"IMPACT\"] == \"HIGH\").fillna(False)\n",
    "is_sift_deleterious = lambda df: (df[\"SIFT\"] == \"deleterious\").fillna(False)\n",
    "\n",
    "# damaging or likely damaging\n",
    "is_polyphen_damaging = (\n",
    "    lambda df: df[\"PolyPhen\"].str.contains(\"probably_damaging\").fillna(False)\n",
    ")\n",
    "\n",
    "# pathogenic or likely pathogenic\n",
    "is_clinvar_pathogenic = lambda df: df[\"CLIN_SIG\"].str.contains(\"pathogenic\").fillna(False)\n",
    "\n",
    "annotation_cols = [\"is_SIFT\", \"is_POLYPHEN\", \"is_CLINVAR\", \"is_HIGH\"]"
   ]
  },
  {
   "cell_type": "code",
   "execution_count": null,
   "metadata": {},
   "outputs": [],
   "source": [
    "temp = (\n",
    "    gene_muts.assign(\n",
    "        is_SIFT=is_sift_deleterious,\n",
    "        is_POLYPHEN=is_polyphen_damaging,\n",
    "        is_CLINVAR=is_clinvar_pathogenic,\n",
    "        is_HIGH=is_high_impact,\n",
    "        FILTER=lambda df: df[\"FILTER\"].isin([\"PASS\", \"germline_risk\"]),\n",
    "    )\n",
    "    .filter(items=[\"cell_id\", \"Tumor_Sample_Barcode\", \"FILTER\", *annotation_cols])\n",
    "    .copy()\n",
    ")\n",
    "\n",
    "is_ANY = temp[annotation_cols].any(axis=1)\n",
    "is_MUT = is_ANY & temp[\"FILTER\"]  # high-confidence mutations\n",
    "is_UNC = is_ANY & ~temp[\"FILTER\"]  # uncertain mutations\n",
    "is_WT = ~is_ANY & ~(is_MUT | is_UNC)  # no evidence of damaging mutations"
   ]
  },
  {
   "cell_type": "code",
   "execution_count": null,
   "metadata": {},
   "outputs": [],
   "source": [
    "barcodes_with_MUT = set(temp[is_MUT][\"cell_id\"])\n",
    "barcodes_with_UNC = set(temp[is_UNC][\"cell_id\"])\n",
    "barcodes_with_WT = set(temp[is_WT][\"cell_id\"])\n",
    "\n",
    "tumor_to_status = {}\n",
    "for cell_id in results_drug[\"cell_id\"]:\n",
    "    if cell_id in barcodes_with_MUT:\n",
    "        tumor_to_status[cell_id] = \"MUT\"\n",
    "    elif cell_id in barcodes_with_UNC:\n",
    "        tumor_to_status[cell_id] = \"U\"\n",
    "    elif cell_id in barcodes_with_WT:\n",
    "        tumor_to_status[cell_id] = \"WT\"\n",
    "    else:\n",
    "        tumor_to_status[cell_id] = \"U\""
   ]
  },
  {
   "cell_type": "code",
   "execution_count": null,
   "metadata": {},
   "outputs": [],
   "source": [
    "results_drug_muts = results_drug.assign(is_ANY=lambda df: df[\"cell_id\"].map(tumor_to_status))"
   ]
  },
  {
   "cell_type": "code",
   "execution_count": null,
   "metadata": {},
   "outputs": [],
   "source": [
    "results_drug_muts[results_drug_muts[\"cell_id\"].isin([\"HCI043\", \"HCI051\"])]"
   ]
  },
  {
   "cell_type": "code",
   "execution_count": null,
   "metadata": {},
   "outputs": [],
   "source": [
    "corrs = results_drug_muts.groupby([\"model\", \"drug_id\"]).apply(eval_utils.pcorr)\n",
    "corrs.unstack(0)[MODELS]"
   ]
  },
  {
   "cell_type": "code",
   "execution_count": null,
   "metadata": {},
   "outputs": [],
   "source": [
    "corrs = results_drug_muts.groupby([\"model\", \"drug_id\", \"is_ANY\"]).apply(eval_utils.pcorr)\n",
    "corrs.unstack(0)[MODELS]"
   ]
  },
  {
   "cell_type": "code",
   "execution_count": null,
   "metadata": {},
   "outputs": [],
   "source": [
    "biomarker_only_result = (\n",
    "    results_drug_muts.query(\"model == 'ScreenDL-PT'\")\n",
    "    .filter(items=[\"cell_id\", \"drug_id\", \"y_true\", \"is_ANY\", *annotation_cols])\n",
    "    .query(\"is_ANY != 'U'\")\n",
    "    .assign(y_pred=lambda df: df.groupby(\"is_ANY\")[\"y_true\"].transform(\"mean\"))\n",
    ")\n",
    "\n",
    "biomarker_only_result.groupby(\"is_ANY\")[\"y_true\"].describe()"
   ]
  },
  {
   "cell_type": "code",
   "execution_count": null,
   "metadata": {},
   "outputs": [],
   "source": [
    "# NOTE: we want ones that we are not sure about their BRCA mutation status"
   ]
  },
  {
   "cell_type": "code",
   "execution_count": null,
   "metadata": {},
   "outputs": [],
   "source": [
    "# gene_muts[gene_muts[\"Tumor_Sample_Barcode\"] == \"HCI001_pdx_P3_XXX_WXS\"]\n",
    "gene_muts[gene_muts[\"Tumor_Sample_Barcode\"].str.contains(\"HCI040\")]"
   ]
  },
  {
   "cell_type": "code",
   "execution_count": null,
   "metadata": {},
   "outputs": [],
   "source": [
    "eval_utils.pcorr(biomarker_only_result)"
   ]
  },
  {
   "cell_type": "code",
   "execution_count": null,
   "metadata": {},
   "outputs": [],
   "source": [
    "mut_resps = biomarker_only_result.query(\"is_ANY == 'MUT'\")[\"y_true\"]\n",
    "wt_resps = biomarker_only_result.query(\"is_ANY == 'WT'\")[\"y_true\"]\n",
    "stats.mannwhitneyu(mut_resps, wt_resps)"
   ]
  },
  {
   "cell_type": "code",
   "execution_count": null,
   "metadata": {},
   "outputs": [],
   "source": [
    "plotter = Plotter(\n",
    "    D_bm=biomarker_only_result,\n",
    "    D_ft=results_drug_muts.query(\"model == 'ScreenDL-FT'\"),\n",
    "    D_sa=results_drug_muts.query(\"model == 'ScreenDL-SA'\"),\n",
    "    x_domain=(-3, 3),\n",
    "    y_domain=(-3, 3),\n",
    "    biomarker_name=\"BRCA1/2\"\n",
    ")\n",
    "talazoparib_chart = plotter.plot()\n",
    "configure_chart(talazoparib_chart)"
   ]
  },
  {
   "cell_type": "markdown",
   "metadata": {},
   "source": [
    "### auROC Comparison\n",
    "\n",
    "As in previous notebooks, here, we define responders as the top 30% most sensitive lines and quantify auROC for ScreenDL and the biomarker-only model."
   ]
  },
  {
   "cell_type": "code",
   "execution_count": null,
   "metadata": {},
   "outputs": [],
   "source": [
    "keep_tumors = list(biomarker_only_result[\"cell_id\"].unique())"
   ]
  },
  {
   "cell_type": "code",
   "execution_count": null,
   "metadata": {},
   "outputs": [],
   "source": [
    "y_true_df = (\n",
    "    pdmc_ds.obs.rename(columns={\"label\": \"y_true\"})\n",
    "    .drop(columns=\"id\")\n",
    "    .query(\"drug_id == @DRUG_ID\")\n",
    "    .copy()\n",
    ")\n",
    "y_true_df[\"y_true\"] = y_true_df.groupby(\"drug_id\")[\"y_true\"].transform(stats.zscore)\n",
    "\n",
    "thresh = y_true_df[\"y_true\"].quantile(0.30)\n",
    "y_true_df[\"y_true_cls\"] = (y_true_df[\"y_true\"] < thresh).astype(int)\n",
    "tumor_to_y_true_cls = y_true_df.set_index(\"cell_id\")[\"y_true_cls\"].to_dict()"
   ]
  },
  {
   "cell_type": "code",
   "execution_count": null,
   "metadata": {},
   "outputs": [],
   "source": [
    "temp = biomarker_only_result.query(\"cell_id in @keep_tumors\").copy()\n",
    "temp[\"y_true_cls\"] = temp[\"cell_id\"].map(tumor_to_y_true_cls)\n",
    "skm.roc_auc_score(temp[\"y_true_cls\"], -1 * temp[\"y_pred\"])"
   ]
  },
  {
   "cell_type": "code",
   "execution_count": null,
   "metadata": {},
   "outputs": [],
   "source": [
    "auroc_metrics = (\n",
    "    results_drug_muts\n",
    "    .query(\"cell_id in @keep_tumors\")\n",
    "    .assign(y_true_cls=lambda df: df[\"cell_id\"].map(tumor_to_y_true_cls))\n",
    "    .groupby(\"model\")\n",
    "    .apply(lambda g: skm.roc_auc_score(g[\"y_true_cls\"], -1 * g[\"y_pred\"]))\n",
    ")\n",
    "\n",
    "auroc_metrics"
   ]
  },
  {
   "cell_type": "markdown",
   "metadata": {},
   "source": [
    "## Carboplatin + BRCA1/2"
   ]
  },
  {
   "cell_type": "code",
   "execution_count": null,
   "metadata": {},
   "outputs": [],
   "source": [
    "dataset = \"CellModelPassports-GDSCv1v2-HCI\"\n",
    "model = \"ScreenDL\"\n",
    "date = \"2025-06-25_09-54-36\"    # Carboplatin excluded from screening\n",
    "\n",
    "path_fmt = \"experiments/pdxo_validation/{0}/{1}/multiruns/{2}\"\n",
    "run_dir = root /\"outputs\" / path_fmt.format(dataset, model, date)\n",
    "run_regex = \"*/predictions.csv\"\n",
    "\n",
    "fixed_model_names = {\n",
    "    \"base\": \"ScreenDL-PT\",\n",
    "    \"xfer\": f\"{model}-FT\",\n",
    "    \"screen\": f\"{model}-SA\",\n",
    "}\n",
    "\n",
    "results = load_multirun_predictions(run_dir, run_regex, splits=None).assign(\n",
    "    model=lambda df: df[\"model\"].map(fixed_model_names),\n",
    "    was_screened=lambda df: df[\"was_screened\"].fillna(False),\n",
    ")\n",
    "results.head()"
   ]
  },
  {
   "cell_type": "code",
   "execution_count": null,
   "metadata": {},
   "outputs": [],
   "source": [
    "DRUG_ID = \"Carboplatin\"\n",
    "BIOMARKER_GENE_IDS = [\"BRCA1\", \"BRCA2\"]"
   ]
  },
  {
   "cell_type": "code",
   "execution_count": null,
   "metadata": {},
   "outputs": [],
   "source": [
    "conf = OmegaConf.load(run_dir / \"multirun.yaml\")\n",
    "assert DRUG_ID in conf.screenahead.opt.exclude_drugs"
   ]
  },
  {
   "cell_type": "code",
   "execution_count": null,
   "metadata": {},
   "outputs": [],
   "source": [
    "ensembl_results = (\n",
    "    results.groupby([\"model\", \"drug_id\", \"cell_id\"])\n",
    "    .agg({\"y_true\": \"first\", \"y_pred\": lambda x: stats.trim_mean(x, 0.2)})\n",
    "    .reset_index()\n",
    ")\n",
    "\n",
    "corrs = (\n",
    "    ensembl_results.dropna(subset=\"y_true\")\n",
    "    .groupby([\"model\", \"drug_id\"])\n",
    "    .apply(eval_utils.pcorr)\n",
    "    .unstack(0)\n",
    ")\n",
    "corrs.loc[DRUG_ID][MODELS]"
   ]
  },
  {
   "cell_type": "code",
   "execution_count": null,
   "metadata": {},
   "outputs": [],
   "source": [
    "results_drug: pd.DataFrame = (\n",
    "    ensembl_results.dropna(subset=\"y_true\").query(\"drug_id == @DRUG_ID\").copy()\n",
    ")\n",
    "results_drug[\"sample_id_wes\"] = results_drug[\"cell_id\"].map(pdmc_to_wes_id)\n",
    "results_drug.head()"
   ]
  },
  {
   "cell_type": "code",
   "execution_count": null,
   "metadata": {},
   "outputs": [],
   "source": [
    "gene_muts = (\n",
    "    mut_data.query(\"Tumor_Sample_Barcode in @results_drug.sample_id_wes\")\n",
    "    .query(\"Hugo_Symbol in @BIOMARKER_GENE_IDS\")\n",
    "    .assign(SIFT=lambda df: df[\"SIFT\"].map(parse_sift))\n",
    "    .assign(PolyPhen=lambda df: df[\"PolyPhen\"].map(parse_polyphen))\n",
    "    .copy()\n",
    ")\n",
    "gene_muts.head()"
   ]
  },
  {
   "cell_type": "code",
   "execution_count": null,
   "metadata": {},
   "outputs": [],
   "source": [
    "is_high_impact = lambda df: (df[\"IMPACT\"] == \"HIGH\").fillna(False)\n",
    "is_sift_deleterious = lambda df: (df[\"SIFT\"] == \"deleterious\").fillna(False)\n",
    "\n",
    "# damaging or likely damaging\n",
    "is_polyphen_damaging = (\n",
    "    lambda df: df[\"PolyPhen\"].str.contains(\"probably_damaging\").fillna(False)\n",
    ")\n",
    "\n",
    "# pathogenic or likely pathogenic\n",
    "is_clinvar_pathogenic = lambda df: df[\"CLIN_SIG\"].str.contains(\"pathogenic\").fillna(False)\n",
    "\n",
    "annotation_cols = [\"is_SIFT\", \"is_POLYPHEN\", \"is_CLINVAR\", \"is_HIGH\"]"
   ]
  },
  {
   "cell_type": "code",
   "execution_count": null,
   "metadata": {},
   "outputs": [],
   "source": [
    "temp = (\n",
    "    gene_muts.assign(\n",
    "        is_SIFT=is_sift_deleterious,\n",
    "        is_POLYPHEN=is_polyphen_damaging,\n",
    "        is_CLINVAR=is_clinvar_pathogenic,\n",
    "        is_HIGH=is_high_impact,\n",
    "        FILTER=lambda df: df[\"FILTER\"].isin([\"PASS\", \"germline_risk\"]),\n",
    "    )\n",
    "    .filter(items=[\"cell_id\", \"Tumor_Sample_Barcode\", \"FILTER\", *annotation_cols])\n",
    "    .copy()\n",
    ")\n",
    "\n",
    "is_ANY = temp[annotation_cols].any(axis=1)\n",
    "is_MUT = is_ANY & temp[\"FILTER\"]  # high-confidence mutations\n",
    "is_UNC = is_ANY & ~temp[\"FILTER\"]  # uncertain mutations\n",
    "is_WT = ~is_ANY & ~(is_MUT | is_UNC)  # no evidence of damaging mutations"
   ]
  },
  {
   "cell_type": "code",
   "execution_count": null,
   "metadata": {},
   "outputs": [],
   "source": [
    "barcodes_with_MUT = set(temp[is_MUT][\"cell_id\"])\n",
    "barcodes_with_UNC = set(temp[is_UNC][\"cell_id\"])\n",
    "barcodes_with_WT = set(temp[is_WT][\"cell_id\"])\n",
    "\n",
    "tumor_to_status = {}\n",
    "for cell_id in results_drug[\"cell_id\"]:\n",
    "    if cell_id in barcodes_with_MUT:\n",
    "        tumor_to_status[cell_id] = \"MUT\"\n",
    "    elif cell_id in barcodes_with_UNC:\n",
    "        tumor_to_status[cell_id] = \"U\"\n",
    "    elif cell_id in barcodes_with_WT:\n",
    "        tumor_to_status[cell_id] = \"WT\"\n",
    "    else:\n",
    "        tumor_to_status[cell_id] = \"U\""
   ]
  },
  {
   "cell_type": "code",
   "execution_count": null,
   "metadata": {},
   "outputs": [],
   "source": [
    "results_drug_muts = results_drug.assign(is_ANY=lambda df: df[\"cell_id\"].map(tumor_to_status))"
   ]
  },
  {
   "cell_type": "code",
   "execution_count": null,
   "metadata": {},
   "outputs": [],
   "source": [
    "corrs = results_drug_muts.groupby([\"model\", \"drug_id\"]).apply(eval_utils.pcorr)\n",
    "corrs.unstack(0)[MODELS]"
   ]
  },
  {
   "cell_type": "code",
   "execution_count": null,
   "metadata": {},
   "outputs": [],
   "source": [
    "corrs = results_drug_muts.groupby([\"model\", \"drug_id\", \"is_ANY\"]).apply(eval_utils.pcorr)\n",
    "corrs.unstack(0)[MODELS]"
   ]
  },
  {
   "cell_type": "code",
   "execution_count": null,
   "metadata": {},
   "outputs": [],
   "source": [
    "biomarker_only_result = (\n",
    "    results_drug_muts.query(\"model == 'ScreenDL-PT'\")\n",
    "    .filter(items=[\"cell_id\", \"drug_id\", \"y_true\", \"is_ANY\", *annotation_cols])\n",
    "    .query(\"is_ANY != 'U'\")\n",
    "    .assign(y_pred=lambda df: df.groupby(\"is_ANY\")[\"y_true\"].transform(\"mean\"))\n",
    ")\n",
    "\n",
    "biomarker_only_result.groupby(\"is_ANY\")[\"y_true\"].describe()"
   ]
  },
  {
   "cell_type": "code",
   "execution_count": null,
   "metadata": {},
   "outputs": [],
   "source": [
    "eval_utils.pcorr(biomarker_only_result)"
   ]
  },
  {
   "cell_type": "code",
   "execution_count": null,
   "metadata": {},
   "outputs": [],
   "source": [
    "mut_resps = biomarker_only_result.query(\"is_ANY == 'MUT'\")[\"y_true\"]\n",
    "wt_resps = biomarker_only_result.query(\"is_ANY == 'WT'\")[\"y_true\"]\n",
    "stats.mannwhitneyu(mut_resps, wt_resps)"
   ]
  },
  {
   "cell_type": "code",
   "execution_count": null,
   "metadata": {},
   "outputs": [],
   "source": [
    "plotter = Plotter(\n",
    "    D_bm=biomarker_only_result,\n",
    "    D_ft=results_drug_muts.query(\"model == 'ScreenDL-FT'\"),\n",
    "    D_sa=results_drug_muts.query(\"model == 'ScreenDL-SA'\"),\n",
    "    x_domain=(-4, 4),\n",
    "    y_domain=(-4, 4),\n",
    "    biomarker_name=\"BRCA1/2\"\n",
    ")\n",
    "carboplatin_chart = plotter.plot()\n",
    "configure_chart(carboplatin_chart)"
   ]
  },
  {
   "cell_type": "markdown",
   "metadata": {},
   "source": [
    "### auROC Comparison\n",
    "\n",
    "As in previous notebooks, here, we define responders as the top 30% most sensitive lines and quantify auROC for ScreenDL and the biomarker-only model."
   ]
  },
  {
   "cell_type": "code",
   "execution_count": null,
   "metadata": {},
   "outputs": [],
   "source": [
    "keep_tumors = list(biomarker_only_result[\"cell_id\"].unique())"
   ]
  },
  {
   "cell_type": "code",
   "execution_count": null,
   "metadata": {},
   "outputs": [],
   "source": [
    "y_true_df = (\n",
    "    pdmc_ds.obs.rename(columns={\"label\": \"y_true\"})\n",
    "    .drop(columns=\"id\")\n",
    "    .query(\"drug_id == @DRUG_ID\")\n",
    "    .copy()\n",
    ")\n",
    "y_true_df[\"y_true\"] = y_true_df.groupby(\"drug_id\")[\"y_true\"].transform(stats.zscore)\n",
    "\n",
    "thresh = y_true_df[\"y_true\"].quantile(0.30)\n",
    "y_true_df[\"y_true_cls\"] = (y_true_df[\"y_true\"] < thresh).astype(int)\n",
    "tumor_to_y_true_cls = y_true_df.set_index(\"cell_id\")[\"y_true_cls\"].to_dict()"
   ]
  },
  {
   "cell_type": "code",
   "execution_count": null,
   "metadata": {},
   "outputs": [],
   "source": [
    "temp = biomarker_only_result.query(\"cell_id in @keep_tumors\").copy()\n",
    "temp[\"y_true_cls\"] = temp[\"cell_id\"].map(tumor_to_y_true_cls)\n",
    "skm.roc_auc_score(temp[\"y_true_cls\"], -1 * temp[\"y_pred\"])"
   ]
  },
  {
   "cell_type": "code",
   "execution_count": null,
   "metadata": {},
   "outputs": [],
   "source": [
    "auroc_metrics = (\n",
    "    results_drug_muts\n",
    "    .query(\"cell_id in @keep_tumors\")\n",
    "    .assign(y_true_cls=lambda df: df[\"cell_id\"].map(tumor_to_y_true_cls))\n",
    "    .groupby(\"model\")\n",
    "    .apply(lambda g: skm.roc_auc_score(g[\"y_true_cls\"], -1 * g[\"y_pred\"]))\n",
    ")\n",
    "\n",
    "auroc_metrics"
   ]
  },
  {
   "cell_type": "markdown",
   "metadata": {},
   "source": [
    "## Capivasertib + PIK3CA/AKT1/PTEN"
   ]
  },
  {
   "cell_type": "code",
   "execution_count": null,
   "metadata": {},
   "outputs": [],
   "source": [
    "dataset = \"CellModelPassports-GDSCv1v2-HCI\"\n",
    "model = \"ScreenDL\"\n",
    "date = \"2025-06-22_09-09-38\"    # Capivasertib excluded from screening\n",
    "\n",
    "path_fmt = \"experiments/pdxo_validation/{0}/{1}/multiruns/{2}\"\n",
    "run_dir = root /\"outputs\" / path_fmt.format(dataset, model, date)\n",
    "run_regex = \"*/predictions.csv\"\n",
    "\n",
    "fixed_model_names = {\n",
    "    \"base\": \"ScreenDL-PT\",\n",
    "    \"xfer\": f\"{model}-FT\",\n",
    "    \"screen\": f\"{model}-SA\",\n",
    "}\n",
    "\n",
    "results = load_multirun_predictions(run_dir, run_regex, splits=None).assign(\n",
    "    model=lambda df: df[\"model\"].map(fixed_model_names),\n",
    "    was_screened=lambda df: df[\"was_screened\"].fillna(False),\n",
    ")\n",
    "results.head()"
   ]
  },
  {
   "cell_type": "code",
   "execution_count": null,
   "metadata": {},
   "outputs": [],
   "source": [
    "DRUG_ID = \"AZD5363\"\n",
    "BIOMARKER_GENE_IDS = [\"PIK3CA\", \"AKT1\", \"PTEN\"]"
   ]
  },
  {
   "cell_type": "code",
   "execution_count": null,
   "metadata": {},
   "outputs": [],
   "source": [
    "conf = OmegaConf.load(run_dir / \"multirun.yaml\")\n",
    "assert DRUG_ID in conf.screenahead.opt.exclude_drugs"
   ]
  },
  {
   "cell_type": "code",
   "execution_count": null,
   "metadata": {},
   "outputs": [],
   "source": [
    "ensembl_results = (\n",
    "    results.groupby([\"model\", \"drug_id\", \"cell_id\"])\n",
    "    .agg({\"y_true\": \"first\", \"y_pred\": lambda x: stats.trim_mean(x, 0.2)})\n",
    "    .reset_index()\n",
    ")\n",
    "\n",
    "corrs = (\n",
    "    ensembl_results.dropna(subset=\"y_true\")\n",
    "    .groupby([\"model\", \"drug_id\"])\n",
    "    .apply(eval_utils.pcorr)\n",
    "    .unstack(0)\n",
    ")\n",
    "corrs.loc[DRUG_ID][MODELS]"
   ]
  },
  {
   "cell_type": "code",
   "execution_count": null,
   "metadata": {},
   "outputs": [],
   "source": [
    "results_drug: pd.DataFrame = (\n",
    "    ensembl_results.dropna(subset=\"y_true\").query(\"drug_id == @DRUG_ID\").copy()\n",
    ")\n",
    "results_drug[\"sample_id_wes\"] = results_drug[\"cell_id\"].map(pdmc_to_wes_id)\n",
    "results_drug.head()"
   ]
  },
  {
   "cell_type": "code",
   "execution_count": null,
   "metadata": {},
   "outputs": [],
   "source": [
    "gene_muts = (\n",
    "    mut_data.query(\"Tumor_Sample_Barcode in @results_drug.sample_id_wes\")\n",
    "    .query(\"Hugo_Symbol in @BIOMARKER_GENE_IDS\")\n",
    "    .assign(SIFT=lambda df: df[\"SIFT\"].map(parse_sift))\n",
    "    .assign(PolyPhen=lambda df: df[\"PolyPhen\"].map(parse_polyphen))\n",
    "    .copy()\n",
    ")\n",
    "gene_muts.head()"
   ]
  },
  {
   "cell_type": "code",
   "execution_count": null,
   "metadata": {},
   "outputs": [],
   "source": [
    "MUT_CATEGORIES = {True: \"MUT\", False: \"WT\", pd.NA: \"U\"}"
   ]
  },
  {
   "cell_type": "code",
   "execution_count": null,
   "metadata": {},
   "outputs": [],
   "source": [
    "is_high_impact = lambda df: (df[\"IMPACT\"] == \"HIGH\").fillna(False)\n",
    "is_sift_deleterious = lambda df: (df[\"SIFT\"] == \"deleterious\").fillna(False)\n",
    "\n",
    "# damaging or likely damaging\n",
    "is_polyphen_damaging = (\n",
    "    lambda df: df[\"PolyPhen\"].str.contains(\"probably_damaging\").fillna(False)\n",
    ")\n",
    "\n",
    "# pathogenic or likely pathogenic\n",
    "is_clinvar_pathogenic = lambda df: df[\"CLIN_SIG\"].str.contains(\"pathogenic\").fillna(False)\n",
    "\n",
    "annotation_cols = [\"is_SIFT\", \"is_POLYPHEN\", \"is_CLINVAR\", \"is_HIGH\"]"
   ]
  },
  {
   "cell_type": "code",
   "execution_count": null,
   "metadata": {},
   "outputs": [],
   "source": [
    "temp = (\n",
    "    gene_muts.assign(\n",
    "        is_SIFT=is_sift_deleterious,\n",
    "        is_POLYPHEN=is_polyphen_damaging,\n",
    "        is_CLINVAR=is_clinvar_pathogenic,\n",
    "        is_HIGH=is_high_impact,\n",
    "        FILTER=lambda df: df[\"FILTER\"].isin([\"PASS\"]),\n",
    "    )\n",
    "    .filter(items=[\"cell_id\", \"Tumor_Sample_Barcode\", \"FILTER\", *annotation_cols])\n",
    "    .copy()\n",
    ")\n",
    "\n",
    "is_ANY = temp[annotation_cols].any(axis=1)\n",
    "is_MUT = is_ANY & temp[\"FILTER\"]  # high-confidence mutations\n",
    "is_UNC = is_ANY & ~temp[\"FILTER\"]  # uncertain mutations\n",
    "is_WT = ~is_ANY & ~(is_MUT | is_UNC)  # no evidence of damaging mutations"
   ]
  },
  {
   "cell_type": "code",
   "execution_count": null,
   "metadata": {},
   "outputs": [],
   "source": [
    "barcodes_with_MUT = set(temp[is_MUT][\"cell_id\"])\n",
    "barcodes_with_UNC = set(temp[is_UNC][\"cell_id\"])\n",
    "barcodes_with_WT = set(temp[is_WT][\"cell_id\"])\n",
    "\n",
    "tumor_to_status = {}\n",
    "for cell_id in results_drug[\"cell_id\"]:\n",
    "    if cell_id in barcodes_with_MUT:\n",
    "        tumor_to_status[cell_id] = \"MUT\"\n",
    "    elif cell_id in barcodes_with_UNC:\n",
    "        tumor_to_status[cell_id] = \"U\"\n",
    "    elif cell_id in barcodes_with_WT:\n",
    "        tumor_to_status[cell_id] = \"WT\"\n",
    "    else:\n",
    "        tumor_to_status[cell_id] = \"U\""
   ]
  },
  {
   "cell_type": "code",
   "execution_count": null,
   "metadata": {},
   "outputs": [],
   "source": [
    "results_drug_muts = results_drug.assign(is_ANY=lambda df: df[\"cell_id\"].map(tumor_to_status))"
   ]
  },
  {
   "cell_type": "code",
   "execution_count": null,
   "metadata": {},
   "outputs": [],
   "source": [
    "(results_drug_muts[\"is_ANY\"].value_counts() / 3)"
   ]
  },
  {
   "cell_type": "code",
   "execution_count": null,
   "metadata": {},
   "outputs": [],
   "source": [
    "corrs = results_drug_muts.groupby([\"model\", \"drug_id\"]).apply(eval_utils.pcorr)\n",
    "corrs.unstack(0)[MODELS]"
   ]
  },
  {
   "cell_type": "code",
   "execution_count": null,
   "metadata": {},
   "outputs": [],
   "source": [
    "corrs = results_drug_muts.groupby([\"model\", \"drug_id\", \"is_ANY\"]).apply(eval_utils.pcorr)\n",
    "corrs.unstack(0)[MODELS]"
   ]
  },
  {
   "cell_type": "code",
   "execution_count": null,
   "metadata": {},
   "outputs": [],
   "source": [
    "biomarker_only_result = (\n",
    "    results_drug_muts.query(\"model == 'ScreenDL-PT'\")\n",
    "    .filter(items=[\"cell_id\", \"drug_id\", \"y_true\", \"is_ANY\", *annotation_cols])\n",
    "    .query(\"is_ANY != 'U'\")\n",
    "    .assign(y_pred=lambda df: df.groupby(\"is_ANY\")[\"y_true\"].transform(\"mean\"))\n",
    ")\n",
    "\n",
    "biomarker_only_result.groupby(\"is_ANY\")[\"y_true\"].describe()"
   ]
  },
  {
   "cell_type": "code",
   "execution_count": null,
   "metadata": {},
   "outputs": [],
   "source": [
    "eval_utils.pcorr(biomarker_only_result)"
   ]
  },
  {
   "cell_type": "code",
   "execution_count": null,
   "metadata": {},
   "outputs": [],
   "source": [
    "mut_resps = biomarker_only_result.query(\"is_ANY == 'MUT'\")[\"y_true\"]\n",
    "wt_resps = biomarker_only_result.query(\"is_ANY == 'WT'\")[\"y_true\"]\n",
    "stats.mannwhitneyu(mut_resps, wt_resps)"
   ]
  },
  {
   "cell_type": "code",
   "execution_count": null,
   "metadata": {},
   "outputs": [],
   "source": [
    "plotter = Plotter(\n",
    "    D_bm=biomarker_only_result,\n",
    "    D_ft=results_drug_muts.query(\"model == 'ScreenDL-FT'\"),\n",
    "    D_sa=results_drug_muts.query(\"model == 'ScreenDL-SA'\"),\n",
    "    x_domain=(-3, 3),\n",
    "    y_domain=(-3, 3),\n",
    "    biomarker_name=\"PIK3CA\"\n",
    ")\n",
    "capivasertib_chart = plotter.plot()\n",
    "configure_chart(capivasertib_chart)"
   ]
  },
  {
   "cell_type": "markdown",
   "metadata": {},
   "source": [
    "### auROC Comparison\n",
    "\n",
    "As in previous notebooks, here, we define responders as the top 30% most sensitive lines and quantify auROC for ScreenDL and the biomarker-only model."
   ]
  },
  {
   "cell_type": "code",
   "execution_count": null,
   "metadata": {},
   "outputs": [],
   "source": [
    "# tumor_counts = results_drug[\"cell_id\"].value_counts()\n",
    "# keep_tumors = tumor_counts[tumor_counts == 3].index.to_list()\n",
    "\n",
    "keep_tumors = list(biomarker_only_result[\"cell_id\"].unique())"
   ]
  },
  {
   "cell_type": "code",
   "execution_count": null,
   "metadata": {},
   "outputs": [],
   "source": [
    "y_true_df = (\n",
    "    pdmc_ds.obs.rename(columns={\"label\": \"y_true\"})\n",
    "    .drop(columns=\"id\")\n",
    "    .query(\"drug_id == @DRUG_ID\")\n",
    "    .copy()\n",
    ")\n",
    "y_true_df[\"y_true\"] = y_true_df.groupby(\"drug_id\")[\"y_true\"].transform(stats.zscore)\n",
    "y_true_df[\"y_true_cls\"] = y_true_df[\"y_true\"] <= y_true_df[\"y_true\"].quantile(0.30)\n",
    "y_true_df[\"y_true_cls\"] = y_true_df[\"y_true_cls\"].astype(int)\n",
    "tumor_to_y_true_cls = y_true_df.set_index(\"cell_id\")[\"y_true_cls\"].to_dict()"
   ]
  },
  {
   "cell_type": "code",
   "execution_count": null,
   "metadata": {},
   "outputs": [],
   "source": [
    "temp = biomarker_only_result.query(\"cell_id in @keep_tumors\").copy()\n",
    "temp[\"y_true_cls\"] = temp[\"cell_id\"].map(tumor_to_y_true_cls)\n",
    "skm.roc_auc_score(temp[\"y_true_cls\"], -1 * temp[\"y_pred\"])"
   ]
  },
  {
   "cell_type": "code",
   "execution_count": null,
   "metadata": {},
   "outputs": [],
   "source": [
    "auroc_metrics = (\n",
    "    results_drug_muts\n",
    "    .query(\"cell_id in @keep_tumors\")\n",
    "    .assign(y_true_cls=lambda df: df[\"cell_id\"].map(tumor_to_y_true_cls))\n",
    "    .groupby(\"model\")\n",
    "    .apply(lambda g: skm.roc_auc_score(g[\"y_true_cls\"], -1 * g[\"y_pred\"]))\n",
    ")\n",
    "\n",
    "auroc_metrics"
   ]
  },
  {
   "cell_type": "code",
   "execution_count": null,
   "metadata": {},
   "outputs": [],
   "source": [
    "final_figure = alt.vconcat(\n",
    "    capivasertib_chart, talazoparib_chart, carboplatin_chart, spacing=20\n",
    ")\n",
    "\n",
    "configure_chart(final_figure)"
   ]
  }
 ],
 "metadata": {
  "kernelspec": {
   "display_name": "cdrpy-tf-cpu-v2",
   "language": "python",
   "name": "python3"
  },
  "language_info": {
   "codemirror_mode": {
    "name": "ipython",
    "version": 3
   },
   "file_extension": ".py",
   "mimetype": "text/x-python",
   "name": "python",
   "nbconvert_exporter": "python",
   "pygments_lexer": "ipython3",
   "version": "3.9.13"
  }
 },
 "nbformat": 4,
 "nbformat_minor": 2
}
