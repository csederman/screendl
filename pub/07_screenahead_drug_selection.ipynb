{
 "cells": [
  {
   "cell_type": "markdown",
   "metadata": {},
   "source": [
    "# Comparison of ScreenAhead Drug Selection Algorithms\n",
    "\n",
    "## Contents\n",
    "\n",
    "- [Visualize Drug Selection Using PFA](#visualize-drug-selection-using-pfa)\n",
    "- [PFA With an Increasing Number of Drugs Screened](#pfa-with-an-increasing-number-of-drugs-screened)\n",
    "- [Statistical Comparisons of Drug Selection Algorithms](#statistical-comparisons-of-drug-selection-algorithms)"
   ]
  },
  {
   "cell_type": "code",
   "execution_count": null,
   "metadata": {},
   "outputs": [],
   "source": [
    "from __future__ import annotations\n",
    "\n",
    "import json\n",
    "import itertools\n",
    "\n",
    "import altair as alt\n",
    "import pandas as pd\n",
    "import numpy as np\n",
    "import typing as t\n",
    "import sklearn.metrics as skm\n",
    "\n",
    "from pathlib import Path\n",
    "from scipy import stats\n",
    "from sklearn.cluster import KMeans\n",
    "from sklearn.manifold import TSNE\n",
    "\n",
    "from cdrpy.datasets import Dataset\n",
    "\n",
    "from screendl.utils.drug_selectors import get_response_matrix\n",
    "from screendl.utils.drug_selectors import PrincipalDrugSelector"
   ]
  },
  {
   "cell_type": "code",
   "execution_count": null,
   "metadata": {},
   "outputs": [],
   "source": [
    "BOXPLOT_CONFIG = {\n",
    "    \"size\": 26,\n",
    "    \"median\": alt.MarkConfig(fill=\"black\"),\n",
    "    \"box\": alt.MarkConfig(stroke=\"black\"),\n",
    "    \"ticks\": alt.MarkConfig(size=10),\n",
    "    \"outliers\": alt.MarkConfig(stroke=\"black\", size=15, strokeWidth=1.5),\n",
    "}\n",
    "\n",
    "AXIS_CONFIG = {\n",
    "    \"titleFont\": \"arial\",\n",
    "    \"titleFontStyle\": \"regular\",\n",
    "    \"labelFont\": \"arial\",\n",
    "    \"tickColor\": \"black\",\n",
    "    \"domainColor\": \"black\",\n",
    "    \"titlePadding\": 10,\n",
    "}\n",
    "\n",
    "\n",
    "def configure_chart(chart: alt.Chart) -> alt.Chart:\n",
    "    \"\"\"Configures altair chart for viewing.\"\"\"\n",
    "    return (\n",
    "        chart.configure_view(strokeOpacity=0)\n",
    "        .configure_axis(**AXIS_CONFIG)\n",
    "        .configure_header(\n",
    "            titleFont=\"arial\",\n",
    "            titleFontStyle=\"regular\",\n",
    "            titlePadding=10,\n",
    "            labelFont=\"arial\",\n",
    "        )\n",
    "        .configure_legend(\n",
    "            titleFontSize=10, labelFontSize=10, titleFont=\"arial\", labelFont=\"arial\"\n",
    "        )\n",
    "    )"
   ]
  },
  {
   "cell_type": "code",
   "execution_count": null,
   "metadata": {},
   "outputs": [],
   "source": [
    "root = Path(\"../../../datastore\")"
   ]
  },
  {
   "cell_type": "code",
   "execution_count": null,
   "metadata": {},
   "outputs": [],
   "source": [
    "drug_types_path = root / \"processed/DrugAnnotations/drug_types.json\"\n",
    "fixed_drug_types = {\"chemotherapy\": \"Chemo\", \"targeted\": \"Targeted\", \"other\": \"Other\"}\n",
    "with open(drug_types_path, \"r\") as fh:\n",
    "    drug_to_type = {k: fixed_drug_types[v] for k,v in json.load(fh).items()}"
   ]
  },
  {
   "cell_type": "code",
   "execution_count": null,
   "metadata": {},
   "outputs": [],
   "source": [
    "dataset_dir = root / \"inputs/CellModelPassports-GDSCv1v2\"\n",
    "\n",
    "cell_meta = pd.read_csv(dataset_dir / \"MetaCellAnnotations.csv\", index_col=0)\n",
    "drug_meta = pd.read_csv(dataset_dir / \"MetaDrugAnnotations.csv\", index_col=0)\n",
    "drug_meta[\"type\"] = drug_meta.index.map(drug_to_type)\n",
    "\n",
    "D = Dataset.from_csv(\n",
    "    dataset_dir / \"LabelsLogIC50.csv\",\n",
    "    cell_meta=cell_meta,\n",
    "    drug_meta=drug_meta,\n",
    "    name=dataset_dir.name,\n",
    ")\n",
    "\n",
    "print(D)"
   ]
  },
  {
   "cell_type": "markdown",
   "metadata": {},
   "source": [
    "## Visualize Drug Selection Using PFA"
   ]
  },
  {
   "cell_type": "code",
   "execution_count": null,
   "metadata": {},
   "outputs": [],
   "source": [
    "M = get_response_matrix(D, na_threshold=0.9)\n",
    "M = M.apply(stats.zscore, axis=1)\n",
    "\n",
    "M_2d = TSNE(2, random_state=1771).fit_transform(M)\n",
    "M_2d = pd.DataFrame(M_2d, columns=[\"tsne_1\", \"tsne_2\"])\n",
    "M_2d[\"drug_id\"] = M.index\n",
    "\n",
    "selector = PrincipalDrugSelector(D, seed=1441)\n",
    "selected_drugs = selector.select(20)\n",
    "\n",
    "M_2d[\"was_selected\"] = M_2d[\"drug_id\"].isin(selected_drugs).astype(int)\n",
    "M_2d.head()"
   ]
  },
  {
   "cell_type": "code",
   "execution_count": null,
   "metadata": {},
   "outputs": [],
   "source": [
    "kmeans = KMeans(20, random_state=1771, n_init=\"auto\")\n",
    "_ = kmeans.fit(M)\n",
    "\n",
    "M_2d[\"cluster\"] = kmeans.labels_"
   ]
  },
  {
   "cell_type": "code",
   "execution_count": null,
   "metadata": {},
   "outputs": [],
   "source": [
    "x_min = np.floor(M_2d[\"tsne_1\"].min()) - 2\n",
    "x_max = np.ceil(M_2d[\"tsne_1\"].max()) + 2\n",
    "y_min = np.floor(M_2d[\"tsne_2\"].min()) - 2\n",
    "y_max = np.ceil(M_2d[\"tsne_2\"].max()) + 2\n",
    "\n",
    "principal_drug_chart = (\n",
    "    alt.Chart(M_2d.sort_values(\"was_selected\"))\n",
    "    .mark_circle(stroke=\"black\")\n",
    "    .encode(\n",
    "        alt.X(\"tsne_1:Q\")\n",
    "        .axis(grid=False, ticks=False, labels=False)\n",
    "        .scale(domain=(x_min, x_max))\n",
    "        .title(\"TSNE1\"),\n",
    "        alt.Y(\"tsne_2:Q\")\n",
    "        .axis(grid=False, ticks=False, labels=False)\n",
    "        .scale(domain=(y_min, y_max))\n",
    "        .title(\"TSNE2\"),\n",
    "        alt.Color(\"cluster:N\").title(None).scale(scheme=\"tableau20\").legend(None),\n",
    "        alt.Opacity(\"was_selected:N\").scale(domain=(0, 1), range=(0.9, 0.9)),\n",
    "        alt.Size(\"was_selected:N\").scale(domain=(0, 1), range=(30, 40)).legend(None),\n",
    "        alt.StrokeWidth(\"was_selected:N\")\n",
    "        .scale(domain=(0, 1), range=(0, 1.5))\n",
    "        .legend(None),\n",
    "        tooltip=[\"drug_id:N\"],\n",
    "    )\n",
    "    .properties(width=300, height=200)\n",
    ")\n",
    "\n",
    "principal_drug_chart.configure_view(strokeOpacity=0).display()"
   ]
  },
  {
   "cell_type": "code",
   "execution_count": null,
   "metadata": {},
   "outputs": [],
   "source": [
    "def load_multirun_predictions(\n",
    "    multirun_dir: str | Path, regex: str, splits: list[str] | None = None\n",
    ") -> pd.DataFrame:\n",
    "    \"\"\"Loads predictions from a multirun.\"\"\"\n",
    "    if isinstance(multirun_dir, str):\n",
    "        multirun_dir = Path(multirun_dir)\n",
    "\n",
    "    file_list = multirun_dir.glob(regex)\n",
    "    pred_df = pd.concat(map(pd.read_csv, file_list))\n",
    "\n",
    "    if splits is not None:\n",
    "        pred_df = pred_df[pred_df[\"split_group\"].isin(splits)]\n",
    "\n",
    "    return pred_df"
   ]
  },
  {
   "cell_type": "code",
   "execution_count": null,
   "metadata": {},
   "outputs": [],
   "source": [
    "def pcorr(df: pd.DataFrame, c1: str = \"y_true\", c2: str = \"y_pred\") -> float:\n",
    "    if df.shape[0] < 10:\n",
    "        return np.nan\n",
    "    return stats.pearsonr(df[c1], df[c2])[0]\n",
    "\n",
    "def mse(df: pd.DataFrame, c1: str = \"y_true\", c2: str = \"y_pred\") -> float:\n",
    "    if df.shape[0] < 5:\n",
    "        return np.nan\n",
    "    return skm.mean_squared_error(df[c1], df[c2])"
   ]
  },
  {
   "cell_type": "markdown",
   "metadata": {},
   "source": [
    "## PFA With an Increasing Number of Drugs Screened"
   ]
  },
  {
   "cell_type": "code",
   "execution_count": null,
   "metadata": {},
   "outputs": [],
   "source": [
    "output_dir = root / \"outputs\"\n",
    "path_fmt = \"experiments/screenahead_drug_selection/{0}/{1}/multiruns/{2}\"\n",
    "\n",
    "dataset = \"CellModelPassports-GDSCv1v2\"\n",
    "date = \"2024-04-17_10-14-39\"\n",
    "model = \"ScreenDL\"\n",
    "\n",
    "run_dir = output_dir / path_fmt.format(dataset, model, date)\n",
    "rescale = lambda df, col, by: df.groupby(by)[col].transform(stats.zscore)\n",
    "\n",
    "base_results = load_multirun_predictions(\n",
    "    run_dir, \"*/predictions.csv\", splits=[\"test\"]\n",
    ").assign(\n",
    "    y_true=lambda df: rescale(df, \"y_true\", [\"drug_id\"]),\n",
    "    y_pred=lambda df: rescale(df, \"y_pred\", [\"drug_id\"]),\n",
    ")\n",
    "\n",
    "sa_results = load_multirun_predictions(run_dir, \"*/predictions_sa.csv\").assign(\n",
    "    y_true=lambda df: rescale(df, \"y_true\", [\"selector_type\", \"n_drugs\", \"drug_id\"]),\n",
    "    y_pred=lambda df: rescale(df, \"y_pred\", [\"selector_type\", \"n_drugs\", \"drug_id\"]),\n",
    ")"
   ]
  },
  {
   "cell_type": "code",
   "execution_count": null,
   "metadata": {},
   "outputs": [],
   "source": [
    "keep_selectors = [\"uniform\", \"agglomerative\", \"principal\", \"random\"]\n",
    "sa_results = sa_results[sa_results[\"selector_type\"].isin(keep_selectors)]"
   ]
  },
  {
   "cell_type": "code",
   "execution_count": null,
   "metadata": {},
   "outputs": [],
   "source": [
    "grouped = sa_results.groupby([\"cell_id\", \"drug_id\", \"n_drugs\"])\n",
    "counts = grouped[\"selector_type\"].nunique()\n",
    "\n",
    "# remove pairs which were screened in at least one trial\n",
    "sa_results = (\n",
    "    sa_results.set_index([\"cell_id\", \"drug_id\", \"n_drugs\"])\n",
    "    .loc[counts[counts == counts.max()].index]\n",
    "    .reset_index()\n",
    ")"
   ]
  },
  {
   "cell_type": "code",
   "execution_count": null,
   "metadata": {},
   "outputs": [],
   "source": [
    "base_drug_corrs = base_results.groupby(\"drug_id\").apply(pcorr)\n",
    "sa_drug_corrs = sa_results.groupby([\"selector_type\", \"n_drugs\", \"drug_id\"]).apply(pcorr)\n",
    "sa_drug_corrs.groupby([\"selector_type\", \"n_drugs\"]).median().unstack(1)"
   ]
  },
  {
   "cell_type": "code",
   "execution_count": null,
   "metadata": {},
   "outputs": [],
   "source": [
    "base_source = base_drug_corrs.to_frame(name=\"pcc\").reset_index()\n",
    "base_source[\"n_drugs\"] = 0\n",
    "\n",
    "selector_type = \"principal\"\n",
    "selector_source = sa_drug_corrs.xs(selector_type).to_frame(name=\"pcc\").reset_index()\n",
    "\n",
    "source = pd.concat([base_source, selector_source])\n",
    "\n",
    "num_drugs_chart = (\n",
    "    alt.Chart(source)\n",
    "    .mark_boxplot(**BOXPLOT_CONFIG)\n",
    "    .encode(\n",
    "        alt.X(\"n_drugs:O\").axis(labelAngle=0, grid=False).title(\"No. Drugs Screened\"),\n",
    "        alt.Y(\"pcc:Q\")\n",
    "        .axis(grid=False)\n",
    "        .scale(alt.Scale(domain=(0, 1)))\n",
    "        .title(\"Pearson Correlation\"),\n",
    "        alt.condition(\n",
    "            alt.datum.n_drugs == 0, alt.ColorValue(\"#4D79A9\"), alt.ColorValue(\"#53A24B\")\n",
    "        ),\n",
    "    )\n",
    "    .properties(width=35 * source[\"n_drugs\"].nunique(), height=200)\n",
    ")\n",
    "\n",
    "configure_chart(num_drugs_chart)"
   ]
  },
  {
   "cell_type": "markdown",
   "metadata": {},
   "source": [
    "## Statistical Comparisons of Drug Selection Algorithms"
   ]
  },
  {
   "cell_type": "code",
   "execution_count": null,
   "metadata": {},
   "outputs": [],
   "source": [
    "corrs_vs_random = (\n",
    "    sa_drug_corrs.loc[[\"uniform\", \"agglomerative\", \"principal\"]]\n",
    "    .to_frame(\"pcc_informed\")\n",
    "    .join(sa_drug_corrs.loc[\"random\"].to_frame(\"pcc_random\"))\n",
    "    .reset_index()\n",
    ")\n",
    "corrs_vs_random[\"delta\"] = corrs_vs_random[\"pcc_informed\"] - corrs_vs_random[\"pcc_random\"]\n",
    "corrs_vs_random[\"winner\"] = corrs_vs_random.apply(\n",
    "    lambda r: r[\"selector_type\"] if r[\"pcc_informed\"] > r[\"pcc_random\"] else \"random\",\n",
    "    axis=1,\n",
    ")\n",
    "\n",
    "corrs_vs_random.head(10)"
   ]
  },
  {
   "cell_type": "code",
   "execution_count": null,
   "metadata": {},
   "outputs": [],
   "source": [
    "wins_vs_random = (\n",
    "    corrs_vs_random.groupby([\"selector_type\", \"n_drugs\"])[\"winner\"]\n",
    "    .value_counts()\n",
    "    .to_frame(\"count\")\n",
    "    .reset_index()\n",
    ")\n",
    "\n",
    "wins_vs_random[\"order\"] = (wins_vs_random[\"winner\"] == \"random\").astype(int)\n",
    "mapper = {\"agglomerative\": 0, \"uniform\": 1, \"principal\": 2}\n",
    "wins_vs_random[\"col_order\"] = wins_vs_random[\"selector_type\"].map(mapper)\n",
    "grouped = wins_vs_random.groupby([\"selector_type\", \"n_drugs\"])\n",
    "wins_vs_random[\"win_pct\"] = grouped[\"count\"].transform(lambda g: 100 * g / g.sum())\n",
    "wins_vs_random.head()"
   ]
  },
  {
   "cell_type": "code",
   "execution_count": null,
   "metadata": {},
   "outputs": [],
   "source": [
    "color_domain = (\"random\", \"uniform\", \"agglomerative\", \"principal\")\n",
    "color_range = (\"lightgray\", \"#53A24B\", \"#53A24B\", \"#53A24B\")\n",
    "\n",
    "share_chart = (\n",
    "    alt.Chart(wins_vs_random)\n",
    "    .mark_bar(stroke=\"black\", strokeWidth=1, size=19)\n",
    "    .encode(\n",
    "        alt.X(\"n_drugs:O\")\n",
    "        .axis(labelAngle=0, grid=False, titlePadding=10, domainOpacity=0)\n",
    "        .title(\"No. Drugs\"),\n",
    "        alt.Y(\"sum(count):Q\")\n",
    "        .stack(\"normalize\")\n",
    "        .axis(grid=False, offset=5, titlePadding=10, values=(0, 0.25, 0.5, 0.75, 1))\n",
    "        .title(\"Win Share (%)\"),\n",
    "        alt.Color(\"winner:N\")\n",
    "        .scale(domain=color_domain, range=color_range)\n",
    "        .legend(None),\n",
    "        alt.Column(\"col_order:N\", spacing=10).header(None),\n",
    "        alt.Order(\"order:O\"),\n",
    "    )\n",
    "    .properties(height=200, width=22 * 5)\n",
    ")\n",
    "\n",
    "configure_chart(share_chart)"
   ]
  },
  {
   "cell_type": "code",
   "execution_count": null,
   "metadata": {},
   "outputs": [],
   "source": [
    "selector_map = {\n",
    "    \"random\": \"R\",\n",
    "    \"uniform\": \"M\",\n",
    "    \"agglomerative\": \"A\",\n",
    "    \"principal\": \"P\",\n",
    "}\n",
    "\n",
    "wins_vs_random[\"selector\"] = wins_vs_random[\"selector_type\"].map(selector_map)"
   ]
  },
  {
   "cell_type": "code",
   "execution_count": null,
   "metadata": {},
   "outputs": [],
   "source": [
    "get_metrics = lambda g: pd.Series(\n",
    "    {\n",
    "        \"pvalue\": stats.wilcoxon(g[\"pcc_1\"], g[\"pcc_2\"]).pvalue,\n",
    "        \"share\": (g[\"pcc_1\"] > g[\"pcc_2\"]).sum() / g.shape[0],\n",
    "        \"wins\": (g[\"pcc_1\"] > g[\"pcc_2\"]).sum(),\n",
    "        \"total\": g.shape[0],\n",
    "    }\n",
    ")\n",
    "\n",
    "temp = sa_drug_corrs.to_frame(name=\"pcc\").dropna()\n",
    "combs = itertools.combinations(selector_map, 2)\n",
    "result = []\n",
    "for selector_2, selector_1 in combs:\n",
    "    x_selector_1 = temp.xs(selector_1)\n",
    "    x_selector_2 = temp.xs(selector_2)\n",
    "\n",
    "    metrics = (\n",
    "        x_selector_1.join(x_selector_2, lsuffix=\"_1\", rsuffix=\"_2\")\n",
    "        .groupby(\"n_drugs\")\n",
    "        .apply(get_metrics)\n",
    "    )\n",
    "\n",
    "    metrics[\"selector_1\"] = selector_1\n",
    "    metrics[\"selector_2\"] = selector_2\n",
    "    metrics[\"best_selector\"] = metrics[\"share\"].apply(\n",
    "        lambda x: selector_1 if x > 0.5 else (selector_2 if x < 0.5 else \"\")\n",
    "    )\n",
    "\n",
    "    result.append(metrics)\n",
    "\n",
    "source = pd.concat(result).reset_index()\n",
    "source[\"selector_1\"] = source[\"selector_1\"].map(selector_map)\n",
    "source[\"selector_2\"] = source[\"selector_2\"].map(selector_map)\n",
    "source[\"best_selector\"] = source[\"best_selector\"].map(selector_map)\n",
    "source[\"log_pvalue\"] = -np.log10(source[\"pvalue\"])\n",
    "source[\"reject\"] = (source[\"pvalue\"] < 0.05).astype(int)\n",
    "\n",
    "source.head()"
   ]
  },
  {
   "cell_type": "code",
   "execution_count": null,
   "metadata": {},
   "outputs": [],
   "source": [
    "points = (\n",
    "    alt.Chart()\n",
    "    .mark_circle(size=650, stroke=\"black\")\n",
    "    .encode(\n",
    "        alt.X(\"selector_1:N\")\n",
    "        .title(None)\n",
    "        .axis(labelAngle=0, orient=\"top\")\n",
    "        .scale(domain=list(selector_map.values())),\n",
    "        alt.Y(\"selector_2:N\").title(None).scale(domain=list(selector_map.values())),\n",
    "        alt.Color(\"log_pvalue:Q\")\n",
    "        .scale(nice=True)\n",
    "        .legend(title=None, gradientLength=150, gradientThickness=20, tickCount=2),\n",
    "        alt.StrokeWidth(\"reject:N\").scale(domain=(1, 0), range=(2, 0)).legend(None),\n",
    "    )\n",
    "    .properties(width=150, height=150)\n",
    ")\n",
    "\n",
    "text = (\n",
    "    alt.Chart()\n",
    "    .mark_text(size=10)\n",
    "    .encode(\n",
    "        alt.X(\"selector_1:N\")\n",
    "        .title(None)\n",
    "        .axis(labelAngle=0)\n",
    "        .scale(domain=list(selector_map.values())[1:]),\n",
    "        alt.Y(\"selector_2:N\").title(None).scale(domain=list(selector_map.values())[:-1]),\n",
    "        alt.condition(\n",
    "            alt.datum.best_selector == None,\n",
    "            alt.TextValue(\"\"),\n",
    "            alt.Text(\"best_selector:N\"),\n",
    "        ),\n",
    "        alt.condition(\n",
    "            alt.datum.log_pvalue > 14, alt.ColorValue(\"white\"), alt.ColorValue(\"black\")\n",
    "        ),\n",
    "    )\n",
    ")\n",
    "\n",
    "pairwise_selector_chart = alt.layer(points, text).facet(\n",
    "    column=alt.Column(\"n_drugs:O\").title(\"No. Drugs\").header(orient=\"bottom\"),\n",
    "    data=source,\n",
    "    spacing=10,\n",
    ")\n",
    "\n",
    "pairwise_selector_chart.configure_view(strokeOpacity=0).display()"
   ]
  },
  {
   "cell_type": "code",
   "execution_count": null,
   "metadata": {},
   "outputs": [],
   "source": [
    "top = alt.hconcat(num_drugs_chart, principal_drug_chart, share_chart, spacing=40)\n",
    "top = top.resolve_scale(color=\"independent\")\n",
    "\n",
    "chart = alt.vconcat(top, pairwise_selector_chart, spacing=45)\n",
    "configure_chart(chart.resolve_scale(color=\"independent\"))"
   ]
  }
 ],
 "metadata": {
  "kernelspec": {
   "display_name": "cdrpy-tf-cpu-v2",
   "language": "python",
   "name": "python3"
  },
  "language_info": {
   "codemirror_mode": {
    "name": "ipython",
    "version": 3
   },
   "file_extension": ".py",
   "mimetype": "text/x-python",
   "name": "python",
   "nbconvert_exporter": "python",
   "pygments_lexer": "ipython3",
   "version": "3.9.13"
  }
 },
 "nbformat": 4,
 "nbformat_minor": 2
}
