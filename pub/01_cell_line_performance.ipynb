{
 "cells": [
  {
   "cell_type": "markdown",
   "metadata": {},
   "source": [
    "# Performance Evaluation in Cell Lines\n",
    "\n",
    "## Contents\n",
    "\n",
    "- [Data Loading](#data-loading)\n",
    "- [Drug-level Pearson Correlation](#drug-level-pearson-correlation)\n",
    "- [Drug-Level Pearson Correlation Stratified by Biological Mechanism](#drug-level-pearson-correlation-stratified-by-biological-mechanism)\n",
    "- [Drug-Level Pearson Correlation Stratified by Tissue Type](#drug-level-pearson-correlation-stratified-by-tissue-type)\n",
    "- [auROC Analysis](#auroc-analysis)\n",
    "- [Response Rate Analysis](#response-rate-analysis)"
   ]
  },
  {
   "cell_type": "code",
   "execution_count": null,
   "metadata": {},
   "outputs": [],
   "source": [
    "from __future__ import annotations\n",
    "\n",
    "import json\n",
    "\n",
    "import altair as alt\n",
    "import pandas as pd\n",
    "import numpy as np\n",
    "import typing as t\n",
    "import sklearn.metrics as skm\n",
    "\n",
    "from pathlib import Path\n",
    "from scipy import stats\n",
    "\n",
    "from cdrpy.datasets import Dataset\n",
    "from cdrpy.data.preprocess import GroupStandardScaler\n",
    "\n",
    "from screendl.utils import evaluation as eval_utils"
   ]
  },
  {
   "cell_type": "markdown",
   "metadata": {},
   "source": [
    "## Data Loading"
   ]
  },
  {
   "cell_type": "code",
   "execution_count": null,
   "metadata": {},
   "outputs": [],
   "source": [
    "root = Path(\"../../../datastore\")"
   ]
  },
  {
   "cell_type": "code",
   "execution_count": null,
   "metadata": {},
   "outputs": [],
   "source": [
    "drug_types_path = root / \"processed/DrugAnnotations/drug_types.json\"\n",
    "fixed_drug_types = {\"chemotherapy\": \"Chemo\", \"targeted\": \"Targeted\", \"other\": \"Other\"}\n",
    "with open(drug_types_path, \"r\") as fh:\n",
    "    drug_to_type = {k: fixed_drug_types[v] for k,v in json.load(fh).items()}"
   ]
  },
  {
   "cell_type": "code",
   "execution_count": null,
   "metadata": {},
   "outputs": [],
   "source": [
    "dataset_dir = root / \"inputs/CellModelPassportsGDSCv1v2Hallmark\"\n",
    "\n",
    "cell_meta = pd.read_csv(dataset_dir / \"MetaCellAnnotations.csv\", index_col=0)\n",
    "drug_meta = pd.read_csv(dataset_dir / \"MetaDrugAnnotations.csv\", index_col=0)\n",
    "drug_meta[\"type\"] = drug_meta.index.map(drug_to_type)\n",
    "\n",
    "D = Dataset.from_csv(\n",
    "    dataset_dir / \"LabelsLogIC50.csv\",\n",
    "    cell_meta=cell_meta,\n",
    "    drug_meta=drug_meta,\n",
    "    name=dataset_dir.name,\n",
    ")\n",
    "\n",
    "print(D)"
   ]
  },
  {
   "cell_type": "code",
   "execution_count": null,
   "metadata": {},
   "outputs": [],
   "source": [
    "def load_multirun_predictions(\n",
    "    multirun_dir: str | Path, regex: str, splits: list[str] | None = None\n",
    ") -> pd.DataFrame:\n",
    "    \"\"\"Loads predictions from a multirun.\"\"\"\n",
    "    if isinstance(multirun_dir, str):\n",
    "        multirun_dir = Path(multirun_dir)\n",
    "\n",
    "    file_list = multirun_dir.glob(regex)\n",
    "    pred_df = pd.concat(map(pd.read_csv, file_list))\n",
    "\n",
    "    if splits is not None:\n",
    "        pred_df = pred_df[pred_df[\"split_group\"].isin(splits)]\n",
    "\n",
    "    return pred_df"
   ]
  },
  {
   "cell_type": "code",
   "execution_count": null,
   "metadata": {},
   "outputs": [],
   "source": [
    "def rescale_predictions(df: pd.DataFrame) -> pd.DataFrame:\n",
    "    \"\"\"Rescales the predictions based on predictions in the train set.\"\"\"\n",
    "    df_trn = df[df[\"split_group\"] == \"train\"]\n",
    "    df_tst = df[df[\"split_group\"] == \"test\"]\n",
    "\n",
    "    gss = GroupStandardScaler()\n",
    "    df_trn[\"y_true\"] = gss.fit_transform(df_trn[[\"y_true\"]], groups=df_trn[\"drug_id\"])\n",
    "    df_tst[\"y_true\"] = gss.transform(df_tst[[\"y_true\"]], groups=df_tst[\"drug_id\"])\n",
    "\n",
    "    gss = GroupStandardScaler()\n",
    "    df_trn[\"y_pred\"] = gss.fit_transform(df_trn[[\"y_pred\"]], groups=df_trn[\"drug_id\"])\n",
    "    df_tst[\"y_pred\"] = gss.transform(df_tst[[\"y_pred\"]], groups=df_tst[\"drug_id\"])\n",
    "\n",
    "    return pd.concat([df_trn, df_tst])"
   ]
  },
  {
   "cell_type": "code",
   "execution_count": null,
   "metadata": {},
   "outputs": [],
   "source": [
    "model_results: t.Dict[str, pd.DataFrame] = {}\n",
    "output_dir = root / \"outputs\"\n",
    "path_fmt = \"basic/{0}/{1}/multiruns/{2}\"\n",
    "column_mapper = {\"fold\": \"split_id\", \"split\": \"split_group\"}"
   ]
  },
  {
   "cell_type": "code",
   "execution_count": null,
   "metadata": {},
   "outputs": [],
   "source": [
    "# HiDRA results\n",
    "\n",
    "model = \"HiDRA-legacy\"\n",
    "date = \"2024-04-17_19-29-28\"\n",
    "\n",
    "run_dir = output_dir / path_fmt.format(D.name, model, date)\n",
    "run_regex = \"*/predictions.csv\"\n",
    "\n",
    "model_results[model.split(\"-\")[0]] = (\n",
    "    load_multirun_predictions(run_dir, run_regex, splits=[\"train\", \"test\"])\n",
    "    .rename(columns=column_mapper)\n",
    "    .groupby(\"split_id\", as_index=False)\n",
    "    .apply(rescale_predictions)\n",
    "    .assign(model=model.split(\"-\")[0])\n",
    ")"
   ]
  },
  {
   "cell_type": "code",
   "execution_count": null,
   "metadata": {},
   "outputs": [],
   "source": [
    "# DualGCN results\n",
    "\n",
    "model = \"DualGCN-legacy\"\n",
    "dates = [\n",
    "    # NOTE: exceeded 72 hr maximum timelimit so folds are split over multiple runs\n",
    "    \"2024-04-12_09-31-07\",\n",
    "    \"2024-04-12_09-32-20\",\n",
    "    \"2024-04-14_08-02-47\",\n",
    "    \"2024-04-14_08-03-56\",\n",
    "    \"2024-04-15_16-17-18\",\n",
    "]\n",
    "\n",
    "temp = []\n",
    "for date in dates:\n",
    "    run_dir = output_dir / path_fmt.format(D.name, model, date)\n",
    "    run_regex = \"*/predictions.csv\"\n",
    "    temp.append(load_multirun_predictions(run_dir, run_regex, splits=[\"train\", \"test\"]))\n",
    "\n",
    "model_results[model.split(\"-\")[0]] = (\n",
    "    pd.concat(temp)\n",
    "    .rename(columns=column_mapper)\n",
    "    .groupby(\"split_id\", as_index=False)\n",
    "    .apply(rescale_predictions)\n",
    "    .assign(model=model.split(\"-\")[0])\n",
    ")"
   ]
  },
  {
   "cell_type": "code",
   "execution_count": null,
   "metadata": {},
   "outputs": [],
   "source": [
    "model = \"DeepCDR-legacy\"\n",
    "date = \"2024-04-02_09-27-37\"\n",
    "\n",
    "run_dir = output_dir / path_fmt.format(D.name, model, date)\n",
    "run_regex = \"*/predictions.csv\"\n",
    "\n",
    "model_results[model.split(\"-\")[0]] = (\n",
    "    load_multirun_predictions(run_dir, run_regex, splits=[\"train\", \"test\"])\n",
    "    .rename(columns=column_mapper)\n",
    "    .groupby(\"split_id\", as_index=False)\n",
    "    .apply(rescale_predictions)\n",
    "    .assign(model=model.split(\"-\")[0])\n",
    ")"
   ]
  },
  {
   "cell_type": "code",
   "execution_count": null,
   "metadata": {},
   "outputs": [],
   "source": [
    "model = \"ScreenDL\"\n",
    "# date = \"2024-11-12_16-43-56\"\n",
    "# date = \"2024-04-18_12-54-20\"\n",
    "date = \"2024-11-18_19-33-29\"\n",
    "path_fmt = \"screenahead/{0}/{1}/multiruns/{2}\"\n",
    "\n",
    "run_dir = output_dir / path_fmt.format(D.name, model, date)\n",
    "\n",
    "model_results[model + \"-PT\"] = (\n",
    "    load_multirun_predictions(run_dir, \"*/predictions.csv\", splits=[\"train\", \"test\"])\n",
    "    .groupby(\"split_id\", as_index=False)\n",
    "    .apply(rescale_predictions)\n",
    "    .assign(model=model + \"-PT\")\n",
    ")\n",
    "\n",
    "temp_ = model_results[model + \"-PT\"].query(\"split_group == 'train'\").copy()\n",
    "model_results[model + \"-SA\"] = (\n",
    "    load_multirun_predictions(run_dir, \"*/predictions_sa.csv\", splits=None)\n",
    "    .pipe(lambda df: pd.concat([df, temp_]))\n",
    "    .groupby(\"split_id\", as_index=False)\n",
    "    .apply(rescale_predictions)\n",
    "    .assign(model=model + \"-SA\")\n",
    ")"
   ]
  },
  {
   "cell_type": "code",
   "execution_count": null,
   "metadata": {},
   "outputs": [],
   "source": [
    "model_results_df = pd.concat(model_results.values())\n",
    "model_results_df.head()"
   ]
  },
  {
   "cell_type": "code",
   "execution_count": null,
   "metadata": {},
   "outputs": [],
   "source": [
    "model_results_df_trn = model_results_df.query(\"split_group == 'train'\")\n",
    "model_results_df_tst = model_results_df.query(\"split_group == 'test'\")"
   ]
  },
  {
   "cell_type": "code",
   "execution_count": null,
   "metadata": {},
   "outputs": [],
   "source": [
    "counts = model_results_df_tst.groupby([\"drug_id\", \"cell_id\"])[\"model\"].nunique()\n",
    "eval_pairs = counts[counts == model_results_df_tst[\"model\"].nunique()].index\n",
    "\n",
    "model_results_df_tst = (\n",
    "    model_results_df_tst.set_index([\"drug_id\", \"cell_id\"]).loc[eval_pairs].reset_index()\n",
    ")"
   ]
  },
  {
   "cell_type": "markdown",
   "metadata": {},
   "source": [
    "## Drug-level Pearson Correlation"
   ]
  },
  {
   "cell_type": "code",
   "execution_count": null,
   "metadata": {},
   "outputs": [],
   "source": [
    "MODELS = [\"DualGCN\", \"HiDRA\", \"DeepCDR\", \"ScreenDL-PT\", \"ScreenDL-SA\"]"
   ]
  },
  {
   "cell_type": "code",
   "execution_count": null,
   "metadata": {},
   "outputs": [],
   "source": [
    "pcc_metrics = (\n",
    "    model_results_df_tst.groupby([\"model\", \"drug_id\"])\n",
    "    .apply(lambda g: eval_utils.pcorr(g, \"y_true\", \"y_pred\"))\n",
    "    .to_frame(name=\"pcc\")\n",
    "    .reset_index()\n",
    ")\n",
    "\n",
    "pcc_metrics.groupby(\"model\")[\"pcc\"].describe().loc[MODELS]"
   ]
  },
  {
   "cell_type": "code",
   "execution_count": null,
   "metadata": {},
   "outputs": [],
   "source": [
    "# compare performance of ScreenDL-SA with ScreenDL-PT\n",
    "\n",
    "pcc_metrics_wide = pcc_metrics.set_index([\"drug_id\", \"model\"])[\"pcc\"].unstack()\n",
    "\n",
    "m1, m2 = \"ScreenDL-PT\", \"ScreenDL-SA\"\n",
    "stats.wilcoxon(pcc_metrics_wide[m1], pcc_metrics_wide[m2])"
   ]
  },
  {
   "cell_type": "code",
   "execution_count": null,
   "metadata": {},
   "outputs": [],
   "source": [
    "# compare performance of ScreenDL-PT with DeepCDR\n",
    "\n",
    "m1, m2 = \"DeepCDR\", \"ScreenDL-PT\"\n",
    "stats.wilcoxon(pcc_metrics_wide[m1], pcc_metrics_wide[m2])"
   ]
  },
  {
   "cell_type": "code",
   "execution_count": null,
   "metadata": {},
   "outputs": [],
   "source": [
    "MODEL_COLOR_SCALE = alt.Scale(\n",
    "    domain=MODELS,\n",
    "    range=(\"lightgray\", \"darkgray\", \"gray\", \"#4C78A8\", \"#5CA453\"),\n",
    ")\n",
    "\n",
    "BOXPLOT_CONFIG = {\n",
    "    \"size\": 26,\n",
    "    \"median\": alt.MarkConfig(fill=\"black\"),\n",
    "    \"box\": alt.MarkConfig(stroke=\"black\"),\n",
    "    \"ticks\": alt.MarkConfig(size=10),\n",
    "    \"outliers\": alt.MarkConfig(stroke=\"black\", size=15, strokeWidth=1.5),\n",
    "}\n",
    "\n",
    "AXIS_CONFIG = {\n",
    "    \"titleFont\": \"arial\",\n",
    "    \"titleFontStyle\": \"regular\",\n",
    "    \"labelFont\": \"arial\",\n",
    "    \"tickColor\": \"black\",\n",
    "    \"domainColor\": \"black\",\n",
    "}"
   ]
  },
  {
   "cell_type": "code",
   "execution_count": null,
   "metadata": {},
   "outputs": [],
   "source": [
    "def configure_chart(chart: alt.Chart) -> alt.Chart:\n",
    "    \"\"\"Configures altair chart for viewing.\"\"\"\n",
    "    return (\n",
    "        chart.configure_view(strokeOpacity=0)\n",
    "        .configure_axis(**AXIS_CONFIG)\n",
    "        .configure_header(labelFont=\"arial\")\n",
    "        .configure_legend(titleFontSize=10, labelFontSize=10)\n",
    "    )"
   ]
  },
  {
   "cell_type": "code",
   "execution_count": null,
   "metadata": {},
   "outputs": [],
   "source": [
    "annots = D.drug_meta[[\"target_pathway\", \"type\"]].reset_index()\n",
    "source = pcc_metrics.merge(annots, on=\"drug_id\")"
   ]
  },
  {
   "cell_type": "code",
   "execution_count": null,
   "metadata": {},
   "outputs": [],
   "source": [
    "source.drop_duplicates(\"drug_id\")[\"type\"].value_counts(dropna=False)"
   ]
  },
  {
   "cell_type": "code",
   "execution_count": null,
   "metadata": {},
   "outputs": [],
   "source": [
    "boxes_all_drugs = (\n",
    "    alt.Chart(source, width=31 * len(MODELS), height=250)\n",
    "    .mark_boxplot(**BOXPLOT_CONFIG)\n",
    "    .encode(\n",
    "        alt.X(\"model:N\").axis(labelAngle=-45, labelPadding=5).sort(MODELS).title(None),\n",
    "        alt.Y(\"pcc:Q\")\n",
    "        .axis(titlePadding=10, tickCount=6, grid=False)\n",
    "        .scale(domain=[-0.2, 1])\n",
    "        .title(\"Pearson Correlation\"),\n",
    "        alt.Color(\"model:N\", scale=MODEL_COLOR_SCALE).legend(None),\n",
    "    )\n",
    ")\n",
    "\n",
    "boxes_drug_types = (\n",
    "    alt.Chart(source, width=31 * 2, height=250)\n",
    "    .transform_filter(alt.FieldOneOfPredicate(\"type\", [\"Targeted\", \"Chemo\"]))\n",
    "    .mark_boxplot(**BOXPLOT_CONFIG)\n",
    "    .encode(\n",
    "        alt.Column(\"model:N\").spacing(5).sort(MODELS).title(None).header(orient=\"top\"),\n",
    "        alt.X(\"type:N\")\n",
    "        .axis(labelAngle=-45, labelPadding=5, orient=\"bottom\")\n",
    "        .sort([\"Targeted\", \"Chemo\"])\n",
    "        .title(None),\n",
    "        alt.Y(\"pcc:Q\")\n",
    "        .axis(grid=False, labels=False, ticks=False, domainOpacity=0)\n",
    "        .scale(domain=[-0.2, 1])\n",
    "        .title(None),\n",
    "        alt.Color(\"model:N\", scale=MODEL_COLOR_SCALE).legend(None),\n",
    "    )\n",
    ")\n",
    "\n",
    "pcc_boxplot = alt.hconcat(boxes_all_drugs, boxes_drug_types, spacing=-5)\n",
    "configure_chart(pcc_boxplot)"
   ]
  },
  {
   "cell_type": "code",
   "execution_count": null,
   "metadata": {},
   "outputs": [],
   "source": [
    "pcc_metrics_u = pcc_metrics.set_index([\"drug_id\", \"model\"])[\"pcc\"].unstack().dropna()\n",
    "m1 = \"ScreenDL-PT\"\n",
    "m2 = \"ScreenDL-SA\"\n",
    "stats.wilcoxon(pcc_metrics_u[m1], pcc_metrics_u[m2])"
   ]
  },
  {
   "cell_type": "markdown",
   "metadata": {},
   "source": [
    "## Drug-Level Pearson Correlation Stratified by Biological Mechanism"
   ]
  },
  {
   "cell_type": "code",
   "execution_count": null,
   "metadata": {},
   "outputs": [],
   "source": [
    "MIN_DRUGS_PER_PATHWAY = 10\n",
    "\n",
    "drug_to_pathway = D.drug_meta.loc[pcc_metrics[\"drug_id\"].unique()][\"target_pathway\"]\n",
    "\n",
    "drugs_per_pathway = drug_meta[\"target_pathway\"].value_counts()\n",
    "keep_pathways = drugs_per_pathway[drugs_per_pathway >= MIN_DRUGS_PER_PATHWAY].index\n",
    "drug_to_pathway = drug_to_pathway[drug_to_pathway.isin(keep_pathways)]\n",
    "\n",
    "pathway_blacklist = [\"Other\", \"Chromatin other\", \"Unclassified\"]\n",
    "drug_to_pathway = drug_to_pathway[~drug_to_pathway.isin(pathway_blacklist)]\n",
    "\n",
    "drug_to_pathway.value_counts()"
   ]
  },
  {
   "cell_type": "code",
   "execution_count": null,
   "metadata": {},
   "outputs": [],
   "source": [
    "pathway_pcc_metrics = (\n",
    "    pcc_metrics.assign(target_pathway=lambda df: df[\"drug_id\"].map(drug_to_pathway))\n",
    "    .groupby([\"model\", \"target_pathway\"])\n",
    "    .agg({\"pcc\": \"median\", \"drug_id\": \"nunique\"})\n",
    "    .reset_index()\n",
    "    .rename(columns={\"drug_id\": \"count\", \"pcc\": \"median_pcc\"})\n",
    ")\n",
    "pathway_pcc_metrics.head()"
   ]
  },
  {
   "cell_type": "code",
   "execution_count": null,
   "metadata": {},
   "outputs": [],
   "source": [
    "sorted_pathways = (\n",
    "    pathway_pcc_metrics.query(\"model == 'ScreenDL-PT'\")\n",
    "    .sort_values(\"median_pcc\", ascending=False)[\"target_pathway\"]\n",
    "    .to_list()\n",
    ")\n",
    "\n",
    "points = (\n",
    "    alt.Chart(pathway_pcc_metrics, width=300, height=len(sorted_pathways) * 13)\n",
    "    .mark_circle()\n",
    "    .encode(\n",
    "        alt.X(\"median_pcc:Q\")\n",
    "        .axis(titlePadding=10, values=[-0.2, 0.0, 0.2, 0.4, 0.6, 0.8, 1.0], grid=False)\n",
    "        .scale(domain=(-0.2, 1.0))\n",
    "        .title(\"Median Pearson Correlation Per Drug\"),\n",
    "        alt.Y(\"target_pathway:N\").sort(sorted_pathways).title(None),\n",
    "        alt.Color(\"model:N\", scale=MODEL_COLOR_SCALE).legend(\n",
    "            orient=\"top\", title=None, symbolStrokeWidth=1\n",
    "        ),\n",
    "        tooltip=[\"median_pcc:Q\", \"target_pathway:N\"],\n",
    "    )\n",
    ")\n",
    "\n",
    "bars = alt.Chart(\n",
    "    pathway_pcc_metrics.query(\"model == 'ScreenDL-PT'\"),\n",
    "    width=100,\n",
    "    height=len(sorted_pathways) * 13,\n",
    ").encode(\n",
    "    alt.X(\"count:Q\")\n",
    "    .axis(grid=False, values=[0, 25, 50], titlePadding=10)\n",
    "    .scale(domain=(0, 50))\n",
    "    .title(\"No. Drugs\"),\n",
    "    alt.Y(\"target_pathway:N\")\n",
    "    .axis(ticks=False, labels=False, offset=0, domainOpacity=0)\n",
    "    .sort(sorted_pathways)\n",
    "    .title(None),\n",
    "    text=\"count\",\n",
    ")\n",
    "\n",
    "bars = bars.mark_bar() + bars.mark_text(align=\"left\", dx=4, fontSize=10)\n",
    "\n",
    "pathway_pcc_chart = alt.hconcat(points, bars, spacing=10)\n",
    "\n",
    "(\n",
    "    configure_chart(pathway_pcc_chart)\n",
    "    .configure_circle(size=60, opacity=0.8, stroke=\"black\", strokeWidth=0.5)\n",
    "    .configure_bar(stroke=\"black\", strokeWidth=0.5, size=11, color=\"#999999\")\n",
    ")"
   ]
  },
  {
   "cell_type": "markdown",
   "metadata": {},
   "source": [
    "## Drug-Level Pearson Correlation Stratified by Tissue Type"
   ]
  },
  {
   "cell_type": "markdown",
   "metadata": {},
   "source": [
    "##"
   ]
  },
  {
   "cell_type": "code",
   "execution_count": null,
   "metadata": {},
   "outputs": [],
   "source": [
    "MIN_TUMORS_PER_TISSUE = 15\n",
    "tumor_to_tissue = D.cell_meta[\"tissue\"]\n",
    "\n",
    "tissue_pcc_metrics = (\n",
    "    model_results_df_tst.assign(tissue=lambda df: df[\"cell_id\"].map(tumor_to_tissue))\n",
    "    .groupby([\"model\", \"tissue\", \"drug_id\"])\n",
    "    .apply(eval_utils.pcorr)\n",
    "    .groupby([\"model\", \"tissue\"])\n",
    "    .median()\n",
    "    .dropna()\n",
    "    .to_frame(name=\"median_pcc\")\n",
    "    .reset_index()\n",
    "    .assign(count=lambda df: df[\"tissue\"].map(tumor_to_tissue.value_counts()))\n",
    "    .query(\"count.ge(@MIN_TUMORS_PER_TISSUE)\")\n",
    ")\n",
    "tissue_pcc_metrics.head()"
   ]
  },
  {
   "cell_type": "code",
   "execution_count": null,
   "metadata": {},
   "outputs": [],
   "source": [
    "best_model_by_tissue = (\n",
    "    tissue_pcc_metrics[tissue_pcc_metrics[\"model\"] != \"ScreenDL-SA\"]\n",
    "    .groupby(\"tissue\", as_index=False)\n",
    "    .apply(lambda g: g.loc[g[\"median_pcc\"].idxmax()])\n",
    ")\n",
    "\n",
    "best_model_by_tissue[\"model\"].value_counts() / len(best_model_by_tissue)"
   ]
  },
  {
   "cell_type": "code",
   "execution_count": null,
   "metadata": {},
   "outputs": [],
   "source": [
    "sorted_tissues = (\n",
    "    tissue_pcc_metrics.query(\"model == 'ScreenDL-PT'\")\n",
    "    .sort_values(\"median_pcc\", ascending=False)[\"tissue\"]\n",
    "    .to_list()\n",
    ")\n",
    "\n",
    "points = (\n",
    "    alt.Chart(\n",
    "        tissue_pcc_metrics, width=300, height=tissue_pcc_metrics[\"tissue\"].nunique() * 13\n",
    "    )\n",
    "    .mark_circle()\n",
    "    .encode(\n",
    "        alt.X(\"median_pcc:Q\")\n",
    "        .axis(titlePadding=10, values=[-0.2, 0.0, 0.2, 0.4, 0.6, 0.8, 1.0], grid=False)\n",
    "        .scale(domain=(-0.2, 1.0))\n",
    "        .title(\"Median Pearson Correlation Per Drug\"),\n",
    "        alt.Y(\"tissue:N\").sort(sorted_tissues).title(None),\n",
    "        alt.Color(\"model:N\", scale=MODEL_COLOR_SCALE).legend(\n",
    "            orient=\"top\", title=None, symbolStrokeWidth=1\n",
    "        ),\n",
    "    )\n",
    ")\n",
    "\n",
    "bars = alt.Chart(\n",
    "    tissue_pcc_metrics.query(\"model == 'ScreenDL-PT'\"),\n",
    "    width=100,\n",
    "    height=tissue_pcc_metrics[\"tissue\"].nunique() * 13,\n",
    ").encode(\n",
    "    alt.X(\"count:Q\")\n",
    "    .axis(grid=False, values=[0, 100, 200], titlePadding=10)\n",
    "    .scale(domain=(0, 200))\n",
    "    .title(\"No. Cell Lines\"),\n",
    "    alt.Y(\"tissue:N\")\n",
    "    .axis(ticks=False, labels=False, offset=0, domainOpacity=0)\n",
    "    .sort(sorted_tissues)\n",
    "    .title(None),\n",
    "    text=\"count\",\n",
    ")\n",
    "\n",
    "bars = bars.mark_bar() + bars.mark_text(align=\"left\", dx=4, fontSize=10)\n",
    "tissue_pcc_chart = alt.hconcat(points, bars, spacing=10)\n",
    "\n",
    "(\n",
    "    configure_chart(tissue_pcc_chart)\n",
    "    .configure_circle(size=60, opacity=0.8, stroke=\"black\", strokeWidth=0.5)\n",
    "    .configure_bar(stroke=\"black\", strokeWidth=0.5, size=11, color=\"#999999\")\n",
    ")"
   ]
  },
  {
   "cell_type": "markdown",
   "metadata": {},
   "source": [
    "## auROC Analysis"
   ]
  },
  {
   "cell_type": "code",
   "execution_count": null,
   "metadata": {},
   "outputs": [],
   "source": [
    "def get_responder_assignments(df: pd.DataFrame, q: float) -> pd.DataFrame:\n",
    "    df_train = df[df[\"split_group\"] == \"train\"]\n",
    "    df_test = df[df[\"split_group\"] == \"test\"]\n",
    "\n",
    "    thresh = df_train[\"y_true\"].quantile(q)\n",
    "\n",
    "    df_test[\"y_true_class\"] = (df_test[\"y_true\"] < thresh).astype(int)\n",
    "\n",
    "    return df_test\n",
    "\n",
    "\n",
    "get_response_rate = lambda df: df[\"y_true_class\"].sum() / len(df[\"y_true_class\"])\n",
    "is_best_index = lambda g: g.index == g.idxmin()"
   ]
  },
  {
   "cell_type": "code",
   "execution_count": null,
   "metadata": {},
   "outputs": [],
   "source": [
    "# annotate responders vs non-responders and select best drugs for each model\n",
    "\n",
    "TRUE_RESPONDER_PERCENTILE = 0.3\n",
    "\n",
    "model_results_df_responder_cls = (\n",
    "    model_results_df.groupby([\"model\", \"split_id\", \"drug_id\"], as_index=False)\n",
    "    .apply(lambda g: get_responder_assignments(g, TRUE_RESPONDER_PERCENTILE))\n",
    "    .reset_index(drop=True)\n",
    "    .assign(\n",
    "        selected_drug=lambda df: df.groupby([\"model\", \"cell_id\"])[\"y_pred\"].transform(\n",
    "            is_best_index\n",
    "        )\n",
    "    )\n",
    ")\n",
    "\n",
    "model_results_df_responder_cls.head()"
   ]
  },
  {
   "cell_type": "code",
   "execution_count": null,
   "metadata": {},
   "outputs": [],
   "source": [
    "def compute_roc_auc(y_true: pd.Series, y_pred: pd.Series) -> float:\n",
    "    if y_true.nunique() <= 1:\n",
    "        return np.nan\n",
    "    return skm.roc_auc_score(y_true, -1 * y_pred)\n",
    "\n",
    "\n",
    "drug_auroc_metrics = (\n",
    "    model_results_df_responder_cls.groupby([\"model\", \"drug_id\"])\n",
    "    .apply(lambda g: compute_roc_auc(g[\"y_true_class\"], g[\"y_pred\"]))\n",
    "    .to_frame(name=\"auROC\")\n",
    "    .reset_index()\n",
    ")\n",
    "\n",
    "drug_auroc_metrics.groupby(\"model\")[\"auROC\"].describe().loc[MODELS]"
   ]
  },
  {
   "cell_type": "code",
   "execution_count": null,
   "metadata": {},
   "outputs": [],
   "source": [
    "sorted_models = (\n",
    "    drug_auroc_metrics.groupby(\"model\")[\"auROC\"]\n",
    "    .median()\n",
    "    .sort_values(ascending=False)\n",
    "    .index.to_list()\n",
    ")\n",
    "\n",
    "bars = (\n",
    "    alt.Chart()\n",
    "    .mark_bar(stroke=\"black\", size=20, strokeWidth=1)\n",
    "    .encode(\n",
    "        alt.X(\"median(auROC):Q\")\n",
    "        .axis(grid=False, tickCount=5, domainColor=\"black\", titlePadding=10)\n",
    "        .scale(domain=(0.5, 0.9))\n",
    "        .title(\"auROC\"),\n",
    "        alt.Y(\"model:N\")\n",
    "        .axis(domainColor=\"black\")\n",
    "        .scale(domain=sorted_models, paddingOuter=0.15)\n",
    "        .title(None),\n",
    "        alt.Color(\"model:N\", scale=MODEL_COLOR_SCALE).legend(None),\n",
    "    )\n",
    "    .properties(width=200, height=120)\n",
    ")\n",
    "\n",
    "error_bars = (\n",
    "    alt.Chart()\n",
    "    .mark_errorbar(\n",
    "        extent=\"iqr\", ticks=alt.MarkConfig(size=5, color=\"black\", strokeWidth=1)\n",
    "    )\n",
    "    .encode(alt.Y(\"model:N\"), alt.X(\"auROC:Q\"))\n",
    ")\n",
    "\n",
    "drug_auroc_chart = alt.layer(bars, error_bars, data=drug_auroc_metrics)\n",
    "configure_chart(drug_auroc_chart)"
   ]
  },
  {
   "cell_type": "markdown",
   "metadata": {},
   "source": [
    "## Response Rate Analysis"
   ]
  },
  {
   "cell_type": "code",
   "execution_count": null,
   "metadata": {},
   "outputs": [],
   "source": [
    "rr_metrics = (\n",
    "    model_results_df_responder_cls.groupby(\"model\")\n",
    "    .apply(\n",
    "        lambda g: pd.Series(\n",
    "            {\n",
    "                \"max_rr\": g[\"y_true_class\"].sum() / len(g),\n",
    "                \"no_cells\": g.query(\"selected_drug == True\")[\"y_true_class\"].sum(),\n",
    "                \"sel_rr\": g.query(\"selected_drug == True\")[\"y_true_class\"].sum()\n",
    "                / len(g.query(\"selected_drug == True\")),\n",
    "            }\n",
    "        )\n",
    "    )\n",
    "    .reset_index()\n",
    ")\n",
    "\n",
    "rr_metrics"
   ]
  },
  {
   "cell_type": "code",
   "execution_count": null,
   "metadata": {},
   "outputs": [],
   "source": [
    "pt_selected_drugs = model_results_df_responder_cls.query(\n",
    "    \"model == 'ScreenDL-PT' and selected_drug == True\"\n",
    ")\n",
    "no_uniq_drugs = pt_selected_drugs[\"drug_id\"].nunique()\n",
    "no_uniq_pathways = (\n",
    "    pt_selected_drugs[\"drug_id\"].map(D.drug_meta[\"target_pathway\"]).nunique()\n",
    ")\n",
    "print(f\"No. Drugs (ScreenDL-PT): {no_uniq_drugs}\")\n",
    "print(f\"No. Pathways (ScreenDL-PT): {no_uniq_pathways}\")"
   ]
  },
  {
   "cell_type": "code",
   "execution_count": null,
   "metadata": {},
   "outputs": [],
   "source": [
    "# NOTE: this is over 15 since we have many in the other category"
   ]
  },
  {
   "cell_type": "code",
   "execution_count": null,
   "metadata": {},
   "outputs": [],
   "source": [
    "sorted_models = rr_metrics.sort_values(\"sel_rr\", ascending=False)[\"model\"].to_list()\n",
    "\n",
    "base = alt.Chart(rr_metrics)\n",
    "\n",
    "bars = (\n",
    "    base.mark_bar(stroke=\"black\", size=20, strokeWidth=1)\n",
    "    .encode(\n",
    "        alt.X(\"sel_rr:Q\")\n",
    "        .axis(grid=False, tickCount=5, domainColor=\"black\", format=\"%\", titlePadding=10)\n",
    "        .scale(domain=(0.0, 0.8))\n",
    "        .title(\"Response Rate (%)\"),\n",
    "        alt.Y(\"model:N\")\n",
    "        .axis(domainColor=\"black\")\n",
    "        .scale(domain=sorted_models, paddingOuter=0.15)\n",
    "        .title(None),\n",
    "        alt.Color(\"model:N\", scale=MODEL_COLOR_SCALE).legend(None),\n",
    "    )\n",
    "    .properties(width=200, height=120)\n",
    ")\n",
    "\n",
    "text = base.mark_text(align=\"left\", dx=6, fontSize=10).encode(\n",
    "    alt.X(\"sel_rr:Q\")\n",
    "    .axis(grid=False, tickCount=5, domainColor=\"black\", format=\"%\", titlePadding=10)\n",
    "    .scale(domain=(0.0, 0.8))\n",
    "    .title(\"Response Rate (%)\"),\n",
    "    alt.Y(\"model:N\")\n",
    "    .axis(domainColor=\"black\")\n",
    "    .scale(domain=sorted_models, paddingOuter=0.15)\n",
    "    .title(None),\n",
    "    alt.Text(\"sel_rr:Q\", format=\".1%\"),\n",
    ")\n",
    "\n",
    "rr_chart = alt.layer(bars, text)\n",
    "configure_chart(rr_chart)"
   ]
  },
  {
   "cell_type": "code",
   "execution_count": null,
   "metadata": {},
   "outputs": [],
   "source": [
    "left_panel = alt.vconcat(\n",
    "    pcc_boxplot,\n",
    "    alt.hconcat(drug_auroc_chart, rr_chart).resolve_scale(color=\"independent\"),\n",
    "    spacing=35,\n",
    ")\n",
    "left_panel = left_panel.resolve_scale(color=\"independent\")\n",
    "\n",
    "right_panel = alt.vconcat(pathway_pcc_chart, tissue_pcc_chart, spacing=25)\n",
    "right_panel = right_panel.resolve_scale(color=\"shared\")\n",
    "\n",
    "final_chart = alt.hconcat(left_panel, right_panel).resolve_scale(color=\"independent\")\n",
    "\n",
    "(\n",
    "    configure_chart(final_chart)\n",
    "    .configure_circle(size=60, opacity=0.8, stroke=\"black\", strokeWidth=0.5)\n",
    "    .configure_bar(stroke=\"black\", strokeWidth=0.5, size=11, color=\"#999999\")\n",
    ")"
   ]
  }
 ],
 "metadata": {
  "kernelspec": {
   "display_name": "cdrpy-tf-cpu-v2",
   "language": "python",
   "name": "python3"
  },
  "language_info": {
   "codemirror_mode": {
    "name": "ipython",
    "version": 3
   },
   "file_extension": ".py",
   "mimetype": "text/x-python",
   "name": "python",
   "nbconvert_exporter": "python",
   "pygments_lexer": "ipython3",
   "version": "3.9.13"
  }
 },
 "nbformat": 4,
 "nbformat_minor": 2
}
