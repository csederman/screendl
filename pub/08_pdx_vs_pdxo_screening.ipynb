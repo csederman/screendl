{
 "cells": [
  {
   "cell_type": "markdown",
   "metadata": {},
   "source": [
    "# Comparison of PDX Response with PDxO Screening Data"
   ]
  },
  {
   "cell_type": "code",
   "execution_count": null,
   "metadata": {},
   "outputs": [],
   "source": [
    "from __future__ import annotations\n",
    "\n",
    "import altair as alt\n",
    "import pandas as pd\n",
    "\n",
    "from pathlib import Path\n",
    "from scipy import stats"
   ]
  },
  {
   "cell_type": "code",
   "execution_count": null,
   "metadata": {},
   "outputs": [],
   "source": [
    "root = Path(\"../../../datastore\")"
   ]
  },
  {
   "cell_type": "code",
   "execution_count": null,
   "metadata": {},
   "outputs": [],
   "source": [
    "raw_pdx_obs = pd.read_csv(root / \"processed/WelmPDX/ScreenClinicalResponseV14B20.csv\")\n",
    "raw_pdx_obs.head()"
   ]
  },
  {
   "cell_type": "code",
   "execution_count": null,
   "metadata": {},
   "outputs": [],
   "source": [
    "raw_pdxo_obs = pd.read_csv(\n",
    "    root / \"inputs/CellModelPassports-GDSCv1v2-HCI/LabelsLogIC50.csv\"\n",
    ")\n",
    "\n",
    "raw_pdxo_obs = raw_pdxo_obs[~raw_pdxo_obs[\"cell_id\"].str.startswith(\"SIDM\")]\n",
    "raw_pdxo_obs[\"label\"] = raw_pdxo_obs.groupby(\"drug_id\")[\"label\"].transform(stats.zscore)\n",
    "raw_pdx_obs.head()"
   ]
  },
  {
   "cell_type": "code",
   "execution_count": null,
   "metadata": {},
   "outputs": [],
   "source": [
    "raw_pdxo_screen = pd.read_csv(\n",
    "    root / \"processed/WelmBreastPDMC-v1.0.0/internal/ScreenDoseResponse.csv\"\n",
    ")\n",
    "grouped = raw_pdxo_screen.groupby(\"drug_name\")\n",
    "# NOTE: a large GR_AOC is better so we multiple Zd values by -1\n",
    "raw_pdxo_screen[\"z_GR_AOC\"] = grouped[\"GR_AOC\"].transform(lambda x: stats.zscore(x) * -1)\n",
    "raw_pdxo_screen[\"z_LN_IC50\"] = grouped[\"LN_IC50\"].transform(stats.zscore)\n",
    "raw_pdxo_screen.head()"
   ]
  },
  {
   "cell_type": "code",
   "execution_count": null,
   "metadata": {},
   "outputs": [],
   "source": [
    "raw_pdx_data = pd.read_csv(root / \"processed/WelmPDX/ScreenClinicalResponseV14B20RawData.csv\")\n",
    "raw_pdx_data_ctrl = raw_pdx_data[raw_pdx_data[\"drug_name\"] == \"Vehicle\"]\n",
    "raw_pdx_data_drug = raw_pdx_data[raw_pdx_data[\"drug_name\"] != \"Vehicle\"]"
   ]
  },
  {
   "cell_type": "code",
   "execution_count": null,
   "metadata": {},
   "outputs": [],
   "source": [
    "temp = (\n",
    "    raw_pdxo_screen[[\"model_id\", \"drug_name\", \"z_LN_IC50\", \"z_GR_AOC\"]]\n",
    "    .rename(columns={\"model_id\": \"cell_id\", \"drug_name\": \"drug_id\"})\n",
    "    .assign(GDS=lambda df: df.groupby(\"cell_id\")[\"z_LN_IC50\"].transform(\"mean\"))\n",
    ")\n",
    "\n",
    "X = (\n",
    "    raw_pdx_obs.drop(columns=\"id\")\n",
    "    .merge(temp, on=[\"cell_id\", \"drug_id\"], suffixes=(\"_pdx\", \"_pdxo\"))\n",
    "    .dropna(subset=[\"z_LN_IC50\", \"z_GR_AOC\"])\n",
    ")\n",
    "\n",
    "X.head()"
   ]
  },
  {
   "cell_type": "code",
   "execution_count": null,
   "metadata": {},
   "outputs": [],
   "source": [
    "BOXPLOT_CONFIG = {\n",
    "    \"size\": 28,\n",
    "    \"median\": alt.MarkConfig(fill=\"black\"),\n",
    "    \"box\": alt.MarkConfig(stroke=\"black\"),\n",
    "    \"ticks\": alt.MarkConfig(size=10),\n",
    "    \"outliers\": alt.MarkConfig(stroke=\"black\", size=15, strokeWidth=1.5),\n",
    "}\n",
    "\n",
    "AXIS_CONFIG = {\n",
    "    \"titleFont\": \"arial\",\n",
    "    \"titleFontStyle\": \"regular\",\n",
    "    \"labelFont\": \"arial\",\n",
    "    \"tickColor\": \"black\",\n",
    "    \"domainColor\": \"black\",\n",
    "}\n",
    "\n",
    "def configure_chart(chart: alt.Chart) -> alt.Chart:\n",
    "    \"\"\"Configures boxplot for viewing.\"\"\"\n",
    "    return (\n",
    "        chart.configure_view(strokeOpacity=0)\n",
    "        .configure_axis(**AXIS_CONFIG)\n",
    "        .configure_header(labelFont=\"arial\", titleFont=\"arial\")\n",
    "    )"
   ]
  },
  {
   "cell_type": "code",
   "execution_count": null,
   "metadata": {},
   "outputs": [],
   "source": [
    "CB_source = X.assign(\n",
    "    CB_group=lambda df: df[\"mRECIST\"]\n",
    "    .isin([\"CR\", \"PR\", \"SD\"])\n",
    "    .map({True: \"Yes\", False: \"No\"})\n",
    ")\n",
    "\n",
    "\n",
    "CB_grouped_Zd = CB_source.groupby(\"CB_group\")[\"z_LN_IC50\"].agg(list)\n",
    "stats.mannwhitneyu(CB_grouped_Zd.loc[\"No\"], CB_grouped_Zd.loc[\"Yes\"])"
   ]
  },
  {
   "cell_type": "code",
   "execution_count": null,
   "metadata": {},
   "outputs": [],
   "source": [
    "CB_chart = (\n",
    "    alt.Chart(CB_source)\n",
    "    .mark_boxplot(**BOXPLOT_CONFIG)\n",
    "    .encode(\n",
    "        alt.X(\"CB_group:O\")\n",
    "        .axis(grid=False, labelAngle=0, titlePadding=10)\n",
    "        .title([\"Clinical\", \"Benefit\"]),\n",
    "        alt.Y(\"z_LN_IC50:Q\")\n",
    "        .axis(grid=False, tickCount=5, titlePadding=10)\n",
    "        .title(\"Observed PDxO Resposne (Zd)\"),\n",
    "        alt.Color(\"CB_group:O\")\n",
    "        .scale(domain=(\"Yes\", \"No\"), range=(\"#9DCAEA\", \"#F69B99\"))\n",
    "        .legend(None),\n",
    "    )\n",
    "    .properties(width=35 * 2, height=250)\n",
    ")\n",
    "\n",
    "configure_chart(CB_chart)"
   ]
  },
  {
   "cell_type": "code",
   "execution_count": null,
   "metadata": {},
   "outputs": [],
   "source": [
    "CB_waterfall_source = CB_source.assign(\n",
    "    id=lambda df: df[\"cell_id\"] + \" + \" + df[\"drug_id\"]\n",
    ")\n",
    "CB_waterfall_chart = (\n",
    "    alt.Chart(CB_waterfall_source)\n",
    "    .mark_bar(size=13.5, stroke=\"black\", strokeWidth=1)\n",
    "    .encode(\n",
    "        alt.X(\"id:N\")\n",
    "        .sort(\"-y\")\n",
    "        .axis(domainOpacity=0, labelAngle=-60, labelPadding=5)\n",
    "        .scale(paddingOuter=0.2),\n",
    "        alt.Y(\"z_LN_IC50:Q\").axis(grid=False).title(\"Observed PDxO Resposne (Zd)\"),\n",
    "        alt.Color(\"CB_group:N\").scale(\n",
    "            domain=(\"Yes\", \"No\"),\n",
    "            range=(\"#9ECAE9\", \"#FF9D98\"),\n",
    "        ),\n",
    "    )\n",
    "    .properties(width=16 * CB_waterfall_source[\"id\"].nunique(), height=250)\n",
    ")\n",
    "\n",
    "configure_chart(\n",
    "    alt.hconcat(CB_chart, CB_waterfall_chart, spacing=30).resolve_scale(\n",
    "        color=\"independent\"\n",
    "    )\n",
    ")"
   ]
  },
  {
   "cell_type": "code",
   "execution_count": null,
   "metadata": {},
   "outputs": [],
   "source": [
    "assign_label = lambda x: (x < x.quantile(0.3)).astype(int)\n",
    "\n",
    "temp = (\n",
    "    raw_pdxo_screen[[\"model_id\", \"drug_name\", \"z_LN_IC50\", \"z_GR_AOC\"]]\n",
    "    .rename(columns={\"model_id\": \"cell_id\", \"drug_name\": \"drug_id\"})\n",
    "    .assign(y_pred=lambda df: df.groupby(\"drug_id\")[\"z_LN_IC50\"].transform(assign_label))\n",
    ")\n",
    "\n",
    "\n",
    "X = (\n",
    "    raw_pdx_obs.drop(columns=\"id\")\n",
    "    .merge(temp, on=[\"cell_id\", \"drug_id\"], suffixes=(\"_pdx\", \"_pdxo\"))\n",
    "    .dropna(subset=[\"z_LN_IC50\", \"z_GR_AOC\"])\n",
    "    .assign(CB=lambda df: df[\"mRECIST\"].isin([\"CR\", \"PR\", \"SD\"]).astype(int))\n",
    "    .assign(OR=lambda df: df[\"mRECIST\"].isin([\"CR\", \"PR\"]).astype(int))\n",
    ")\n",
    "\n",
    "X.head()"
   ]
  },
  {
   "cell_type": "code",
   "execution_count": null,
   "metadata": {},
   "outputs": [],
   "source": [
    "CB_ctab = X.groupby([\"y_pred\", \"CB\"]).size().unstack()\n",
    "CB_ctab"
   ]
  },
  {
   "cell_type": "code",
   "execution_count": null,
   "metadata": {},
   "outputs": [],
   "source": [
    "stats.fisher_exact(CB_ctab)"
   ]
  }
 ],
 "metadata": {
  "kernelspec": {
   "display_name": "cdrpy-tf-cpu-v2",
   "language": "python",
   "name": "python3"
  },
  "language_info": {
   "codemirror_mode": {
    "name": "ipython",
    "version": 3
   },
   "file_extension": ".py",
   "mimetype": "text/x-python",
   "name": "python",
   "nbconvert_exporter": "python",
   "pygments_lexer": "ipython3",
   "version": "3.9.13"
  }
 },
 "nbformat": 4,
 "nbformat_minor": 2
}
