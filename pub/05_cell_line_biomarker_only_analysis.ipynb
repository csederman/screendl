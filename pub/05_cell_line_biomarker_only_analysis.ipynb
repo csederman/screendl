{
 "cells": [
  {
   "cell_type": "markdown",
   "metadata": {},
   "source": [
    "# Comparison of ScreenDL with Biomarker-Only Models in Cell Lines\n",
    "\n",
    "* [Dabrafenib + BRAF](#dabrafenib--braf)\n",
    "* [Capivasertib + PIK3CA/AKT1/PTEN](#capivasertib--pik3caakt1pten)"
   ]
  },
  {
   "cell_type": "code",
   "execution_count": null,
   "metadata": {},
   "outputs": [],
   "source": [
    "from __future__ import annotations\n",
    "\n",
    "import altair as alt\n",
    "import pandas as pd\n",
    "import numpy as np\n",
    "import sklearn.metrics as skm\n",
    "import typing as t\n",
    "\n",
    "from pathlib import Path\n",
    "from scipy import stats\n",
    "from omegaconf import OmegaConf\n",
    "from tqdm import tqdm\n",
    "\n",
    "from cdrpy.datasets import Dataset\n",
    "from cdrpy.data.preprocess import GroupStandardScaler\n",
    "\n",
    "from screendl.utils import evaluation as eval_utils"
   ]
  },
  {
   "cell_type": "code",
   "execution_count": null,
   "metadata": {},
   "outputs": [],
   "source": [
    "root = Path(\"../../../datastore\")\n",
    "\n",
    "dataset = \"CellModelPassports-GDSCv1v2\"\n",
    "model = \"ScreenDL\""
   ]
  },
  {
   "cell_type": "code",
   "execution_count": null,
   "metadata": {},
   "outputs": [],
   "source": [
    "dataset_dir = root / \"inputs/CellModelPassports-GDSCv1v2\"\n",
    "\n",
    "cell_meta = pd.read_csv(dataset_dir / \"MetaCellAnnotations.csv\", index_col=0)\n",
    "drug_meta = pd.read_csv(dataset_dir / \"MetaDrugAnnotations.csv\", index_col=0)\n",
    "\n",
    "D = Dataset.from_csv(\n",
    "    dataset_dir / \"LabelsLogIC50.csv\",\n",
    "    cell_meta=cell_meta,\n",
    "    drug_meta=drug_meta,\n",
    "    name=dataset_dir.name,\n",
    ")\n",
    "\n",
    "print(D)"
   ]
  },
  {
   "cell_type": "code",
   "execution_count": null,
   "metadata": {},
   "outputs": [],
   "source": [
    "mut_data = pd.read_csv(root / \"raw/CellModelPassports/mutations_all_20230202.csv\")\n",
    "mut_data.head()"
   ]
  },
  {
   "cell_type": "code",
   "execution_count": null,
   "metadata": {},
   "outputs": [],
   "source": [
    "MODELS = [\"ScreenDL-PT\", \"ScreenDL-SA\"]\n",
    "HEIGHT = 200\n",
    "WIDTH = 200"
   ]
  },
  {
   "cell_type": "code",
   "execution_count": null,
   "metadata": {},
   "outputs": [],
   "source": [
    "def load_multirun_predictions(\n",
    "    multirun_dir: str | Path, regex: str, splits: list[str] | None = None\n",
    ") -> pd.DataFrame:\n",
    "    \"\"\"Loads predictions from a multirun.\"\"\"\n",
    "    if isinstance(multirun_dir, str):\n",
    "        multirun_dir = Path(multirun_dir)\n",
    "\n",
    "    def load_run(file_path: Path) -> pd.DataFrame:\n",
    "        fold_id = file_path.parent.stem.split(\"_\")[-1]\n",
    "        fold_pred_df = pd.read_csv(file_path)\n",
    "        fold_pred_df[\"fold\"] = int(fold_id)\n",
    "        return fold_pred_df\n",
    "\n",
    "    file_list = multirun_dir.glob(regex)\n",
    "    pred_df = pd.concat(map(load_run, file_list))\n",
    "\n",
    "    if splits is not None:\n",
    "        pred_df = pred_df[pred_df[\"split_group\"].isin(splits)]\n",
    "\n",
    "    return pred_df"
   ]
  },
  {
   "cell_type": "code",
   "execution_count": null,
   "metadata": {},
   "outputs": [],
   "source": [
    "def rescale_predictions(df: pd.DataFrame) -> pd.DataFrame:\n",
    "    \"\"\"Rescales the predictions based on predictions in the train set.\"\"\"\n",
    "    df_trn = df[df[\"split_group\"] == \"train\"]\n",
    "    df_tst = df[df[\"split_group\"] == \"test\"]\n",
    "\n",
    "    gss = GroupStandardScaler()\n",
    "    df_trn[\"y_true\"] = gss.fit_transform(df_trn[[\"y_true\"]], groups=df_trn[\"drug_id\"])\n",
    "    df_tst[\"y_true\"] = gss.transform(df_tst[[\"y_true\"]], groups=df_tst[\"drug_id\"])\n",
    "\n",
    "    gss = GroupStandardScaler()\n",
    "    df_trn[\"y_pred\"] = gss.fit_transform(df_trn[[\"y_pred\"]], groups=df_trn[\"drug_id\"])\n",
    "    df_tst[\"y_pred\"] = gss.transform(df_tst[[\"y_pred\"]], groups=df_tst[\"drug_id\"])\n",
    "\n",
    "    return pd.concat([df_trn, df_tst])"
   ]
  },
  {
   "cell_type": "code",
   "execution_count": null,
   "metadata": {},
   "outputs": [],
   "source": [
    "AXIS_CONFIG = {\n",
    "    \"titleFont\": \"arial\",\n",
    "    \"titlePadding\": 5,\n",
    "    \"titleFontStyle\": \"regular\",\n",
    "    \"labelFont\": \"arial\",\n",
    "    \"tickColor\": \"black\",\n",
    "    \"domainColor\": \"black\",\n",
    "}\n",
    "\n",
    "BOXPLOT_CONFIG = {\n",
    "    \"size\": 25,\n",
    "    \"median\": alt.MarkConfig(fill=\"black\"),\n",
    "    \"box\": alt.MarkConfig(stroke=\"black\"),\n",
    "    \"ticks\": alt.MarkConfig(size=10),\n",
    "    \"outliers\": alt.MarkConfig(stroke=\"black\", size=15, strokeWidth=1.5),\n",
    "}\n",
    "\n",
    "\n",
    "def configure_chart(chart: alt.Chart) -> alt.Chart:\n",
    "    \"\"\"Configures boxplot for viewing.\"\"\"\n",
    "    return (\n",
    "        chart.configure_view(strokeOpacity=0)\n",
    "        .configure_axis(**AXIS_CONFIG)\n",
    "        .configure_header(labelFont=\"arial\")\n",
    "        .configure_boxplot(**BOXPLOT_CONFIG)\n",
    "    )"
   ]
  },
  {
   "cell_type": "code",
   "execution_count": null,
   "metadata": {},
   "outputs": [],
   "source": [
    "class Plotter:\n",
    "    \"\"\"Builds plots for comparisons with biomarker-only models.\"\"\"\n",
    "\n",
    "    def __init__(\n",
    "        self,\n",
    "        D_bm: pd.DataFrame,\n",
    "        D_pt: pd.DataFrame,\n",
    "        D_sa: pd.DataFrame,\n",
    "        x_domain: t.Tuple[int, int],\n",
    "        y_domain: t.Tuple[int, int],\n",
    "        biomarker_name: str,\n",
    "    ) -> None:\n",
    "        self.D_bm = D_bm.sort_values(\"is_MUT\", ascending=False)\n",
    "        self.D_pt = D_pt.sort_values(\"is_MUT\", ascending=False)\n",
    "        self.D_sa = D_sa.sort_values(\"is_MUT\", ascending=False)\n",
    "        self.x_domain = x_domain\n",
    "        self.y_domain = y_domain\n",
    "        self.biomarker_name = biomarker_name\n",
    "\n",
    "    def plot(self) -> alt.Chart:\n",
    "        \"\"\"Renders the full plot.\"\"\"\n",
    "        bm_boxes = self.make_boxes(self.D_bm)\n",
    "        bm_scatter = self.make_scatter(self.D_bm, include_mut_lines=False)\n",
    "        ft_scatter = self.make_scatter(self.D_pt, include_mut_lines=True)\n",
    "        sa_scatter = self.make_scatter(self.D_sa, include_mut_lines=True)\n",
    "        return alt.hconcat(bm_boxes, bm_scatter, ft_scatter, sa_scatter)\n",
    "\n",
    "    def make_boxes(self, D: pd.DataFrame) -> alt.Chart:\n",
    "        \"\"\"Makes the boxlplots stratified by mutation status\"\"\"\n",
    "        return (\n",
    "            alt.Chart(D, width=35 * 2, height=HEIGHT)\n",
    "            .mark_boxplot()\n",
    "            .encode(\n",
    "                alt.X(\"is_MUT:N\")\n",
    "                .axis(labelAngle=0, title=self.biomarker_name)\n",
    "                .scale(domain=(\"MUT\", \"WT\")),\n",
    "                self.true_y_encoding,\n",
    "                self.color_encoding,\n",
    "            )\n",
    "        )\n",
    "\n",
    "    def make_scatter(self, D: pd.DataFrame, include_mut_lines: bool) -> alt.Chart:\n",
    "        \"\"\"Makes the scatter plots.\"\"\"\n",
    "        base = alt.Chart(\n",
    "            D.sort_values(\"is_MUT\", ascending=False),\n",
    "            width=WIDTH,\n",
    "            height=HEIGHT,\n",
    "        )\n",
    "\n",
    "        extent = self.true_x_encoding.to_dict()[\"scale\"][\"domain\"]\n",
    "\n",
    "        chart = (\n",
    "            base.transform_regression(\n",
    "                \"y_true\",\n",
    "                \"y_pred\",\n",
    "                extent=extent,\n",
    "            )\n",
    "            .mark_line(stroke=\"black\", strokeWidth=1)\n",
    "            .encode(self.true_x_encoding, self.pred_y_encoding)\n",
    "        )\n",
    "\n",
    "        if include_mut_lines:\n",
    "\n",
    "            chart += (\n",
    "                base.transform_filter(alt.datum.is_MUT == \"MUT\")\n",
    "                .transform_regression(\n",
    "                    \"y_true\",\n",
    "                    \"y_pred\",\n",
    "                    extent=extent,\n",
    "                )\n",
    "                .mark_line(stroke=\"#5CA453\", strokeWidth=2.5, strokeDash=[4, 4])\n",
    "                .encode(self.true_x_encoding, self.pred_y_encoding)\n",
    "            )\n",
    "\n",
    "            chart += (\n",
    "                base.transform_filter(alt.datum.is_MUT == \"WT\")\n",
    "                .transform_regression(\n",
    "                    \"y_true\",\n",
    "                    \"y_pred\",\n",
    "                    extent=extent,\n",
    "                )\n",
    "                .mark_line(stroke=\"darkgray\", strokeWidth=2.5, strokeDash=[4, 4])\n",
    "                .encode(self.true_x_encoding, self.pred_y_encoding)\n",
    "            )\n",
    "\n",
    "        chart += base.mark_circle(stroke=\"black\").encode(\n",
    "            self.true_x_encoding,\n",
    "            self.pred_y_encoding,\n",
    "            self.color_encoding,\n",
    "            self.size_encoding,\n",
    "            self.opacity_encoding,\n",
    "            self.stroke_width_encoding,\n",
    "            tooltip=[\"cell_id:N\", \"y_true:Q\", \"y_pred:Q\"],\n",
    "        )\n",
    "\n",
    "        return chart\n",
    "\n",
    "    @property\n",
    "    def true_x_encoding(self) -> alt.X:\n",
    "        return (\n",
    "            alt.X(\"y_true:Q\")\n",
    "            .scale(domain=self.x_domain)\n",
    "            .axis(tickCount=6, grid=False)\n",
    "            .title(\"Observed Z-Score ln(IC50)\")\n",
    "        )\n",
    "\n",
    "    @property\n",
    "    def true_y_encoding(self) -> alt.Y:\n",
    "        return (\n",
    "            alt.Y(\"y_true:Q\")\n",
    "            .scale(domain=self.y_domain)\n",
    "            .axis(tickCount=6, grid=False)\n",
    "            .title(\"Observed Z-Score ln(IC50)\")\n",
    "        )\n",
    "\n",
    "    @property\n",
    "    def pred_y_encoding(self) -> alt.Y:\n",
    "        return (\n",
    "            alt.Y(\"y_pred:Q\")\n",
    "            .scale(domain=self.y_domain)\n",
    "            .axis(tickCount=6, grid=False)\n",
    "            .title(\"Predicted Z-Score ln(IC50)\")\n",
    "        )\n",
    "\n",
    "    @property\n",
    "    def color_encoding(self) -> alt.Color:\n",
    "        return (\n",
    "            alt.Color(\"is_MUT:N\")\n",
    "            .scale(domain=(\"MUT\", \"WT\", \"U\"), range=(\"#5CA453\", \"darkgray\", \"lightgray\"))\n",
    "            .legend(None)\n",
    "        )\n",
    "\n",
    "    @property\n",
    "    def size_encoding(self) -> alt.SizeValue:\n",
    "        return alt.condition(\n",
    "            alt.datum.is_MUT == \"WT\", alt.SizeValue(40), alt.SizeValue(80)\n",
    "        )\n",
    "\n",
    "    @property\n",
    "    def stroke_width_encoding(self) -> alt.StrokeWidthValue:\n",
    "        return alt.condition(\n",
    "            alt.datum.is_MUT == \"WT\",\n",
    "            alt.StrokeWidthValue(0.25),\n",
    "            alt.StrokeWidthValue(0.5),\n",
    "        )\n",
    "\n",
    "    @property\n",
    "    def opacity_encoding(self) -> alt.Opacity:\n",
    "        return alt.condition(\n",
    "            alt.datum.is_MUT == \"WT\",\n",
    "            alt.OpacityValue(0.7),\n",
    "            alt.Opacity(\"is_MUT:N\")\n",
    "            .scale(domain=(\"MUT\", \"WT\"), range=(0.9, 0.7))\n",
    "            .legend(None),\n",
    "        )"
   ]
  },
  {
   "cell_type": "code",
   "execution_count": null,
   "metadata": {},
   "outputs": [],
   "source": [
    "model_results: t.Dict[str, pd.DataFrame] = {}"
   ]
  },
  {
   "cell_type": "code",
   "execution_count": null,
   "metadata": {},
   "outputs": [],
   "source": [
    "# load ScreenDL results\n",
    "output_dir = root / \"outputs\"\n",
    "dataset = \"CellModelPassports-GDSCv1v2\"\n",
    "model = \"ScreenDL\"\n",
    "date = \"2024-04-18_12-54-20\"\n",
    "\n",
    "path_fmt = \"screenahead/{0}/{1}/multiruns/{2}\"\n",
    "\n",
    "run_dir = output_dir / path_fmt.format(dataset, model, date)\n",
    "run_regex = \"*/predictions.csv\"\n",
    "\n",
    "model_results[model + \"-PT\"] = (\n",
    "    load_multirun_predictions(run_dir, \"*/predictions.csv\", splits=[\"train\", \"test\"])\n",
    "    .groupby(\"split_id\", as_index=False)\n",
    "    .apply(rescale_predictions)\n",
    "    .assign(model=model + \"-PT\")\n",
    ")\n",
    "\n",
    "temp_ = model_results[model + \"-PT\"].query(\"split_group == 'train'\").copy()\n",
    "model_results[model + \"-SA\"] = (\n",
    "    load_multirun_predictions(run_dir, \"*/predictions_sa.csv\", splits=None)\n",
    "    .pipe(lambda df: pd.concat([df, temp_]))\n",
    "    .groupby(\"split_id\", as_index=False)\n",
    "    .apply(rescale_predictions)\n",
    "    .assign(model=model + \"-SA\")\n",
    ")"
   ]
  },
  {
   "cell_type": "code",
   "execution_count": null,
   "metadata": {},
   "outputs": [],
   "source": [
    "model_results_df = pd.concat(model_results.values()).reset_index(drop=True)\n",
    "model_results_df_trn = model_results_df.query(\"split_group == 'train'\")\n",
    "model_results_df_tst = model_results_df.query(\"split_group == 'test'\")\n",
    "model_results_df_tst.head()"
   ]
  },
  {
   "cell_type": "markdown",
   "metadata": {},
   "source": [
    "## Dabrafenib + BRAF"
   ]
  },
  {
   "cell_type": "code",
   "execution_count": null,
   "metadata": {},
   "outputs": [],
   "source": [
    "DRUG_ID = \"Dabrafenib\"\n",
    "BIOMARKER_GENE_IDS = [\"BRAF\"]"
   ]
  },
  {
   "cell_type": "code",
   "execution_count": null,
   "metadata": {},
   "outputs": [],
   "source": [
    "corrs = (\n",
    "    model_results_df_tst.groupby([\"model\", \"drug_id\"]).apply(eval_utils.pcorr).unstack(0)\n",
    ")\n",
    "corrs.loc[DRUG_ID][MODELS]"
   ]
  },
  {
   "cell_type": "code",
   "execution_count": null,
   "metadata": {},
   "outputs": [],
   "source": [
    "results_drug: pd.DataFrame = model_results_df_tst.query(\"drug_id == @DRUG_ID\").copy()\n",
    "results_drug.head()"
   ]
  },
  {
   "cell_type": "code",
   "execution_count": null,
   "metadata": {},
   "outputs": [],
   "source": [
    "gene_muts = (\n",
    "    mut_data.query(\"model_id in @results_drug.cell_id\")\n",
    "    .query(\"gene_symbol in @BIOMARKER_GENE_IDS\")\n",
    "    .query(\"cancer_driver == True\")\n",
    "    .query(\"protein_mutation.str.contains('V600')\")\n",
    ")\n",
    "gene_muts.head()"
   ]
  },
  {
   "cell_type": "code",
   "execution_count": null,
   "metadata": {},
   "outputs": [],
   "source": [
    "MUT_CATEGORIES = {True: \"MUT\", False: \"WT\", pd.NA: \"U\"}\n",
    "results_drug_muts = (\n",
    "    results_drug.assign(is_MUT=lambda df: df[\"cell_id\"].isin(gene_muts[\"model_id\"]))\n",
    "    .replace({\"is_MUT\": MUT_CATEGORIES})\n",
    "    .filter(items=[\"cell_id\", \"drug_id\", \"y_true\", \"y_pred\", \"model\", \"is_MUT\"])\n",
    ")\n",
    "results_drug_muts.head()"
   ]
  },
  {
   "cell_type": "code",
   "execution_count": null,
   "metadata": {},
   "outputs": [],
   "source": [
    "corrs = results_drug_muts.groupby([\"model\", \"drug_id\"]).apply(eval_utils.pcorr)\n",
    "corrs.unstack(0)[MODELS]"
   ]
  },
  {
   "cell_type": "code",
   "execution_count": null,
   "metadata": {},
   "outputs": [],
   "source": [
    "corrs = results_drug_muts.groupby([\"model\", \"drug_id\", \"is_MUT\"]).apply(eval_utils.pcorr)\n",
    "corrs.unstack(0)[MODELS]"
   ]
  },
  {
   "cell_type": "code",
   "execution_count": null,
   "metadata": {},
   "outputs": [],
   "source": [
    "biomarker_only_result = (\n",
    "    results_drug_muts.query(\"model == 'ScreenDL-PT'\")\n",
    "    .filter(items=[\"cell_id\", \"drug_id\", \"y_true\", \"is_MUT\"])\n",
    "    .query(\"is_MUT != 'U'\")\n",
    "    .assign(y_pred=lambda df: df.groupby(\"is_MUT\")[\"y_true\"].transform(\"mean\"))\n",
    ")\n",
    "\n",
    "biomarker_only_result.groupby(\"is_MUT\")[\"y_true\"].describe()"
   ]
  },
  {
   "cell_type": "code",
   "execution_count": null,
   "metadata": {},
   "outputs": [],
   "source": [
    "eval_utils.pcorr(biomarker_only_result)"
   ]
  },
  {
   "cell_type": "code",
   "execution_count": null,
   "metadata": {},
   "outputs": [],
   "source": [
    "mut_resps = biomarker_only_result.query(\"is_MUT == 'MUT'\")[\"y_true\"]\n",
    "wt_resps = biomarker_only_result.query(\"is_MUT == 'WT'\")[\"y_true\"]\n",
    "stats.mannwhitneyu(mut_resps, wt_resps)"
   ]
  },
  {
   "cell_type": "code",
   "execution_count": null,
   "metadata": {},
   "outputs": [],
   "source": [
    "plotter = Plotter(\n",
    "    D_bm=biomarker_only_result,\n",
    "    D_pt=results_drug_muts.query(\"model == 'ScreenDL-PT'\"),\n",
    "    D_sa=results_drug_muts.query(\"model == 'ScreenDL-SA'\"),\n",
    "    x_domain=(-6.5, 4.5),\n",
    "    y_domain=(-6.5, 4.5),\n",
    "    biomarker_name=\"BRAF V600\",\n",
    ")\n",
    "dabrafenib_chart = plotter.plot()\n",
    "configure_chart(dabrafenib_chart)"
   ]
  },
  {
   "cell_type": "markdown",
   "metadata": {},
   "source": [
    "### auROC Comparison\n",
    "\n",
    "As in previous notebooks, here, we define responders as the top 30% most sensitive lines and quantify auROC for ScreenDL and the biomarker-only model."
   ]
  },
  {
   "cell_type": "code",
   "execution_count": null,
   "metadata": {},
   "outputs": [],
   "source": [
    "tumor_counts = results_drug[\"cell_id\"].value_counts()\n",
    "keep_tumors = tumor_counts[tumor_counts == 2].index.to_list()"
   ]
  },
  {
   "cell_type": "code",
   "execution_count": null,
   "metadata": {},
   "outputs": [],
   "source": [
    "y_true_df = (\n",
    "    D.obs.rename(columns={\"label\": \"y_true\"})\n",
    "    .drop(columns=\"id\")\n",
    "    .query(\"drug_id == @DRUG_ID\")\n",
    "    .copy()\n",
    ")\n",
    "y_true_df[\"y_true\"] = y_true_df.groupby(\"drug_id\")[\"y_true\"].transform(stats.zscore)\n",
    "y_true_df[\"y_true_cls\"] = y_true_df[\"y_true\"] <= y_true_df[\"y_true\"].quantile(0.30)\n",
    "y_true_df[\"y_true_cls\"] = y_true_df[\"y_true_cls\"].astype(int)\n",
    "tumor_to_y_true_cls = y_true_df.set_index(\"cell_id\")[\"y_true_cls\"].to_dict()"
   ]
  },
  {
   "cell_type": "code",
   "execution_count": null,
   "metadata": {},
   "outputs": [],
   "source": [
    "temp = biomarker_only_result.query(\"cell_id in @keep_tumors\").copy()\n",
    "temp[\"y_true_cls\"] = temp[\"cell_id\"].map(tumor_to_y_true_cls)\n",
    "skm.roc_auc_score(temp[\"y_true_cls\"], -1 * temp[\"y_pred\"])"
   ]
  },
  {
   "cell_type": "code",
   "execution_count": null,
   "metadata": {},
   "outputs": [],
   "source": [
    "auroc_metrics = (\n",
    "    results_drug_muts.assign(y_true_cls=lambda df: df[\"cell_id\"].map(tumor_to_y_true_cls))\n",
    "    .query(\"cell_id in @keep_tumors\")\n",
    "    .groupby(\"model\")\n",
    "    .apply(lambda g: skm.roc_auc_score(g[\"y_true_cls\"], -1 * g[\"y_pred\"]))\n",
    ")\n",
    "\n",
    "auroc_metrics"
   ]
  },
  {
   "cell_type": "markdown",
   "metadata": {},
   "source": [
    "### Recovery of BRAF V600 Mutant Poor Responders"
   ]
  },
  {
   "cell_type": "code",
   "execution_count": null,
   "metadata": {},
   "outputs": [],
   "source": [
    "y_true_df = (\n",
    "    D.obs.rename(columns={\"label\": \"y_true\"})\n",
    "    .drop(columns=\"id\")\n",
    "    .query(\"drug_id == @DRUG_ID\")\n",
    "    .copy()\n",
    ")\n",
    "y_true_df[\"y_true\"] = y_true_df.groupby(\"drug_id\")[\"y_true\"].transform(stats.zscore)\n",
    "y_true_df[\"y_true_cls\"] = y_true_df[\"y_true\"] >= -0.5\n",
    "y_true_df[\"y_true_cls\"] = y_true_df[\"y_true_cls\"].astype(int)\n",
    "tumor_to_y_true_cls = y_true_df.set_index(\"cell_id\")[\"y_true_cls\"].to_dict()"
   ]
  },
  {
   "cell_type": "code",
   "execution_count": null,
   "metadata": {},
   "outputs": [],
   "source": [
    "tumor_counts = results_drug[\"cell_id\"].value_counts()\n",
    "keep_tumors = tumor_counts[tumor_counts == 2].index.to_list()"
   ]
  },
  {
   "cell_type": "code",
   "execution_count": null,
   "metadata": {},
   "outputs": [],
   "source": [
    "results_drug_muts_only = results_drug_muts.query(\"is_MUT == 'MUT'\")"
   ]
  },
  {
   "cell_type": "code",
   "execution_count": null,
   "metadata": {},
   "outputs": [],
   "source": [
    "# so we can see that we have reduced false positives with SreenAhead\n",
    "# we predicted some tumors as responders that were not and ScreenAhead helped to correct this"
   ]
  },
  {
   "cell_type": "code",
   "execution_count": null,
   "metadata": {},
   "outputs": [],
   "source": [
    "t_ids = (\n",
    "    results_drug_muts.query(\"is_MUT == 'MUT'\")\n",
    "    .query(\"y_true >= -0.5\")\n",
    "    .query(\"model == 'ScreenDL-SA'\")[\"cell_id\"]\n",
    "    .unique()\n",
    ")\n",
    "\n",
    "obs = D.obs.copy()\n",
    "obs[\"label\"] = obs.groupby(\"drug_id\")[\"label\"].transform(stats.zscore)\n",
    "print(len(t_ids))"
   ]
  },
  {
   "cell_type": "code",
   "execution_count": null,
   "metadata": {},
   "outputs": [],
   "source": [
    "agg_func = lambda g: pd.Series(\n",
    "    {\n",
    "        \"auROC\": skm.roc_auc_score(g[\"is_res\"], g[\"y_pred\"]),\n",
    "        \"average_precision\": skm.average_precision_score(g[\"is_res\"], g[\"y_pred\"]),\n",
    "        \"tp\": g[g[\"y_pred\"] >= -0.5][\"is_res\"].sum(),  # not optimal threshold\n",
    "        \"total_pos\": g[\"is_res\"].sum(),\n",
    "    }\n",
    ")\n",
    "temp = results_drug_muts.query(\"is_MUT == 'MUT'\").query(\"cell_id in @keep_tumors\")\n",
    "temp.assign(is_res=lambda df: df[\"y_true\"] >= -0.5).groupby(\"model\").apply(agg_func)"
   ]
  },
  {
   "cell_type": "code",
   "execution_count": null,
   "metadata": {},
   "outputs": [],
   "source": [
    "temp = model_results_df_tst.query(\"cell_id in @t_ids\")\n",
    "best_resp = temp.groupby([\"model\", \"cell_id\"], as_index=False).apply(\n",
    "    lambda g: g.loc[g[\"y_pred\"].idxmin()]\n",
    ")\n",
    "drug_resp = temp.query(\"drug_id == @DRUG_ID\")\n",
    "\n",
    "cols = [\"model\", \"cell_id\", \"drug_id\", \"y_true\"]\n",
    "(\n",
    "    drug_resp[cols]\n",
    "    .merge(best_resp[cols], on=[\"model\", \"cell_id\"], suffixes=(\"_drug\", \"_best\"))\n",
    "    .assign(is_better=lambda df: df[\"y_true_best\"] < df[\"y_true_drug\"])\n",
    "    .groupby(\"model\")\n",
    "    .apply(\n",
    "        lambda g: pd.Series(\n",
    "            {\n",
    "                \"total\": len(g),\n",
    "                \"better\": g[\"is_better\"].sum(),\n",
    "                \"worse\": (~g[\"is_better\"]).sum(),\n",
    "            }\n",
    "        )\n",
    "    )\n",
    "    .unstack(0)\n",
    ")"
   ]
  },
  {
   "cell_type": "markdown",
   "metadata": {},
   "source": [
    "## Capivasertib + PIK3CA/AKT1/PTEN"
   ]
  },
  {
   "cell_type": "code",
   "execution_count": null,
   "metadata": {},
   "outputs": [],
   "source": [
    "DRUG_ID = \"AZD5363\"\n",
    "BIOMARKER_GENE_IDS = [\"PIK3CA\", \"AKT1\", \"PTEN\"]"
   ]
  },
  {
   "cell_type": "code",
   "execution_count": null,
   "metadata": {},
   "outputs": [],
   "source": [
    "corrs = (\n",
    "    model_results_df_tst.groupby([\"model\", \"drug_id\"]).apply(eval_utils.pcorr).unstack(0)\n",
    ")\n",
    "corrs.loc[DRUG_ID][MODELS]"
   ]
  },
  {
   "cell_type": "code",
   "execution_count": null,
   "metadata": {},
   "outputs": [],
   "source": [
    "results_drug: pd.DataFrame = model_results_df_tst.query(\"drug_id == @DRUG_ID\").copy()\n",
    "results_drug.head()"
   ]
  },
  {
   "cell_type": "code",
   "execution_count": null,
   "metadata": {},
   "outputs": [],
   "source": [
    "gene_muts = (\n",
    "    mut_data.query(\"model_id in @results_drug.cell_id\")\n",
    "    .query(\"gene_symbol in @BIOMARKER_GENE_IDS\")\n",
    "    .query(\"cancer_driver == True\")\n",
    ")\n",
    "gene_muts.head()"
   ]
  },
  {
   "cell_type": "code",
   "execution_count": null,
   "metadata": {},
   "outputs": [],
   "source": [
    "MUT_CATEGORIES = {True: \"MUT\", False: \"WT\", pd.NA: \"U\"}\n",
    "results_drug_muts = (\n",
    "    results_drug.assign(is_MUT=lambda df: df[\"cell_id\"].isin(gene_muts[\"model_id\"]))\n",
    "    .replace({\"is_MUT\": MUT_CATEGORIES})\n",
    "    .filter(items=[\"cell_id\", \"drug_id\", \"y_true\", \"y_pred\", \"model\", \"is_MUT\"])\n",
    ")\n",
    "results_drug_muts.head()"
   ]
  },
  {
   "cell_type": "code",
   "execution_count": null,
   "metadata": {},
   "outputs": [],
   "source": [
    "corrs = results_drug_muts.groupby([\"model\", \"drug_id\"]).apply(eval_utils.pcorr)\n",
    "corrs.unstack(0)[MODELS]"
   ]
  },
  {
   "cell_type": "code",
   "execution_count": null,
   "metadata": {},
   "outputs": [],
   "source": [
    "corrs = results_drug_muts.groupby([\"model\", \"drug_id\", \"is_MUT\"]).apply(eval_utils.pcorr)\n",
    "corrs.unstack(0)[MODELS]"
   ]
  },
  {
   "cell_type": "code",
   "execution_count": null,
   "metadata": {},
   "outputs": [],
   "source": [
    "WT_cell_ids = results_drug_muts.query(\"is_MUT == 'WT'\")[\"cell_id\"].unique()\n",
    "WT_exceptional_true = (\n",
    "    D.obs.query(\"drug_id == @DRUG_ID\")\n",
    "    .query(\"label < label.quantile(0.1)\")\n",
    "    .query(\"cell_id in @WT_cell_ids\")[\"cell_id\"]\n",
    "    .unique()\n",
    "    .tolist()\n",
    ")\n",
    "len(WT_exceptional_true)"
   ]
  },
  {
   "cell_type": "code",
   "execution_count": null,
   "metadata": {},
   "outputs": [],
   "source": [
    "WT_exceptional_pred = (\n",
    "    results_drug_muts.assign(\n",
    "        pred_ex_responder=lambda df: df.groupby(\"model\")[\"y_pred\"].transform(\n",
    "            lambda x: x < x.quantile(0.1)\n",
    "        )\n",
    "    )\n",
    "    .query(\"pred_ex_responder == True\")\n",
    "    .query(\"cell_id in @WT_cell_ids\")\n",
    "    .groupby(\"model\")[\"cell_id\"]\n",
    "    .agg(set)\n",
    "    .to_dict()\n",
    ")"
   ]
  },
  {
   "cell_type": "code",
   "execution_count": null,
   "metadata": {},
   "outputs": [],
   "source": [
    "tp = set(WT_exceptional_true).intersection(WT_exceptional_pred[\"ScreenDL-PT\"])\n",
    "fn = set(WT_exceptional_true).difference(WT_exceptional_pred[\"ScreenDL-PT\"])\n",
    "fp = set(WT_exceptional_pred[\"ScreenDL-PT\"]).difference(WT_exceptional_true)\n",
    "len(tp), len(fn), len(fp)"
   ]
  },
  {
   "cell_type": "code",
   "execution_count": null,
   "metadata": {},
   "outputs": [],
   "source": [
    "tp = set(WT_exceptional_true).intersection(WT_exceptional_pred[\"ScreenDL-SA\"])\n",
    "fn = set(WT_exceptional_true).difference(WT_exceptional_pred[\"ScreenDL-SA\"])\n",
    "fp = set(WT_exceptional_pred[\"ScreenDL-SA\"]).difference(WT_exceptional_true)\n",
    "len(tp), len(fn), len(fp)"
   ]
  },
  {
   "cell_type": "code",
   "execution_count": null,
   "metadata": {},
   "outputs": [],
   "source": [
    "biomarker_only_result = (\n",
    "    results_drug_muts.query(\"model == 'ScreenDL-PT'\")\n",
    "    .filter(items=[\"cell_id\", \"drug_id\", \"y_true\", \"is_MUT\"])\n",
    "    .query(\"is_MUT != 'U'\")\n",
    "    .assign(y_pred=lambda df: df.groupby(\"is_MUT\")[\"y_true\"].transform(\"mean\"))\n",
    ")\n",
    "\n",
    "biomarker_only_result.groupby(\"is_MUT\")[\"y_true\"].describe()"
   ]
  },
  {
   "cell_type": "code",
   "execution_count": null,
   "metadata": {},
   "outputs": [],
   "source": [
    "eval_utils.pcorr(biomarker_only_result)"
   ]
  },
  {
   "cell_type": "code",
   "execution_count": null,
   "metadata": {},
   "outputs": [],
   "source": [
    "mut_resps = biomarker_only_result.query(\"is_MUT == 'MUT'\")[\"y_true\"]\n",
    "wt_resps = biomarker_only_result.query(\"is_MUT == 'WT'\")[\"y_true\"]\n",
    "stats.mannwhitneyu(mut_resps, wt_resps)"
   ]
  },
  {
   "cell_type": "code",
   "execution_count": null,
   "metadata": {},
   "outputs": [],
   "source": [
    "plotter = Plotter(\n",
    "    D_bm=biomarker_only_result,\n",
    "    D_pt=results_drug_muts.query(\"model == 'ScreenDL-PT'\"),\n",
    "    D_sa=results_drug_muts.query(\"model == 'ScreenDL-SA'\"),\n",
    "    x_domain=(-4.5, 4.5),\n",
    "    y_domain=(-4.5, 4.5),\n",
    "    biomarker_name=\"PIK3CA\",\n",
    ")\n",
    "capivasertib_chart = plotter.plot()\n",
    "configure_chart(capivasertib_chart)"
   ]
  },
  {
   "cell_type": "markdown",
   "metadata": {},
   "source": [
    "### auROC Comparison\n",
    "\n",
    "As in previous notebooks, here, we define responders as the top 30% most sensitive lines and quantify auROC for ScreenDL and the biomarker-only model."
   ]
  },
  {
   "cell_type": "code",
   "execution_count": null,
   "metadata": {},
   "outputs": [],
   "source": [
    "tumor_counts = results_drug[\"cell_id\"].value_counts()\n",
    "keep_tumors = tumor_counts[tumor_counts == 2].index.to_list()"
   ]
  },
  {
   "cell_type": "code",
   "execution_count": null,
   "metadata": {},
   "outputs": [],
   "source": [
    "y_true_df = (\n",
    "    D.obs.rename(columns={\"label\": \"y_true\"})\n",
    "    .drop(columns=\"id\")\n",
    "    .query(\"drug_id == @DRUG_ID\")\n",
    "    .copy()\n",
    ")\n",
    "y_true_df[\"y_true\"] = y_true_df.groupby(\"drug_id\")[\"y_true\"].transform(stats.zscore)\n",
    "y_true_df[\"y_true_cls\"] = y_true_df[\"y_true\"] <= y_true_df[\"y_true\"].quantile(0.30)\n",
    "y_true_df[\"y_true_cls\"] = y_true_df[\"y_true_cls\"].astype(int)\n",
    "tumor_to_y_true_cls = y_true_df.set_index(\"cell_id\")[\"y_true_cls\"].to_dict()"
   ]
  },
  {
   "cell_type": "code",
   "execution_count": null,
   "metadata": {},
   "outputs": [],
   "source": [
    "temp = biomarker_only_result.query(\"cell_id in @keep_tumors\").copy()\n",
    "temp[\"y_true_cls\"] = temp[\"cell_id\"].map(tumor_to_y_true_cls)\n",
    "skm.roc_auc_score(temp[\"y_true_cls\"], -1 * temp[\"y_pred\"])"
   ]
  },
  {
   "cell_type": "code",
   "execution_count": null,
   "metadata": {},
   "outputs": [],
   "source": [
    "auroc_metrics = (\n",
    "    results_drug_muts.assign(y_true_cls=lambda df: df[\"cell_id\"].map(tumor_to_y_true_cls))\n",
    "    .query(\"cell_id in @keep_tumors\")\n",
    "    .groupby(\"model\")\n",
    "    .apply(lambda g: skm.roc_auc_score(g[\"y_true_cls\"], -1 * g[\"y_pred\"]))\n",
    ")\n",
    "\n",
    "auroc_metrics"
   ]
  },
  {
   "cell_type": "markdown",
   "metadata": {},
   "source": [
    "### Recovery of Non-Mutant Exceptional Responders"
   ]
  },
  {
   "cell_type": "code",
   "execution_count": null,
   "metadata": {},
   "outputs": [],
   "source": [
    "y_true_df = (\n",
    "    D.obs.rename(columns={\"label\": \"y_true\"})\n",
    "    .drop(columns=\"id\")\n",
    "    .query(\"drug_id == @DRUG_ID\")\n",
    "    .copy()\n",
    ")\n",
    "y_true_df[\"y_true\"] = y_true_df.groupby(\"drug_id\")[\"y_true\"].transform(stats.zscore)\n",
    "y_true_df[\"y_true_cls\"] = y_true_df[\"y_true\"] <= -1\n",
    "y_true_df[\"y_true_cls\"] = y_true_df[\"y_true_cls\"].astype(int)\n",
    "tumor_to_y_true_cls = y_true_df.set_index(\"cell_id\")[\"y_true_cls\"].to_dict()"
   ]
  },
  {
   "cell_type": "code",
   "execution_count": null,
   "metadata": {},
   "outputs": [],
   "source": [
    "tumor_counts = results_drug[\"cell_id\"].value_counts()\n",
    "keep_tumors = tumor_counts[tumor_counts == 2].index.to_list()"
   ]
  },
  {
   "cell_type": "code",
   "execution_count": null,
   "metadata": {},
   "outputs": [],
   "source": [
    "results_drug_wt_only = results_drug_muts.query(\"is_MUT == 'WT'\")\n",
    "\n",
    "trn_grouped = (\n",
    "    model_results_df_trn.query(\"drug_id == @DRUG_ID\")\n",
    "    .query(\"cell_id in @keep_tumors\")\n",
    "    .query(\"cell_id in @results_drug_wt_only.cell_id\")\n",
    "    .groupby([\"fold\", \"model\"])\n",
    ")\n",
    "tst_grouped = (\n",
    "    model_results_df_tst.query(\"drug_id == @DRUG_ID\")\n",
    "    .query(\"cell_id in @keep_tumors\")\n",
    "    .query(\"cell_id in @results_drug_wt_only.cell_id\")\n",
    "    .groupby([\"fold\", \"model\"])\n",
    ")"
   ]
  },
  {
   "cell_type": "code",
   "execution_count": null,
   "metadata": {},
   "outputs": [],
   "source": [
    "def get_mcc_threshold(t_df: pd.DataFrame, thresholds: np.ndarray) -> float:\n",
    "    \"\"\"Computes the optimal threshold based on the training set.\"\"\"\n",
    "    y_true = t_df[\"is_res\"]\n",
    "    y_score = -1 * t_df[\"y_pred\"]\n",
    "\n",
    "    mccs = []\n",
    "    for t in thresholds:\n",
    "        # NOTE: we are looking for sensitivity here so we want >= threshold\n",
    "        preds = (y_score >= t).astype(int)\n",
    "        mccs.append(skm.matthews_corrcoef(y_true, preds))\n",
    "\n",
    "    best_idx = np.argmax(mccs)\n",
    "    mcc_thresh = thresholds[best_idx]\n",
    "    return mcc_thresh\n",
    "\n",
    "\n",
    "thresholds = np.linspace(-4, 2, 100)\n",
    "confusions = {m: np.zeros((2, 2), dtype=int) for m in MODELS}\n",
    "for (fold, model), t_df in trn_grouped:\n",
    "    t_df = (\n",
    "        t_df.assign(is_res=lambda df: df[\"cell_id\"].map(tumor_to_y_true_cls))\n",
    "        .drop(columns=\"y_true\")\n",
    "        .merge(y_true_df, on=[\"cell_id\", \"drug_id\"])\n",
    "    )\n",
    "    e_df = (\n",
    "        tst_grouped.get_group((fold, model))\n",
    "        .drop(columns=\"y_true\")\n",
    "        .merge(y_true_df, on=[\"cell_id\", \"drug_id\"])\n",
    "    )\n",
    "\n",
    "    mcc_thresh = -1 * get_mcc_threshold(t_df, thresholds)\n",
    "\n",
    "    y_pred = (e_df[\"y_pred\"] <= mcc_thresh).astype(int)\n",
    "    y_true = e_df[\"y_true_cls\"]\n",
    "\n",
    "    C = skm.confusion_matrix(y_true, y_pred, labels=[0, 1])\n",
    "    confusions[model] += C"
   ]
  },
  {
   "cell_type": "code",
   "execution_count": null,
   "metadata": {},
   "outputs": [],
   "source": [
    "source_pt = (\n",
    "    pd.DataFrame(confusions[\"ScreenDL-PT\"])\n",
    "    .rename_axis(index=\"y_true\")\n",
    "    .melt(ignore_index=False, var_name=\"y_pred\", value_name=\"count\")\n",
    "    .reset_index()\n",
    ")\n",
    "source_sa = (\n",
    "    pd.DataFrame(confusions[\"ScreenDL-SA\"])\n",
    "    .rename_axis(index=\"y_true\")\n",
    "    .melt(ignore_index=False, var_name=\"y_pred\", value_name=\"count\")\n",
    "    .reset_index()\n",
    ")"
   ]
  },
  {
   "cell_type": "code",
   "execution_count": null,
   "metadata": {},
   "outputs": [],
   "source": [
    "base_pt = (\n",
    "    alt.Chart(source_pt)\n",
    "    .mark_rect()\n",
    "    .encode(\n",
    "        alt.X(\"y_pred:N\").axis(labelAngle=0).scale(reverse=True).title(\"Predicted\"),\n",
    "        alt.Y(\"y_true:N\").scale(reverse=True).title(\"Observed\"),\n",
    "        alt.Color(\"count:Q\").scale(scheme=\"blues\").legend(gradientLength=230).title(None),\n",
    "    )\n",
    "    .properties(width=230, height=230)\n",
    ")\n",
    "\n",
    "\n",
    "pt_mtx_plot = base_pt + base_pt.mark_text(baseline=\"middle\").encode(\n",
    "    alt.Text(\"count:Q\", format=\".0f\"),\n",
    "    alt.condition(\n",
    "        alt.datum.count < 300, alt.ColorValue(\"black\"), alt.ColorValue(\"white\")\n",
    "    ),\n",
    ")\n",
    "\n",
    "configure_chart(pt_mtx_plot)"
   ]
  },
  {
   "cell_type": "code",
   "execution_count": null,
   "metadata": {},
   "outputs": [],
   "source": [
    "base_sa = (\n",
    "    alt.Chart(source_sa)\n",
    "    .mark_rect()\n",
    "    .encode(\n",
    "        alt.X(\"y_pred:N\").axis(labelAngle=0).scale(reverse=True).title(\"Predicted\"),\n",
    "        alt.Y(\"y_true:N\").scale(reverse=True).title(\"Observed\"),\n",
    "        alt.Color(\"count:Q\").scale(scheme=\"blues\").legend(gradientLength=230).title(None),\n",
    "    )\n",
    "    .properties(width=230, height=230)\n",
    ")\n",
    "\n",
    "\n",
    "sa_mtx_plot = base_sa + base_sa.mark_text(baseline=\"middle\").encode(\n",
    "    alt.Text(\"count:Q\", format=\".0f\"),\n",
    "    alt.condition(\n",
    "        alt.datum.count < 300, alt.ColorValue(\"black\"), alt.ColorValue(\"white\")\n",
    "    ),\n",
    ")\n",
    "\n",
    "configure_chart(sa_mtx_plot)"
   ]
  },
  {
   "cell_type": "code",
   "execution_count": null,
   "metadata": {},
   "outputs": [],
   "source": [
    "final_figure = alt.vconcat(dabrafenib_chart, capivasertib_chart, spacing=20)\n",
    "\n",
    "configure_chart(final_figure)"
   ]
  }
 ],
 "metadata": {
  "kernelspec": {
   "display_name": "cdrpy-tf-cpu-v2",
   "language": "python",
   "name": "python3"
  },
  "language_info": {
   "codemirror_mode": {
    "name": "ipython",
    "version": 3
   },
   "file_extension": ".py",
   "mimetype": "text/x-python",
   "name": "python",
   "nbconvert_exporter": "python",
   "pygments_lexer": "ipython3",
   "version": "3.9.13"
  }
 },
 "nbformat": 4,
 "nbformat_minor": 2
}
