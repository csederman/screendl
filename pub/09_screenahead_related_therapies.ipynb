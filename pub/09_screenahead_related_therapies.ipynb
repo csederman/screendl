{
 "cells": [
  {
   "cell_type": "markdown",
   "metadata": {},
   "source": [
    "# ScreenAhead Functionaly-Related Therapies\n",
    "\n",
    "## Contents"
   ]
  },
  {
   "cell_type": "code",
   "execution_count": null,
   "metadata": {},
   "outputs": [],
   "source": [
    "# python scripts/experiments/screenahead_related_drugs.py -m dataset.split.id=1 experiment.drug_id=\"5-Fluorouracil\",\"Leflunomide\",\"Epirubicin\",\"Piperlongumine\",\"Vinblastine\",\"Oxaliplatin\",\"Docetaxel\",\"Gemcitabine\",\"Cytarabine\",\"Cisplatin\",\"Alisertib\",\"Afatinib\",\"Erlotinib\",\"Dabrafenib\",\"Alpelisib\",\"Trametinib\",\"Olaparib\",\"Nilotinib\",\"Fulvestrant\",\"Irinotecan\""
   ]
  },
  {
   "cell_type": "code",
   "execution_count": null,
   "metadata": {},
   "outputs": [],
   "source": [
    "from __future__ import annotations\n",
    "\n",
    "import json\n",
    "import random\n",
    "\n",
    "import altair as alt\n",
    "import pandas as pd\n",
    "import numpy as np\n",
    "import typing as t\n",
    "import sklearn.metrics as skm\n",
    "\n",
    "from pathlib import Path\n",
    "from scipy import stats\n",
    "from scipy.cluster.hierarchy import dendrogram\n",
    "from sklearn.cluster import AgglomerativeClustering, KMeans\n",
    "from sklearn.manifold import TSNE\n",
    "from sklearn.preprocessing import StandardScaler\n",
    "from tensorflow import keras\n",
    "\n",
    "from cdrpy.datasets import Dataset\n",
    "from cdrpy.data.preprocess import GroupStandardScaler\n",
    "from cdrpy.mapper import BatchedResponseGenerator\n",
    "from cdrpy.metrics import tf_metrics\n",
    "\n",
    "from screendl import model as screendl\n",
    "from screendl.utils import evaluation as eval_utils\n",
    "from screendl.utils.drug_selectors import get_response_matrix"
   ]
  },
  {
   "cell_type": "code",
   "execution_count": null,
   "metadata": {},
   "outputs": [],
   "source": [
    "root = Path(\"../../../datastore\")"
   ]
  },
  {
   "cell_type": "code",
   "execution_count": null,
   "metadata": {},
   "outputs": [],
   "source": [
    "drug_types_path = root / \"processed/DrugAnnotations/drug_types.json\"\n",
    "fixed_drug_types = {\"chemotherapy\": \"Chemo\", \"targeted\": \"Targeted\", \"other\": \"Other\"}\n",
    "with open(drug_types_path, \"r\") as fh:\n",
    "    drug_to_type = {k: fixed_drug_types[v] for k,v in json.load(fh).items()}"
   ]
  },
  {
   "cell_type": "code",
   "execution_count": null,
   "metadata": {},
   "outputs": [],
   "source": [
    "dataset_dir = root / \"inputs/CellModelPassports-GDSCv1v2\"\n",
    "\n",
    "cell_meta = pd.read_csv(dataset_dir / \"MetaCellAnnotations.csv\", index_col=0)\n",
    "drug_meta = pd.read_csv(dataset_dir / \"MetaDrugAnnotations.csv\", index_col=0)\n",
    "drug_meta[\"type\"] = drug_meta.index.map(drug_to_type)\n",
    "\n",
    "cell_encoders = screendl.load_cell_features(\n",
    "    dataset_dir / \"ScreenDL/FeatureGeneExpression.csv\"\n",
    ")\n",
    "\n",
    "drug_encoders = screendl.load_drug_features(\n",
    "    dataset_dir / \"ScreenDL/FeatureMorganFingerprints.csv\"\n",
    ")\n",
    "\n",
    "D = Dataset.from_csv(\n",
    "    dataset_dir / \"LabelsLogIC50.csv\",\n",
    "    cell_meta=cell_meta,\n",
    "    drug_meta=drug_meta,\n",
    "    cell_encoders=cell_encoders,\n",
    "    drug_encoders=drug_encoders,\n",
    "    name=dataset_dir.name,\n",
    ")\n",
    "\n",
    "print(D)"
   ]
  },
  {
   "cell_type": "code",
   "execution_count": null,
   "metadata": {},
   "outputs": [],
   "source": [
    "D.obs[\"label\"] = D.obs.groupby(\"drug_id\")[\"label\"].transform(stats.zscore)\n",
    "exp_enc = D.cell_encoders[\"exp\"]\n",
    "exp_enc.data[:] = StandardScaler().fit_transform(exp_enc.data)"
   ]
  },
  {
   "cell_type": "code",
   "execution_count": null,
   "metadata": {},
   "outputs": [],
   "source": [
    "exp_dim = D.cell_encoders[\"exp\"].shape[-1]\n",
    "mol_dim = D.drug_encoders[\"mol\"].shape[-1]\n",
    "\n",
    "model = screendl.create_model(\n",
    "    exp_dim,\n",
    "    mol_dim,\n",
    "    exp_norm_layer=None,\n",
    "    cnv_norm_layer=None,\n",
    "    exp_hidden_dims=[512, 256, 128, 64],\n",
    "    mol_hidden_dims=[256, 128, 64],\n",
    "    shared_hidden_dims=[128, 64],\n",
    "    activation=\"leaky_relu\",\n",
    "    use_noise=True,\n",
    "    noise_stddev=0.3,\n",
    "    use_l2=False,\n",
    ")"
   ]
  },
  {
   "cell_type": "code",
   "execution_count": null,
   "metadata": {},
   "outputs": [],
   "source": [
    "model.summary()"
   ]
  },
  {
   "cell_type": "code",
   "execution_count": null,
   "metadata": {},
   "outputs": [],
   "source": [
    "gen = BatchedResponseGenerator(D, 256)\n",
    "seq = gen.flow_from_dataset(D, shuffle=True, seed=4114)\n",
    "\n",
    "model.compile(\n",
    "    optimizer=keras.optimizers.Adam(1e-4, weight_decay=1e-4),\n",
    "    loss=\"mean_squared_error\",\n",
    "    metrics=[\"mse\", tf_metrics.pearson],\n",
    ")\n",
    "\n",
    "hx = model.fit(seq, epochs=15)"
   ]
  },
  {
   "cell_type": "code",
   "execution_count": null,
   "metadata": {},
   "outputs": [],
   "source": [
    "emb_input = model.get_layer(\"mol_input\").input\n",
    "emb_output = model.get_layer(\"mol_mlp_3\").output\n",
    "\n",
    "emb_model = keras.Model(emb_input, emb_output)\n",
    "\n",
    "X_drug = D.drug_encoders[\"mol\"].data\n",
    "X_drug_embed = emb_model.predict(X_drug)"
   ]
  },
  {
   "cell_type": "code",
   "execution_count": null,
   "metadata": {},
   "outputs": [],
   "source": [
    "X_drug_embed_2d = TSNE(2, random_state=1771).fit_transform(X_drug_embed)\n",
    "X_drug_embed_2d = pd.DataFrame(X_drug_embed_2d, columns=[\"x\", \"y\"])\n",
    "X_drug_embed_2d[\"drug_id\"] = X_drug.index\n",
    "X_drug_embed_2d.head()"
   ]
  },
  {
   "cell_type": "code",
   "execution_count": null,
   "metadata": {},
   "outputs": [],
   "source": [
    "kmeans = KMeans(9, random_state=1771, n_init=\"auto\")\n",
    "_ = kmeans.fit(X_drug_embed)\n",
    "\n",
    "X_drug_embed_2d[\"cluster\"] = kmeans.labels_ + 1\n",
    "X_drug_embed_2d[\"pathway\"] = X_drug_embed_2d[\"drug_id\"].map(D.drug_meta[\"target_pathway\"])\n",
    "X_drug_embed_2d[\"targets\"] = X_drug_embed_2d[\"drug_id\"].map(D.drug_meta[\"targets\"])"
   ]
  },
  {
   "cell_type": "code",
   "execution_count": null,
   "metadata": {},
   "outputs": [],
   "source": [
    "FOCUSED_PATHWAYS = [\n",
    "    \"EGFR signaling\",\n",
    "    \"ERK MAPK signaling\",\n",
    "    \"PI3K/MTOR signaling\",\n",
    "    \"Apoptosis regulation\",\n",
    "    \"DNA replication\",\n",
    "    \"Genome integrity\",\n",
    "    \"IGF1R signaling\"\n",
    "]"
   ]
  },
  {
   "cell_type": "code",
   "execution_count": null,
   "metadata": {},
   "outputs": [],
   "source": [
    "X_drug_embed_2d[\"focused_pathway\"] = X_drug_embed_2d[\"pathway\"].isin(FOCUSED_PATHWAYS)"
   ]
  },
  {
   "cell_type": "code",
   "execution_count": null,
   "metadata": {},
   "outputs": [],
   "source": [
    "def parse_targets(item: t.Any) -> t.List[str]:\n",
    "    if not isinstance(item, str):\n",
    "        return []\n",
    "    tgts = []\n",
    "    for tgt in item.split(\",\"):\n",
    "        tgt = tgt.strip()\n",
    "        tgts.append(tgt)\n",
    "    return tgts\n",
    "\n",
    "\n",
    "X_drug_embed_2d[\"targets\"] = X_drug_embed_2d[\"targets\"].map(parse_targets)"
   ]
  },
  {
   "cell_type": "code",
   "execution_count": null,
   "metadata": {},
   "outputs": [],
   "source": [
    "def assign_focused_targets(targets: t.List[str]) -> str | None:\n",
    "    if \"EGFR\" in targets or \"ERBB2\" in targets:\n",
    "        return \"EGFR/HER2\"\n",
    "    elif any(\"PARP\" in t for t in targets):\n",
    "        return \"PARP1/2\"\n",
    "    elif any(x in targets for x in [\"ERK1\", \"ERK2\"]):\n",
    "        return \"ERK1/2\"\n",
    "    elif any(x in targets for x in [\"MEK1\", \"MEK2\"]):\n",
    "        return \"MEK1/2\"\n",
    "    elif any(x in targets for x in [\"AKT1\", \"AKT2\", \"AKT3\", \"AKT\"]):\n",
    "        return \"AKT1/2/3\"\n",
    "    elif any(x.startswith(\"TOP\") for x in targets):\n",
    "        return \"TOP1/2\"\n",
    "    elif any(x.startswith(\"MTOR\") for x in targets):\n",
    "        return \"MTOR\"\n",
    "    elif any(x in targets for x in [\"BRD2\", \"BRD3\", \"BRD4\"]):\n",
    "        return \"BRD2/3/4\"\n",
    "    else:\n",
    "        return None\n",
    "\n",
    "\n",
    "X_drug_embed_2d[\"selected_targets\"] = X_drug_embed_2d[\"targets\"].map(\n",
    "    assign_focused_targets\n",
    ")\n",
    "X_drug_embed_2d[\"focused_targets\"] = X_drug_embed_2d[\"selected_targets\"].map(\n",
    "    lambda x: isinstance(x, str)\n",
    ")"
   ]
  },
  {
   "cell_type": "code",
   "execution_count": null,
   "metadata": {},
   "outputs": [],
   "source": [
    "AXIS_CONFIG = {\n",
    "    \"titleFont\": \"arial\",\n",
    "    \"titleFontStyle\": \"regular\",\n",
    "    \"labelFont\": \"arial\",\n",
    "    \"tickColor\": \"black\",\n",
    "    \"domainColor\": \"black\",\n",
    "}\n",
    "\n",
    "BOXPLOT_CONFIG = {\n",
    "    \"size\": 28,\n",
    "    \"median\": alt.MarkConfig(fill=\"black\"),\n",
    "    \"box\": alt.MarkConfig(stroke=\"black\"),\n",
    "    \"ticks\": alt.MarkConfig(size=10),\n",
    "    \"outliers\": alt.MarkConfig(stroke=\"black\", size=15, strokeWidth=1.5),\n",
    "}\n",
    "\n",
    "def configure_chart(chart: alt.Chart) -> alt.Chart:\n",
    "    \"\"\"Configures altair chart for viewing.\"\"\"\n",
    "    return (\n",
    "        chart.configure_view(strokeOpacity=0)\n",
    "        .configure_axis(**AXIS_CONFIG)\n",
    "        .configure_header(\n",
    "            titleFont=\"arial\",\n",
    "            titleFontStyle=\"regular\",\n",
    "            titlePadding=10,\n",
    "            labelFont=\"arial\",\n",
    "        )\n",
    "        .configure_legend(\n",
    "            titleFontSize=10, labelFontSize=10, titleFont=\"arial\", labelFont=\"arial\"\n",
    "        )\n",
    "    )"
   ]
  },
  {
   "cell_type": "code",
   "execution_count": null,
   "metadata": {},
   "outputs": [],
   "source": [
    "target_chart = (\n",
    "    alt.Chart(X_drug_embed_2d)\n",
    "    .mark_circle(size=50)\n",
    "    .encode(\n",
    "        alt.X(\"x:Q\")\n",
    "        .axis(ticks=False, labels=False, grid=False, titlePadding=10)\n",
    "        .title(\"TSNE1\"),\n",
    "        alt.Y(\"y:Q\")\n",
    "        .axis(ticks=False, labels=False, grid=False, titlePadding=10)\n",
    "        .title(\"TSNE2\"),\n",
    "        alt.condition(\n",
    "            alt.datum.focused_targets == True,\n",
    "            alt.Color(\"selected_targets:N\")\n",
    "            .scale(\n",
    "                domain=sorted(\n",
    "                    [\n",
    "                        \"BRD2/3/4\",\n",
    "                        \"EGFR/HER2\",\n",
    "                        \"PARP1/2\",\n",
    "                        \"ERK1/2\",\n",
    "                        \"MEK1/2\",\n",
    "                        \"AKT1/2/3\",\n",
    "                        \"TOP1/2\",\n",
    "                        \"MTOR\",\n",
    "                    ]\n",
    "                )\n",
    "            )\n",
    "            .legend(orient=\"right\")\n",
    "            .title(\"Protein Targets\"),\n",
    "            alt.ColorValue(\"lightgray\"),\n",
    "        ),\n",
    "        alt.condition(\n",
    "            alt.datum.focused_targets == True,\n",
    "            alt.SizeValue(60),\n",
    "            alt.SizeValue(30),\n",
    "        ),\n",
    "        tooltip=[\"drug_id:N\", \"pathway:N\", \"targets\"],\n",
    "    )\n",
    "    .properties(width=350, height=250)\n",
    ")\n",
    "\n",
    "target_chart.configure_view(strokeOpacity=0)"
   ]
  },
  {
   "cell_type": "code",
   "execution_count": null,
   "metadata": {},
   "outputs": [],
   "source": [
    "pathway_chart = (\n",
    "    alt.Chart(X_drug_embed_2d)\n",
    "    .mark_circle()\n",
    "    .encode(\n",
    "        alt.X(\"x:Q\")\n",
    "        .axis(ticks=False, labels=False, grid=False, titlePadding=10)\n",
    "        .title(\"TSNE1\"),\n",
    "        alt.Y(\"y:Q\")\n",
    "        .axis(ticks=False, labels=False, grid=False, titlePadding=10)\n",
    "        .title(\"TSNE2\"),\n",
    "        alt.condition(\n",
    "            alt.datum.focused_pathway == True,\n",
    "            alt.Color(\"pathway:N\")\n",
    "            .scale(domain=FOCUSED_PATHWAYS)\n",
    "            .legend(orient=\"right\")\n",
    "            .title(\"Target Pathway\"),\n",
    "            alt.ColorValue(\"lightgray\"),\n",
    "        ),\n",
    "        alt.condition(\n",
    "            alt.datum.focused_pathway == True,\n",
    "            alt.SizeValue(60),\n",
    "            alt.SizeValue(30),\n",
    "        ),\n",
    "        tooltip=[\"drug_id:N\", \"pathway:N\"],\n",
    "    )\n",
    "    .properties(width=350, height=250)\n",
    ")\n",
    "\n",
    "pathway_chart.configure_view(strokeOpacity=0)"
   ]
  },
  {
   "cell_type": "code",
   "execution_count": null,
   "metadata": {},
   "outputs": [],
   "source": [
    "def load_multirun_predictions(multirun_dir: str | Path, regex: str) -> pd.DataFrame:\n",
    "    \"\"\"Loads predictions from a multirun.\"\"\"\n",
    "    if isinstance(multirun_dir, str):\n",
    "        multirun_dir = Path(multirun_dir)\n",
    "\n",
    "    reader = lambda f: pd.read_csv(f).assign(split_id=f.parent.name)\n",
    "    file_list = multirun_dir.glob(regex)\n",
    "    return pd.concat(map(reader, file_list))"
   ]
  },
  {
   "cell_type": "code",
   "execution_count": null,
   "metadata": {},
   "outputs": [],
   "source": [
    "output_dir = root / \"outputs\"\n",
    "path_fmt = \"experiments/screenahead_related_drugs/{0}/{1}/multiruns/{2}\"\n",
    "fixed_models = {\"ScreenDL\": \"ScreenDL-PT\", \"ScreenDL-SA\": \"ScreenDL-SA\"}\n",
    "\n",
    "dataset = \"CellModelPassports-GDSCv1v2\"\n",
    "dates = [\n",
    "    \"2024-11-27_11-57-01\",\n",
    "    \"2024-11-27_21-45-38\",\n",
    "    \"2024-11-28_07-57-15\",\n",
    "    \"2024-11-28_07-58-09\",\n",
    "    \"2024-11-28_07-58-39\",\n",
    "    \"2024-11-28_14-19-01\",\n",
    "    \"2024-11-28_17-47-32\",\n",
    "    \"2024-11-28_17-56-25\",\n",
    "    \"2024-11-28_20-44-49\",\n",
    "    \"2024-11-29_08-06-14\",\n",
    "]\n",
    "model = \"ScreenDL\"\n",
    "\n",
    "fold_results = []\n",
    "for date in dates:\n",
    "    run_dir = output_dir / path_fmt.format(dataset, model, date)\n",
    "    run_results = load_multirun_predictions(run_dir, \"*/predictions_sa.csv\")\n",
    "    run_results[\"model\"] = run_results[\"model\"].map(fixed_models)\n",
    "    fold_results.append(run_results)\n",
    "\n",
    "results_df = pd.concat(fold_results)\n",
    "results_df.head()"
   ]
  },
  {
   "cell_type": "code",
   "execution_count": null,
   "metadata": {},
   "outputs": [],
   "source": [
    "id_vars = [\"model\", \"drug_id\", \"n_drugs\", \"n_best_drugs\"]\n",
    "\n",
    "pcc_metrics = (\n",
    "    results_df.groupby(id_vars, dropna=False)\n",
    "    .apply(eval_utils.pcorr)\n",
    "    .to_frame(name=\"pcc\")\n",
    "    .reset_index()\n",
    "    .sort_values(id_vars)\n",
    ")\n",
    "\n",
    "\n",
    "def assign_label(row):\n",
    "    if row[\"n_drugs\"] == 0:\n",
    "        return \"base\"\n",
    "    return str(int(row[\"n_best_drugs\"]))\n",
    "\n",
    "\n",
    "pcc_metrics[\"label\"] = pcc_metrics.apply(assign_label, axis=1)\n",
    "order = list(pcc_metrics[\"label\"].unique())\n",
    "\n",
    "pcc_metrics.head()"
   ]
  },
  {
   "cell_type": "code",
   "execution_count": null,
   "metadata": {},
   "outputs": [],
   "source": [
    "boxes = (\n",
    "    alt.Chart(pcc_metrics)\n",
    "    .mark_boxplot(**BOXPLOT_CONFIG)\n",
    "    .encode(\n",
    "        alt.X(\"label:O\")\n",
    "        .sort(order)\n",
    "        .axis(labelAngle=0, titlePadding=10)\n",
    "        .title(\"No. Functionally-Related Drugs\"),\n",
    "        alt.Y(\"pcc:Q\")\n",
    "        .scale(domain=(0, 1))\n",
    "        .axis(grid=False, titlePadding=10)\n",
    "        .title(\"Pearson Correlation\"),\n",
    "        alt.condition(\n",
    "            alt.datum.label == \"base\",\n",
    "            alt.ColorValue(\"#4C78A8\"),\n",
    "            alt.ColorValue(\"#53A24B\"),\n",
    "        ),\n",
    "    )\n",
    "    .properties(width=450, height=220)\n",
    ")\n",
    "\n",
    "configure_chart(boxes)"
   ]
  },
  {
   "cell_type": "code",
   "execution_count": null,
   "metadata": {},
   "outputs": [],
   "source": [
    "temp_ = pcc_metrics.set_index([\"model\", \"n_best_drugs\", \"drug_id\"]).sort_index()[\"pcc\"]\n",
    "\n",
    "x1 = temp_.xs((\"ScreenDL-PT\", pd.NA))\n",
    "x2 = temp_.xs((\"ScreenDL-SA\", 0))\n",
    "print(stats.wilcoxon(x2, x1))"
   ]
  },
  {
   "cell_type": "code",
   "execution_count": null,
   "metadata": {},
   "outputs": [],
   "source": [
    "temp_ = pcc_metrics.set_index([\"model\", \"n_best_drugs\", \"drug_id\"]).sort_index()[\"pcc\"]\n",
    "\n",
    "for i in range(10):\n",
    "    x1 = temp_.xs((\"ScreenDL-SA\", i))\n",
    "    x2 = temp_.xs((\"ScreenDL-SA\", i + 1))\n",
    "    print(i, i + 1, stats.wilcoxon(x2, x1))"
   ]
  },
  {
   "cell_type": "markdown",
   "metadata": {},
   "source": [
    "## Performance improvement based on functional similarity"
   ]
  },
  {
   "cell_type": "code",
   "execution_count": null,
   "metadata": {},
   "outputs": [],
   "source": [
    "def load_multirun_predictions(\n",
    "    multirun_dir: str | Path, regex: str, splits: list[str] | None = None\n",
    ") -> pd.DataFrame:\n",
    "    \"\"\"Loads predictions from a multirun.\"\"\"\n",
    "    if isinstance(multirun_dir, str):\n",
    "        multirun_dir = Path(multirun_dir)\n",
    "\n",
    "    file_list = multirun_dir.glob(regex)\n",
    "    pred_df = pd.concat(map(pd.read_csv, file_list))\n",
    "\n",
    "    if splits is not None:\n",
    "        pred_df = pred_df[pred_df[\"split_group\"].isin(splits)]\n",
    "\n",
    "    return pred_df"
   ]
  },
  {
   "cell_type": "code",
   "execution_count": null,
   "metadata": {},
   "outputs": [],
   "source": [
    "model_results = {}"
   ]
  },
  {
   "cell_type": "code",
   "execution_count": null,
   "metadata": {},
   "outputs": [],
   "source": [
    "output_dir = root / \"outputs\"\n",
    "path_fmt = \"experiments/screenahead_drug_selection/{0}/{1}/multiruns/{2}\"\n",
    "\n",
    "dataset = \"CellModelPassports-GDSCv1v2\"\n",
    "date = \"2024-04-17_10-14-39\"\n",
    "model = \"ScreenDL\"\n",
    "\n",
    "run_dir = output_dir / path_fmt.format(dataset, model, date)\n",
    "rescale = lambda df, col, by: df.groupby(by)[col].transform(stats.zscore)\n",
    "\n",
    "model_results[\"ScreenDL-PT\"] = (\n",
    "    load_multirun_predictions(run_dir, \"*/predictions.csv\", splits=[\"test\"])\n",
    "    .assign(\n",
    "        y_true=lambda df: rescale(df, \"y_true\", [\"drug_id\"]),\n",
    "        y_pred=lambda df: rescale(df, \"y_pred\", [\"drug_id\"]),\n",
    "    )\n",
    "    .assign(model=\"ScreenDL-PT\")\n",
    ")\n",
    "\n",
    "model_results[\"ScreenDL-SA\"] = (\n",
    "    load_multirun_predictions(run_dir, \"*/predictions_sa.csv\")\n",
    "    .query(\"selector_type == 'principal' and n_drugs == 20\")\n",
    "    .assign(\n",
    "        y_true=lambda df: rescale(df, \"y_true\", [\"selector_type\", \"n_drugs\", \"drug_id\"]),\n",
    "        y_pred=lambda df: rescale(df, \"y_pred\", [\"selector_type\", \"n_drugs\", \"drug_id\"]),\n",
    "    )\n",
    "    .assign(model=\"ScreenDL-SA\")\n",
    ")"
   ]
  },
  {
   "cell_type": "code",
   "execution_count": null,
   "metadata": {},
   "outputs": [],
   "source": [
    "X: pd.DataFrame = model_results[\"ScreenDL-SA\"]"
   ]
  },
  {
   "cell_type": "code",
   "execution_count": null,
   "metadata": {},
   "outputs": [],
   "source": [
    "M = get_response_matrix(D)\n",
    "f_sims = M.T.corr()\n",
    "np.fill_diagonal(f_sims.values, 0)\n",
    "f_sims.head()"
   ]
  },
  {
   "cell_type": "code",
   "execution_count": null,
   "metadata": {},
   "outputs": [],
   "source": [
    "X_with_sims = []\n",
    "for _, group in X.groupby(\"cell_id\"):\n",
    "    screened_drugs = group.query(\"was_screened == True\")[\"drug_id\"].to_list()\n",
    "    group[\"max_f_sim\"] = (\n",
    "        f_sims[screened_drugs].loc[group[\"drug_id\"]].max(axis=1).to_list()\n",
    "    )\n",
    "    X_with_sims.append(group)\n",
    "\n",
    "X_with_sims: pd.DataFrame = pd.concat(X_with_sims)\n",
    "X_with_sims.head()"
   ]
  },
  {
   "cell_type": "code",
   "execution_count": null,
   "metadata": {},
   "outputs": [],
   "source": [
    "bins = np.arange(0, 1.05, 0.05)\n",
    "X_with_sims[\"max_f_sim_bin\"] = pd.cut(\n",
    "    X_with_sims[\"max_f_sim\"],\n",
    "    bins=bins,\n",
    ")\n",
    "\n",
    "bin_to_str = lambda x: f\"({x.left}, {x.right}]\"\n",
    "X_with_sims[\"max_f_sim_bin_str\"] = X_with_sims[\"max_f_sim_bin\"].map(bin_to_str)\n",
    "X_with_sims.head()"
   ]
  },
  {
   "cell_type": "code",
   "execution_count": null,
   "metadata": {},
   "outputs": [],
   "source": [
    "X_with_sims[\"ae\"] = (X_with_sims[\"y_true\"] - X_with_sims[\"y_pred\"]).abs()\n",
    "X_with_sims[\"se\"] = (X_with_sims[\"y_true\"] - X_with_sims[\"y_pred\"]) ** 2\n",
    "\n",
    "base_err = (\n",
    "    model_results[\"ScreenDL-PT\"]\n",
    "    .assign(base_ae=lambda df: (df[\"y_true\"] - df[\"y_pred\"]).abs())\n",
    "    .assign(base_se=lambda df: (df[\"y_true\"] - df[\"y_pred\"]) ** 2)\n",
    "    .filter(items=[\"cell_id\", \"drug_id\", \"base_ae\", \"base_se\"])\n",
    ")\n",
    "X_with_sims = X_with_sims.merge(base_err, on=[\"cell_id\", \"drug_id\"])"
   ]
  },
  {
   "cell_type": "code",
   "execution_count": null,
   "metadata": {},
   "outputs": [],
   "source": [
    "X_with_sims_agg = (\n",
    "    X_with_sims.query(\"was_screened == False\")\n",
    "    .groupby(\"max_f_sim_bin\")\n",
    "    .aggregate(\n",
    "        {\n",
    "            \"base_ae\": \"mean\",\n",
    "            \"ae\": \"mean\",\n",
    "            \"base_se\": \"mean\",\n",
    "            \"se\": \"mean\",\n",
    "            \"max_f_sim_bin_str\": \"first\",\n",
    "        }\n",
    "    )\n",
    "    .assign(\n",
    "        delta_mae=lambda df: df[\"ae\"] - df[\"base_ae\"],\n",
    "        delta_mse=lambda df: df[\"se\"] - df[\"base_se\"],\n",
    "    )\n",
    "    .dropna()\n",
    ")"
   ]
  },
  {
   "cell_type": "code",
   "execution_count": null,
   "metadata": {},
   "outputs": [],
   "source": [
    "X_with_sims_agg[\"max_interval\"] = [x.right for x in X_with_sims_agg.index.to_list()]\n",
    "X_with_sims_agg[\"min_interval\"] = [x.left for x in X_with_sims_agg.index.to_list()]\n",
    "X_with_sims_agg.head()"
   ]
  },
  {
   "cell_type": "code",
   "execution_count": null,
   "metadata": {},
   "outputs": [],
   "source": [
    "source = X_with_sims_agg.reset_index(drop=True)\n",
    "sorted_bins = source[\"max_f_sim_bin_str\"].unique().tolist()\n",
    "\n",
    "source_points = (\n",
    "    source.reset_index(drop=True)\n",
    "    .melt(\n",
    "        id_vars=[\"max_f_sim_bin_str\"],\n",
    "        value_vars=[\"base_ae\", \"ae\"],\n",
    "        var_name=\"model\",\n",
    "        value_name=\"mae\",\n",
    "    )\n",
    "    .assign(\n",
    "        model=lambda df: df[\"model\"].map({\"base_ae\": \"ScreenDL-PT\", \"ae\": \"ScreenDL-SA\"})\n",
    "    )\n",
    ")\n",
    "\n",
    "source_bars = source.assign(model=\"ScreenDL-SA\")"
   ]
  },
  {
   "cell_type": "code",
   "execution_count": null,
   "metadata": {},
   "outputs": [],
   "source": [
    "stats.pearsonr(\n",
    "    source_bars[\"delta_mae\"],\n",
    "    source_bars[\"max_interval\"].rank(),\n",
    ")"
   ]
  },
  {
   "cell_type": "code",
   "execution_count": null,
   "metadata": {},
   "outputs": [],
   "source": [
    "points = (\n",
    "    alt.Chart(source_points)\n",
    "    .mark_circle(size=80, opacity=1.0, stroke=\"black\", strokeWidth=0.5)\n",
    "    .encode(\n",
    "        alt.X(\"max_f_sim_bin_str:O\")\n",
    "        .sort(sorted_bins)\n",
    "        .axis(titlePadding=10, labelAngle=-60, labelPadding=10)\n",
    "        .title(\"Binned Max Functional Similarity\"),\n",
    "        alt.Y(\"mae:Q\")\n",
    "        .scale(domain=(0, 1.1))\n",
    "        .axis(grid=False, values=(0, 0.5, 1.0), titlePadding=5)\n",
    "        .title(\"Mean Absolute Error (MAE)\"),\n",
    "        alt.Color(\"model:N\")\n",
    "        .scale(domain=(\"ScreenDL-PT\", \"ScreenDL-SA\"), range=(\"#4C78A8\", \"#5CA453\"))\n",
    "        .legend(orient=\"none\", legendX=350, legendY=0)\n",
    "        .title(None),\n",
    "    )\n",
    "    .properties(width=450, height=200)\n",
    ")\n",
    "\n",
    "bars = (\n",
    "    alt.Chart(source_bars)\n",
    "    .mark_bar(color=\"gray\", stroke=\"black\", strokeWidth=1, opacity=1)\n",
    "    .encode(\n",
    "        alt.X(\"max_f_sim_bin_str:O\")\n",
    "        .sort(sorted_bins)\n",
    "        .axis(grid=False, labelAngle=-60, labelPadding=10, titlePadding=10)\n",
    "        .title(\"Binned Max Functional Similarity\"),\n",
    "        alt.Y(\"delta_mae:Q\")\n",
    "        .axis(grid=False, titlePadding=10)\n",
    "        .scale(domain=(-0.5, 0.5))\n",
    "        .title(\"Change in MAE\"),\n",
    "    )\n",
    "    .properties(width=450, height=110)\n",
    ")\n",
    "\n",
    "mae_chart = alt.vconcat(points, bars, spacing=40)\n",
    "configure_chart(mae_chart)"
   ]
  },
  {
   "cell_type": "code",
   "execution_count": null,
   "metadata": {},
   "outputs": [],
   "source": [
    "panel_1 = alt.vconcat(mae_chart, boxes, spacing=40).resolve_scale(color=\"independent\")\n",
    "panel_2 = alt.vconcat(pathway_chart, target_chart, spacing=40).resolve_scale(\n",
    "    color=\"independent\"\n",
    ")\n",
    "\n",
    "final_chart = alt.hconcat(panel_1, panel_2, spacing=40)\n",
    "configure_chart(final_chart)"
   ]
  }
 ],
 "metadata": {
  "kernelspec": {
   "display_name": "cdrpy-tf-cpu-v2",
   "language": "python",
   "name": "python3"
  },
  "language_info": {
   "codemirror_mode": {
    "name": "ipython",
    "version": 3
   },
   "file_extension": ".py",
   "mimetype": "text/x-python",
   "name": "python",
   "nbconvert_exporter": "python",
   "pygments_lexer": "ipython3",
   "version": "3.9.13"
  }
 },
 "nbformat": 4,
 "nbformat_minor": 2
}
