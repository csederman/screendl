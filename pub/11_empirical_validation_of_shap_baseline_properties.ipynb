{
 "cells": [
  {
   "cell_type": "markdown",
   "id": "250cc343",
   "metadata": {},
   "source": [
    "# Empirical validation of baselines used in SHAP"
   ]
  },
  {
   "cell_type": "code",
   "execution_count": null,
   "id": "bea34e05",
   "metadata": {},
   "outputs": [],
   "source": [
    "from __future__ import annotations\n",
    "\n",
    "import numpy as np\n",
    "import pandas as pd\n",
    "import sklearn.metrics as skm\n",
    "import typing as t\n",
    "\n",
    "from functools import partial\n",
    "from pathlib import Path\n",
    "from scipy import stats\n",
    "from tensorflow import keras\n",
    "from tqdm import tqdm, trange\n",
    "\n",
    "from cdrpy.util.io import read_gmt\n",
    "\n",
    "from screendl.utils.ensemble import ScreenDLEnsembleWrapper\n",
    "from screendl.pipelines.core.screendl import (\n",
    "    apply_preprocessing_pipeline,\n",
    "    load_dataset,\n",
    "    load_pretraining_configs,\n",
    "    split_dataset,\n",
    ")\n",
    "\n",
    "from utils.const import DRUG_TO_PATHWAY_EXT as _DRUG_TO_PATHWAY_EXT"
   ]
  },
  {
   "cell_type": "code",
   "execution_count": null,
   "id": "e2e4e42e",
   "metadata": {},
   "outputs": [],
   "source": [
    "def load_ensemble(\n",
    "    pretrain_dir: str | Path,\n",
    "    model_type: t.Literal[\"ScreenDL-PT\", \"ScreenDL-FT\", \"ScreenDL-SA\"],\n",
    "    tumor_id: str,\n",
    ") -> ScreenDLEnsembleWrapper:\n",
    "    \"\"\"Load the ScreenDL ensemble model.\"\"\"\n",
    "    pattern = (\n",
    "        f\"*/{model_type}.model\"\n",
    "        if model_type != \"ScreenDL-SA\"\n",
    "        else f\"*/{model_type}.{tumor_id}.model\"\n",
    "    )\n",
    "    files = pretrain_dir.glob(pattern)\n",
    "    members = []\n",
    "    for file in files:\n",
    "        members.append(keras.models.load_model(file))\n",
    "    return ScreenDLEnsembleWrapper(members)"
   ]
  },
  {
   "cell_type": "code",
   "execution_count": null,
   "id": "a7b340bd",
   "metadata": {},
   "outputs": [],
   "source": [
    "root = Path(\"../../../datastore\")"
   ]
  },
  {
   "cell_type": "code",
   "execution_count": null,
   "id": "8d47c494",
   "metadata": {},
   "outputs": [],
   "source": [
    "drug_meta_ext = pd.read_csv(\n",
    "    root / \"inputs/CellModelPassports-GDSCv1v2/MetaDrugAnnotations.csv\",\n",
    "    index_col=0,\n",
    "    usecols=[\"drug_id\", \"targets\", \"target_pathway\"],\n",
    ")\n",
    "\n",
    "drug_to_pathway = drug_meta_ext[\"target_pathway\"].to_dict()\n",
    "fixed_pathways = {\"EGFR signaling\": \"EGFR/HER2 signaling\"}\n",
    "drug_to_pathway = {k: fixed_pathways.get(v, v) for k, v in drug_to_pathway.items()}\n",
    "drug_to_pathway.update(_DRUG_TO_PATHWAY_EXT)"
   ]
  },
  {
   "cell_type": "code",
   "execution_count": null,
   "id": "7d774d07",
   "metadata": {},
   "outputs": [],
   "source": [
    "# load MSigDB gene sets\n",
    "gmt_dir = root / \"raw/MSigDB\"\n",
    "\n",
    "GENE_SETS = {\n",
    "    \"h.all\": read_gmt(gmt_dir / \"h.all.v2023.1.Hs.symbols.gmt\"),\n",
    "    \"c6.all\": read_gmt(gmt_dir / \"c6.all.v2023.2.Hs.symbols.gmt\"),\n",
    "    \"c2.cgp\": read_gmt(gmt_dir / \"c2.cgp.v2024.1.Hs.symbols.gmt\"),\n",
    "    \"c2.cgp.breast\": read_gmt(gmt_dir / \"c2.cgp.v2024.1.Hs.breast_cancer.symbols.gmt\"),\n",
    "    \"c5.go.bp\": read_gmt(gmt_dir / \"c5.go.bp.v2023.2.Hs.symbols.gmt\"),\n",
    "}\n",
    "\n",
    "meta_sets = [\"h.all\", \"c6.all\", \"c2.cgp.breast\"]\n",
    "gene_sets = {}\n",
    "for name in meta_sets:\n",
    "    gene_sets.update(GENE_SETS[name])\n",
    "\n",
    "print(f\"Considering {len(gene_sets):,} gene sets from {', '.join(meta_sets)}\")"
   ]
  },
  {
   "cell_type": "code",
   "execution_count": null,
   "id": "a44512fc",
   "metadata": {},
   "outputs": [],
   "source": [
    "dataset = \"CellModelPassports-GDSCv1v2-HCI\"\n",
    "model_name = \"ScreenDL\"\n",
    "date, tumor_id = (\"2025-06-24_09-26-32\", \"BCM15163\")"
   ]
  },
  {
   "cell_type": "code",
   "execution_count": null,
   "id": "296ad305",
   "metadata": {},
   "outputs": [],
   "source": [
    "pt_dir = root / f\"outputs/core/{dataset}/{model_name}/multiruns/{date}\""
   ]
  },
  {
   "cell_type": "code",
   "execution_count": null,
   "id": "4933a918",
   "metadata": {},
   "outputs": [],
   "source": [
    "model = load_ensemble(pt_dir, \"ScreenDL-SA\", tumor_id)"
   ]
  },
  {
   "cell_type": "code",
   "execution_count": null,
   "id": "5ab7fe62",
   "metadata": {},
   "outputs": [],
   "source": [
    "# load the datasets\n",
    "X_t_0 = None\n",
    "datasets = []\n",
    "for i in trange(len(model.members)):\n",
    "    pt_cfg, _ = load_pretraining_configs(pt_dir / str(i))\n",
    "    Dt, Dv, De = split_dataset(pt_cfg, load_dataset(pt_cfg))\n",
    "    if i == 0:\n",
    "        X_t_0 = De.cell_encoders[\"exp\"].data.loc[list(set(De.cell_ids))].copy()\n",
    "    Dt, Dv, De = apply_preprocessing_pipeline(pt_dir / str(i), Dt, Dv, De)\n",
    "    datasets.append(De)"
   ]
  },
  {
   "cell_type": "code",
   "execution_count": null,
   "id": "dcd626a0",
   "metadata": {},
   "outputs": [],
   "source": [
    "assert X_t_0 is not None\n",
    "X_t_0 = X_t_0.transform(stats.zscore)"
   ]
  },
  {
   "cell_type": "code",
   "execution_count": null,
   "id": "f3d33791",
   "metadata": {},
   "outputs": [],
   "source": [
    "get_x = lambda D, t_ids, d_ids: [\n",
    "    D.cell_encoders[\"exp\"].data.loc[t_ids, :].values,\n",
    "    D.drug_encoders[\"mol\"].data.loc[d_ids, :].values,\n",
    "]"
   ]
  },
  {
   "cell_type": "code",
   "execution_count": null,
   "id": "1aed3cdd",
   "metadata": {},
   "outputs": [],
   "source": [
    "d_ids = datasets[0].drug_encoders[\"mol\"].data.index.to_list()\n",
    "t_ids = sorted(list(set(datasets[0].cell_ids)))\n",
    "\n",
    "all_preds = []\n",
    "for d_id in tqdm(d_ids):\n",
    "    X = list(map(partial(get_x, t_ids=t_ids, d_ids=[d_id] * len(t_ids)), datasets))\n",
    "    y_pred = model(X, map_inputs=True).numpy()\n",
    "    all_preds.append(pd.DataFrame({\"cell_id\": t_ids, \"drug_id\": d_id, \"y_pred\": y_pred}))"
   ]
  },
  {
   "cell_type": "code",
   "execution_count": null,
   "id": "8dce0aab",
   "metadata": {},
   "outputs": [],
   "source": [
    "all_preds_df = pd.concat(all_preds, ignore_index=True)\n",
    "all_preds_df[\"y_pred\"] = all_preds_df.groupby(\"drug_id\")[\"y_pred\"].transform(stats.zscore)\n",
    "all_preds_df[\"y_pred_gds\"] = all_preds_df.groupby(\"cell_id\")[\"y_pred\"].transform(\"mean\")"
   ]
  },
  {
   "cell_type": "code",
   "execution_count": null,
   "id": "8ac23cd7",
   "metadata": {},
   "outputs": [],
   "source": [
    "tumor_to_pred_gds = all_preds_df[[\"cell_id\", \"y_pred_gds\"]].drop_duplicates()\n",
    "tumor_to_pred_gds.head()"
   ]
  },
  {
   "cell_type": "code",
   "execution_count": null,
   "id": "922832dd",
   "metadata": {},
   "outputs": [],
   "source": [
    "d_dim = datasets[0].drug_encoders[\"mol\"].shape[0]"
   ]
  },
  {
   "cell_type": "code",
   "execution_count": null,
   "id": "4baa5f04",
   "metadata": {},
   "outputs": [],
   "source": [
    "d_baseline = np.zeros((1, d_dim))  # null drug -> model will predict tumor's GDS\n",
    "x_d = np.repeat(d_baseline, len(t_ids), axis=0)\n",
    "x_t = datasets[0].cell_encoders[\"exp\"].data.loc[t_ids, :].values\n",
    "pred_gds_from_baseline = model([x_t, x_d], map_inputs=False)"
   ]
  },
  {
   "cell_type": "code",
   "execution_count": null,
   "id": "e4127fc7",
   "metadata": {},
   "outputs": [],
   "source": [
    "temp = (\n",
    "    pd.Series(pred_gds_from_baseline, index=t_ids)\n",
    "    .to_frame(\"y_pred_gds_0\")\n",
    "    .join(tumor_to_pred_gds.set_index(\"cell_id\")[\"y_pred_gds\"])\n",
    "    .join(datasets[0].obs.groupby(\"cell_id\")[\"label\"].mean().to_frame(\"y_true_gds\"))\n",
    ")\n",
    "\n",
    "stats.pearsonr(temp[\"y_pred_gds_0\"], temp[\"y_pred_gds\"])"
   ]
  },
  {
   "cell_type": "code",
   "execution_count": null,
   "id": "fa328346",
   "metadata": {},
   "outputs": [],
   "source": [
    "# using mean prediction across drugs\n",
    "print(stats.pearsonr(temp[\"y_true_gds\"], temp[\"y_pred_gds\"]))\n",
    "print(skm.mean_squared_error(temp[\"y_true_gds\"], temp[\"y_pred_gds\"]))"
   ]
  },
  {
   "cell_type": "code",
   "execution_count": null,
   "id": "69460209",
   "metadata": {},
   "outputs": [],
   "source": [
    "# using baselines\n",
    "print(stats.pearsonr(temp[\"y_true_gds\"], temp[\"y_pred_gds_0\"]))\n",
    "print(skm.mean_squared_error(temp[\"y_true_gds\"], temp[\"y_pred_gds_0\"]))"
   ]
  }
 ],
 "metadata": {
  "kernelspec": {
   "display_name": "cdrpy-tf-cpu-v2",
   "language": "python",
   "name": "python3"
  },
  "language_info": {
   "codemirror_mode": {
    "name": "ipython",
    "version": 3
   },
   "file_extension": ".py",
   "mimetype": "text/x-python",
   "name": "python",
   "nbconvert_exporter": "python",
   "pygments_lexer": "ipython3",
   "version": "3.9.13"
  }
 },
 "nbformat": 4,
 "nbformat_minor": 5
}
