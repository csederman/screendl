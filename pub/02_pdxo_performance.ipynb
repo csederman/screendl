{
 "cells": [
  {
   "cell_type": "markdown",
   "metadata": {},
   "source": [
    "# Performance Evaluation in Breast Cancer PDxOs\n",
    "\n",
    "## Contents\n",
    "\n",
    "- [Data Loading](#data-loading)\n",
    "- [Performance in Original PDxO Cohort](#performance-in-original-pdxo-cohort)\n",
    "- [Performance across all PDxO/drug pairs](#performance-across-all-PDxO-drug-pairs)\n",
    "    - [High confidence drugs](#high-confidence-drugs)\n",
    "    - [Performance boxplots](#performance-boxplots)\n",
    "    - [Performance stratified by ID vs OOD drugs](#performance-stratified-by-id-vs-ood-drugs)\n",
    "    - [Performance stratified by drug mechanism](#performance-stratified-by-drug-mechanism)\n",
    "    - [auROC analysis](#auroc-analysis)\n",
    "    - [Response rate analysis](#response-rate-analysis)\n",
    "    - [Fig 3. ScreenDL achieves accurate response prediction in high-risk/metastatic breast cancer PDxO models](#fig-3-screendl-achieves-accurate-response-prediction-in-high-riskmetastatic-breast-cancer-pdxo-models)\n",
    "- [Performance across common PDxO/drug pairs](#performance-across-common-pdxodrug-pairs)\n",
    "- [ScreenAhead with vs without domain-specific fine-tuning](#screenahead-with-vs-without-domain-specific-fine-tuning)"
   ]
  },
  {
   "cell_type": "code",
   "execution_count": null,
   "metadata": {},
   "outputs": [],
   "source": [
    "# DEEPCDR_ROOT=\"/scratch/ucgd/lustre-labs/marth/scratch/u0871891/projects/screendl/pkg/DeepCDR/prog\" python scripts/runners/run.py -m model=DeepCDR-legacy dataset.preprocess.norm=global dataset=CellModelPassports-GDSCv1v2-HCI-Mutations\n",
    "# HIDRA_ROOT=\"/scratch/ucgd/lustre-labs/marth/scratch/u0871891/projects/screendl/pkg/HiDRA\" python scripts/runners/run.py -m model=HiDRA-legacy dataset.preprocess.norm=global dataset=CellModelPassports-GDSCv1v2-HCI"
   ]
  },
  {
   "cell_type": "code",
   "execution_count": null,
   "metadata": {},
   "outputs": [],
   "source": [
    "from __future__ import annotations\n",
    "\n",
    "import json\n",
    "import itertools\n",
    "\n",
    "import altair as alt\n",
    "import altair_forge as af\n",
    "import pandas as pd\n",
    "import numpy as np\n",
    "import sklearn.metrics as skm\n",
    "\n",
    "from pathlib import Path\n",
    "from scipy import stats\n",
    "from omegaconf import OmegaConf\n",
    "\n",
    "from cdrpy.datasets import Dataset\n",
    "\n",
    "from screendl import model as screendl\n",
    "from screendl.utils import evaluation as eval_utils\n",
    "from screendl.utils.drug_selectors import get_response_matrix"
   ]
  },
  {
   "cell_type": "markdown",
   "metadata": {},
   "source": [
    "## Data Loading"
   ]
  },
  {
   "cell_type": "code",
   "execution_count": null,
   "metadata": {},
   "outputs": [],
   "source": [
    "def load_multirun_predictions(\n",
    "    multirun_dir: str | Path, regex: str, splits: list[str] | None = None\n",
    ") -> pd.DataFrame:\n",
    "    \"\"\"Loads predictions from a multirun.\"\"\"\n",
    "    if isinstance(multirun_dir, str):\n",
    "        multirun_dir = Path(multirun_dir)\n",
    "\n",
    "    def load_run(file_path: Path) -> pd.DataFrame:\n",
    "        fold_id = file_path.parent.stem.split(\"_\")[-1]\n",
    "        fold_pred_df = pd.read_csv(file_path)\n",
    "        fold_pred_df[\"fold\"] = int(fold_id)\n",
    "        return fold_pred_df\n",
    "\n",
    "    file_list = multirun_dir.glob(regex)\n",
    "    pred_df = pd.concat(map(load_run, file_list))\n",
    "\n",
    "    if splits is not None:\n",
    "        pred_df = pred_df[pred_df[\"split_group\"].isin(splits)]\n",
    "\n",
    "    return pred_df"
   ]
  },
  {
   "cell_type": "code",
   "execution_count": null,
   "metadata": {},
   "outputs": [],
   "source": [
    "root = Path(\"../../../datastore\")"
   ]
  },
  {
   "cell_type": "code",
   "execution_count": null,
   "metadata": {},
   "outputs": [],
   "source": [
    "drug_types_path = root / \"processed/DrugAnnotations/drug_types.json\"\n",
    "with open(drug_types_path, \"r\") as fh:\n",
    "    drug_to_type = json.load(fh)"
   ]
  },
  {
   "cell_type": "code",
   "execution_count": null,
   "metadata": {},
   "outputs": [],
   "source": [
    "fixed_drug_types = {\"chemotherapy\": \"Chemo\", \"targeted\": \"Targeted\", \"other\": \"Other\"}\n",
    "drug_to_type = {k: fixed_drug_types[v] for k,v in drug_to_type.items()}"
   ]
  },
  {
   "cell_type": "code",
   "execution_count": null,
   "metadata": {},
   "outputs": [],
   "source": [
    "dataset_dir = root / \"inputs/CellModelPassports-GDSCv1v2-HCI\"\n",
    "\n",
    "drug_meta = pd.read_csv(dataset_dir / \"MetaDrugAnnotations.csv\", index_col=0)\n",
    "drug_meta[\"type\"] = drug_meta.index.map(drug_to_type)\n",
    "drug_encoders = screendl.load_drug_features(\n",
    "    dataset_dir / \"ScreenDL/FeatureMorganFingerprints.csv\"\n",
    ")\n",
    "\n",
    "cell_meta = pd.read_csv(dataset_dir / \"MetaSampleAnnotations.csv\", index_col=0)\n",
    "cell_encoders = screendl.load_cell_features(\n",
    "    dataset_dir / \"ScreenDL/FeatureGeneExpression.csv\"\n",
    ")\n",
    "\n",
    "D = Dataset.from_csv(\n",
    "    dataset_dir / \"LabelsLogIC50.csv\",\n",
    "    cell_encoders=cell_encoders,\n",
    "    drug_encoders=drug_encoders,\n",
    "    cell_meta=cell_meta,\n",
    "    drug_meta=drug_meta,\n",
    "    name=\"CellModelPassports-GDSC-HCI\",\n",
    ")\n",
    "\n",
    "cell_ids = D.cell_meta[D.cell_meta[\"domain\"] == \"CELL\"].index\n",
    "pdmc_ids = D.cell_meta[D.cell_meta[\"domain\"] == \"PDMC\"].index\n",
    "\n",
    "cell_ds = D.select_cells(cell_ids, name=\"cell_ds\")\n",
    "pdmc_ds = D.select_cells(pdmc_ids, name=\"pdmc_ds\")\n",
    "\n",
    "print(cell_ds)\n",
    "print(pdmc_ds)"
   ]
  },
  {
   "cell_type": "code",
   "execution_count": null,
   "metadata": {},
   "outputs": [],
   "source": [
    "DRUG_TO_PATHWAY_EXT = {\n",
    "    \"4mu8C\": \"Other\", # targets IRE1 RNase which is involved in the unfolded protein response\n",
    "    \"A-966492\": \"Genome integrity\",\n",
    "    \"Abemaciclib\": \"Cell cycle\",\n",
    "    \"AMG232\": \"p53 pathway\",\n",
    "    \"APG1387\": \"Apoptosis regulation\",\n",
    "    \"ASLAN-002\": \"RTK signaling\",\n",
    "    \"AZD0156\": \"Genome integrity\",\n",
    "    \"AZD4573\": \"Cell cycle\",\n",
    "    \"AZD5363\": \"PI3K/MTOR signaling\",\n",
    "    \"Berzosertib\": \"Genome integrity\",\n",
    "    \"Birinapant\": \"Apoptosis regulation\",\n",
    "    \"Carboplatin\": \"DNA replication\",\n",
    "    \"Ceritinib\": \"RTK signaling\",\n",
    "    \"Cobimetinib\": \"ERK MAPK signaling\",\n",
    "    \"Copanlisib\": \"PI3K/MTOR signaling\",\n",
    "    \"Crenigacestat\": \"Other\",\n",
    "    \"Emavusertib\": \"Other, kinases\",\n",
    "    \"Endoxifen\": \"Hormone-related\",\n",
    "    \"Enzalutamide\": \"Hormone-related\",\n",
    "    \"Epacadostat\": \"Metabolism\",\n",
    "    \"EPZ011989\": \"Chromatin histone methylation\",\n",
    "    \"Erdafitinib\": \"RTK signaling\",\n",
    "    \"Eribulin\": \"Mitosis\",\n",
    "    \"Everolimus\": \"PI3K/MTOR signaling\",\n",
    "    \"GDC-0152\": \"Apoptosis regulation\",\n",
    "    \"GDC-0917\": \"Apoptosis regulation\",\n",
    "    \"Ixazomib\": \"Protein stability and degradation\",\n",
    "    \"Megestrol Acetate\": \"Hormone-related\",\n",
    "    \"Methoxyamine\": \"DNA replication\",\n",
    "    \"MIK665\": \"Apoptosis regulation\",\n",
    "    \"Nedisertib\": \"Genome integrity\",\n",
    "    \"Neratinib\": \"EGFR/HER2 signaling\",  # could also be RTK signaling (HER2/ERBB2 and EGFR)\n",
    "    \"Onalespib\": \"Protein stability and degradation\",\n",
    "    \"ONC206\": \"Other, kinases\",\n",
    "    \"Pamiparib\": \"Genome integrity\",\n",
    "    \"Pelcitoclax\": \"Apoptosis regulation\",\n",
    "    \"Pevonedistat\": \"Genome integrity\",\n",
    "    \"RO4929097\": \"WNT signaling\",\n",
    "    \"Sapanisertib\": \"PI3K/MTOR signaling\",\n",
    "    \"Selinexor\": \"Other\",\n",
    "    \"Sotorasib\": \"ERK MAPK signaling\",\n",
    "    \"TAK-243\": \"Protein stability and degradation\",\n",
    "    \"Telaglenastat\": \"Other\",\n",
    "    \"Tivantinib\": \"RTK signaling\",\n",
    "    \"Tolinapant\": \"Apoptosis regulation\",\n",
    "    \"Triapine\": \"DNA replication\",\n",
    "    \"Tucatinib\": \"Apoptosis regulation\",\n",
    "    \"Vemurafenib\": \"ERK MAPK signaling\",\n",
    "    \"ZW4864\": \"WNT signaling\",\n",
    "}"
   ]
  },
  {
   "cell_type": "code",
   "execution_count": null,
   "metadata": {},
   "outputs": [],
   "source": [
    "FIXED_DRUG_NAMES = {\n",
    "    \"MK-1775\": \"Adavosertib\",\n",
    "    \"AZD5363\": \"Capivasertib\",\n",
    "    \"VE-822\": \"Berzosertib\",\n",
    "    \"EPZ5676\": \"Pinometostat\",\n",
    "}"
   ]
  },
  {
   "cell_type": "code",
   "execution_count": null,
   "metadata": {},
   "outputs": [],
   "source": [
    "drug_meta_ext = pd.read_csv(\n",
    "    root / \"inputs/CellModelPassportsGDSCv1v2Hallmark/MetaDrugAnnotations.csv\",\n",
    "    index_col=0,\n",
    "    usecols=[\"drug_id\", \"targets\", \"target_pathway\"],\n",
    ")\n",
    "\n",
    "drug_to_pathway = drug_meta_ext[\"target_pathway\"].to_dict()\n",
    "fixed_pathways = {\"EGFR signaling\": \"EGFR/HER2 signaling\"}\n",
    "drug_to_pathway = {k: fixed_pathways.get(v, v) for k, v in drug_to_pathway.items()}\n",
    "drug_to_pathway.update(DRUG_TO_PATHWAY_EXT)"
   ]
  },
  {
   "cell_type": "code",
   "execution_count": null,
   "metadata": {},
   "outputs": [],
   "source": [
    "model_results = {}\n",
    "output_dir = root / \"outputs\"\n",
    "rescale = lambda df, col: df.groupby([\"fold\", \"drug_id\"])[col].transform(stats.zscore)"
   ]
  },
  {
   "cell_type": "code",
   "execution_count": null,
   "metadata": {},
   "outputs": [],
   "source": [
    "# DeepCDR results\n",
    "\n",
    "path_fmt = \"experiments/pdx_benchmarking/{0}/{1}/multiruns/{2}\"\n",
    "dataset = \"CellModelPassports-GDSCv1v2-HCI-Mutations\"\n",
    "model = \"DeepCDR-legacy\"\n",
    "date = \"2024-11-21_11-17-57\"\n",
    "\n",
    "run_dir = output_dir / path_fmt.format(dataset, model, date)\n",
    "run_regex = \"*/predictions.csv\"\n",
    "\n",
    "_temp = load_multirun_predictions(run_dir, run_regex, splits=[\"test\"]).assign(\n",
    "    y_true=lambda df: rescale(df, \"y_true\"),\n",
    "    y_pred=lambda df: rescale(df, \"y_pred\"),\n",
    "    model=model.split(\"-\")[0],\n",
    "    was_screened=False,\n",
    ")\n",
    "model_results[model.split(\"-\")[0]] = _temp"
   ]
  },
  {
   "cell_type": "code",
   "execution_count": null,
   "metadata": {},
   "outputs": [],
   "source": [
    "# HiDRA results\n",
    "\n",
    "path_fmt = \"experiments/pdx_benchmarking/{0}/{1}/multiruns/{2}\"\n",
    "dataset = \"CellModelPassports-GDSCv1v2-HCI\"\n",
    "model = \"HiDRA-legacy\"\n",
    "date = \"2024-11-26_21-29-14\"\n",
    "\n",
    "run_dir = output_dir / path_fmt.format(dataset, model, date)\n",
    "run_regex = \"*/predictions.csv\"\n",
    "\n",
    "_temp = load_multirun_predictions(run_dir, run_regex, splits=[\"test\"]).assign(\n",
    "    y_true=lambda df: rescale(df, \"y_true\"),\n",
    "    y_pred=lambda df: rescale(df, \"y_pred\"),\n",
    "    model=model.split(\"-\")[0],\n",
    "    was_screened=False,\n",
    ")\n",
    "model_results[model.split(\"-\")[0]] = _temp"
   ]
  },
  {
   "cell_type": "code",
   "execution_count": null,
   "metadata": {},
   "outputs": [],
   "source": [
    "path_fmt = \"experiments/pdxo_validation/{0}/{1}/multiruns/{2}\"\n",
    "dataset = \"CellModelPassports-GDSCv1v2-HCI\"\n",
    "model = \"ScreenDL\"\n",
    "date = \"2024-11-27_11-58-34\"\n",
    "\n",
    "run_dir = output_dir / path_fmt.format(dataset, model, date)\n",
    "run_regex = \"*/predictions.csv\"\n",
    "\n",
    "fixed_model_names = {\n",
    "    \"base\": \"ScreenDL-PT\",\n",
    "    \"xfer\": f\"{model}-FT\",\n",
    "    \"screen\": f\"{model}-SA (ALL)\",\n",
    "}\n",
    "\n",
    "# NOTE: predictions are already rescaled for ScreenDL\n",
    "model_results[model] = load_multirun_predictions(run_dir, run_regex, splits=None).assign(\n",
    "    model=lambda df: df[\"model\"].map(fixed_model_names),\n",
    "    was_screened=lambda df: df[\"was_screened\"].fillna(False),\n",
    ")"
   ]
  },
  {
   "cell_type": "code",
   "execution_count": null,
   "metadata": {},
   "outputs": [],
   "source": [
    "conf = OmegaConf.load(run_dir / \"multirun.yaml\")\n",
    "assert conf.screenahead.opt.exclude_drugs is None\n",
    "print(OmegaConf.to_yaml(conf.xfer))"
   ]
  },
  {
   "cell_type": "code",
   "execution_count": null,
   "metadata": {},
   "outputs": [],
   "source": [
    "model_results_df = pd.concat(model_results.values())\n",
    "model_results_df.head()"
   ]
  },
  {
   "cell_type": "code",
   "execution_count": null,
   "metadata": {},
   "outputs": [],
   "source": [
    "# look at how many times a drug was selected for screening\n",
    "drug_num_times_screened = (\n",
    "    model_results_df.query(\"model == 'ScreenDL-SA (ALL)'\")\n",
    "    .drop_duplicates([\"cell_id\", \"drug_id\"])\n",
    "    .groupby([\"drug_id\", \"was_screened\"])[\"cell_id\"]\n",
    "    .nunique()\n",
    "    .unstack()\n",
    "    .fillna(0)\n",
    "    .sort_values(False)\n",
    ")\n",
    "\n",
    "drug_num_times_screened.describe()"
   ]
  },
  {
   "cell_type": "code",
   "execution_count": null,
   "metadata": {},
   "outputs": [],
   "source": [
    "model_results_df.groupby(\"model\")[\"fold\"].nunique()"
   ]
  },
  {
   "cell_type": "code",
   "execution_count": null,
   "metadata": {},
   "outputs": [],
   "source": [
    "# filter for drugs/PDxOs evaluated in all models\n",
    "n_models = model_results_df[\"model\"].nunique()\n",
    "model_results_common = []\n",
    "for f, g in model_results_df.groupby(\"fold\"):\n",
    "    counts = g.groupby([\"cell_id\", \"drug_id\"])[\"model\"].nunique()\n",
    "    keep_idx = counts[counts == n_models].index\n",
    "    g_common = g.set_index([\"cell_id\", \"drug_id\"]).loc[keep_idx].reset_index()\n",
    "    model_results_common.append(g_common)\n",
    "\n",
    "model_results_common_df = pd.concat(model_results_common)\n",
    "model_results_common_df.head()"
   ]
  },
  {
   "cell_type": "code",
   "execution_count": null,
   "metadata": {},
   "outputs": [],
   "source": [
    "# get ScreenAhead NBS results\n",
    "\n",
    "_temp_nbs = (\n",
    "    model_results_df.query(\"model == 'ScreenDL-SA (ALL)'\")\n",
    "    .query(\"was_screened == False\")\n",
    "    .assign(model=\"ScreenDL-SA (NBS)\")\n",
    ")\n",
    "\n",
    "model_results_df = pd.concat([model_results_df, _temp_nbs])"
   ]
  },
  {
   "cell_type": "code",
   "execution_count": null,
   "metadata": {},
   "outputs": [],
   "source": [
    "MODELS = [\n",
    "    \"HiDRA\",\n",
    "    \"DeepCDR\",\n",
    "    \"ScreenDL-PT\",\n",
    "    \"ScreenDL-FT\",\n",
    "    \"ScreenDL-SA (NBS)\",\n",
    "    \"ScreenDL-SA (ALL)\",\n",
    "]\n",
    "\n",
    "MODEL_COLOR_SCALE = alt.Scale(\n",
    "    domain=MODELS,\n",
    "    range=(\"darkgray\", \"gray\", \"#4C78A8\", \"#B278A2\", \"#89D27A\", \"#5CA453\"),\n",
    ")"
   ]
  },
  {
   "cell_type": "markdown",
   "metadata": {},
   "source": [
    "## Performance in original PDxO cohort"
   ]
  },
  {
   "cell_type": "code",
   "execution_count": null,
   "metadata": {},
   "outputs": [],
   "source": [
    "ORIGINAL_PDXO_IDS = [\n",
    "    \"HCI001\",\n",
    "    \"HCI002\",\n",
    "    \"HCI003\",\n",
    "    \"HCI005\",\n",
    "    \"HCI008\",\n",
    "    \"HCI010\",\n",
    "    \"HCI011\",\n",
    "    \"HCI012\",\n",
    "    \"HCI015\",\n",
    "    \"HCI016\",\n",
    "    \"HCI017\",\n",
    "    \"HCI019\",\n",
    "    \"HCI023\",\n",
    "    \"HCI024\",\n",
    "    \"HCI025\",\n",
    "    \"HCI027\",\n",
    "]"
   ]
  },
  {
   "cell_type": "code",
   "execution_count": null,
   "metadata": {},
   "outputs": [],
   "source": [
    "original_pdxo_ensembl_metrics = (\n",
    "    model_results_df\n",
    "    .query(\"model in ['DeepCDR', 'HiDRA', 'ScreenDL-PT']\")\n",
    "    .groupby([\"model\", \"drug_id\", \"cell_id\"])\n",
    "    .aggregate({\"y_true\": \"first\", \"y_pred\": lambda x: stats.trim_mean(x, 0.2)})\n",
    "    .groupby([\"model\", \"drug_id\"])\n",
    "    .apply(lambda g: eval_utils.pcorr(g))\n",
    "    .to_frame(\"pcc\")\n",
    "    .reset_index()\n",
    ")\n",
    "\n",
    "original_pdxo_ensembl_metrics.groupby(\"model\")[\"pcc\"].describe().loc[MODELS[:3]]"
   ]
  },
  {
   "cell_type": "code",
   "execution_count": null,
   "metadata": {},
   "outputs": [],
   "source": [
    "BOXPLOT_CONFIG = {\n",
    "    \"size\": 30,\n",
    "    \"median\": alt.MarkConfig(fill=\"black\"),\n",
    "    \"box\": alt.MarkConfig(stroke=\"black\"),\n",
    "    \"ticks\": alt.MarkConfig(size=10),\n",
    "    \"outliers\": alt.MarkConfig(stroke=\"black\", size=15, strokeWidth=1.5),\n",
    "}\n",
    "\n",
    "AXIS_CONFIG = {\n",
    "    \"titleFont\": \"arial\",\n",
    "    \"titleFontStyle\": \"regular\",\n",
    "    \"labelFont\": \"arial\",\n",
    "    \"tickColor\": \"black\",\n",
    "    \"domainColor\": \"black\",\n",
    "}"
   ]
  },
  {
   "cell_type": "code",
   "execution_count": null,
   "metadata": {},
   "outputs": [],
   "source": [
    "def configure_chart(chart: alt.Chart) -> alt.Chart:\n",
    "    \"\"\"Configures boxplot for viewing.\"\"\"\n",
    "    return (\n",
    "        chart.configure_view(strokeOpacity=0)\n",
    "        .configure_axis(**AXIS_CONFIG)\n",
    "        .configure_header(labelFont=\"arial\")\n",
    "    )"
   ]
  },
  {
   "cell_type": "code",
   "execution_count": null,
   "metadata": {},
   "outputs": [],
   "source": [
    "original_pdxo_boxes = (\n",
    "    alt.Chart(\n",
    "        original_pdxo_ensembl_metrics,\n",
    "        width=40 * original_pdxo_ensembl_metrics[\"model\"].nunique(),\n",
    "        height=250,\n",
    "    )\n",
    "    .mark_boxplot(**BOXPLOT_CONFIG)\n",
    "    .encode(\n",
    "        alt.X(\"model:N\")\n",
    "        .axis(labelAngle=-45, labelPadding=5)\n",
    "        .scale(paddingOuter=0.1)\n",
    "        .sort(MODELS)\n",
    "        .title(None),\n",
    "        alt.Y(\"pcc:Q\")\n",
    "        .axis(titlePadding=10, tickCount=5, grid=False)\n",
    "        .scale(domain=[-1, 1])\n",
    "        .title(\"Pearson Correlation\"),\n",
    "        alt.Color(\"model:N\", legend=None, scale=MODEL_COLOR_SCALE),\n",
    "    )\n",
    ")\n",
    "\n",
    "configure_chart(original_pdxo_boxes)"
   ]
  },
  {
   "cell_type": "markdown",
   "metadata": {},
   "source": [
    "## Performance across all PDxO-drug pairs"
   ]
  },
  {
   "cell_type": "code",
   "execution_count": null,
   "metadata": {},
   "outputs": [],
   "source": [
    "old_tumors = model_results_df[model_results_df[\"model\"] == \"HiDRA\"][\"cell_id\"]"
   ]
  },
  {
   "cell_type": "code",
   "execution_count": null,
   "metadata": {},
   "outputs": [],
   "source": [
    "pdxo_fold_metrics = model_results_df.groupby([\"model\", \"fold\", \"drug_id\"]).apply(\n",
    "    lambda g: eval_utils.pcorr(g, min_obs=10)\n",
    ")\n",
    "\n",
    "pdxo_agg_metrics = (\n",
    "    pdxo_fold_metrics.groupby([\"model\", \"drug_id\"])\n",
    "    .mean()\n",
    "    .to_frame(\"pcc\")\n",
    "    .reset_index()\n",
    "    .assign(\n",
    "        drug_type=lambda df: df[\"drug_id\"].map(drug_to_type),\n",
    "        pathway=lambda df: df[\"drug_id\"].map(drug_to_pathway),\n",
    "    )\n",
    ")\n",
    "\n",
    "pdxo_agg_metrics.groupby(\"model\")[\"pcc\"].describe().loc[MODELS]"
   ]
  },
  {
   "cell_type": "code",
   "execution_count": null,
   "metadata": {},
   "outputs": [],
   "source": [
    "# confirm that the same 12 drugs were screened for each SA ensemble member\n",
    "num_screened_drugs_per_tumor = (\n",
    "    model_results_df.query(\"was_screened == True\")\n",
    "    .groupby(\"cell_id\")[\"drug_id\"]\n",
    "    .nunique()\n",
    "    .value_counts()\n",
    ")\n",
    "\n",
    "assert num_screened_drugs_per_tumor.index.nunique() == 1\n",
    "assert num_screened_drugs_per_tumor.index[0] == conf.screenahead.opt.n_drugs"
   ]
  },
  {
   "cell_type": "code",
   "execution_count": null,
   "metadata": {},
   "outputs": [],
   "source": [
    "# here, we consider ScreenDL as an ensemble model trained on different samples of the\n",
    "# cell line data -> we take the mean of ten model predictions as the predicted value\n",
    "\n",
    "ensembl_metrics = (\n",
    "    model_results_df\n",
    "    .groupby([\"model\", \"drug_id\", \"cell_id\"])\n",
    "    .aggregate({\"y_true\": \"first\", \"y_pred\": lambda x: stats.trim_mean(x, 0.2)})\n",
    "    .groupby([\"model\", \"drug_id\"])\n",
    "    .apply(lambda g: eval_utils.pcorr(g, min_obs=10))\n",
    "    .to_frame(\"pcc\")\n",
    "    .reset_index()\n",
    "    .assign(\n",
    "        drug_type=lambda df: df[\"drug_id\"].map(drug_to_type),\n",
    "        pathway=lambda df: df[\"drug_id\"].map(drug_to_pathway),\n",
    "        is_ood_drug=lambda df: ~df[\"drug_id\"].isin(cell_ds.drug_ids),\n",
    "    )\n",
    ")\n",
    "\n",
    "ensembl_metrics.groupby(\"model\")[\"pcc\"].describe().loc[MODELS]"
   ]
  },
  {
   "cell_type": "code",
   "execution_count": null,
   "metadata": {},
   "outputs": [],
   "source": [
    "top_pt_ood_drugs = ensembl_metrics.query(\n",
    "    \"model == 'ScreenDL-PT' and is_ood_drug == True\"\n",
    ").sort_values(\"pcc\", ascending=False)\n",
    "\n",
    "top_pt_ood_drugs.head(15)"
   ]
  },
  {
   "cell_type": "code",
   "execution_count": null,
   "metadata": {},
   "outputs": [],
   "source": [
    "ensemble_metrics_no_ood_drugs = ensembl_metrics.query(\"drug_id in @cell_ds.drug_ids\")\n",
    "ensemble_metrics_no_ood_drugs.groupby(\"model\")[\"pcc\"].describe().loc[MODELS]"
   ]
  },
  {
   "cell_type": "code",
   "execution_count": null,
   "metadata": {},
   "outputs": [],
   "source": [
    "temp = ensembl_metrics.set_index([\"drug_id\", \"model\"])[\"pcc\"].unstack()\n",
    "\n",
    "m1 = \"ScreenDL-PT\"\n",
    "m2 = \"ScreenDL-FT\"\n",
    "X = temp[[m1, m2]].dropna()\n",
    "\n",
    "x1 = X[m1]\n",
    "x2 = X[m2]\n",
    "\n",
    "deltas = (x2 - x1)\n",
    "print(f\"Mean Delta: {deltas.mean()}\")\n",
    "print(f\"No. Improved: {(deltas > 0).sum():.2f}\")\n",
    "print(f\"Pct. Improved: {(deltas > 0).sum() / len(deltas) * 100:.2f}\")"
   ]
  },
  {
   "cell_type": "markdown",
   "metadata": {},
   "source": [
    "### High confidence drugs"
   ]
  },
  {
   "cell_type": "code",
   "execution_count": null,
   "metadata": {},
   "outputs": [],
   "source": [
    "summarize_high_conf_drugs = lambda df: pd.Series(\n",
    "    {\"n_drugs\": df.shape[0], \"n_high_conf_drugs\": df[df[\"pcc\"] >= 0.5].shape[0]}\n",
    ")"
   ]
  },
  {
   "cell_type": "code",
   "execution_count": null,
   "metadata": {},
   "outputs": [],
   "source": [
    "sa_ensembl_metrics = ensembl_metrics.query(\"model.str.contains('ScreenDL-SA')\")\n",
    "\n",
    "sa_ensembl_metrics.groupby(\"model\").apply(summarize_high_conf_drugs).dropna().assign(\n",
    "    pct_high_conf=lambda df: round(100 * df[\"n_high_conf_drugs\"] / df[\"n_drugs\"], 2)\n",
    ")"
   ]
  },
  {
   "cell_type": "code",
   "execution_count": null,
   "metadata": {},
   "outputs": [],
   "source": [
    "source = (\n",
    "    sa_ensembl_metrics.query(\"model == 'ScreenDL-SA (ALL)'\")\n",
    "    .query(\"pcc >= 0.5\")\n",
    "    .assign(drug_name=lambda df: df[\"drug_id\"].map(lambda x: FIXED_DRUG_NAMES.get(x, x)))\n",
    ")\n",
    "\n",
    "color_domain = list(source.sort_values(\"pcc\", ascending=False)[\"pathway\"].unique())\n",
    "# color_domain = list(source[\"pathway\"].sort_values().unique())\n",
    "\n",
    "high_conf_drugs_chart_all = (\n",
    "    alt.Chart(source)\n",
    "    .mark_bar(stroke=\"black\", size=10.5, strokeWidth=1, opacity=1)\n",
    "    .encode(\n",
    "        alt.X(\"drug_name:N\", sort=\"-y\")\n",
    "        .axis(domainColor=\"black\", labelAngle=-65)\n",
    "        .scale(paddingOuter=0.15)\n",
    "        .title(None),\n",
    "        alt.Y(\"pcc:Q\")\n",
    "        .axis(grid=False, tickCount=5, domainColor=\"black\", titlePadding=10)\n",
    "        .scale(domain=(0.0, 1.0))\n",
    "        .title(\"Pearson Correlation\"),\n",
    "        alt.Color(\"pathway:N\")\n",
    "        .scale(domain=color_domain, scheme=\"tableau20\")\n",
    "        .legend(columns=4, orient=\"bottom\", offset=15)\n",
    "        .title(None),\n",
    "    )\n",
    "    .properties(height=170, width=12.5 * source.shape[0])\n",
    ")\n",
    "\n",
    "configure_chart(high_conf_drugs_chart_all)"
   ]
  },
  {
   "cell_type": "markdown",
   "metadata": {},
   "source": [
    "### Performance boxplots"
   ]
  },
  {
   "cell_type": "code",
   "execution_count": null,
   "metadata": {},
   "outputs": [],
   "source": [
    "temp_ = ensemble_metrics_no_ood_drugs.set_index([\"drug_id\", \"model\"])[\"pcc\"].unstack()[MODELS]\n",
    "\n",
    "m1 = \"ScreenDL-PT\"\n",
    "m2 = \"ScreenDL-FT\"\n",
    "\n",
    "X = temp_[[m1, m2]].dropna()\n",
    "stats.wilcoxon(X[m1], X[m2])"
   ]
  },
  {
   "cell_type": "code",
   "execution_count": null,
   "metadata": {},
   "outputs": [],
   "source": [
    "source = ensemble_metrics_no_ood_drugs.copy()\n",
    "\n",
    "boxes_all = (\n",
    "    alt.Chart(source, width=37 * len(MODELS), height=220)\n",
    "    .mark_boxplot(**BOXPLOT_CONFIG)\n",
    "    .encode(\n",
    "        alt.X(\"model:N\").axis(labelAngle=-45, labelPadding=5).sort(MODELS).title(None),\n",
    "        alt.Y(\"pcc:Q\")\n",
    "        .axis(titlePadding=10, tickCount=4, grid=False)\n",
    "        .scale(domain=[-0.8, 1])\n",
    "        .title(\"Pearson Correlation\"),\n",
    "        alt.Color(\"model:N\", scale=MODEL_COLOR_SCALE).legend(None),\n",
    "    )\n",
    ")\n",
    "\n",
    "boxes_types = (\n",
    "    alt.Chart(source.dropna(subset=[\"drug_type\"]), width=33 * 2, height=220)\n",
    "    .mark_boxplot(**BOXPLOT_CONFIG)\n",
    "    .encode(\n",
    "        alt.X(\"drug_type:N\")\n",
    "        .axis(labelAngle=-45, labelPadding=5, orient=\"bottom\")\n",
    "        .sort([\"Targeted\", \"Chemo\"])\n",
    "        .title(None),\n",
    "        alt.Y(\"pcc:Q\").axis(None).scale(domain=[-0.8, 1]).title(None),\n",
    "        alt.Color(\"model:N\", scale=MODEL_COLOR_SCALE).legend(None),\n",
    "        alt.Column(\"model:N\").header(orient=\"top\").spacing(10).sort(MODELS).title(None),\n",
    "    )\n",
    ")\n",
    "\n",
    "ensemble_boxes = alt.hconcat(boxes_all, boxes_types, spacing=-5)\n",
    "configure_chart(ensemble_boxes)"
   ]
  },
  {
   "cell_type": "markdown",
   "metadata": {},
   "source": [
    "### Performance stratified by ID vs OOD drugs"
   ]
  },
  {
   "cell_type": "code",
   "execution_count": null,
   "metadata": {},
   "outputs": [],
   "source": [
    "source = ensembl_metrics.copy()\n",
    "source[\"screened_in_cells\"] = source[\"is_ood_drug\"].map({True: \"No\", False: \"Yes\"})\n",
    "\n",
    "boxes_ood_vs_id_all_drugs = (\n",
    "    alt.Chart(source, width=37 * 2, height=250)\n",
    "    .mark_boxplot(**BOXPLOT_CONFIG)\n",
    "    .encode(\n",
    "        alt.X(\"screened_in_cells:N\")\n",
    "        .axis(labelAngle=0, labelPadding=5, orient=\"bottom\")\n",
    "        .sort([\"No\", \"Yes\"])\n",
    "        .title(None),\n",
    "        alt.Y(\"pcc:Q\")\n",
    "        .axis(grid=False, tickCount=6)\n",
    "        .scale(domain=[-0.8, 1])\n",
    "        .title(\"Pearson Correlation\"),\n",
    "        alt.Color(\"model:N\", scale=MODEL_COLOR_SCALE).legend(None),\n",
    "        alt.Column(\"model:N\").header(orient=\"top\").spacing(10).sort(MODELS).title(None),\n",
    "    )\n",
    ")\n",
    "\n",
    "configure_chart(boxes_ood_vs_id_all_drugs)"
   ]
  },
  {
   "cell_type": "code",
   "execution_count": null,
   "metadata": {},
   "outputs": [],
   "source": [
    "m1 = \"ScreenDL-PT\"\n",
    "m2 = \"ScreenDL-FT\"\n",
    "for ood_status, group in ensembl_metrics.groupby(\"is_ood_drug\"):\n",
    "    print(f\"OOD: {ood_status}\")\n",
    "    temp = group.set_index([\"drug_id\", \"model\"])[\"pcc\"].unstack()\n",
    "    X = temp[[m1, m2]].dropna()\n",
    "    x1, x2 = X[m1], X[m2]\n",
    "    deltas = (x2 - x1)\n",
    "    print(f\"Mean Delta: {deltas.mean()}\")\n",
    "    print(f\"No. Improved: {(deltas > 0).sum():.2f}\")\n",
    "    print(f\"Pct. Improved: {(deltas > 0).sum() / len(deltas) * 100:.2f}\\n\")"
   ]
  },
  {
   "cell_type": "code",
   "execution_count": null,
   "metadata": {},
   "outputs": [],
   "source": [
    "# We also observed a marked improvement in predictions for OOD drugs, with a "
   ]
  },
  {
   "cell_type": "code",
   "execution_count": null,
   "metadata": {},
   "outputs": [],
   "source": [
    "# NOTE: we would expect ScreenAhead not to work for OOD drugs as well unless they have\n",
    "# high chemical similarity to an existing drug and the chemical similarity correlates\n",
    "# with similar biological function - we may get some benefit from FT here"
   ]
  },
  {
   "cell_type": "code",
   "execution_count": null,
   "metadata": {},
   "outputs": [],
   "source": [
    "# TODO: add comparison showing in distribution vs OOD performance in extended data figure\n",
    "# TODO: show all high-confidence drugs\n",
    "# TODO: add pattern showing whether the drug was in vs out of distribution for the high-confidence drugs\n",
    "# TODO: show auROC and response rate for all drugs"
   ]
  },
  {
   "cell_type": "markdown",
   "metadata": {},
   "source": [
    "### Performance stratified by drug mechanism"
   ]
  },
  {
   "cell_type": "code",
   "execution_count": null,
   "metadata": {},
   "outputs": [],
   "source": [
    "pathway_counts = (\n",
    "    ensembl_metrics.groupby([\"model\", \"pathway\"])[\"drug_id\"]\n",
    "    .nunique()\n",
    "    .unstack(0)\n",
    "    .dropna()\n",
    "    .min(axis=1)\n",
    ")\n",
    "keep_pathways = pathway_counts[pathway_counts >= 2].index\n",
    "\n",
    "median_pathway_metrics = (\n",
    "    ensembl_metrics.query(\"pathway in @keep_pathways\")\n",
    "    .groupby([\"model\", \"pathway\"])[\"pcc\"]\n",
    "    .agg([\"median\", \"size\"])\n",
    "    .reset_index()\n",
    ")\n",
    "\n",
    "pathway_order = (\n",
    "    median_pathway_metrics.query(\"model == 'ScreenDL-SA (ALL)'\")\n",
    "    .sort_values(\"median\", ascending=False)[\"pathway\"]\n",
    "    .to_list()\n",
    ")"
   ]
  },
  {
   "cell_type": "code",
   "execution_count": null,
   "metadata": {},
   "outputs": [],
   "source": [
    "circles = (\n",
    "    alt.Chart(median_pathway_metrics, width=220, height=15 * len(pathway_order))\n",
    "    .mark_circle(size=80, opacity=0.8, stroke=\"black\", strokeWidth=0.5)\n",
    "    .encode(\n",
    "        alt.X(\n",
    "            \"median:Q\",\n",
    "            axis=alt.Axis(\n",
    "                titlePadding=10,\n",
    "                values=[-0.2, 0.0, 0.2, 0.4, 0.6, 0.8],\n",
    "                grid=False,\n",
    "            ),\n",
    "            scale=alt.Scale(domain=(-0.3, 0.9)),\n",
    "            title=\"Median Pearson Correlation Per Drug\",\n",
    "        ),\n",
    "        alt.Y(\"pathway:N\", sort=pathway_order, title=None),\n",
    "        alt.Color(\n",
    "            \"model:N\",\n",
    "            scale=MODEL_COLOR_SCALE,\n",
    "            legend=alt.Legend(\n",
    "                orient=\"top\",\n",
    "                title=None,\n",
    "                symbolStrokeWidth=1,\n",
    "                columns=3,\n",
    "                direction=\"vertical\",\n",
    "            ),\n",
    "        ),\n",
    "        tooltip=[\"median:Q\", \"pathway:N\"],\n",
    "    )\n",
    ")\n",
    "\n",
    "bars = alt.Chart(\n",
    "    median_pathway_metrics.query(\"model == 'ScreenDL-PT'\"),\n",
    "    width=50,\n",
    "    height=15 * len(pathway_order),\n",
    ").encode(\n",
    "    alt.X(\n",
    "        \"size:Q\",\n",
    "        axis=alt.Axis(grid=False, values=[0, 15], titlePadding=10),\n",
    "        scale=alt.Scale(domain=(0, 15)),\n",
    "        title=\"No. Drugs\",\n",
    "    ),\n",
    "    alt.Y(\n",
    "        \"pathway:N\",\n",
    "        axis=alt.Axis(ticks=False, labels=False, offset=0, domainOpacity=0),\n",
    "        sort=pathway_order,\n",
    "        title=None,\n",
    "    ),\n",
    "    text=\"size\",\n",
    ")\n",
    "\n",
    "bars = bars.mark_bar(stroke=\"black\", strokeWidth=0.5, size=13, color=\"#999999\")\n",
    "bars += bars.mark_text(align=\"left\", dx=4, fontSize=10)\n",
    "\n",
    "pathway_performance_chart = alt.hconcat(circles, bars, spacing=5)\n",
    "configure_chart(pathway_performance_chart)"
   ]
  },
  {
   "cell_type": "code",
   "execution_count": null,
   "metadata": {},
   "outputs": [],
   "source": [
    "n_pathways = median_pathway_metrics[\"pathway\"].nunique()\n",
    "best_model_by_pathway = (\n",
    "    median_pathway_metrics.query(\"~model.str.contains('ScreenDL-SA')\")\n",
    "    .groupby(\"pathway\")\n",
    "    .apply(lambda g: g[\"model\"].loc[g[\"median\"].idxmax()])\n",
    "    .value_counts()\n",
    ")\n",
    "best_model_by_pathway / n_pathways * 100"
   ]
  },
  {
   "cell_type": "code",
   "execution_count": null,
   "metadata": {},
   "outputs": [],
   "source": [
    "# fraction of pathways for which fine-tuning improved performance (FT vs PT)\n",
    "temp = median_pathway_metrics.set_index([\"pathway\", \"model\"])[\"median\"].unstack()\n",
    "((temp[\"ScreenDL-FT\"] - temp[\"ScreenDL-PT\"]) > 0).sum() / temp.shape[0]"
   ]
  },
  {
   "cell_type": "markdown",
   "metadata": {},
   "source": [
    "### auROC analysis"
   ]
  },
  {
   "cell_type": "code",
   "execution_count": null,
   "metadata": {},
   "outputs": [],
   "source": [
    "def compute_roc_auc(y_true: pd.Series, y_pred: pd.Series, min_obs: int = 10) -> float:\n",
    "    if y_true.nunique() <= 1 or len(y_true) < min_obs:\n",
    "        return np.nan\n",
    "    return skm.roc_auc_score(y_true, -1 * y_pred)"
   ]
  },
  {
   "cell_type": "code",
   "execution_count": null,
   "metadata": {},
   "outputs": [],
   "source": [
    "ensembl_results_df = (\n",
    "    model_results_df.groupby([\"model\", \"drug_id\", \"cell_id\"])\n",
    "    .agg({\"y_true\": \"first\", \"y_pred\": lambda x: stats.trim_mean(x, 0.2)})\n",
    "    .reset_index()\n",
    ")"
   ]
  },
  {
   "cell_type": "code",
   "execution_count": null,
   "metadata": {},
   "outputs": [],
   "source": [
    "y_true_df = (\n",
    "    ensembl_results_df[[\"model\", \"cell_id\", \"drug_id\"]]\n",
    "    .merge(pdmc_ds.obs, on=[\"cell_id\", \"drug_id\"])\n",
    "    .assign(\n",
    "        label=lambda df: df.groupby([\"model\", \"drug_id\"])[\"label\"].transform(stats.zscore)\n",
    "    )\n",
    ")\n",
    "\n",
    "y_true_df[\"y_true_class\"] = (\n",
    "    y_true_df.groupby([\"model\", \"drug_id\"])[\"label\"]\n",
    "    .transform(lambda x: x < x.quantile(0.3))\n",
    "    .astype(int)\n",
    ")\n",
    "\n",
    "ensembl_results_df = ensembl_results_df.merge(\n",
    "    y_true_df.drop(columns=[\"label\", \"id\"]), on=[\"model\", \"cell_id\", \"drug_id\"]\n",
    ")"
   ]
  },
  {
   "cell_type": "code",
   "execution_count": null,
   "metadata": {},
   "outputs": [],
   "source": [
    "ensembl_auroc_metrics = (\n",
    "    ensembl_results_df.groupby([\"model\", \"drug_id\"])\n",
    "    .apply(lambda g: compute_roc_auc(g[\"y_true_class\"], g[\"y_pred\"]))\n",
    "    .to_frame(name=\"auROC\")\n",
    "    .reset_index()\n",
    ")\n",
    "\n",
    "ensembl_auroc_metrics.groupby(\"model\")[\"auROC\"].describe().loc[MODELS]"
   ]
  },
  {
   "cell_type": "code",
   "execution_count": null,
   "metadata": {},
   "outputs": [],
   "source": [
    "ensembl_auroc_metrics_no_ood_drugs = (\n",
    "    ensembl_results_df.query(\"drug_id in @cell_ds.drug_ids\")\n",
    "    .groupby([\"model\", \"drug_id\"])\n",
    "    .apply(lambda g: compute_roc_auc(g[\"y_true_class\"], g[\"y_pred\"]))\n",
    "    .to_frame(name=\"auROC\")\n",
    "    .reset_index()\n",
    ")\n",
    "\n",
    "ensembl_auroc_metrics_no_ood_drugs.groupby(\"model\")[\"auROC\"].describe().loc[MODELS]"
   ]
  },
  {
   "cell_type": "code",
   "execution_count": null,
   "metadata": {},
   "outputs": [],
   "source": [
    "X = ensembl_auroc_metrics.set_index([\"model\", \"drug_id\"])[\"auROC\"].unstack(0).dropna()\n",
    "\n",
    "res = []\n",
    "for m1, m2 in itertools.combinations(MODELS, 2):\n",
    "    x1 = X[m1]\n",
    "    x2 = X[m2]\n",
    "    s, p = stats.wilcoxon(x1, x2)\n",
    "    res.append([m1, m2, s, p])\n",
    "\n",
    "cols = [\"m1\", \"m2\", \"statistic\", \"pvalue\"]\n",
    "res = pd.DataFrame(res, columns=cols).set_index([\"m1\", \"m2\"])\n",
    "res.round(3)"
   ]
  },
  {
   "cell_type": "code",
   "execution_count": null,
   "metadata": {},
   "outputs": [],
   "source": [
    "bars = (\n",
    "    alt.Chart(ensembl_auroc_metrics)\n",
    "    .mark_bar(stroke=\"black\", size=17, strokeWidth=1)\n",
    "    .encode(\n",
    "        alt.X(\"median(auROC):Q\")\n",
    "        .axis(grid=False, tickCount=5, domainColor=\"black\", titlePadding=10)\n",
    "        .scale(domain=(0.4, 0.9))\n",
    "        .title(\"auROC\"),\n",
    "        alt.Y(\"model:N\")\n",
    "        .axis(domainColor=\"black\")\n",
    "        .scale(domain=list(reversed(MODELS)), paddingOuter=0.15)\n",
    "        .title(None),\n",
    "        alt.Color(\"model:N\", scale=MODEL_COLOR_SCALE).legend(None),\n",
    "    )\n",
    "    .properties(width=275, height=20 * len(MODELS))\n",
    ")\n",
    "\n",
    "\n",
    "rule = (\n",
    "    alt.Chart(pd.DataFrame({\"x\": [0.5]}))\n",
    "    .mark_rule(stroke=\"black\", strokeDash=[4, 3], strokeWidth=1.25)\n",
    "    .encode(x=\"x:Q\")\n",
    ")\n",
    "\n",
    "error_bars = (\n",
    "    alt.Chart(ensembl_auroc_metrics)\n",
    "    .mark_errorbar(\n",
    "        extent=\"iqr\", ticks=alt.MarkConfig(size=5, color=\"black\", strokeWidth=1)\n",
    "    )\n",
    "    .encode(alt.Y(\"model:N\"), alt.X(\"auROC:Q\"))\n",
    ")\n",
    "\n",
    "auroc_metrics_chart = alt.layer(bars, error_bars, rule)\n",
    "configure_chart(auroc_metrics_chart)"
   ]
  },
  {
   "cell_type": "markdown",
   "metadata": {},
   "source": [
    "### Response rate analysis"
   ]
  },
  {
   "cell_type": "code",
   "execution_count": null,
   "metadata": {},
   "outputs": [],
   "source": [
    "random_response_rates = []\n",
    "for _ in range(1000):\n",
    "    selected_random = y_true_df.groupby(\"cell_id\").sample(1)\n",
    "    response_rate = selected_random[\"y_true_class\"].sum() / len(selected_random)\n",
    "    random_response_rates.append(response_rate)\n",
    "\n",
    "random_response_rate = np.mean(random_response_rates)\n",
    "print(f\"Random Response Rate {random_response_rate:.2f}\")"
   ]
  },
  {
   "cell_type": "code",
   "execution_count": null,
   "metadata": {},
   "outputs": [],
   "source": [
    "def select_best_therapy(df: pd.DataFrame, on_: str = \"y_pred\") -> pd.DataFrame:\n",
    "    return df.loc[df[on_].idxmin()]"
   ]
  },
  {
   "cell_type": "code",
   "execution_count": null,
   "metadata": {},
   "outputs": [],
   "source": [
    "ensembl_selected_drugs = (\n",
    "    ensembl_results_df.groupby([\"model\", \"cell_id\"], as_index=False)\n",
    "    .apply(lambda g: g.loc[g[\"y_pred\"].idxmin()])\n",
    "    .reset_index(drop=True)\n",
    ")\n",
    "\n",
    "ensembl_response_rates = (\n",
    "    ensembl_selected_drugs\n",
    "    .groupby(\"model\")[\"y_true_class\"]\n",
    "    .apply(lambda x: x.sum() / len(x))\n",
    "    .to_frame(name=\"response_rate\")\n",
    "    .loc[MODELS]\n",
    "    .reset_index()\n",
    "    .query(\"model != 'ScreenDL-SA (NBS)'\")\n",
    ")\n",
    "\n",
    "ensembl_response_rates"
   ]
  },
  {
   "cell_type": "code",
   "execution_count": null,
   "metadata": {},
   "outputs": [],
   "source": [
    "sa_selected_screened_counts = (\n",
    "    ensembl_selected_drugs.query(\"model == 'ScreenDL-SA (ALL)'\")\n",
    "    .merge(model_results_df, on=[\"model\", \"cell_id\", \"drug_id\"])\n",
    "    .drop_duplicates(subset=\"cell_id\")[\"was_screened\"]\n",
    "    .value_counts()\n",
    ")\n",
    "\n",
    "sa_selected_screened_counts"
   ]
  },
  {
   "cell_type": "code",
   "execution_count": null,
   "metadata": {},
   "outputs": [],
   "source": [
    "temp = ensembl_response_rates.set_index(\"model\")[\"response_rate\"]\n",
    "x1 = temp.loc[\"ScreenDL-PT\"]\n",
    "x2 = temp.loc[\"ScreenDL-FT\"]\n",
    "(x2 - x1) / x1 * 100"
   ]
  },
  {
   "cell_type": "code",
   "execution_count": null,
   "metadata": {},
   "outputs": [],
   "source": [
    "y_order = MODELS[:-2] + MODELS[-1:]\n",
    "\n",
    "base = alt.Chart(ensembl_response_rates)\n",
    "\n",
    "bars = (\n",
    "    base.mark_bar(stroke=\"black\", size=17, strokeWidth=1)\n",
    "    .encode(\n",
    "        alt.X(\"mean(response_rate):Q\")\n",
    "        .axis(grid=False, tickCount=4, domainColor=\"black\", titlePadding=10, format=\"%\")\n",
    "        .scale(domain=(0, 0.8))\n",
    "        .title(\"Response Rate (%)\"),\n",
    "        alt.Y(\"model:N\")\n",
    "        .axis(domainColor=\"black\")\n",
    "        .scale(paddingOuter=0.15, domain=list(reversed(y_order)))\n",
    "        .title(None),\n",
    "        alt.Color(\"model:N\", scale=MODEL_COLOR_SCALE).legend(None),\n",
    "    )\n",
    "    .properties(width=275, height=20 * (len(MODELS) - 1))\n",
    ")\n",
    "\n",
    "rule = (\n",
    "    alt.Chart(pd.DataFrame({\"x\": [0.3]}))\n",
    "    .mark_rule(stroke=\"black\", strokeDash=[4, 3], strokeWidth=1.25)\n",
    "    .encode(x=\"x:Q\")\n",
    ")\n",
    "\n",
    "text = base.mark_text(align=\"left\", dx=6, fontSize=10).encode(\n",
    "    alt.X(\"mean(response_rate):Q\").title(\"Response Rate (%)\"),\n",
    "    alt.Y(\"model:N\").title(None),\n",
    "    alt.Text(\"mean(response_rate):Q\", format=\".1%\"),\n",
    ")\n",
    "\n",
    "\n",
    "response_rate_chart = alt.layer(bars, rule, text)\n",
    "\n",
    "configure_chart(response_rate_chart)"
   ]
  },
  {
   "cell_type": "markdown",
   "metadata": {},
   "source": [
    "## PDxO Screening Heatmap"
   ]
  },
  {
   "cell_type": "code",
   "execution_count": null,
   "metadata": {},
   "outputs": [],
   "source": [
    "M = get_response_matrix(pdmc_ds, impute=False).T\n",
    "\n",
    "X = M[[\"Olaparib\", \"Talazoparib\"]].dropna()\n",
    "stats.pearsonr(X[\"Olaparib\"], X[\"Talazoparib\"])"
   ]
  },
  {
   "cell_type": "code",
   "execution_count": null,
   "metadata": {},
   "outputs": [],
   "source": [
    "X = M[[\"Birinapant\", \"Tolinapant\"]].dropna()\n",
    "stats.pearsonr(X[\"Birinapant\"], X[\"Tolinapant\"])"
   ]
  },
  {
   "cell_type": "code",
   "execution_count": null,
   "metadata": {},
   "outputs": [],
   "source": [
    "hr_status = pd.read_csv(root / \"raw/Welm/receptor_status_combined.csv\")\n",
    "\n",
    "hr_status_extras = [\n",
    "    [\"HCI027BR\", \"neg\", \"neg\", \"neg\"],\n",
    "    [\"HCI011E2\", \"pos\", \"pos\", \"neg\"],\n",
    "    [\"HCI017E2\", \"pos\", \"pos\", \"neg\"],\n",
    "    [\"HCI015BGR\", \"neg\", \"neg\", \"neg\"],\n",
    "    [\"HCI015BR\", \"neg\", \"neg\", \"neg\"],\n",
    "    [\"HCI027BS\", \"neg\", \"neg\", \"neg\"],\n",
    "    [\"HCI048CR\", \"pos\", \"neg\", \"neg\"],\n",
    "    [\"HCI054CR\", \"neg\", \"neg\", \"neg\"],\n",
    "    [\"HCI053CR\", \"neg\", \"neg\", \"neg\"],\n",
    "    [\"TOW85\", \"neg\", \"neg\", \"pos\"],\n",
    "    [\"HCI023BR\", \"neg\", \"neg\", \"neg\"],\n",
    "    [\"HCI045VR\", \"neg\", \"neg\", \"neg\"],\n",
    "    [\"HCI064\", \"pos\", \"pos\", \"pos\"],\n",
    "]\n",
    "\n",
    "hr_status = pd.concat(\n",
    "    [hr_status, pd.DataFrame(hr_status_extras, columns=hr_status.columns)]\n",
    ").drop_duplicates()\n",
    "hr_status = hr_status.set_index(\"sample_id\")\n",
    "\n",
    "# https://pdxportal.research.bcm.edu/pdxportal/collections/Breast?dswid=-7519\n",
    "hr_status.loc[\"BCM3277\"] = [\"pos\", \"pos\", \"neg\"]\n",
    "\n",
    "hr_status.head()"
   ]
  },
  {
   "cell_type": "code",
   "execution_count": null,
   "metadata": {},
   "outputs": [],
   "source": [
    "# test for enhanced sensitivity to PI3K/MTOR targeting drugs in ER+ lines\n",
    "pathway_drugs = drug_meta_ext.query(\"target_pathway == 'PI3K/MTOR signaling'\")\n",
    "pathway_drugs = pathway_drugs.index.to_list()\n",
    "\n",
    "pathway_data = (\n",
    "    M.filter(items=pathway_drugs, axis=1)\n",
    "    .melt(ignore_index=False, value_name=\"Zd\")\n",
    "    .dropna()\n",
    "    .reset_index()\n",
    "    .assign(\n",
    "        Zd=lambda df: df.groupby(\"drug_id\")[\"Zd\"].transform(stats.zscore),\n",
    "        ER=lambda df: df[\"cell_id\"].map(hr_status[\"ER\"]),\n",
    "    )\n",
    ")\n",
    "\n",
    "grouped = pathway_data.groupby(\"ER\")[\"Zd\"].agg(list).to_dict()\n",
    "print(stats.mannwhitneyu(grouped[\"neg\"], grouped[\"pos\"]))\n",
    "pathway_data.groupby(\"ER\")[\"Zd\"].describe()"
   ]
  },
  {
   "cell_type": "code",
   "execution_count": null,
   "metadata": {},
   "outputs": [],
   "source": [
    "# test for increased platinum sensitivity in TNBC lines\n",
    "temp_ = (\n",
    "    M[\"Carboplatin\"]\n",
    "    .dropna()\n",
    "    .to_frame(name=\"Zd\")\n",
    "    .transform(stats.zscore)\n",
    "    .join(((hr_status == \"neg\").sum(axis=1) == 3).to_frame(\"is_TNBC\"))\n",
    ")\n",
    "grouped = temp_.groupby(\"is_TNBC\")[\"Zd\"].agg(list).to_dict()\n",
    "print(stats.mannwhitneyu(grouped[True], grouped[False]))\n",
    "temp_.groupby(\"is_TNBC\")[\"Zd\"].describe()"
   ]
  },
  {
   "cell_type": "code",
   "execution_count": null,
   "metadata": {},
   "outputs": [],
   "source": [
    "M = get_response_matrix(pdmc_ds, impute=False).T\n",
    "\n",
    "tumors_per_drug = (~M.isna()).sum()\n",
    "keep_drugs = tumors_per_drug[tumors_per_drug >= M.shape[0] * 0.7].index\n",
    "\n",
    "tumor_na_counts = M[keep_drugs].isna().sum(axis=1)\n",
    "keep_tumors = tumor_na_counts[tumor_na_counts == 0].index\n",
    "\n",
    "M = M.loc[keep_tumors, keep_drugs].transform(stats.zscore).T\n",
    "M.index = M.index.map(lambda x: FIXED_DRUG_NAMES.get(x, x))\n",
    "print(M.shape)"
   ]
  },
  {
   "cell_type": "code",
   "execution_count": null,
   "metadata": {},
   "outputs": [],
   "source": [
    "col_margin_data = (\n",
    "    hr_status.loc[M.columns].dropna()\n",
    "    .melt(ignore_index=False, var_name=\"receptor\", value_name=\"status\")\n",
    "    .reset_index()\n",
    "    .applymap(lambda x: x.upper())\n",
    ")\n",
    "col_margin_data.columns = [\"x\", \"y\", \"value\"]\n",
    "\n",
    "col_margin_y_scale = alt.Scale(domain=(\"ER\", \"PR\", \"HER2\"))\n",
    "col_margin_z_scale = alt.Scale(domain=(\"NEG\", \"POS\"), range=(\"white\", \"black\"))"
   ]
  },
  {
   "cell_type": "code",
   "execution_count": null,
   "metadata": {},
   "outputs": [],
   "source": [
    "row_margin_data = pd.DataFrame(\n",
    "    {\"x\": 1, \"y\": M.index, \"value\": M.index.map(drug_to_pathway)}\n",
    ")\n",
    "row_margin_z_scale = alt.Scale(scheme=\"tableau20\")"
   ]
  },
  {
   "cell_type": "code",
   "execution_count": null,
   "metadata": {},
   "outputs": [],
   "source": [
    "hmap = af.cluster_heatmap(\n",
    "    M,\n",
    "    height=350,\n",
    "    width=760,\n",
    "    row_dendro_size=40,\n",
    "    row_margin_data=row_margin_data,\n",
    "    row_margin_z_scale=row_margin_z_scale,\n",
    "    row_margin_legend_title=\"Target Pathway\",\n",
    "    row_margin_legend_config=alt.LegendConfig(symbolStrokeColor=\"black\"),\n",
    "    col_dendro_size=40,\n",
    "    col_margin_data=col_margin_data,\n",
    "    col_margin_z_scale=col_margin_z_scale,\n",
    "    col_margin_y_scale=col_margin_y_scale,\n",
    "    col_margin_legend_title=\"Receptor Status\",\n",
    "    col_margin_legend_config=alt.LegendConfig(columns=2, symbolStrokeColor=\"black\"),\n",
    "    legend_title=\"Z-Score ln(IC50)\",\n",
    "    legend_config=alt.LegendConfig(\n",
    "        gradientLength=100, gradientThickness=15, direction=\"horizontal\", tickCount=5\n",
    "    ),\n",
    "    legend_spacing=15,\n",
    ")\n",
    "\n",
    "(\n",
    "    hmap.configure_axis(\n",
    "        labelFont=\"arial\", tickColor=\"black\", tickSize=3\n",
    "    ).configure_legend(\n",
    "        titleFont=\"arial\",\n",
    "        titleFontStyle=\"italic\",\n",
    "        titleFontWeight=\"bold\",\n",
    "        labelFont=\"arial\",\n",
    "        labelFontStyle=\"regular\",\n",
    "    )\n",
    ")"
   ]
  },
  {
   "cell_type": "markdown",
   "metadata": {},
   "source": [
    "### Fig 3. ScreenDL achieves accurate response prediction in high-risk/metastatic breast cancer PDxO models"
   ]
  },
  {
   "cell_type": "code",
   "execution_count": null,
   "metadata": {},
   "outputs": [],
   "source": [
    "temp1 = alt.vconcat(ensemble_boxes, high_conf_drugs_chart_all)\n",
    "temp1 = temp1.resolve_scale(color=\"independent\")\n",
    "\n",
    "temp2 = alt.vconcat(\n",
    "    pathway_performance_chart,\n",
    "    auroc_metrics_chart,\n",
    "    response_rate_chart,\n",
    "    spacing=30,\n",
    ")\n",
    "temp2 = temp2.resolve_scale(color=\"independent\")\n",
    "\n",
    "top = hmap\n",
    "bottom = alt.hconcat(temp1, temp2).resolve_legend(color=\"independent\")\n",
    "configure_chart(alt.vconcat(top, bottom, spacing=20)).configure_legend(\n",
    "    titleFontStyle=\"italic\", titleFont=\"arial\", labelFont=\"arial\"\n",
    ")"
   ]
  },
  {
   "cell_type": "markdown",
   "metadata": {},
   "source": [
    "## Performance across common PDxO/drug pairs"
   ]
  },
  {
   "cell_type": "code",
   "execution_count": null,
   "metadata": {},
   "outputs": [],
   "source": [
    "_temp_nbs = (\n",
    "    model_results_common_df.query(\"model == 'ScreenDL-SA (ALL)'\")\n",
    "    .query(\"was_screened == False\")\n",
    "    .assign(model=\"ScreenDL-SA (NBS)\")\n",
    ")\n",
    "\n",
    "model_results_common_df = pd.concat([model_results_common_df, _temp_nbs])"
   ]
  },
  {
   "cell_type": "code",
   "execution_count": null,
   "metadata": {},
   "outputs": [],
   "source": [
    "ensembl_metrics_common = (\n",
    "    model_results_common_df\n",
    "    .groupby([\"model\", \"drug_id\", \"cell_id\"])\n",
    "    .aggregate({\"y_true\": \"first\", \"y_pred\": lambda x: stats.trim_mean(x, 0.2)})\n",
    "    .groupby([\"model\", \"drug_id\"])\n",
    "    .apply(lambda g: eval_utils.pcorr(g, min_obs=10))\n",
    "    .to_frame(\"pcc\")\n",
    "    .reset_index()\n",
    "    .assign(\n",
    "        drug_type=lambda df: df[\"drug_id\"].map(drug_to_type),\n",
    "        pathway=lambda df: df[\"drug_id\"].map(drug_to_pathway),\n",
    "        is_ood_drug=lambda df: ~df[\"drug_id\"].isin(cell_ds.drug_ids),\n",
    "    )\n",
    ")\n",
    "\n",
    "ensembl_metrics_common.groupby(\"model\")[\"pcc\"].describe().loc[MODELS]"
   ]
  },
  {
   "cell_type": "code",
   "execution_count": null,
   "metadata": {},
   "outputs": [],
   "source": [
    "ensemble_metrics_common_no_ood_drugs = ensembl_metrics_common.query(\n",
    "    \"drug_id in @cell_ds.drug_ids\"\n",
    ")\n",
    "ensemble_metrics_common_no_ood_drugs.groupby(\"model\")[\"pcc\"].describe().loc[MODELS]"
   ]
  },
  {
   "cell_type": "code",
   "execution_count": null,
   "metadata": {},
   "outputs": [],
   "source": [
    "source = ensemble_metrics_common_no_ood_drugs.copy()\n",
    "\n",
    "boxes_all = (\n",
    "    alt.Chart(source, width=35 * len(MODELS), height=220)\n",
    "    .mark_boxplot(**BOXPLOT_CONFIG)\n",
    "    .encode(\n",
    "        alt.X(\"model:N\").axis(labelAngle=-45, labelPadding=5).sort(MODELS).title(None),\n",
    "        alt.Y(\"pcc:Q\")\n",
    "        .axis(titlePadding=10, tickCount=4, grid=False)\n",
    "        .scale(domain=[-0.8, 1])\n",
    "        .title(\"Pearson Correlation\"),\n",
    "        alt.Color(\"model:N\", scale=MODEL_COLOR_SCALE).legend(None),\n",
    "    )\n",
    ")\n",
    "\n",
    "boxes_types = (\n",
    "    alt.Chart(source.dropna(subset=[\"drug_type\"]), width=35 * 2, height=220)\n",
    "    .mark_boxplot(**BOXPLOT_CONFIG)\n",
    "    .encode(\n",
    "        alt.X(\"drug_type:N\")\n",
    "        .axis(labelAngle=-45, labelPadding=5, orient=\"bottom\")\n",
    "        .sort([\"Targeted\", \"Chemo\"])\n",
    "        .title(None),\n",
    "        alt.Y(\"pcc:Q\").axis(None).scale(domain=[-0.8, 1]).title(None),\n",
    "        alt.Color(\"model:N\", scale=MODEL_COLOR_SCALE).legend(None),\n",
    "        alt.Column(\"model:N\").header(orient=\"top\").spacing(10).sort(MODELS).title(None),\n",
    "    )\n",
    ")\n",
    "\n",
    "ensemble_boxes_common = alt.hconcat(boxes_all, boxes_types, spacing=-5)\n",
    "configure_chart(ensemble_boxes_common)"
   ]
  },
  {
   "cell_type": "markdown",
   "metadata": {},
   "source": [
    "## ScreenAhead with vs without domain-specific fine-tuning"
   ]
  },
  {
   "cell_type": "code",
   "execution_count": null,
   "metadata": {},
   "outputs": [],
   "source": [
    "path_fmt = \"experiments/pdxo_validation/{0}/{1}/multiruns/{2}\"\n",
    "dataset = \"CellModelPassports-GDSCv1v2-HCI\"\n",
    "model = \"ScreenDL\"\n",
    "date = \"2024-11-27_13-20-41\"\n",
    "\n",
    "run_dir = output_dir / path_fmt.format(dataset, model, date)\n",
    "run_regex = \"*/predictions.csv\"\n",
    "\n",
    "fixed_model_names = {\n",
    "    \"base\": \"ScreenDL-PT\",\n",
    "    \"xfer\": f\"{model}-FT\",\n",
    "    \"screen (fine-tune)\": f\"{model}-SA (+FT)\",\n",
    "    \"screen (no-fine-tune)\": f\"{model}-SA (-FT)\",\n",
    "}\n",
    "\n",
    "# NOTE: predictions are already rescaled for ScreenDL\n",
    "results_df = load_multirun_predictions(run_dir, run_regex, splits=None).assign(\n",
    "    model=lambda df: df[\"model\"].map(fixed_model_names),\n",
    "    was_screened=lambda df: df[\"was_screened\"].fillna(False),\n",
    ")"
   ]
  },
  {
   "cell_type": "code",
   "execution_count": null,
   "metadata": {},
   "outputs": [],
   "source": [
    "results_df = (\n",
    "    results_df.groupby([\"model\", \"drug_id\", \"cell_id\"])\n",
    "    .agg({\"y_true\": \"first\", \"y_pred\": lambda x: stats.trim_mean(x, 0.2)})\n",
    "    .reset_index()\n",
    ")\n",
    "results_df.head()"
   ]
  },
  {
   "cell_type": "code",
   "execution_count": null,
   "metadata": {},
   "outputs": [],
   "source": [
    "MODELS = [\"ScreenDL-PT\", \"ScreenDL-FT\", \"ScreenDL-SA (-FT)\", \"ScreenDL-SA (+FT)\"]\n",
    "\n",
    "MODEL_COLOR_SCALE = alt.Scale(\n",
    "    domain=MODELS,\n",
    "    range=(\"#4C78A8\", \"#B278A2\", \"#89D27A\", \"#5CA453\"),\n",
    ")"
   ]
  },
  {
   "cell_type": "code",
   "execution_count": null,
   "metadata": {},
   "outputs": [],
   "source": [
    "ensembl_pcc_result = (\n",
    "    results_df.groupby([\"model\", \"drug_id\"])\n",
    "    .apply(lambda g: eval_utils.pcorr(g, min_obs=10))\n",
    "    .to_frame(\"pcc\")\n",
    "    .reset_index()\n",
    "    .assign(\n",
    "        drug_type=lambda df: df[\"drug_id\"].map(drug_to_type),\n",
    "        pathway=lambda df: df[\"drug_id\"].map(drug_to_pathway),\n",
    "        is_ood_drug=lambda df: ~df[\"drug_id\"].isin(cell_ds.drug_ids),\n",
    "    )\n",
    ")\n",
    "\n",
    "ensembl_pcc_result.groupby(\"model\")[\"pcc\"].describe().loc[MODELS]"
   ]
  },
  {
   "cell_type": "code",
   "execution_count": null,
   "metadata": {},
   "outputs": [],
   "source": [
    "temp_ = ensembl_pcc_result.set_index([\"drug_id\", \"model\"])[\"pcc\"].unstack().dropna()\n",
    "m1 = \"ScreenDL-SA (-FT)\"\n",
    "m2 = \"ScreenDL-SA (+FT)\"\n",
    "\n",
    "stats.wilcoxon(temp_[m1], temp_[m2])"
   ]
  },
  {
   "cell_type": "code",
   "execution_count": null,
   "metadata": {},
   "outputs": [],
   "source": [
    "source = ensembl_pcc_result.copy()\n",
    "source[\"screened_in_cells\"] = source[\"is_ood_drug\"].map({True: \"No\", False: \"Yes\"})\n",
    "\n",
    "boxes_1 = (\n",
    "    alt.Chart(source, width=35 * len(MODELS), height=250)\n",
    "    .mark_boxplot(**BOXPLOT_CONFIG)\n",
    "    .encode(\n",
    "        alt.X(\"model:N\")\n",
    "        .axis(labelAngle=-45, labelPadding=5)\n",
    "        .sort(MODELS)\n",
    "        .title(None),\n",
    "        alt.Y(\"pcc:Q\")\n",
    "        .axis(tickCount=5, grid=False, titlePadding=10)\n",
    "        .scale(domain=[-1, 1])\n",
    "        .title(\"Pearson Correlation\"),\n",
    "        alt.Color(\"model:N\", scale=MODEL_COLOR_SCALE).legend(None),\n",
    "    )\n",
    ")\n",
    "\n",
    "boxes_2 = (\n",
    "    alt.Chart(source, width=35 * 2, height=250)\n",
    "    .mark_boxplot(**BOXPLOT_CONFIG)\n",
    "    .encode(\n",
    "        alt.X(\"screened_in_cells:N\")\n",
    "        .axis(labelAngle=0, labelPadding=5, orient=\"bottom\")\n",
    "        .sort([\"No\", \"Yes\"])\n",
    "        .title(None),\n",
    "        alt.Y(\"pcc:Q\").axis(None).scale(domain=[-1, 1]).title(\"Pearson Correlation\"),\n",
    "        alt.Color(\"model:N\", scale=MODEL_COLOR_SCALE).legend(None),\n",
    "        alt.Column(\"model:N\").header(orient=\"top\").spacing(10).sort(MODELS).title(None),\n",
    "    )\n",
    ")\n",
    "\n",
    "configure_chart(alt.hconcat(boxes_1, boxes_2, spacing=10))"
   ]
  },
  {
   "cell_type": "code",
   "execution_count": null,
   "metadata": {},
   "outputs": [],
   "source": []
  }
 ],
 "metadata": {
  "kernelspec": {
   "display_name": "cdrpy-tf-cpu-v2",
   "language": "python",
   "name": "python3"
  },
  "language_info": {
   "codemirror_mode": {
    "name": "ipython",
    "version": 3
   },
   "file_extension": ".py",
   "mimetype": "text/x-python",
   "name": "python",
   "nbconvert_exporter": "python",
   "pygments_lexer": "ipython3",
   "version": "3.9.13"
  }
 },
 "nbformat": 4,
 "nbformat_minor": 2
}
