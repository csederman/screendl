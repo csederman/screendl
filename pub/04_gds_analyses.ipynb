{
 "cells": [
  {
   "cell_type": "markdown",
   "metadata": {},
   "source": [
    "# GDS Analyses\n",
    "\n",
    "## Contents\n",
    "\n",
    "- [Data Loading](#data-loading)\n",
    "- [GDS Predicts Response to Individual Therapies in PDMCs](#gds-predicts-response-to-individual-therapies-in-pdmcs)\n",
    "- [GDS Predicts Response to Individual Therapies in Cell Lines](#gds-predicts-response-to-individual-therapies-in-cell-lines)\n",
    "- [ScreenAhead With GDS vs All Drugs](#screenahead-with-gds-vs-all-drugs)"
   ]
  },
  {
   "cell_type": "code",
   "execution_count": null,
   "metadata": {},
   "outputs": [],
   "source": [
    "from __future__ import annotations\n",
    "\n",
    "import random\n",
    "\n",
    "import altair as alt\n",
    "import altair_forge as af\n",
    "import pandas as pd\n",
    "import numpy as np\n",
    "import typing as t\n",
    "import sklearn.metrics as skm\n",
    "\n",
    "from pathlib import Path\n",
    "from scipy import stats\n",
    "\n",
    "from cdrpy.datasets import Dataset\n",
    "from cdrpy.data.preprocess import GroupStandardScaler\n",
    "\n",
    "from screendl import model as screendl\n",
    "from screendl.utils import evaluation as eval_utils"
   ]
  },
  {
   "cell_type": "markdown",
   "metadata": {},
   "source": [
    "## Data Loading"
   ]
  },
  {
   "cell_type": "code",
   "execution_count": null,
   "metadata": {},
   "outputs": [],
   "source": [
    "random.seed(1771)"
   ]
  },
  {
   "cell_type": "code",
   "execution_count": null,
   "metadata": {},
   "outputs": [],
   "source": [
    "root = Path(\"../../../datastore\")"
   ]
  },
  {
   "cell_type": "code",
   "execution_count": null,
   "metadata": {},
   "outputs": [],
   "source": [
    "dataset_dir = root / \"inputs/CellModelPassportsGDSCv1v2HCIv10AllDrugsHallmarkCombat\"\n",
    "\n",
    "drug_meta = pd.read_csv(dataset_dir / \"MetaDrugAnnotations.csv\", index_col=0)\n",
    "drug_encoders = screendl.load_drug_features(\n",
    "    dataset_dir / \"ScreenDL/FeatureMorganFingerprints.csv\"\n",
    ")\n",
    "\n",
    "cell_meta = pd.read_csv(dataset_dir / \"MetaSampleAnnotations.csv\", index_col=0)\n",
    "cell_encoders = screendl.load_cell_features(\n",
    "    dataset_dir / \"ScreenDL/FeatureGeneExpression.csv\"\n",
    ")\n",
    "\n",
    "D = Dataset.from_csv(\n",
    "    dataset_dir / \"LabelsLogIC50.csv\",\n",
    "    cell_encoders=cell_encoders,\n",
    "    drug_encoders=drug_encoders,\n",
    "    cell_meta=cell_meta,\n",
    "    drug_meta=drug_meta,\n",
    "    name=\"CellModelPassportsGDSCHCI\",\n",
    ")\n",
    "\n",
    "cell_ids = D.cell_meta[D.cell_meta[\"domain\"] == \"CELL\"].index\n",
    "pdmc_ids = D.cell_meta[D.cell_meta[\"domain\"] == \"PDMC\"].index\n",
    "\n",
    "cell_ds = D.select_cells(cell_ids, name=\"cell_ds\")\n",
    "pdmc_ds = D.select_cells(pdmc_ids, name=\"pdmc_ds\")\n",
    "\n",
    "print(cell_ds)\n",
    "print(pdmc_ds)"
   ]
  },
  {
   "cell_type": "markdown",
   "metadata": {},
   "source": [
    "## GDS Predicts Response to Individual Therapies in PDMCs"
   ]
  },
  {
   "cell_type": "code",
   "execution_count": null,
   "metadata": {},
   "outputs": [],
   "source": [
    "MODELS = [\"DualGCN\", \"HiDRA\", \"DeepCDR\", \"ScreenDL-PT\", \"ScreenDL-SA (Zd)\", \"ScreenDL-SA (GDS)\"]"
   ]
  },
  {
   "cell_type": "code",
   "execution_count": null,
   "metadata": {},
   "outputs": [],
   "source": [
    "AXIS_CONFIG = {\n",
    "    \"titleFont\": \"arial\",\n",
    "    \"titleFontStyle\": \"regular\",\n",
    "    \"labelFont\": \"arial\",\n",
    "    \"tickColor\": \"black\",\n",
    "    \"domainColor\": \"black\",\n",
    "}\n",
    "\n",
    "MODEL_COLOR_SCALE = alt.Scale(\n",
    "    domain=MODELS,\n",
    "    range=(\"lightgray\", \"darkgray\", \"gray\", \"#4C78A8\", \"#5CA453\", \"#9E765F\"),\n",
    ")\n",
    "\n",
    "BOXPLOT_CONFIG = {\n",
    "    \"size\": 25,\n",
    "    \"median\": alt.MarkConfig(fill=\"black\"),\n",
    "    \"box\": alt.MarkConfig(stroke=\"black\"),\n",
    "    \"ticks\": alt.MarkConfig(size=10),\n",
    "    \"outliers\": alt.MarkConfig(stroke=\"black\", size=15, strokeWidth=1.5),\n",
    "}\n",
    "\n",
    "def configure_chart(chart: alt.Chart) -> alt.Chart:\n",
    "    \"\"\"Configures altair chart for viewing.\"\"\"\n",
    "    return (\n",
    "        chart.configure_view(strokeOpacity=0)\n",
    "        .configure_axis(**AXIS_CONFIG)\n",
    "        .configure_header(labelFont=\"arial\")\n",
    "        .configure_legend(titleFontSize=10, labelFontSize=10)\n",
    "    )"
   ]
  },
  {
   "cell_type": "code",
   "execution_count": null,
   "metadata": {},
   "outputs": [],
   "source": [
    "seed = 123\n",
    "n_pdmcs = 30\n",
    "n_drugs = 60\n",
    "\n",
    "pdmc_obs = pdmc_ds.obs.drop(columns=\"id\").copy()\n",
    "pdmc_obs[\"Zd\"] = pdmc_obs.groupby(\"drug_id\")[\"label\"].transform(stats.zscore)\n",
    "pdmc_obs[\"GDS\"] = pdmc_obs.groupby(\"cell_id\")[\"Zd\"].transform(\"mean\")\n",
    "\n",
    "# sample PDMCs\n",
    "pdmc_obs[\"bin\"] = pd.qcut(pdmc_obs[\"GDS\"], n_pdmcs, labels=range(n_pdmcs)).astype(int)\n",
    "sampled_cells = pdmc_obs.groupby(\"bin\")[\"cell_id\"].sample(1, random_state=123)\n",
    "pdmc_obs_sampled = pdmc_obs.query(\"cell_id in @sampled_cells\")\n",
    "\n",
    "# sample drugs\n",
    "unique_drugs = pdmc_obs_sampled[\"drug_id\"].drop_duplicates()\n",
    "sampled_drugs = unique_drugs.sample(n_drugs, random_state=123)\n",
    "pdmc_obs_sampled = pdmc_obs_sampled.query(\"drug_id in @sampled_drugs\")\n",
    "\n",
    "pdmc_obs_sampled.head()"
   ]
  },
  {
   "cell_type": "code",
   "execution_count": null,
   "metadata": {},
   "outputs": [],
   "source": [
    "points = (\n",
    "    alt.Chart(pdmc_obs_sampled)\n",
    "    .mark_circle(size=50)\n",
    "    .encode(\n",
    "        alt.X(\"GDS:Q\")\n",
    "        .axis(format=\".2\", grid=False, tickCount=5)\n",
    "        .scale()\n",
    "        .title([\"Global Drug Sensitivity\", \"(Mean Z-Score ln(IC50))\"]),\n",
    "        alt.Y(\"Zd:Q\")\n",
    "        .axis(grid=False, tickCount=5)\n",
    "        .scale(domain=(-4, 4))\n",
    "        .title(\"Z-Score ln(IC50)\"),\n",
    "        alt.Color(\"cell_id:N\").sort(\"-x\").legend(None),\n",
    "    )\n",
    ")\n",
    "\n",
    "reg_line = points.transform_regression(\"GDS\", \"Zd\", extent=[-1, 1]).mark_line(\n",
    "    stroke=\"black\", strokeWidth=1.5, strokeDash=[3, 3], point=False\n",
    ")\n",
    "\n",
    "pdmc_gds_chart = (points + reg_line).properties(width=460, height=250)\n",
    "configure_chart(pdmc_gds_chart)"
   ]
  },
  {
   "cell_type": "code",
   "execution_count": null,
   "metadata": {},
   "outputs": [],
   "source": [
    "stats.pearsonr(pdmc_obs[\"Zd\"], pdmc_obs[\"GDS\"])"
   ]
  },
  {
   "cell_type": "markdown",
   "metadata": {},
   "source": [
    "## GDS Predicts Response to Individual Therapies in Cell Lines"
   ]
  },
  {
   "cell_type": "code",
   "execution_count": null,
   "metadata": {},
   "outputs": [],
   "source": [
    "seed = 123\n",
    "n_cells = 30\n",
    "n_drugs = 60\n",
    "\n",
    "cell_obs = cell_ds.obs.drop(columns=\"id\").copy()\n",
    "cell_obs[\"Zd\"] = cell_obs.groupby(\"drug_id\")[\"label\"].transform(stats.zscore)\n",
    "cell_obs[\"GDS\"] = cell_obs.groupby(\"cell_id\")[\"Zd\"].transform(\"mean\")\n",
    "\n",
    "# sample cell lines\n",
    "cell_obs[\"bin\"] = pd.qcut(cell_obs[\"GDS\"], n_cells, labels=range(n_cells)).astype(int)\n",
    "sampled_cells = cell_obs.groupby(\"bin\")[\"cell_id\"].sample(1, random_state=123)\n",
    "cell_obs_sampled = cell_obs.query(\"cell_id in @sampled_cells\")\n",
    "\n",
    "# sample drugs\n",
    "unique_drugs = cell_obs_sampled[\"drug_id\"].drop_duplicates()\n",
    "sampled_drugs = unique_drugs.sample(n_drugs, random_state=123)\n",
    "cell_obs_sampled = cell_obs_sampled.query(\"drug_id in @sampled_drugs\")\n",
    "\n",
    "cell_obs_sampled.head()"
   ]
  },
  {
   "cell_type": "code",
   "execution_count": null,
   "metadata": {},
   "outputs": [],
   "source": [
    "points = (\n",
    "    alt.Chart(cell_obs_sampled)\n",
    "    .mark_circle(size=40)\n",
    "    .encode(\n",
    "        alt.X(\"GDS:Q\")\n",
    "        .axis(format=\".2\", grid=False, tickCount=5)\n",
    "        .scale(domain=(-1.5, 1.5))\n",
    "        .title([\"Global Drug Sensitivity\", \"(Mean Z-Score ln(IC50))\"]),\n",
    "        alt.Y(\"Zd:Q\").axis(grid=False).scale(domain=(-5, 5)).title(\"Z-Score ln(IC50)\"),\n",
    "        alt.Color(\"cell_id:N\").sort(\"-x\").legend(None),\n",
    "    )\n",
    ")\n",
    "\n",
    "reg_line = points.transform_regression(\"GDS\", \"Zd\", extent=[-1.5, 1.5]).mark_line(\n",
    "    stroke=\"black\", strokeWidth=1.5, strokeDash=[3, 3], point=False\n",
    ")\n",
    "\n",
    "cell_gds_chart = (points + reg_line).properties(width=460, height=250)\n",
    "configure_chart(cell_gds_chart)"
   ]
  },
  {
   "cell_type": "code",
   "execution_count": null,
   "metadata": {},
   "outputs": [],
   "source": [
    "stats.pearsonr(cell_obs[\"Zd\"], cell_obs[\"GDS\"])"
   ]
  },
  {
   "cell_type": "markdown",
   "metadata": {},
   "source": [
    "## ScreenAhead With GDS vs All Drugs"
   ]
  },
  {
   "cell_type": "code",
   "execution_count": null,
   "metadata": {},
   "outputs": [],
   "source": [
    "def load_multirun_predictions(\n",
    "    multirun_dir: str | Path, regex: str, splits: list[str] | None = None\n",
    ") -> pd.DataFrame:\n",
    "    \"\"\"Loads predictions from a multirun.\"\"\"\n",
    "    if isinstance(multirun_dir, str):\n",
    "        multirun_dir = Path(multirun_dir)\n",
    "\n",
    "    file_list = multirun_dir.glob(regex)\n",
    "    pred_df = pd.concat(map(pd.read_csv, file_list))\n",
    "\n",
    "    if splits is not None:\n",
    "        pred_df = pred_df[pred_df[\"split_group\"].isin(splits)]\n",
    "\n",
    "    return pred_df"
   ]
  },
  {
   "cell_type": "code",
   "execution_count": null,
   "metadata": {},
   "outputs": [],
   "source": [
    "def rescale_predictions(df: pd.DataFrame) -> pd.DataFrame:\n",
    "    \"\"\"Rescales the predictions based on predictions in the train set.\"\"\"\n",
    "    df_trn = df[df[\"split_group\"] == \"train\"]\n",
    "    df_tst = df[df[\"split_group\"] == \"test\"]\n",
    "\n",
    "    gss = GroupStandardScaler()\n",
    "    df_trn[\"y_true\"] = gss.fit_transform(df_trn[[\"y_true\"]], groups=df_trn[\"drug_id\"])\n",
    "    df_tst[\"y_true\"] = gss.transform(df_tst[[\"y_true\"]], groups=df_tst[\"drug_id\"])\n",
    "\n",
    "    gss = GroupStandardScaler()\n",
    "    df_trn[\"y_pred\"] = gss.fit_transform(df_trn[[\"y_pred\"]], groups=df_trn[\"drug_id\"])\n",
    "    df_tst[\"y_pred\"] = gss.transform(df_tst[[\"y_pred\"]], groups=df_tst[\"drug_id\"])\n",
    "\n",
    "    return pd.concat([df_trn, df_tst])"
   ]
  },
  {
   "cell_type": "code",
   "execution_count": null,
   "metadata": {},
   "outputs": [],
   "source": [
    "model_results: t.Dict[str, pd.DataFrame] = {}\n",
    "output_dir = root / \"outputs\"\n",
    "path_fmt = \"basic/{0}/{1}/multiruns/{2}\"\n",
    "column_mapper = {\"fold\": \"split_id\", \"split\": \"split_group\"}\n",
    "dataset = \"CellModelPassportsGDSCv1v2Hallmark\""
   ]
  },
  {
   "cell_type": "code",
   "execution_count": null,
   "metadata": {},
   "outputs": [],
   "source": [
    "# HiDRA results\n",
    "\n",
    "model = \"HiDRA-legacy\"\n",
    "date = \"2024-04-17_19-29-28\"\n",
    "\n",
    "run_dir = output_dir / path_fmt.format(dataset, model, date)\n",
    "run_regex = \"*/predictions.csv\"\n",
    "\n",
    "model_results[model.split(\"-\")[0]] = (\n",
    "    load_multirun_predictions(run_dir, run_regex, splits=[\"train\", \"test\"])\n",
    "    .rename(columns=column_mapper)\n",
    "    .groupby(\"split_id\", as_index=False)\n",
    "    .apply(rescale_predictions)\n",
    "    .assign(model=model.split(\"-\")[0])\n",
    ")"
   ]
  },
  {
   "cell_type": "code",
   "execution_count": null,
   "metadata": {},
   "outputs": [],
   "source": [
    "# DualGCN results\n",
    "\n",
    "model = \"DualGCN-legacy\"\n",
    "dates = [\n",
    "    # NOTE: exceeded 72 hr maximum timelimit so folds are split over multiple runs\n",
    "    \"2024-04-12_09-31-07\",\n",
    "    \"2024-04-12_09-32-20\",\n",
    "    \"2024-04-14_08-02-47\",\n",
    "    \"2024-04-14_08-03-56\",\n",
    "    \"2024-04-15_16-17-18\",\n",
    "]\n",
    "\n",
    "temp = []\n",
    "for date in dates:\n",
    "    run_dir = output_dir / path_fmt.format(dataset, model, date)\n",
    "    run_regex = \"*/predictions.csv\"\n",
    "    temp.append(load_multirun_predictions(run_dir, run_regex, splits=[\"train\", \"test\"]))\n",
    "\n",
    "model_results[model.split(\"-\")[0]] = (\n",
    "    pd.concat(temp)\n",
    "    .rename(columns=column_mapper)\n",
    "    .groupby(\"split_id\", as_index=False)\n",
    "    .apply(rescale_predictions)\n",
    "    .assign(model=model.split(\"-\")[0])\n",
    ")"
   ]
  },
  {
   "cell_type": "code",
   "execution_count": null,
   "metadata": {},
   "outputs": [],
   "source": [
    "model = \"DeepCDR-legacy\"\n",
    "date = \"2024-04-02_09-27-37\"\n",
    "\n",
    "run_dir = output_dir / path_fmt.format(dataset, model, date)\n",
    "run_regex = \"*/predictions.csv\"\n",
    "\n",
    "model_results[model.split(\"-\")[0]] = (\n",
    "    load_multirun_predictions(run_dir, run_regex, splits=[\"train\", \"test\"])\n",
    "    .rename(columns=column_mapper)\n",
    "    .groupby(\"split_id\", as_index=False)\n",
    "    .apply(rescale_predictions)\n",
    "    .assign(model=model.split(\"-\")[0])\n",
    ")"
   ]
  },
  {
   "cell_type": "code",
   "execution_count": null,
   "metadata": {},
   "outputs": [],
   "source": [
    "model = \"ScreenDL\"\n",
    "date = \"2024-04-18_17-35-37\"\n",
    "\n",
    "path_fmt = \"experiments/sa_mr/{0}/{1}/multiruns/{2}\"\n",
    "run_dir = output_dir / path_fmt.format(dataset, model, date)\n",
    "\n",
    "model_results[model + \"-PT\"] = (\n",
    "    load_multirun_predictions(run_dir, \"*/predictions.csv\", splits=[\"train\", \"test\"])\n",
    "    .groupby(\"split_id\", as_index=False)\n",
    "    .apply(rescale_predictions)\n",
    "    .assign(model=model + \"-PT\")\n",
    ")"
   ]
  },
  {
   "cell_type": "code",
   "execution_count": null,
   "metadata": {},
   "outputs": [],
   "source": [
    "temp_ = model_results[model + \"-PT\"].query(\"split_group == 'train'\")\n",
    "temp_ = pd.concat(\n",
    "    [\n",
    "        temp_.assign(model=\"ScreenDL-SA\"),\n",
    "        temp_.assign(model=\"ScreenDL-SA (GDS)\"),\n",
    "    ]\n",
    ")\n",
    "\n",
    "name_map = {\"ScreenDL-SA(MR)\": \"ScreenDL-SA (GDS)\", \"ScreenDL-SA\": \"ScreenDL-SA (Zd)\"}\n",
    "fix_names = lambda x: name_map.get(x, x)\n",
    "model_results[model + \"-SA\"] = (\n",
    "    load_multirun_predictions(run_dir, \"*/predictions_sa.csv\", splits=None)\n",
    "    .pipe(lambda df: pd.concat([df, temp_]))\n",
    "    .assign(model=lambda df: df[\"model\"].map(fix_names))\n",
    "    .groupby([\"model\", \"split_id\"], as_index=False)\n",
    "    .apply(rescale_predictions)\n",
    ")"
   ]
  },
  {
   "cell_type": "code",
   "execution_count": null,
   "metadata": {},
   "outputs": [],
   "source": [
    "model_results_df = pd.concat(model_results.values())\n",
    "model_results_df_tst = model_results_df.query(\"split_group == 'test'\")\n",
    "model_results_df_tst.head()"
   ]
  },
  {
   "cell_type": "code",
   "execution_count": null,
   "metadata": {},
   "outputs": [],
   "source": [
    "pcc_metrics = (\n",
    "    model_results_df_tst.groupby([\"model\", \"drug_id\"])\n",
    "    .apply(lambda g: eval_utils.pcorr(g, \"y_true\", \"y_pred\"))\n",
    "    .to_frame(name=\"pcc\")\n",
    "    .reset_index()\n",
    ")\n",
    "\n",
    "pcc_metrics.groupby(\"model\")[\"pcc\"].describe().loc[MODELS]"
   ]
  },
  {
   "cell_type": "code",
   "execution_count": null,
   "metadata": {},
   "outputs": [],
   "source": [
    "pcc_boxplot = (\n",
    "    alt.Chart(pcc_metrics, width=30 * len(MODELS[-3:]), height=250)\n",
    "    .transform_filter(alt.FieldOneOfPredicate(\"model\", MODELS[-3:]))\n",
    "    .mark_boxplot(**BOXPLOT_CONFIG)\n",
    "    .encode(\n",
    "        alt.X(\"model:N\")\n",
    "        .axis(labelAngle=-45, labelPadding=5)\n",
    "        .sort([MODELS[-3], MODELS[-1], MODELS[-2]])\n",
    "        .title(None),\n",
    "        alt.Y(\"pcc:Q\")\n",
    "        .axis(titlePadding=10, tickCount=6, grid=False)\n",
    "        .scale(domain=[-0.2, 1])\n",
    "        .title(\"Pearson Correlation\"),\n",
    "        alt.Color(\"model:N\", scale=MODEL_COLOR_SCALE).legend(None),\n",
    "    )\n",
    ")\n",
    "\n",
    "configure_chart(pcc_boxplot)"
   ]
  },
  {
   "cell_type": "code",
   "execution_count": null,
   "metadata": {},
   "outputs": [],
   "source": [
    "X = cell_obs[[\"cell_id\", \"drug_id\", \"Zd\", \"GDS\"]].copy()\n",
    "\n",
    "# compute absolute error for GDS\n",
    "X[\"GDS_ae\"] = (X[\"GDS\"] - X[\"Zd\"]).abs()\n",
    "X[\"GDS_ae_bin\"] = pd.qcut(X[\"GDS_ae\"], 30)\n",
    "X.head()"
   ]
  },
  {
   "cell_type": "markdown",
   "metadata": {},
   "source": [
    "- The expected result here is that, as the expected MAE of the GDS-only model increases (i.e., we move along the x-axis), we should see the observed MAE from each model cross the GDS-only line.\n",
    "- This shows that ScreenAhead improves performance even for cell line-drug pairs for which GDS is not very predictive of drug response i.e., those cell line-drug pairs for which we observe exceptional sensitivity or resistance.\n",
    "- In addition, the observation that the improvement for ScreenAhead is consistent across the plot from left to right suggests that ScreenAhead uses more information than just GDS. If ScreenAhead only used GDS, we would expect the improvement from ScreenAhead to to decrease as we moved from left to right."
   ]
  },
  {
   "cell_type": "code",
   "execution_count": null,
   "metadata": {},
   "outputs": [],
   "source": [
    "binned_mae = (\n",
    "    model_results_df_tst[[\"model\", \"cell_id\", \"drug_id\", \"y_pred\"]]\n",
    "    .merge(X, on=[\"cell_id\", \"drug_id\"])\n",
    "    .assign(model_ae=lambda df: (df[\"y_pred\"] - df[\"Zd\"]).abs())\n",
    "    .groupby([\"model\", \"GDS_ae_bin\"])\n",
    "    .aggregate({\"GDS_ae\": \"mean\", \"model_ae\": \"mean\"})\n",
    "    .reset_index()\n",
    ")"
   ]
  },
  {
   "cell_type": "code",
   "execution_count": null,
   "metadata": {},
   "outputs": [],
   "source": [
    "chart = (\n",
    "    alt.Chart(binned_mae.drop(columns=[\"GDS_ae_bin\"]))\n",
    "    .mark_circle(size=50)\n",
    "    .encode(\n",
    "        alt.X(\"GDS_ae:Q\")\n",
    "        .axis(grid=False, titlePadding=10, values=[0, 0.5, 1, 1.5, 2, 2.5])\n",
    "        .scale(domain=(0, 2.5))\n",
    "        .title(\"Expected Mean Absolute Error (GDS Only Model)\"),\n",
    "        alt.Y(\"model_ae:Q\")\n",
    "        .axis(grid=False, titlePadding=10, values=[0, 0.5, 1, 1.5, 2, 2.5])\n",
    "        .scale(domain=(0, 2.5))\n",
    "        .title(\"Mean Absolute Error\"),\n",
    "        alt.Color(\"model:N\", scale=MODEL_COLOR_SCALE)\n",
    "        .legend(orient=\"none\", legendX=50, legendY=-30, direction=\"horizontal\", columns=3)\n",
    "        .title(None),\n",
    "    )\n",
    "    .properties(width=420, height=250)\n",
    ")\n",
    "\n",
    "line = (\n",
    "    alt.Chart(pd.DataFrame({\"x\": [0, 2.5], \"y\": [0, 2.5]}))\n",
    "    .mark_line(stroke=\"black\", strokeDash=[3, 3], strokeWidth=1)\n",
    "    .encode(alt.X(\"x:Q\"), alt.Y(\"y:Q\"))\n",
    ")\n",
    "\n",
    "mae_chart = line + chart\n",
    "\n",
    "configure_chart(mae_chart)"
   ]
  },
  {
   "cell_type": "code",
   "execution_count": null,
   "metadata": {},
   "outputs": [],
   "source": [
    "delta_ae_sa = (\n",
    "    model_results_df_tst[[\"model\", \"cell_id\", \"drug_id\", \"y_pred\", \"y_true\"]]\n",
    "    .query(\"model.str.startswith('ScreenDL')\")\n",
    "    .assign(model_ae=lambda df: (df[\"y_pred\"] - df[\"y_true\"]).abs())\n",
    "    .set_index([\"cell_id\", \"drug_id\", \"model\"])[\"model_ae\"]\n",
    "    .unstack()\n",
    "    .assign(delta_ae=lambda df: df[\"ScreenDL-SA (Zd)\"] - df[\"ScreenDL-PT\"])\n",
    "    .drop(columns=[\"ScreenDL-SA (GDS)\"])\n",
    "    .reset_index()\n",
    "    .merge(X, on=[\"cell_id\", \"drug_id\"])\n",
    "    .assign(model=\"ScreenDL-SA (Zd)\")\n",
    "    .dropna()\n",
    ")\n",
    "\n",
    "delta_ae_sa_gds = (\n",
    "    model_results_df_tst[[\"model\", \"cell_id\", \"drug_id\", \"y_pred\", \"y_true\"]]\n",
    "    .query(\"model.str.startswith('ScreenDL')\")\n",
    "    .assign(model_ae=lambda df: (df[\"y_pred\"] - df[\"y_true\"]).abs())\n",
    "    .set_index([\"cell_id\", \"drug_id\", \"model\"])[\"model_ae\"]\n",
    "    .unstack()\n",
    "    .assign(delta_ae=lambda df: df[\"ScreenDL-SA (GDS)\"] - df[\"ScreenDL-PT\"])\n",
    "    .drop(columns=[\"ScreenDL-SA (Zd)\"])\n",
    "    .reset_index()\n",
    "    .merge(X, on=[\"cell_id\", \"drug_id\"])\n",
    "    .assign(model=\"ScreenDL-SA (GDS)\")\n",
    "    .dropna()\n",
    ")"
   ]
  },
  {
   "cell_type": "code",
   "execution_count": null,
   "metadata": {},
   "outputs": [],
   "source": [
    "def agg(df: pd.DataFrame) -> pd.Series:\n",
    "    \"\"\"Aggregators for computing mean and CI.\"\"\"\n",
    "    GDS_ae_mean = df[\"GDS_ae\"].mean()\n",
    "    delta_ae_mean = df[\"delta_ae\"].mean()\n",
    "    delta_ae_ci = stats.t.interval(\n",
    "        alpha=0.95,\n",
    "        df=len(df) - 1,\n",
    "        loc=np.mean(df[\"delta_ae\"]),\n",
    "        scale=stats.sem(df[\"delta_ae\"]),\n",
    "    )\n",
    "    return pd.Series(\n",
    "        {\n",
    "            \"GDS_ae_mean\": GDS_ae_mean,\n",
    "            \"delta_ae_mean\": delta_ae_mean,\n",
    "            \"delta_ae_mean_lower\": delta_ae_ci[0],\n",
    "            \"delta_ae_mean_upper\": delta_ae_ci[1],\n",
    "        }\n",
    "    )\n",
    "\n",
    "\n",
    "delta_ae_sa_agg = (\n",
    "    delta_ae_sa.groupby(\"GDS_ae_bin\")\n",
    "    .apply(agg)\n",
    "    .reset_index(drop=True)\n",
    "    .assign(model=\"ScreenDL-SA\")\n",
    ")\n",
    "\n",
    "delta_ae_sa_gds_agg = (\n",
    "    delta_ae_sa_gds.groupby(\"GDS_ae_bin\")\n",
    "    .apply(agg)\n",
    "    .reset_index(drop=True)\n",
    "    .assign(model=\"ScreenDL-SA (GDS)\")\n",
    ")\n",
    "\n",
    "delta_ae_agg = pd.concat([delta_ae_sa_agg, delta_ae_sa_gds_agg])"
   ]
  },
  {
   "cell_type": "markdown",
   "metadata": {},
   "source": [
    "- The expected result here is that performance will improve the most when GDS is a good predictor and then performance will still improve but at a more constant rate when GDS is not as predictive and then converge to a constant. This constant probably corresponds to a value that correlates with the rate of positive transfer across drugs. It would be interesting to compare what this constant is when we use different drug selection methods."
   ]
  },
  {
   "cell_type": "code",
   "execution_count": null,
   "metadata": {},
   "outputs": [],
   "source": [
    "base = (\n",
    "    alt.Chart(delta_ae_sa_agg)\n",
    "    .encode(\n",
    "        alt.X(\"GDS_ae_mean:Q\")\n",
    "        .axis(grid=False, titlePadding=10, values=[0, 0.5, 1, 1.5, 2])\n",
    "        .scale(nice=True)\n",
    "        .title(\"Expected Mean Absolute Error (GDS Only Model)\")\n",
    "    )\n",
    "    .properties(width=300, height=250)\n",
    ")\n",
    "\n",
    "points = base.mark_line(\n",
    "    color=\"gray\",\n",
    "    opacity=1,\n",
    "    # interpolate=\"basis\",\n",
    "    point=alt.MarkConfig(size=50, color=\"gray\"),\n",
    ").encode(\n",
    "    alt.Y(\"delta_ae_mean:Q\")\n",
    "    .axis(grid=False, titlePadding=10, tickCount=5)\n",
    "    .scale(zero=True)\n",
    "    .title([\"Difference in Absolute Error\", \"ScreenDL-SA (Zd) vs. ScreenDL-PT\"]),\n",
    "    # alt.Color(\"model:N\", scale=MODEL_COLOR_SCALE).legend(values=MODELS[-2:])\n",
    ")\n",
    "\n",
    "interval = base.mark_area(color=\"lightgray\", opacity=0.5).encode(\n",
    "    alt.Y(\"delta_ae_mean_lower:Q\")\n",
    "    .axis(grid=False, titlePadding=10, tickCount=5)\n",
    "    .scale(zero=False),\n",
    "    alt.Y2(\"delta_ae_mean_upper:Q\"),\n",
    ")\n",
    "\n",
    "delta_mae_chart = interval + points\n",
    "configure_chart(delta_mae_chart)"
   ]
  },
  {
   "cell_type": "code",
   "execution_count": null,
   "metadata": {},
   "outputs": [],
   "source": [
    "upper_panel = alt.hconcat(cell_gds_chart, pdmc_gds_chart, spacing=40)\n",
    "upper_panel = upper_panel.resolve_scale(color=\"independent\")\n",
    "lower_panel = alt.hconcat(pcc_boxplot, mae_chart, delta_mae_chart, spacing=40)\n",
    "lower_panel = lower_panel.resolve_scale(color=\"independent\")\n",
    "configure_chart(alt.vconcat(upper_panel, lower_panel, spacing=40))"
   ]
  }
 ],
 "metadata": {
  "kernelspec": {
   "display_name": "cdrpy-tf-cpu-v2",
   "language": "python",
   "name": "python3"
  },
  "language_info": {
   "codemirror_mode": {
    "name": "ipython",
    "version": 3
   },
   "file_extension": ".py",
   "mimetype": "text/x-python",
   "name": "python",
   "nbconvert_exporter": "python",
   "pygments_lexer": "ipython3",
   "version": "3.9.13"
  }
 },
 "nbformat": 4,
 "nbformat_minor": 2
}
