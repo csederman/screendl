{
 "cells": [
  {
   "cell_type": "markdown",
   "metadata": {},
   "source": [
    "# Performance Evaluation in PDX Models\n",
    "\n",
    "## Contents\n",
    "\n",
    "- [Data Loading](#data-loading)"
   ]
  },
  {
   "cell_type": "code",
   "execution_count": null,
   "metadata": {},
   "outputs": [],
   "source": [
    "# DEEPCDR_ROOT=\"/scratch/ucgd/lustre-work/marth/u0871891/projects/screendl/pkg/DeepCDR/prog\" python scripts/experiments/pdx_benchmarking.py -m model=DeepCDR-legacy dataset.preprocess.norm=global dataset=CellModelPassports-GDSCv1v2-HCI-Mutations\n",
    "# HIDRA_ROOT=\"/scratch/ucgd/lustre-work/marth/u0871891/projects/screendl/pkg/HiDRA\" python scripts/experiments/pdx_benchmarking.py -m model=HiDRA-legacy dataset.preprocess.norm=global dataset=CellModelPassports-GDSCv1v2-HCI"
   ]
  },
  {
   "cell_type": "code",
   "execution_count": null,
   "metadata": {},
   "outputs": [],
   "source": [
    "from __future__ import annotations\n",
    "\n",
    "import altair as alt\n",
    "import pandas as pd\n",
    "import numpy as np\n",
    "import typing as t\n",
    "import sklearn.metrics as skm\n",
    "\n",
    "from pathlib import Path\n",
    "from scipy import stats\n",
    "from omegaconf import OmegaConf\n",
    "\n",
    "from cdrpy.feat.transformers import GroupStandardScaler\n",
    "\n",
    "from screendl.utils import evaluation as eval_utils"
   ]
  },
  {
   "cell_type": "code",
   "execution_count": null,
   "metadata": {},
   "outputs": [],
   "source": [
    "def load_multirun_predictions(\n",
    "    multirun_dir: str | Path, regex: str, splits: list[str] | None = None\n",
    ") -> pd.DataFrame:\n",
    "    \"\"\"Loads predictions from a multirun.\"\"\"\n",
    "    if isinstance(multirun_dir, str):\n",
    "        multirun_dir = Path(multirun_dir)\n",
    "\n",
    "    def load_run(file_path: Path) -> pd.DataFrame:\n",
    "        iter_id = file_path.parent.stem.split(\"_\")[-1]\n",
    "        iter_pred_df = pd.read_csv(file_path)\n",
    "        iter_pred_df[\"iter\"] = int(iter_id)\n",
    "        return iter_pred_df\n",
    "\n",
    "    file_list = multirun_dir.glob(regex)\n",
    "    pred_df = pd.concat(map(load_run, file_list))\n",
    "\n",
    "    if splits is not None:\n",
    "        pred_df = pred_df[pred_df[\"split_group\"].isin(splits)]\n",
    "\n",
    "    return pred_df"
   ]
  },
  {
   "cell_type": "code",
   "execution_count": null,
   "metadata": {},
   "outputs": [],
   "source": [
    "def rescale_predictions(\n",
    "    pdxo_df: pd.DataFrame, pdx_df: pd.DataFrame\n",
    ") -> t.Tuple[pd.DataFrame, pd.DataFrame]:\n",
    "    \"\"\"\"\"\"\n",
    "    gss = GroupStandardScaler()\n",
    "    pdxo_df[\"y_true\"] = gss.fit_transform(pdxo_df[[\"y_true\"]], groups=pdxo_df[\"drug_id\"])\n",
    "    # pdx_df[\"y_true\"] = gss.transform(pdx_df[[\"y_true\"]], groups=pdx_df[\"drug_id\"])\n",
    "\n",
    "    gss = GroupStandardScaler()\n",
    "    pdxo_df[\"y_pred\"] = gss.fit_transform(pdxo_df[[\"y_pred\"]], groups=pdxo_df[\"drug_id\"])\n",
    "    pdx_df[\"y_pred\"] = gss.transform(pdx_df[[\"y_pred\"]], groups=pdx_df[\"drug_id\"])\n",
    "\n",
    "    return pdxo_df, pdx_df"
   ]
  },
  {
   "cell_type": "code",
   "execution_count": null,
   "metadata": {},
   "outputs": [],
   "source": [
    "def auroc(df: pd.DataFrame, col1: str = \"y_true\", col2: str = \"y_pred\") -> float:\n",
    "    if df[col1].nunique() <= 1:\n",
    "        return np.nan\n",
    "    return skm.roc_auc_score(df[col1], -1 * df[col2])\n",
    "\n",
    "\n",
    "def select_best_therapy(df: pd.DataFrame, on_: str = \"y_pred\") -> pd.DataFrame:\n",
    "    return df.loc[df[on_].idxmin()]\n",
    "\n",
    "\n",
    "def get_response_rate(df: pd.DataFrame, col: str = \"y_true\") -> float:\n",
    "    return np.mean(df[col])"
   ]
  },
  {
   "cell_type": "markdown",
   "metadata": {},
   "source": [
    "## Data Loading"
   ]
  },
  {
   "cell_type": "code",
   "execution_count": null,
   "metadata": {},
   "outputs": [],
   "source": [
    "root = Path(\"../../../datastore\")"
   ]
  },
  {
   "cell_type": "code",
   "execution_count": null,
   "metadata": {},
   "outputs": [],
   "source": [
    "data_dir = root / \"inputs/CellModelPassports-GDSCv1v2-HCI\"\n",
    "cell_meta = pd.read_csv(data_dir / \"MetaSampleAnnotations.csv\", index_col=0)"
   ]
  },
  {
   "cell_type": "code",
   "execution_count": null,
   "metadata": {},
   "outputs": [],
   "source": [
    "raw_pdx_obs = pd.read_csv(root / \"processed/WelmPDX/ScreenClinicalResponseV14B20.csv\")\n",
    "raw_pdx_obs.head()"
   ]
  },
  {
   "cell_type": "code",
   "execution_count": null,
   "metadata": {},
   "outputs": [],
   "source": [
    "raw_pdxo_obs = pd.read_csv(\n",
    "    root / \"inputs/CellModelPassports-GDSCv1v2-HCI/LabelsLogIC50.csv\"\n",
    ")\n",
    "\n",
    "raw_pdxo_obs = raw_pdxo_obs[~raw_pdxo_obs[\"cell_id\"].str.startswith(\"SIDM\")]\n",
    "raw_pdxo_obs[\"label\"] = raw_pdxo_obs.groupby(\"drug_id\")[\"label\"].transform(stats.zscore)\n",
    "raw_pdx_obs.head()"
   ]
  },
  {
   "cell_type": "code",
   "execution_count": null,
   "metadata": {},
   "outputs": [],
   "source": [
    "raw_pdxo_screen = pd.read_csv(root / \"processed/WelmFinal/ScreenDoseResponse.csv\")\n",
    "grouped = raw_pdxo_screen.groupby(\"drug_name\")\n",
    "# NOTE: a large GR_AOC is better so we multiple Zd values by -1\n",
    "raw_pdxo_screen[\"z_GR_AOC\"] = grouped[\"GR_AOC\"].transform(lambda x: stats.zscore(x) * -1)\n",
    "raw_pdxo_screen[\"z_LN_IC50\"] = grouped[\"LN_IC50\"].transform(stats.zscore)\n",
    "raw_pdxo_screen.head()"
   ]
  },
  {
   "cell_type": "code",
   "execution_count": null,
   "metadata": {},
   "outputs": [],
   "source": [
    "raw_pdx_data = pd.read_csv(root / \"processed/WelmPDX/ScreenClinicalResponseV13B20RawData.csv\")\n",
    "raw_pdx_data_ctrl = raw_pdx_data[raw_pdx_data[\"drug_name\"] == \"Vehicle\"]\n",
    "raw_pdx_data_drug = raw_pdx_data[raw_pdx_data[\"drug_name\"] != \"Vehicle\"]"
   ]
  },
  {
   "cell_type": "code",
   "execution_count": null,
   "metadata": {},
   "outputs": [],
   "source": [
    "# DeepCDR results\n",
    "\n",
    "output_dir = root / \"outputs/experiments/pdx_benchmarking\"\n",
    "path_fmt = \"{0}/{1}/multiruns/{2}\"\n",
    "\n",
    "dataset = \"CellModelPassports-GDSCv1v2-HCI-Mutations\"\n",
    "model = \"DeepCDR-legacy\"\n",
    "date = \"2024-11-21_11-17-57\"\n",
    "\n",
    "run_dir = output_dir / path_fmt.format(dataset, model, date)\n",
    "\n",
    "\n",
    "deepcdr_pdxo_result = load_multirun_predictions(\n",
    "    run_dir, \"*/predictions.csv\", splits=[\"test\"]\n",
    ")\n",
    "deepcdr_pdx_result = load_multirun_predictions(run_dir, \"*/predictions_pdx.csv\")\n",
    "\n",
    "# NOTE: we do the zscore transformation against the PDxO background\n",
    "grouped_pdxo = deepcdr_pdxo_result.groupby(\"iter\", as_index=False)\n",
    "grouped_pdx = deepcdr_pdx_result.groupby(\"iter\", as_index=False)\n",
    "pdxo_groups, pdx_groups = [], []\n",
    "for group in grouped_pdxo.grouper.groups.keys():\n",
    "    pdxo_group = grouped_pdxo.get_group(group).copy()\n",
    "    pdx_group = grouped_pdx.get_group(group).copy()\n",
    "    pdxo_group, pdx_group = rescale_predictions(pdxo_group, pdx_group)\n",
    "    pdxo_groups.append(pdxo_group)\n",
    "    pdx_groups.append(pdx_group)\n",
    "\n",
    "deepcdr_pdxo_result = pd.concat(pdxo_groups).reset_index(drop=True)\n",
    "deepcdr_pdx_result = pd.concat(pdx_groups).reset_index(drop=True)"
   ]
  },
  {
   "cell_type": "code",
   "execution_count": null,
   "metadata": {},
   "outputs": [],
   "source": [
    "# HiDRA results\n",
    "\n",
    "output_dir = root / \"outputs/experiments/pdx_benchmarking\"\n",
    "path_fmt = \"{0}/{1}/multiruns/{2}\"\n",
    "\n",
    "dataset = \"CellModelPassports-GDSCv1v2-HCI\"\n",
    "model = \"HiDRA-legacy\"\n",
    "date = \"2024-11-21_11-15-25\"\n",
    "\n",
    "run_dir = output_dir / path_fmt.format(dataset, model, date)\n",
    "\n",
    "hidra_pdxo_result = load_multirun_predictions(\n",
    "    run_dir, \"*/predictions.csv\", splits=[\"test\"]\n",
    ")\n",
    "hidra_pdx_result = load_multirun_predictions(run_dir, \"*/predictions_pdx.csv\")\n",
    "\n",
    "grouped_pdxo = hidra_pdxo_result.groupby(\"iter\", as_index=False)\n",
    "grouped_pdx = hidra_pdx_result.groupby(\"iter\", as_index=False)\n",
    "pdxo_groups, pdx_groups = [], []\n",
    "for group in grouped_pdxo.grouper.groups.keys():\n",
    "    pdxo_group = grouped_pdxo.get_group(group).copy()\n",
    "    pdx_group = grouped_pdx.get_group(group).copy()\n",
    "    pdxo_group, pdx_group = rescale_predictions(pdxo_group, pdx_group)\n",
    "    pdxo_groups.append(pdxo_group)\n",
    "    pdx_groups.append(pdx_group)\n",
    "\n",
    "hidra_pdxo_result = pd.concat(pdxo_groups).reset_index(drop=True)\n",
    "hidra_pdx_result = pd.concat(pdx_groups).reset_index(drop=True)"
   ]
  },
  {
   "cell_type": "code",
   "execution_count": null,
   "metadata": {},
   "outputs": [],
   "source": [
    "output_dir = root / \"outputs/experiments/pdx_validation\"\n",
    "\n",
    "path_fmt = \"{0}/{1}/multiruns/{2}\"\n",
    "\n",
    "dataset = \"CellModelPassports-GDSCv1v2-HCI\"\n",
    "model = \"ScreenDL\"\n",
    "\n",
    "# new data final pub V12.3 fixed script\n",
    "date = \"2024-11-21_14-08-27\"\n",
    "\n",
    "run_dir = output_dir / path_fmt.format(dataset, model, date)\n",
    "\n",
    "screendl_pdxo_results = load_multirun_predictions(run_dir, \"*/predictions_pdxo.csv\")\n",
    "screendl_pdx_results = load_multirun_predictions(run_dir, \"*/predictions_pdx.csv\")\n",
    "\n",
    "mapper = {\"base\": \"ScreenDL-PT\", \"xfer\": \"ScreenDL-FT\", \"screen\": \"ScreenDL-SA\"}\n",
    "screendl_pdxo_results[\"model\"] = screendl_pdxo_results[\"model\"].map(mapper)\n",
    "screendl_pdx_results[\"model\"] = screendl_pdx_results[\"model\"].map(mapper)"
   ]
  },
  {
   "cell_type": "code",
   "execution_count": null,
   "metadata": {},
   "outputs": [],
   "source": [
    "conf = OmegaConf.load(run_dir / \"multirun.yaml\")\n",
    "print(OmegaConf.to_yaml(conf.xfer))"
   ]
  },
  {
   "cell_type": "code",
   "execution_count": null,
   "metadata": {},
   "outputs": [],
   "source": [
    "MODELS = [\"HiDRA\", \"DeepCDR\", \"ScreenDL-PT\", \"ScreenDL-FT\", \"ScreenDL-SA\"]"
   ]
  },
  {
   "cell_type": "code",
   "execution_count": null,
   "metadata": {},
   "outputs": [],
   "source": [
    "pdx_result = pd.concat([hidra_pdx_result, deepcdr_pdx_result, screendl_pdx_results])\n",
    "pdxo_result = pd.concat([hidra_pdxo_result, deepcdr_pdxo_result, screendl_pdxo_results])"
   ]
  },
  {
   "cell_type": "code",
   "execution_count": null,
   "metadata": {},
   "outputs": [],
   "source": [
    "# add in additional annotations\n",
    "temp = raw_pdx_obs.drop(columns=[\"id\", \"label\"])\n",
    "pdxo_result = pdxo_result.merge(temp, how=\"left\", on=[\"cell_id\", \"drug_id\"])\n",
    "pdxo_result = pdxo_result.sort_values([\"model\", \"iter\", \"cell_id\", \"drug_id\"])\n",
    "pdx_result = pdx_result.merge(temp, how=\"left\", on=[\"cell_id\", \"drug_id\"])\n",
    "pdx_result = pdx_result.sort_values([\"model\", \"iter\", \"cell_id\", \"drug_id\"])"
   ]
  },
  {
   "cell_type": "code",
   "execution_count": null,
   "metadata": {},
   "outputs": [],
   "source": [
    "# filter the results\n",
    "keep_drugs = screendl_pdx_results[\"drug_id\"].unique()\n",
    "keep_pdxs = screendl_pdx_results[\"cell_id\"].unique()\n",
    "\n",
    "pdx_result = pdx_result[pdx_result[\"cell_id\"].isin(keep_pdxs)]\n",
    "pdx_result = pdx_result[pdx_result[\"drug_id\"].isin(keep_drugs)]"
   ]
  },
  {
   "cell_type": "code",
   "execution_count": null,
   "metadata": {},
   "outputs": [],
   "source": [
    "ensembl_pdxo_result = (\n",
    "    pdxo_result.groupby([\"model\", \"cell_id\", \"drug_id\"])\n",
    "    # .aggregate({\"y_pred\": \"mean\", \"y_true\": \"first\"})\n",
    "    .aggregate({\"y_pred\": lambda x: stats.trim_mean(x, 0.2), \"y_true\": \"first\"})\n",
    "    .reset_index()\n",
    ")"
   ]
  },
  {
   "cell_type": "code",
   "execution_count": null,
   "metadata": {},
   "outputs": [],
   "source": [
    "ensembl_pdxo_corrs = (\n",
    "    ensembl_pdxo_result.groupby([\"model\", \"drug_id\"])\n",
    "    .apply(eval_utils.pcorr)\n",
    "    .to_frame(name=\"pcc\")\n",
    "    .reset_index()\n",
    ")\n",
    "\n",
    "ensembl_pdxo_corrs.groupby(\"model\").describe().loc[MODELS].T"
   ]
  },
  {
   "cell_type": "code",
   "execution_count": null,
   "metadata": {},
   "outputs": [],
   "source": [
    "ensembl_pdxo_mse = (\n",
    "    ensembl_pdxo_result.groupby([\"model\", \"drug_id\"])\n",
    "    .apply(lambda g: ((g[\"y_true\"] - g[\"y_pred\"]) ** 2).sum() / len(g))\n",
    "    .to_frame(name=\"mse\")\n",
    "    .reset_index()\n",
    ")\n",
    "\n",
    "ensembl_pdxo_mse.groupby(\"model\").describe().loc[MODELS].T"
   ]
  },
  {
   "cell_type": "code",
   "execution_count": null,
   "metadata": {},
   "outputs": [],
   "source": [
    "# filter drugs and PDX samples for evaluation\n",
    "\n",
    "pdx_result_eval = pdx_result.copy()\n",
    "\n",
    "# drugs that we know don't generalize from PDxO screening\n",
    "# NON_GEN_DRUGS = [\"Palbociclib\", \"Abemaciclib\", \"Tamoxifen\"]\n",
    "# NON_GEN_DRUGS = [\"Tamoxifen\"]\n",
    "# pdx_result_eval = pdx_result_eval.query(\"drug_id not in @NON_GEN_DRUGS\")\n",
    "\n",
    "# drugs that did not work in any PDX models -> this is likely due to legacy dosing\n",
    "responders_per_drug = raw_pdx_obs.groupby(\"drug_id\")[\"label\"].sum()\n",
    "DRUGS_WITH_RESPONDERS = responders_per_drug[responders_per_drug >= 1].index\n",
    "pdx_result_eval = pdx_result_eval.query(\"drug_id in @DRUGS_WITH_RESPONDERS\")\n",
    "\n",
    "# drugs with at least 20 PDxOs screened so we have good Zd background\n",
    "# pdxos_per_drug = pdxo_result.groupby(\"drug_id\")[\"cell_id\"].nunique()\n",
    "# DRUGS_WITH_ENOUGH_PDXOS = pdxos_per_drug[pdxos_per_drug >= 20].index\n",
    "# pdx_result_eval = pdx_result_eval.query(\"drug_id in @DRUGS_WITH_ENOUGH_PDXOS\")\n",
    "\n",
    "# drop PDX samples with less than 2 drugs to choose from\n",
    "drugs_per_PDX = pdx_result_eval.groupby(\"cell_id\")[\"drug_id\"].nunique()\n",
    "GOOD_PDX_SAMPLES = drugs_per_PDX[drugs_per_PDX > 1].index\n",
    "pdx_result_eval = pdx_result_eval.query(\"cell_id in @GOOD_PDX_SAMPLES\")\n",
    "\n",
    "# filter for PDXs predicted by all models\n",
    "# model_counts = pdx_result_eval.groupby(\"cell_id\")[\"model\"].nunique()\n",
    "# keep_cells = model_counts[model_counts == pdx_result_eval[\"model\"].nunique()].index\n",
    "# pdx_result_eval = pdx_result_eval.query(\"cell_id in @keep_cells\")\n",
    "\n",
    "uniq_cells = sorted(list(pdx_result_eval[\"cell_id\"].unique()))\n",
    "uniq_drugs = sorted(list(pdx_result_eval[\"drug_id\"].unique()))\n",
    "print(uniq_cells)\n",
    "print(uniq_drugs)\n",
    "\n",
    "print(f\"No. PDXs: {len(uniq_cells)}\")\n",
    "print(f\"No. Drugs: {len(uniq_drugs)}\")\n",
    "\n",
    "base_rr = get_response_rate(pdx_result_eval.drop_duplicates([\"cell_id\", \"drug_id\"]))\n",
    "print(f\"Response Rate: {base_rr:.2f}\")\n",
    "\n",
    "pdx_result_eval.head()"
   ]
  },
  {
   "cell_type": "code",
   "execution_count": null,
   "metadata": {},
   "outputs": [],
   "source": [
    "ensembl_pdx_result_eval = (\n",
    "    pdx_result_eval.groupby([\"model\", \"drug_id\", \"cell_id\"])\n",
    "    # .aggregate({\"y_true\": \"first\", \"y_pred\": \"mean\", \"mRECIST\": \"first\"})\n",
    "    .aggregate({\"y_true\": \"first\", \"y_pred\": lambda x: stats.trim_mean(x, 0.2), \"mRECIST\": \"first\"})\n",
    "    .reset_index()\n",
    ")"
   ]
  },
  {
   "cell_type": "code",
   "execution_count": null,
   "metadata": {},
   "outputs": [],
   "source": [
    "ensembl_pdx_result_eval[\"drug_id\"].nunique()"
   ]
  },
  {
   "cell_type": "code",
   "execution_count": null,
   "metadata": {},
   "outputs": [],
   "source": [
    "raw_screen_preds_gr_aoc = (\n",
    "    raw_pdxo_screen.rename(\n",
    "        columns={\"model_id\": \"cell_id\", \"drug_name\": \"drug_id\", \"z_GR_AOC\": \"y_pred\"}\n",
    "    )\n",
    "    .filter(items=[\"cell_id\", \"drug_id\", \"y_pred\"])\n",
    "    .assign(model=\"Screen - GR AOC\")\n",
    ")\n",
    "\n",
    "raw_screen_preds_gr_aoc = (\n",
    "    raw_pdx_obs.rename(columns={\"label\": \"y_true\"})\n",
    "    .filter(items=[\"cell_id\", \"drug_id\", \"y_true\", \"mRECIST\"])\n",
    "    .drop_duplicates()\n",
    "    .merge(raw_screen_preds_gr_aoc, on=[\"cell_id\", \"drug_id\"])\n",
    "    .query(\"cell_id in @ensembl_pdx_result_eval.cell_id\")\n",
    "    .query(\"drug_id in @ensembl_pdx_result_eval.drug_id\")\n",
    ")\n",
    "\n",
    "raw_screen_preds_ln_ic50 = (\n",
    "    raw_pdxo_screen.rename(\n",
    "        columns={\"model_id\": \"cell_id\", \"drug_name\": \"drug_id\", \"z_LN_IC50\": \"y_pred\"}\n",
    "    )\n",
    "    .filter(items=[\"cell_id\", \"drug_id\", \"y_pred\"])\n",
    "    .assign(model=\"Screen - ln(IC50)\")\n",
    ")\n",
    "\n",
    "raw_screen_preds_ln_ic50 = (\n",
    "    raw_pdx_obs.rename(columns={\"label\": \"y_true\"})\n",
    "    .filter(items=[\"cell_id\", \"drug_id\", \"y_true\", \"mRECIST\"])\n",
    "    .drop_duplicates()\n",
    "    .merge(raw_screen_preds_ln_ic50, on=[\"cell_id\", \"drug_id\"])\n",
    "    .query(\"cell_id in @ensembl_pdx_result_eval.cell_id\")\n",
    "    .query(\"drug_id in @ensembl_pdx_result_eval.drug_id\")\n",
    ")\n",
    "\n",
    "raw_screen_pdx_result_eval = pd.concat(\n",
    "    [raw_screen_preds_ln_ic50, raw_screen_preds_gr_aoc]\n",
    ")\n",
    "\n",
    "raw_screen_pdx_result_eval.head()"
   ]
  },
  {
   "cell_type": "code",
   "execution_count": null,
   "metadata": {},
   "outputs": [],
   "source": [
    "SCREEN_MODELS = [\"Screen - ln(IC50)\", \"Screen - GR AOC\"]"
   ]
  },
  {
   "cell_type": "code",
   "execution_count": null,
   "metadata": {},
   "outputs": [],
   "source": [
    "ensembl_pdxo_corrs_eval = (\n",
    "    ensembl_pdxo_result\n",
    "    .query(\"cell_id not in @ensembl_pdx_result_eval.cell_id\")\n",
    "    .groupby([\"model\", \"drug_id\"])\n",
    "    .apply(eval_utils.pcorr)\n",
    "    .to_frame(name=\"pcc\")\n",
    "    .reset_index()\n",
    ")\n",
    "\n",
    "ensembl_pdxo_corrs_eval.groupby(\"model\").describe().loc[MODELS].T"
   ]
  },
  {
   "cell_type": "code",
   "execution_count": null,
   "metadata": {},
   "outputs": [],
   "source": [
    "ensembl_pdxo_mse_eval = (\n",
    "    ensembl_pdxo_result.query(\"cell_id not in @ensembl_pdx_result_eval.cell_id\")\n",
    "    .groupby([\"model\", \"drug_id\"])\n",
    "    .apply(lambda g: np.mean((g[\"y_true\"] - g[\"y_pred\"]) ** 2))\n",
    "    .to_frame(name=\"mse\")\n",
    "    .reset_index()\n",
    ")\n",
    "\n",
    "ensembl_pdxo_mse_eval.groupby(\"model\").describe().loc[MODELS].T.round(4)"
   ]
  },
  {
   "cell_type": "code",
   "execution_count": null,
   "metadata": {},
   "outputs": [],
   "source": [
    "# NOTE: use the PDxO data for the other PDX models to find the optimal value of C"
   ]
  },
  {
   "cell_type": "code",
   "execution_count": null,
   "metadata": {},
   "outputs": [],
   "source": [
    "# NOTE: will need to do this for each model independently"
   ]
  },
  {
   "cell_type": "code",
   "execution_count": null,
   "metadata": {},
   "outputs": [],
   "source": [
    "ensembl_selected_drugs = (\n",
    "    ensembl_pdx_result_eval.merge(\n",
    "        ensembl_pdxo_corrs_eval.dropna(), on=[\"model\", \"drug_id\"]\n",
    "    )\n",
    "    # .query(\"pcc >= 0\")  # don't select low confidence drugs\n",
    "    .groupby([\"model\", \"cell_id\"], as_index=False)\n",
    "    .apply(lambda df: select_best_therapy(df, on_=\"y_pred\"))\n",
    "    .sort_values([\"model\", \"cell_id\"])\n",
    ")\n",
    "\n",
    "ensembl_CBRs = ensembl_selected_drugs.groupby(\"model\").apply(get_response_rate)\n",
    "ensembl_CBRs.loc[MODELS]"
   ]
  },
  {
   "cell_type": "code",
   "execution_count": null,
   "metadata": {},
   "outputs": [],
   "source": [
    "ensembl_selected_drugs.groupby(\"model\")[\"cell_id\"].nunique()"
   ]
  },
  {
   "cell_type": "code",
   "execution_count": null,
   "metadata": {},
   "outputs": [],
   "source": [
    "raw_screen_selected_drugs = (\n",
    "    raw_screen_pdx_result_eval.groupby([\"model\", \"cell_id\"], as_index=False)\n",
    "    .apply(lambda df: select_best_therapy(df, on_=\"y_pred\"))\n",
    "    .sort_values([\"model\", \"cell_id\"])\n",
    ")\n",
    "\n",
    "raw_screen_CBRs = raw_screen_selected_drugs.groupby(\"model\").apply(get_response_rate)\n",
    "raw_screen_CBRs.loc[SCREEN_MODELS]"
   ]
  },
  {
   "cell_type": "code",
   "execution_count": null,
   "metadata": {},
   "outputs": [],
   "source": [
    "ensembl_ORRs = (\n",
    "    ensembl_selected_drugs.assign(\n",
    "        y_true=lambda df: df[\"mRECIST\"].isin([\"PR\", \"CR\"]).astype(int)\n",
    "    )\n",
    "    .groupby(\"model\")\n",
    "    .apply(get_response_rate)\n",
    ")\n",
    "\n",
    "ensembl_ORRs.loc[MODELS]"
   ]
  },
  {
   "cell_type": "code",
   "execution_count": null,
   "metadata": {},
   "outputs": [],
   "source": [
    "raw_screen_ORRs = (\n",
    "    raw_screen_selected_drugs.assign(\n",
    "        y_true=lambda df: df[\"mRECIST\"].isin([\"PR\", \"CR\"]).astype(int)\n",
    "    )\n",
    "    .groupby(\"model\")\n",
    "    .apply(get_response_rate)\n",
    ")\n",
    "\n",
    "raw_screen_ORRs.loc[SCREEN_MODELS]"
   ]
  },
  {
   "cell_type": "code",
   "execution_count": null,
   "metadata": {},
   "outputs": [],
   "source": [
    "temp = pd.concat([ensembl_pdx_result_eval, raw_screen_pdx_result_eval])\n",
    "grouped = temp.groupby([\"model\", \"cell_id\"])\n",
    "grouped[\"drug_id\"].nunique().unstack(0)[MODELS + SCREEN_MODELS]"
   ]
  },
  {
   "cell_type": "code",
   "execution_count": null,
   "metadata": {},
   "outputs": [],
   "source": [
    "model_CBR_source = (\n",
    "    ensembl_selected_drugs.groupby(\"model\")\n",
    "    .apply(get_response_rate)\n",
    "    .loc[MODELS]\n",
    "    .to_frame(name=\"response_rate\")\n",
    "    .reset_index()\n",
    ")\n",
    "\n",
    "screen_CBR_source = (\n",
    "    raw_screen_selected_drugs.groupby(\"model\")\n",
    "    .apply(get_response_rate)\n",
    "    .loc[SCREEN_MODELS]\n",
    "    .to_frame(name=\"response_rate\")\n",
    "    .reset_index()\n",
    ")"
   ]
  },
  {
   "cell_type": "code",
   "execution_count": null,
   "metadata": {},
   "outputs": [],
   "source": [
    "model_ORR_source = (\n",
    "    ensembl_selected_drugs.assign(\n",
    "        y_true=lambda df: df[\"mRECIST\"].isin([\"PR\", \"CR\"]).astype(int)\n",
    "    )\n",
    "    .groupby(\"model\")\n",
    "    .apply(get_response_rate)\n",
    "    .loc[MODELS]\n",
    "    .to_frame(name=\"response_rate\")\n",
    "    .reset_index()\n",
    ")\n",
    "\n",
    "screen_ORR_source = (\n",
    "    raw_screen_selected_drugs.assign(\n",
    "        y_true=lambda df: df[\"mRECIST\"].isin([\"PR\", \"CR\"]).astype(int)\n",
    "    )\n",
    "    .groupby(\"model\")\n",
    "    .apply(get_response_rate)\n",
    "    .loc[SCREEN_MODELS]\n",
    "    .to_frame(name=\"response_rate\")\n",
    "    .reset_index()\n",
    ")"
   ]
  },
  {
   "cell_type": "code",
   "execution_count": null,
   "metadata": {},
   "outputs": [],
   "source": [
    "# clinical benefit rate for random selection\n",
    "options = ensembl_pdx_result_eval.drop_duplicates([\"cell_id\", \"drug_id\"])\n",
    "max_iters = 1000\n",
    "iter_CBRs_models = []\n",
    "for _ in range(max_iters):\n",
    "    iter_rr = get_response_rate(options.groupby(\"cell_id\").sample(1))\n",
    "    iter_CBRs_models.append(iter_rr)\n",
    "rand_CBR_models = np.mean(iter_CBRs_models)\n",
    "print(f\"Random Selection ORR (Models): {rand_CBR_models}\")"
   ]
  },
  {
   "cell_type": "code",
   "execution_count": null,
   "metadata": {},
   "outputs": [],
   "source": [
    "options = raw_screen_pdx_result_eval.drop_duplicates([\"cell_id\", \"drug_id\"])\n",
    "max_iters = 1000\n",
    "iter_CBRs_screen = []\n",
    "for _ in range(max_iters):\n",
    "    iter_rr = get_response_rate(options.groupby(\"cell_id\").sample(1))\n",
    "    iter_CBRs_screen.append(iter_rr)\n",
    "rand_CBR_screen = np.mean(iter_CBRs_screen)\n",
    "print(f\"Random Selection ORR (Screen): {rand_CBR_screen}\")"
   ]
  },
  {
   "cell_type": "code",
   "execution_count": null,
   "metadata": {},
   "outputs": [],
   "source": [
    "options = ensembl_pdx_result_eval.drop_duplicates([\"cell_id\", \"drug_id\"]).assign(\n",
    "    y_true=lambda df: df[\"mRECIST\"].isin([\"PR\", \"CR\"]).astype(int), how=\"left\"\n",
    ")\n",
    "\n",
    "max_iters = 1000\n",
    "iter_ORRs_models = []\n",
    "for _ in range(max_iters):\n",
    "    iter_rr = get_response_rate(options.groupby(\"cell_id\").sample(1))\n",
    "    iter_ORRs_models.append(iter_rr)\n",
    "rand_ORR_models = np.mean(iter_ORRs_models)\n",
    "print(f\"Random Selection ORR (Models): {rand_ORR_models}\")"
   ]
  },
  {
   "cell_type": "code",
   "execution_count": null,
   "metadata": {},
   "outputs": [],
   "source": [
    "options = raw_screen_pdx_result_eval.drop_duplicates([\"cell_id\", \"drug_id\"]).assign(\n",
    "    y_true=lambda df: df[\"mRECIST\"].isin([\"PR\", \"CR\"]).astype(int), how=\"left\"\n",
    ")\n",
    "\n",
    "max_iters = 1000\n",
    "iter_ORRs_screen = []\n",
    "for _ in range(max_iters):\n",
    "    iter_rr = get_response_rate(options.groupby(\"cell_id\").sample(1))\n",
    "    iter_ORRs_screen.append(iter_rr)\n",
    "rand_ORR_screen = np.mean(iter_ORRs_screen)\n",
    "print(f\"Random Selection ORR (Screen): {rand_ORR_screen}\")"
   ]
  },
  {
   "cell_type": "code",
   "execution_count": null,
   "metadata": {},
   "outputs": [],
   "source": [
    "num_PDX_samples = ensembl_pdx_result_eval[\"cell_id\"].nunique()\n",
    "\n",
    "grouped = ensembl_pdx_result_eval.groupby(\"cell_id\")\n",
    "min_CBR_models = grouped[\"y_true\"].min().sum() / num_PDX_samples\n",
    "max_CBR_models = grouped[\"y_true\"].max().sum() / num_PDX_samples\n",
    "print(f\"Min Achievable CBR (Models): {min_CBR_models}\")\n",
    "print(f\"Max Achievable CBR (Models): {max_CBR_models}\")"
   ]
  },
  {
   "cell_type": "code",
   "execution_count": null,
   "metadata": {},
   "outputs": [],
   "source": [
    "num_PDX_samples = raw_screen_pdx_result_eval[\"cell_id\"].nunique()\n",
    "\n",
    "grouped = raw_screen_pdx_result_eval.groupby(\"cell_id\")\n",
    "min_CBR_screen = grouped[\"y_true\"].min().sum() / num_PDX_samples\n",
    "max_CBR_screen = grouped[\"y_true\"].max().sum() / num_PDX_samples\n",
    "print(f\"Min Achievable CBR (Screen): {min_CBR_screen}\")\n",
    "print(f\"Max Achievable CBR (Screen): {max_CBR_screen}\")"
   ]
  },
  {
   "cell_type": "code",
   "execution_count": null,
   "metadata": {},
   "outputs": [],
   "source": [
    "num_PDX_samples = ensembl_pdx_result_eval[\"cell_id\"].nunique()\n",
    "\n",
    "grouped = ensembl_pdx_result_eval.assign(\n",
    "    y_true=lambda df: df[\"mRECIST\"].isin([\"PR\", \"CR\"]).astype(int), how=\"left\"\n",
    ").groupby(\"cell_id\")[\"y_true\"]\n",
    "\n",
    "min_ORR_models = grouped.min().sum() / num_PDX_samples\n",
    "max_ORR_models = grouped.max().sum() / num_PDX_samples\n",
    "print(f\"Min Achievable ORR (Models): {min_ORR_models}\")\n",
    "print(f\"Max Achievable ORR (Models): {max_ORR_models}\")"
   ]
  },
  {
   "cell_type": "code",
   "execution_count": null,
   "metadata": {},
   "outputs": [],
   "source": [
    "num_PDX_samples = raw_screen_pdx_result_eval[\"cell_id\"].nunique()\n",
    "\n",
    "grouped = raw_screen_pdx_result_eval.assign(\n",
    "    y_true=lambda df: df[\"mRECIST\"].isin([\"PR\", \"CR\"]).astype(int), how=\"left\"\n",
    ").groupby(\"cell_id\")[\"y_true\"]\n",
    "\n",
    "min_ORR_screen = grouped.min().sum() / num_PDX_samples\n",
    "max_ORR_screen = grouped.max().sum() / num_PDX_samples\n",
    "print(f\"Min Achievable ORR (Screen): {min_ORR_screen}\")\n",
    "print(f\"Max Achievable ORR (Screen): {max_ORR_screen}\")"
   ]
  },
  {
   "cell_type": "code",
   "execution_count": null,
   "metadata": {},
   "outputs": [],
   "source": [
    "MODEL_COLOR_SCALE = alt.Scale(\n",
    "    domain=[\"Screen - ln(IC50)\", \"Screen - GR AOC\"] + MODELS,\n",
    "    range=(\"#FDBFD3\", \"#FF9DA5\", \"darkgray\", \"gray\", \"#4C78A8\", \"#B278A2\", \"#5CA453\"),\n",
    ")\n",
    "\n",
    "AXIS_CONFIG = {\n",
    "    \"titleFont\": \"arial\",\n",
    "    \"titleFontStyle\": \"regular\",\n",
    "    \"labelFont\": \"arial\",\n",
    "    \"tickColor\": \"black\",\n",
    "    \"domainColor\": \"black\",\n",
    "}\n",
    "\n",
    "\n",
    "def configure_chart(chart: alt.Chart) -> alt.Chart:\n",
    "    \"\"\"Configures boxplot for viewing.\"\"\"\n",
    "    return (\n",
    "        chart.configure_view(strokeOpacity=0)\n",
    "        .configure_axis(**AXIS_CONFIG)\n",
    "        .configure_header(labelFont=\"arial\")\n",
    "    )"
   ]
  },
  {
   "cell_type": "code",
   "execution_count": null,
   "metadata": {},
   "outputs": [],
   "source": [
    "base_models = alt.Chart(model_CBR_source)\n",
    "\n",
    "bars_models = (\n",
    "    base_models.mark_bar(stroke=\"black\", size=25, strokeWidth=1)\n",
    "    .encode(\n",
    "        alt.Y(\"response_rate:Q\")\n",
    "        .axis(grid=False, tickCount=4, domainColor=\"black\", titlePadding=10, format=\"%\")\n",
    "        .scale(domain=(0, 1))\n",
    "        .title(\"Clinical Benefit Rate (%)\"),\n",
    "        alt.X(\"model:N\")\n",
    "        .axis(domainColor=\"black\", labelAngle=-45)\n",
    "        .scale(domain=MODELS, paddingOuter=0.15)\n",
    "        .title(None),\n",
    "        alt.Color(\"model:N\", scale=MODEL_COLOR_SCALE).legend(None),\n",
    "    )\n",
    "    .properties(height=230, width=31 * len(MODELS))\n",
    ")\n",
    "\n",
    "rand_CBR_rule_models = (\n",
    "    alt.Chart(pd.DataFrame({\"y\": [rand_CBR_models]}))\n",
    "    .mark_rule(stroke=\"black\", strokeDash=[3, 3], strokeWidth=1.5)\n",
    "    .encode(y=\"y:Q\")\n",
    ")\n",
    "\n",
    "min_CBR_rule_models = (\n",
    "    alt.Chart(pd.DataFrame({\"y\": [min_CBR_models]}))\n",
    "    .mark_rule(stroke=\"black\", strokeDash=[3, 3], strokeWidth=1.5)\n",
    "    .encode(y=\"y:Q\")\n",
    ")\n",
    "\n",
    "max_CBR_rule_models = (\n",
    "    alt.Chart(pd.DataFrame({\"y\": [max_CBR_models]}))\n",
    "    .mark_rule(stroke=\"black\", strokeDash=[3, 3], strokeWidth=1.5)\n",
    "    .encode(y=\"y:Q\")\n",
    ")\n",
    "\n",
    "text_models = base_models.mark_text(align=\"center\", dy=-15, fontSize=10).encode(\n",
    "    alt.YValue(1),\n",
    "    alt.X(\"model:N\").title(None),\n",
    "    alt.Text(\"response_rate:Q\", format=\".0%\"),\n",
    ")\n",
    "\n",
    "\n",
    "CBR_chart_models = alt.layer(\n",
    "    bars_models,\n",
    "    rand_CBR_rule_models,\n",
    "    min_CBR_rule_models,\n",
    "    max_CBR_rule_models,\n",
    "    text_models,\n",
    ")"
   ]
  },
  {
   "cell_type": "code",
   "execution_count": null,
   "metadata": {},
   "outputs": [],
   "source": [
    "base_screen = alt.Chart(screen_CBR_source)\n",
    "\n",
    "bars_screen = (\n",
    "    base_screen.mark_bar(stroke=\"black\", size=25, strokeWidth=1)\n",
    "    .encode(\n",
    "        alt.Y(\"response_rate:Q\")\n",
    "        .axis(grid=False, tickCount=4, domainColor=\"black\", titlePadding=10, format=\"%\")\n",
    "        .scale(domain=(0, 1))\n",
    "        .title(\"Clinical Benefit Rate (%)\"),\n",
    "        alt.X(\"model:N\")\n",
    "        .axis(domainColor=\"black\", labelAngle=-45)\n",
    "        .scale(domain=SCREEN_MODELS, paddingOuter=0.15)\n",
    "        .title(None),\n",
    "        alt.Color(\"model:N\", scale=MODEL_COLOR_SCALE).legend(None),\n",
    "    )\n",
    "    .properties(height=230, width=32 * len(SCREEN_MODELS))\n",
    ")\n",
    "\n",
    "rand_CBR_rule_screen = (\n",
    "    alt.Chart(pd.DataFrame({\"y\": [rand_CBR_screen]}))\n",
    "    .mark_rule(stroke=\"black\", strokeDash=[3, 3], strokeWidth=1.5)\n",
    "    .encode(y=\"y:Q\")\n",
    ")\n",
    "\n",
    "min_CBR_rule_screen = (\n",
    "    alt.Chart(pd.DataFrame({\"y\": [min_CBR_screen]}))\n",
    "    .mark_rule(stroke=\"black\", strokeDash=[3, 3], strokeWidth=1.5)\n",
    "    .encode(y=\"y:Q\")\n",
    ")\n",
    "\n",
    "max_CBR_rule_screen = (\n",
    "    alt.Chart(pd.DataFrame({\"y\": [max_CBR_screen]}))\n",
    "    .mark_rule(stroke=\"black\", strokeDash=[3, 3], strokeWidth=1.5)\n",
    "    .encode(y=\"y:Q\")\n",
    ")\n",
    "\n",
    "text_screen = base_screen.mark_text(align=\"center\", dy=-15, fontSize=10).encode(\n",
    "    alt.YValue(1),\n",
    "    alt.X(\"model:N\").title(None),\n",
    "    alt.Text(\"response_rate:Q\", format=\".0%\"),\n",
    ")\n",
    "\n",
    "\n",
    "CBR_chart_screen = alt.layer(\n",
    "    bars_screen,\n",
    "    rand_CBR_rule_screen,\n",
    "    min_CBR_rule_screen,\n",
    "    max_CBR_rule_screen,\n",
    "    text_screen,\n",
    ")"
   ]
  },
  {
   "cell_type": "code",
   "execution_count": null,
   "metadata": {},
   "outputs": [],
   "source": [
    "CBR_chart = alt.hconcat(CBR_chart_screen, CBR_chart_models).resolve_axis(y=\"shared\")\n",
    "# configure_chart(CBR_chart)"
   ]
  },
  {
   "cell_type": "code",
   "execution_count": null,
   "metadata": {},
   "outputs": [],
   "source": [
    "max(iter_ORRs_models)"
   ]
  },
  {
   "cell_type": "code",
   "execution_count": null,
   "metadata": {},
   "outputs": [],
   "source": [
    "base_models = alt.Chart(model_ORR_source)\n",
    "\n",
    "bars_models = (\n",
    "    base_models.mark_bar(stroke=\"black\", size=25, strokeWidth=1)\n",
    "    .encode(\n",
    "        alt.Y(\"response_rate:Q\")\n",
    "        .axis(grid=False, tickCount=4, domainColor=\"black\", titlePadding=10, format=\"%\")\n",
    "        .scale(domain=(0, 1))\n",
    "        .title(\"Objective Response Rate (%)\"),\n",
    "        alt.X(\"model:N\")\n",
    "        .axis(domainColor=\"black\", labelAngle=-45)\n",
    "        .scale(domain=MODELS, paddingOuter=0.15)\n",
    "        .title(None),\n",
    "        alt.Color(\"model:N\", scale=MODEL_COLOR_SCALE).legend(None),\n",
    "    )\n",
    "    .properties(height=230, width=31 * len(MODELS))\n",
    ")\n",
    "\n",
    "rand_ORR_rule_models = (\n",
    "    alt.Chart(pd.DataFrame({\"y\": [rand_ORR_models]}))\n",
    "    .mark_rule(stroke=\"black\", strokeDash=[3, 3], strokeWidth=1.5)\n",
    "    .encode(y=\"y:Q\")\n",
    ")\n",
    "\n",
    "min_ORR_rule_models = (\n",
    "    alt.Chart(pd.DataFrame({\"y\": [min_ORR_models]}))\n",
    "    .mark_rule(stroke=\"black\", strokeDash=[3, 3], strokeWidth=1.5)\n",
    "    .encode(y=\"y:Q\")\n",
    ")\n",
    "\n",
    "max_ORR_rule_models = (\n",
    "    alt.Chart(pd.DataFrame({\"y\": [max_ORR_models]}))\n",
    "    .mark_rule(stroke=\"black\", strokeDash=[3, 3], strokeWidth=1.5)\n",
    "    .encode(y=\"y:Q\")\n",
    ")\n",
    "\n",
    "text_models = base_models.mark_text(align=\"center\", dy=-15, fontSize=10).encode(\n",
    "    alt.YValue(1),\n",
    "    alt.X(\"model:N\").title(None),\n",
    "    alt.Text(\"response_rate:Q\", format=\".0%\"),\n",
    ")\n",
    "\n",
    "\n",
    "ORR_chart_models = alt.layer(\n",
    "    bars_models,\n",
    "    rand_ORR_rule_models,\n",
    "    min_ORR_rule_models,\n",
    "    max_ORR_rule_models,\n",
    "    text_models,\n",
    ")"
   ]
  },
  {
   "cell_type": "code",
   "execution_count": null,
   "metadata": {},
   "outputs": [],
   "source": [
    "base_screen = alt.Chart(screen_ORR_source)\n",
    "\n",
    "bars_screen = (\n",
    "    base_screen.mark_bar(stroke=\"black\", size=25, strokeWidth=1)\n",
    "    .encode(\n",
    "        alt.Y(\"response_rate:Q\")\n",
    "        .axis(grid=False, tickCount=4, domainColor=\"black\", titlePadding=10, format=\"%\")\n",
    "        .scale(domain=(0, 1))\n",
    "        .title(\"Objective Response Rate (%)\"),\n",
    "        alt.X(\"model:N\")\n",
    "        .axis(domainColor=\"black\", labelAngle=-45)\n",
    "        .scale(domain=SCREEN_MODELS, paddingOuter=0.15)\n",
    "        .title(None),\n",
    "        alt.Color(\"model:N\", scale=MODEL_COLOR_SCALE).legend(None),\n",
    "    )\n",
    "    .properties(height=230, width=32 * len(SCREEN_MODELS))\n",
    ")\n",
    "\n",
    "rand_ORR_rule_screen = (\n",
    "    alt.Chart(pd.DataFrame({\"y\": [rand_ORR_screen]}))\n",
    "    .mark_rule(stroke=\"black\", strokeDash=[3, 3], strokeWidth=1.5)\n",
    "    .encode(y=\"y:Q\")\n",
    ")\n",
    "\n",
    "min_ORR_rule_screen = (\n",
    "    alt.Chart(pd.DataFrame({\"y\": [min_ORR_screen]}))\n",
    "    .mark_rule(stroke=\"black\", strokeDash=[3, 3], strokeWidth=1.5)\n",
    "    .encode(y=\"y:Q\")\n",
    ")\n",
    "\n",
    "max_ORR_rule_screen = (\n",
    "    alt.Chart(pd.DataFrame({\"y\": [max_ORR_screen]}))\n",
    "    .mark_rule(stroke=\"black\", strokeDash=[3, 3], strokeWidth=1.5)\n",
    "    .encode(y=\"y:Q\")\n",
    ")\n",
    "\n",
    "text_screen = base_screen.mark_text(align=\"center\", dy=-15, fontSize=10).encode(\n",
    "    alt.YValue(1),\n",
    "    alt.X(\"model:N\").title(None),\n",
    "    alt.Text(\"response_rate:Q\", format=\".0%\"),\n",
    ")\n",
    "\n",
    "\n",
    "ORR_chart_screen = alt.layer(\n",
    "    bars_screen,\n",
    "    rand_ORR_rule_screen,\n",
    "    min_ORR_rule_screen,\n",
    "    max_ORR_rule_screen,\n",
    "    text_screen,\n",
    ")"
   ]
  },
  {
   "cell_type": "code",
   "execution_count": null,
   "metadata": {},
   "outputs": [],
   "source": [
    "ORR_chart = alt.hconcat(ORR_chart_screen, ORR_chart_models).resolve_axis(y=\"shared\")"
   ]
  },
  {
   "cell_type": "code",
   "execution_count": null,
   "metadata": {},
   "outputs": [],
   "source": [
    "chart = alt.hconcat(CBR_chart, ORR_chart, spacing=40)\n",
    "configure_chart(chart)"
   ]
  },
  {
   "cell_type": "code",
   "execution_count": null,
   "metadata": {},
   "outputs": [],
   "source": [
    "# percentage of maximum attainable ORR acheived\n",
    "model_ORR_source.set_index(\"model\")[\"response_rate\"] / max_ORR_models"
   ]
  },
  {
   "cell_type": "code",
   "execution_count": null,
   "metadata": {},
   "outputs": [],
   "source": [
    "# percentage of maximum attainable ORR acheived\n",
    "screen_ORR_source.set_index(\"model\")[\"response_rate\"] / max_ORR_screen"
   ]
  },
  {
   "cell_type": "code",
   "execution_count": null,
   "metadata": {},
   "outputs": [],
   "source": [
    "raw_screen_selected_drugs.query(\"cell_id == 'HCI001'\")"
   ]
  },
  {
   "cell_type": "code",
   "execution_count": null,
   "metadata": {},
   "outputs": [],
   "source": [
    "(\n",
    "    ensembl_selected_drugs.query(\"model == 'ScreenDL-FT'\")\n",
    "    .assign(y_true=lambda df: df[\"mRECIST\"].isin([\"CR\", \"PR\"]))[\"y_true\"]\n",
    "    .sum()\n",
    "    + 1\n",
    ") / 20"
   ]
  },
  {
   "cell_type": "markdown",
   "metadata": {},
   "source": [
    "## Waterfall plots for all drugs vs drug selected by ScreenDL-SA"
   ]
  },
  {
   "cell_type": "code",
   "execution_count": null,
   "metadata": {},
   "outputs": [],
   "source": [
    "X = (\n",
    "    raw_pdx_obs[[\"cell_id\", \"drug_id\", \"r_best\", \"r_avg\", \"mRECIST\"]]\n",
    "    .merge(\n",
    "        ensembl_selected_drugs.query(\"model == 'ScreenDL-SA'\")\n",
    "        .filter(items=[\"cell_id\", \"drug_id\"])\n",
    "        .assign(was_selected=True),\n",
    "        how=\"left\",\n",
    "    )\n",
    "    .query(\"cell_id in @ensembl_selected_drugs.cell_id\")\n",
    "    .fillna({\"was_selected\": False})\n",
    "    .assign(\n",
    "        x=lambda df: df[\"cell_id\"] + \" + \" + df[\"drug_id\"],\n",
    "        r_avg=lambda df: df[\"r_avg\"] / 100,\n",
    "    )\n",
    ")"
   ]
  },
  {
   "cell_type": "code",
   "execution_count": null,
   "metadata": {},
   "outputs": [],
   "source": [
    "not_selected_chart = (\n",
    "    alt.Chart(X.query(\"was_selected == False\"))\n",
    "    .mark_bar(size=13.5, stroke=\"black\", strokeWidth=1)\n",
    "    .encode(\n",
    "        alt.X(\"x:N\")\n",
    "        .sort(\"-y\")\n",
    "        .axis(grid=False, labels=False, ticks=False, offset=-125)\n",
    "        .scale(paddingOuter=0.2)\n",
    "        .title(None),\n",
    "        alt.Y(\"r_avg:Q\")\n",
    "        .axis(grid=False, tickCount=5, titlePadding=10, format=\"%\")\n",
    "        .scale(domain=(-1, 1), clamp=True)\n",
    "        .title([\"Change in tumor volume (%)\", \"(BestAvgResponse)\"]),\n",
    "        alt.Color(\"mRECIST:N\").scale(\n",
    "            domain=(\"CR\", \"PR\", \"SD\", \"PD\"),\n",
    "            range=(\"#9ECAE9\", \"#89D27A\", \"#F2CF5B\", \"#FF9D98\"),\n",
    "        ),\n",
    "    )\n",
    "    .properties(width=16 * X.query(\"was_selected == False\").shape[0], height=250)\n",
    ")\n",
    "\n",
    "selected_chart = (\n",
    "    alt.Chart(X.query(\"was_selected == True\"))\n",
    "    .mark_bar(size=13.5, stroke=\"black\", strokeWidth=1)\n",
    "    .encode(\n",
    "        alt.X(\"x:N\")\n",
    "        .sort(\"-y\")\n",
    "        .axis(grid=False, labels=False, ticks=False, offset=-125)\n",
    "        .scale(paddingOuter=0.2)\n",
    "        .title(None),\n",
    "        alt.Y(\"r_avg:Q\")\n",
    "        .axis(grid=False, tickCount=5, titlePadding=10, format=\"%\")\n",
    "        .scale(domain=(-1, 1), clamp=True)\n",
    "        .title([\"Change in tumor volume (%)\", \"(BestAvgResponse)\"]),\n",
    "        alt.Color(\"mRECIST:N\").scale(\n",
    "            domain=(\"CR\", \"PR\", \"SD\", \"PD\"),\n",
    "            range=(\"#9ECAE9\", \"#89D27A\", \"#F2CF5B\", \"#FF9D98\"),\n",
    "        ),\n",
    "    )\n",
    "    .properties(width=16 * X.query(\"was_selected == True\").shape[0], height=250)\n",
    ")\n",
    "\n",
    "configure_chart(alt.hconcat(selected_chart, not_selected_chart, spacing=40))"
   ]
  },
  {
   "cell_type": "code",
   "execution_count": null,
   "metadata": {},
   "outputs": [],
   "source": [
    "CBR_ctab_models = (\n",
    "    X.assign(CBR=lambda df: df[\"mRECIST\"].isin([\"CR\", \"PR\", \"SD\"]))\n",
    "    .groupby([\"was_selected\", \"CBR\"])\n",
    "    .size()\n",
    "    .unstack(0)\n",
    ")\n",
    "\n",
    "stats.fisher_exact(CBR_ctab_models)"
   ]
  },
  {
   "cell_type": "code",
   "execution_count": null,
   "metadata": {},
   "outputs": [],
   "source": [
    "ORR_ctab_models = (\n",
    "    X.assign(ORR=lambda df: df[\"mRECIST\"].isin([\"CR\", \"PR\"]))\n",
    "    .groupby([\"was_selected\", \"ORR\"])\n",
    "    .size()\n",
    "    .unstack(0)\n",
    ")\n",
    "\n",
    "stats.fisher_exact(ORR_ctab_models)"
   ]
  },
  {
   "cell_type": "code",
   "execution_count": null,
   "metadata": {},
   "outputs": [],
   "source": [
    "X = (\n",
    "    raw_pdx_obs[[\"cell_id\", \"drug_id\", \"r_best\", \"r_avg\", \"mRECIST\"]]\n",
    "    .merge(\n",
    "        raw_screen_selected_drugs.query(\"model == 'Screen - ln(IC50)'\")\n",
    "        .filter(items=[\"cell_id\", \"drug_id\"])\n",
    "        .assign(was_selected=True),\n",
    "        how=\"left\",\n",
    "    )\n",
    "    .query(\"cell_id in @raw_screen_selected_drugs.cell_id\")\n",
    "    .fillna({\"was_selected\": False})\n",
    "    .assign(\n",
    "        x=lambda df: df[\"cell_id\"] + \" + \" + df[\"drug_id\"],\n",
    "        r_avg=lambda df: df[\"r_avg\"] / 100,\n",
    "    )\n",
    ")"
   ]
  },
  {
   "cell_type": "code",
   "execution_count": null,
   "metadata": {},
   "outputs": [],
   "source": [
    "CBR_ctab_screen = (\n",
    "    X.assign(CBR=lambda df: df[\"mRECIST\"].isin([\"CR\", \"PR\", \"SD\"]))\n",
    "    .groupby([\"was_selected\", \"CBR\"])\n",
    "    .size()\n",
    "    .unstack(0)\n",
    ")\n",
    "\n",
    "stats.fisher_exact(CBR_ctab_screen)"
   ]
  },
  {
   "cell_type": "code",
   "execution_count": null,
   "metadata": {},
   "outputs": [],
   "source": [
    "ORR_ctab_screen = (\n",
    "    X.assign(ORR=lambda df: df[\"mRECIST\"].isin([\"CR\", \"PR\"]))\n",
    "    .groupby([\"was_selected\", \"ORR\"])\n",
    "    .size()\n",
    "    .unstack(0)\n",
    ")\n",
    "\n",
    "stats.fisher_exact(ORR_ctab_screen)"
   ]
  },
  {
   "cell_type": "code",
   "execution_count": null,
   "metadata": {},
   "outputs": [],
   "source": [
    "# look at fisher exact test for proportion of CBR and ORR in selected vs not selected"
   ]
  },
  {
   "cell_type": "code",
   "execution_count": null,
   "metadata": {},
   "outputs": [],
   "source": [
    "# FIXME: add percentage and number of PDXs to top of panel\n",
    "# FIXME: try using GRAOC metric to select drugs for the raw PDxO screening"
   ]
  },
  {
   "cell_type": "markdown",
   "metadata": {},
   "source": [
    "## Delta tumor volume visuals for selected drugs"
   ]
  },
  {
   "cell_type": "code",
   "execution_count": null,
   "metadata": {},
   "outputs": [],
   "source": [
    "temp = ensembl_selected_drugs.query(\"model == 'ScreenDL-SA'\")\n",
    "temp = temp.merge(raw_pdx_obs.drop(columns=\"mRECIST\"), on=[\"cell_id\", \"drug_id\"]).copy()\n",
    "temp[\"mRECIST\"] = pd.Categorical(\n",
    "    temp[\"mRECIST\"], categories=[\"CR\", \"PR\", \"SD\", \"PD\"], ordered=True\n",
    ")"
   ]
  },
  {
   "cell_type": "code",
   "execution_count": null,
   "metadata": {},
   "outputs": [],
   "source": [
    "get_header = lambda r: f\"{r['cell_id']} + {r['drug_id']} ({r['mRECIST']})\"\n",
    "temp[\"header\"] = temp.apply(get_header, axis=1)\n",
    "sample_to_header = dict(zip(temp[\"cell_id\"], temp[\"header\"])) \n",
    "pdx_order = temp.sort_values([\"mRECIST\", \"r_best\"])[\"cell_id\"].to_list()\n",
    "facet_order = temp.sort_values([\"mRECIST\", \"r_best\"])[\"header\"].to_list()"
   ]
  },
  {
   "cell_type": "code",
   "execution_count": null,
   "metadata": {},
   "outputs": [],
   "source": [
    "sel_inds = pd.Index(temp[[\"cell_id\", \"drug_id\", \"exp_id\"]])\n",
    "drug_source = (\n",
    "    raw_pdx_data_drug.set_index([\"sample_id\", \"drug_name\", \"exp_id\"])\n",
    "    .loc[sel_inds]\n",
    "    .reset_index()\n",
    ")\n",
    "ctrl_source = (\n",
    "    raw_pdx_data_ctrl.set_index([\"sample_id\", \"exp_id\"])\n",
    "    .loc[[(x[0], x[2]) for x in sel_inds]]\n",
    "    .reset_index()\n",
    ")\n",
    "\n",
    "source = pd.concat([ctrl_source, drug_source])\n",
    "source[\"header\"] = source[\"sample_id\"].map(sample_to_header)"
   ]
  },
  {
   "cell_type": "code",
   "execution_count": null,
   "metadata": {},
   "outputs": [],
   "source": [
    "drug_order = (\n",
    "    drug_source.drop_duplicates([\"sample_id\", \"drug_name\"])\n",
    "    .set_index(\"sample_id\")\n",
    "    .loc[pdx_order][\"drug_name\"]\n",
    "    .unique()\n",
    ")"
   ]
  },
  {
   "cell_type": "code",
   "execution_count": null,
   "metadata": {},
   "outputs": [],
   "source": [
    "# NOTE: we filter out observations beyond 40 days after treatment start\n",
    "base = (\n",
    "    alt.Chart(source)\n",
    "    .transform_filter(alt.datum.day <= 40)\n",
    "    .encode(\n",
    "        alt.X(\"day:Q\")\n",
    "        .axis(labelAngle=0, tickCount=4, grid=False, titlePadding=10)\n",
    "        .scale(domainMax=40, domainMin=0)\n",
    "        .title(\"Time after treatment (d)\"),\n",
    "        alt.Y(\"rel_tumor_vol_pct:Q\")\n",
    "        .axis(grid=False, tickCount=4, minExtent=35, titlePadding=5)\n",
    "        .scale(domainMin=0, nice=True)\n",
    "        .title(\"Relative tumor volume (%)\"),\n",
    "        alt.condition(\n",
    "            alt.datum.drug_name == \"Vehicle\",\n",
    "            alt.ColorValue(\"darkgray\"),\n",
    "            alt.Color(\"drug_name:N\")\n",
    "            .scale(domain=list(drug_order))\n",
    "            .legend(orient=\"right\", columns=1)\n",
    "            .title(None),\n",
    "        ),\n",
    "        alt.Detail(\"mouse_id:N\"),\n",
    "    )\n",
    ")\n",
    "\n",
    "chart = (\n",
    "    base.mark_line(strokeWidth=1, point=alt.MarkConfig(size=20), clip=False)\n",
    "    .properties(width=150, height=120)\n",
    "    .facet(alt.Facet(\"header:N\", sort=facet_order, header=None), columns=6, spacing=30)\n",
    "    .resolve_scale(y=\"independent\", x=\"independent\")\n",
    "    .configure_view(strokeOpacity=0)\n",
    "    .configure_axis(\n",
    "        titleFont=\"arial\",\n",
    "        titleFontStyle=\"regular\",\n",
    "        titleFontSize=11,\n",
    "        labelFont=\"arial\",\n",
    "        tickColor=\"black\",\n",
    "        domainColor=\"black\",\n",
    "    )\n",
    "    .configure_header(\n",
    "        titleFont=\"arial\",\n",
    "        titleFontStyle=\"regular\",\n",
    "        titleFontSize=11,\n",
    "    )\n",
    ")\n",
    "\n",
    "chart.display()"
   ]
  },
  {
   "cell_type": "code",
   "execution_count": null,
   "metadata": {},
   "outputs": [],
   "source": [
    "temp = (\n",
    "    raw_screen_selected_drugs.drop(columns=\"mRECIST\")\n",
    "    .query(\"model == 'Screen - ln(IC50)'\")\n",
    "    .merge(raw_pdx_obs, on=[\"cell_id\", \"drug_id\"])\n",
    "    .copy()\n",
    ")\n",
    "temp[\"mRECIST\"] = pd.Categorical(\n",
    "    temp[\"mRECIST\"], categories=[\"CR\", \"PR\", \"SD\", \"PD\"], ordered=True\n",
    ")\n",
    "pdx_order = temp.sort_values([\"mRECIST\", \"r_best\"])[\"cell_id\"].to_list()"
   ]
  },
  {
   "cell_type": "code",
   "execution_count": null,
   "metadata": {},
   "outputs": [],
   "source": [
    "sel_inds = pd.Index(temp[[\"cell_id\", \"drug_id\", \"exp_id\"]])\n",
    "drug_source = (\n",
    "    raw_pdx_data_drug.set_index([\"sample_id\", \"drug_name\", \"exp_id\"])\n",
    "    .loc[sel_inds]\n",
    "    .reset_index()\n",
    ")\n",
    "ctrl_source = (\n",
    "    raw_pdx_data_ctrl.set_index([\"sample_id\", \"exp_id\"])\n",
    "    .loc[[(x[0], x[2]) for x in sel_inds]]\n",
    "    .reset_index()\n",
    ")\n",
    "\n",
    "source = pd.concat([ctrl_source, drug_source])"
   ]
  },
  {
   "cell_type": "code",
   "execution_count": null,
   "metadata": {},
   "outputs": [],
   "source": [
    "drug_order = (\n",
    "    drug_source.drop_duplicates([\"sample_id\", \"drug_name\"])\n",
    "    .set_index(\"sample_id\")\n",
    "    .loc[pdx_order][\"drug_name\"]\n",
    "    .unique()\n",
    ")"
   ]
  },
  {
   "cell_type": "code",
   "execution_count": null,
   "metadata": {},
   "outputs": [],
   "source": [
    "temp.sort_values(\"mRECIST\")"
   ]
  },
  {
   "cell_type": "code",
   "execution_count": null,
   "metadata": {},
   "outputs": [],
   "source": [
    "# NOTE: we filter out observations beyond 40 days after treatment start\n",
    "base = (\n",
    "    alt.Chart(source)\n",
    "    .transform_filter(alt.datum.day <= 40)\n",
    "    .encode(\n",
    "        alt.X(\"day:Q\")\n",
    "        .axis(labelAngle=0, tickCount=4, grid=False, titlePadding=10)\n",
    "        .scale(domainMax=40, domainMin=0)\n",
    "        .title(\"Time after treatment (d)\"),\n",
    "        alt.Y(\"rel_tumor_vol_pct:Q\")\n",
    "        .axis(grid=False, tickCount=4, minExtent=35, titlePadding=5)\n",
    "        .scale(domainMin=0, nice=True)\n",
    "        .title(\"Relative tumor volume (%)\"),\n",
    "        alt.condition(\n",
    "            alt.datum.drug_name == \"Vehicle\",\n",
    "            alt.ColorValue(\"darkgray\"),\n",
    "            alt.Color(\"drug_name:N\")\n",
    "            .scale(domain=list(drug_order))\n",
    "            .legend(orient=\"top\")\n",
    "            .title(None),\n",
    "        ),\n",
    "        alt.Detail(\"mouse_id:N\"),\n",
    "    )\n",
    ")\n",
    "\n",
    "chart = (\n",
    "    base.mark_line(strokeWidth=1, point=alt.MarkConfig(size=20), clip=False)\n",
    "    .properties(width=140, height=110)\n",
    "    .facet(alt.Facet(\"sample_id:N\", sort=pdx_order, header=None), columns=5, spacing=30)\n",
    "    .resolve_scale(y=\"independent\", x=\"independent\")\n",
    "    .configure_view(strokeOpacity=0)\n",
    "    .configure_axis(\n",
    "        titleFont=\"arial\",\n",
    "        titleFontStyle=\"regular\",\n",
    "        titleFontSize=11,\n",
    "        labelFont=\"arial\",\n",
    "        tickColor=\"black\",\n",
    "        domainColor=\"black\",\n",
    "    )\n",
    "    .configure_header(\n",
    "        titleFont=\"arial\",\n",
    "        titleFontStyle=\"regular\",\n",
    "        titleFontSize=11,\n",
    "    )\n",
    ")\n",
    "\n",
    "chart.display()"
   ]
  },
  {
   "cell_type": "markdown",
   "metadata": {},
   "source": [
    "## Comparison of ScreenDL runs"
   ]
  },
  {
   "cell_type": "code",
   "execution_count": null,
   "metadata": {},
   "outputs": [],
   "source": [
    "output_dir = root / \"outputs/experiments/pdx_validation\"\n",
    "\n",
    "path_fmt = \"{0}/{1}/multiruns/{2}\"\n",
    "\n",
    "dataset = \"CellModelPassports-GDSCv1v2-HCI\"\n",
    "model = \"ScreenDL\"\n",
    "mapper = {\"base\": \"ScreenDL-PT\", \"xfer\": \"ScreenDL-FT\", \"screen\": \"ScreenDL-SA\"}\n",
    "\n",
    "dates = [\n",
    "    \"2024-11-21_11-23-58\",\n",
    "    \"2024-11-21_14-08-27\",\n",
    "    \"2024-11-21_15-08-17\",\n",
    "    \"2024-11-21_18-14-24\",\n",
    "    \"2024-11-22_08-11-05\",\n",
    "    \"2024-11-22_08-11-31\",\n",
    "    \"2024-11-22_19-40-35\",\n",
    "    \"2024-11-22_19-41-05\",\n",
    "    \"2024-11-23_07-33-53\",\n",
    "    \"2024-11-23_08-25-39\",\n",
    "]\n",
    "\n",
    "temp = []\n",
    "for date in dates:\n",
    "    run_dir = output_dir / path_fmt.format(dataset, model, date)\n",
    "    screendl_pdxo_results = load_multirun_predictions(run_dir, \"*/predictions_pdxo.csv\")\n",
    "    screendl_pdx_results = load_multirun_predictions(run_dir, \"*/predictions_pdx.csv\")\n",
    "    screendl_pdxo_results[\"model\"] = screendl_pdxo_results[\"model\"].map(mapper)\n",
    "    screendl_pdx_results[\"model\"] = screendl_pdx_results[\"model\"].map(mapper)\n",
    "    temp.append(screendl_pdx_results.assign(date=date))\n",
    "\n",
    "\n",
    "temp = pd.concat(temp)\n",
    "\n",
    "# add in additional annotations\n",
    "temp = (\n",
    "    temp.merge(\n",
    "        raw_pdx_obs.drop(columns=[\"id\", \"label\"]), how=\"left\", on=[\"cell_id\", \"drug_id\"]\n",
    "    )\n",
    "    .sort_values([\"model\", \"iter\", \"cell_id\", \"drug_id\"])\n",
    "    .groupby([\"model\", \"date\", \"drug_id\", \"cell_id\"])\n",
    "    .aggregate(\n",
    "        {\n",
    "            \"y_true\": \"first\",\n",
    "            \"y_pred\": lambda x: stats.trim_mean(x, 0.2),\n",
    "            \"mRECIST\": \"first\",\n",
    "        }\n",
    "    )\n",
    "    .reset_index()\n",
    ")"
   ]
  },
  {
   "cell_type": "code",
   "execution_count": null,
   "metadata": {},
   "outputs": [],
   "source": [
    "responders_per_drug = raw_pdx_obs.groupby(\"drug_id\")[\"label\"].sum()\n",
    "DRUGS_WITH_RESPONDERS = responders_per_drug[responders_per_drug >= 1].index\n",
    "temp = temp.query(\"drug_id in @DRUGS_WITH_RESPONDERS\")\n",
    "\n",
    "# drop PDX samples with less than 2 drugs to choose from\n",
    "drugs_per_PDX = temp.groupby(\"cell_id\")[\"drug_id\"].nunique()\n",
    "GOOD_PDX_SAMPLES = drugs_per_PDX[drugs_per_PDX > 1].index\n",
    "temp = temp.query(\"cell_id in @GOOD_PDX_SAMPLES\")"
   ]
  },
  {
   "cell_type": "code",
   "execution_count": null,
   "metadata": {},
   "outputs": [],
   "source": [
    "ensembl_selected_drugs = (\n",
    "    temp.groupby([\"model\", \"date\", \"cell_id\"], as_index=False)\n",
    "    .apply(lambda df: select_best_therapy(df, on_=\"y_pred\"))\n",
    "    .sort_values([\"model\", \"date\", \"cell_id\"])\n",
    ")\n",
    "\n",
    "ensembl_CBRs = ensembl_selected_drugs.groupby([\"model\", \"date\"]).apply(get_response_rate)\n",
    "ensembl_CBRs.unstack(0)[MODELS[2:]].mean()"
   ]
  },
  {
   "cell_type": "code",
   "execution_count": null,
   "metadata": {},
   "outputs": [],
   "source": [
    "ensembl_ORRs = (\n",
    "    ensembl_selected_drugs.assign(\n",
    "        y_true=lambda df: df[\"mRECIST\"].isin([\"PR\", \"CR\"]).astype(int)\n",
    "    )\n",
    "    .groupby([\"model\", \"date\"])\n",
    "    .apply(get_response_rate)\n",
    ")\n",
    "\n",
    "ensembl_ORRs.unstack(0)[MODELS[2:]].mean()"
   ]
  },
  {
   "cell_type": "code",
   "execution_count": null,
   "metadata": {},
   "outputs": [],
   "source": [
    "ensembl_ORRs.unstack(0)[MODELS[2:]]"
   ]
  },
  {
   "cell_type": "code",
   "execution_count": null,
   "metadata": {},
   "outputs": [],
   "source": [
    "import scipy.spatial.distance as ssd"
   ]
  },
  {
   "cell_type": "code",
   "execution_count": null,
   "metadata": {},
   "outputs": [],
   "source": []
  },
  {
   "cell_type": "code",
   "execution_count": null,
   "metadata": {},
   "outputs": [],
   "source": [
    "X = ensembl_CBRs.unstack(0).join(ensembl_ORRs.unstack(0), rsuffix=\" ORR\", lsuffix=\" CBR\")\n",
    "X.index[np.argmin(ssd.cdist(X, np.expand_dims(X.mean(), 0), metric=\"cosine\"))]"
   ]
  },
  {
   "cell_type": "markdown",
   "metadata": {},
   "source": [
    "## Drug-Level Analysis"
   ]
  },
  {
   "cell_type": "code",
   "execution_count": null,
   "metadata": {},
   "outputs": [],
   "source": [
    "# NOTE: add discussion point -> even if we screened with every single drug, the machine does better (especially with the ensemble)\n",
    "# NOTE: we would expect a very low response rate in this population as these patients will be resistant to lots of drugs\n",
    "# NOTE: random seleciton mirrors the expected response rate to randomly selected chemotherapies"
   ]
  },
  {
   "cell_type": "code",
   "execution_count": null,
   "metadata": {},
   "outputs": [],
   "source": [
    "# NOTE: while the raw screening has fewer drugs to choose from, none of the drugs\n",
    "# that are missing are chosen by any of the models\n",
    "# FIXME: check why these are worse than in the old jupyter notebooks (filtering tumors)"
   ]
  },
  {
   "cell_type": "code",
   "execution_count": null,
   "metadata": {},
   "outputs": [],
   "source": [
    "# results_f2.groupby(\"cell_id\")[\"drug_id\"].nunique()\n",
    "\n",
    "# raw_screen_preds.query(\"cell_id in @results_f2.cell_id\").query(\n",
    "#     \"drug_id in @results_f2.drug_id\"\n",
    "# ).groupby(\"cell_id\")[\"drug_id\"].nunique()"
   ]
  },
  {
   "cell_type": "markdown",
   "metadata": {},
   "source": [
    "## PDxO-Level Performance"
   ]
  },
  {
   "cell_type": "code",
   "execution_count": null,
   "metadata": {},
   "outputs": [],
   "source": [
    "# ensembl_pdx_result = (\n",
    "#     results_f2.groupby([\"model\", \"drug_id\", \"cell_id\"])\n",
    "#     .agg(\n",
    "#         {\n",
    "#             \"y_true\": \"first\",\n",
    "#             \"y_pred\": \"mean\",\n",
    "#             \"mRECIST\": \"first\",\n",
    "#             \"r_best\": \"first\",\n",
    "#             \"r_avg\": \"first\",\n",
    "#         }\n",
    "#     )\n",
    "#     .reset_index()\n",
    "# )\n",
    "\n",
    "# func = lambda df: pd.Series(\n",
    "#     {\n",
    "#         \"auROC\": auroc(df),\n",
    "#         \"n_clinical_benefit_drugs\": df[\"y_true\"].sum(),\n",
    "#         \"n_total_drugs\": len(df),\n",
    "#     }\n",
    "# )\n",
    "# ensembl_cell_metrics = (\n",
    "#     ensembl_pdx_result.groupby([\"model\", \"cell_id\"]).apply(func).dropna()\n",
    "# )\n",
    "\n",
    "# ensembl_cell_metrics.groupby(\"model\")[\"auROC\"].describe().loc[MODELS]"
   ]
  },
  {
   "cell_type": "code",
   "execution_count": null,
   "metadata": {},
   "outputs": [],
   "source": [
    "# interested_lines = (\n",
    "#     ensembl_cell_metrics.loc[\"ScreenDL-SA\"].query(\"n_total_drugs >= 5\").index.to_list()\n",
    "# )\n",
    "\n",
    "# query = \"model == 'ScreenDL-SA' and cell_id in @interested_lines\"\n",
    "# interested_result = ensembl_pdx_result.query(query).copy()\n",
    "# grouped = interested_result.groupby(\"cell_id\")\n",
    "# interested_result[\"rank\"] = grouped[\"y_pred\"].transform(\"rank\")\n",
    "# interested_result.head()"
   ]
  },
  {
   "cell_type": "code",
   "execution_count": null,
   "metadata": {},
   "outputs": [],
   "source": [
    "# tv_metrics = (\n",
    "#     interested_result.groupby(\"cell_id\")\n",
    "#     .apply(lambda g: eval_utils.pcorr(g, \"y_pred\", \"r_avg\", min_obs=5))\n",
    "#     .to_frame(name=\"pcc\")\n",
    "#     .reset_index()\n",
    "# )\n",
    "\n",
    "# tv_metrics"
   ]
  },
  {
   "cell_type": "code",
   "execution_count": null,
   "metadata": {},
   "outputs": [],
   "source": [
    "# query = \"model == 'ScreenDL-SA' and cell_id in @interested_lines\"\n",
    "# grouped = ensembl_pdx_result.query(query).groupby(\"cell_id\")\n",
    "# charts = []\n",
    "# for i, (tumor_id, group) in enumerate(grouped):\n",
    "#     n_drugs = group[\"drug_id\"].nunique()\n",
    "#     group[\"rank\"] = group[\"y_pred\"].rank()\n",
    "\n",
    "#     x_encoding = alt.X(\"rank:O\")\n",
    "#     y_encoding = alt.Y(\"r_avg:Q\")\n",
    "#     c_encoding = alt.Color(\"mRECIST:O\").scale(\n",
    "#         domain=([\"CR\", \"PR\", \"SD\", \"PD\"]),\n",
    "#         range=([\"#2978B8\", \"#5BA3CF\", \"#9CC8E2\", \"#F87F2C\"]),\n",
    "#     )\n",
    "\n",
    "#     if i > 0:\n",
    "#         # only show y-axis on the first panel\n",
    "#         y_encoding = y_encoding.axis(None)\n",
    "\n",
    "#     chart = (\n",
    "#         alt.Chart(group)\n",
    "#         .mark_bar()\n",
    "#         .encode(x_encoding, y_encoding, c_encoding)\n",
    "#         .properties(width=15 * n_drugs, height=200, title=tumor_id)\n",
    "#     )\n",
    "#     charts.append(chart)\n",
    "\n",
    "\n",
    "# alt.hconcat(*charts).resolve_scale(y=\"shared\").resolve_axis(y=\"shared\")"
   ]
  },
  {
   "cell_type": "code",
   "execution_count": null,
   "metadata": {},
   "outputs": [],
   "source": [
    "# group.sort_values(\"y_pred\")"
   ]
  },
  {
   "cell_type": "code",
   "execution_count": null,
   "metadata": {},
   "outputs": [],
   "source": [
    "# NOTE: show PDX auROC for lines with @ lest 5 drugs screened"
   ]
  },
  {
   "cell_type": "code",
   "execution_count": null,
   "metadata": {},
   "outputs": [],
   "source": [
    "# ensembl_cell_metrics.loc[\"ScreenDL-FT\"].query(\"n_total_drugs >= 5\")"
   ]
  },
  {
   "cell_type": "code",
   "execution_count": null,
   "metadata": {},
   "outputs": [],
   "source": [
    "# ensembl_cell_metrics.loc[\"ScreenDL-SA\"].query(\"n_total_drugs >= 5\")"
   ]
  },
  {
   "cell_type": "markdown",
   "metadata": {},
   "source": [
    "# Scratch"
   ]
  },
  {
   "cell_type": "markdown",
   "metadata": {},
   "source": [
    "## Learning Curves"
   ]
  },
  {
   "cell_type": "code",
   "execution_count": null,
   "metadata": {},
   "outputs": [],
   "source": [
    "# path = (\n",
    "#     root\n",
    "#     / \"outputs/experiments/pdmc_learning_curves/CellModelPassportsGDSCv1v2HCIv9AllDrugsHallmarkCombat/ScreenDL/runs/2024-11-10_19-29-17\"\n",
    "#     # / \"outputs/experiments/pdmc_learning_curves/CellModelPassportsGDSCv1v2HCIv9AllDrugsHallmarkCombat/ScreenDL/runs/2024-11-10_14-40-42\"\n",
    "#     # / \"outputs/experiments/pdmc_learning_curves/CellModelPassportsGDSCv1v2HCIv9AllDrugsHallmarkCombat/ScreenDL/runs/2024-11-10_16-05-31\"\n",
    "# )\n",
    "\n",
    "# df = pd.read_csv(path / \"predictions_bg.csv\", low_memory=False)\n",
    "# # df = pd.read_csv(path / \"predictions.csv\", low_memory=False)\n",
    "# print(df.shape)\n",
    "# df.head()"
   ]
  },
  {
   "cell_type": "code",
   "execution_count": null,
   "metadata": {},
   "outputs": [],
   "source": [
    "# FIXME: don't do preds vs background for the LC analysis"
   ]
  },
  {
   "cell_type": "code",
   "execution_count": null,
   "metadata": {},
   "outputs": [],
   "source": [
    "# pcc = (\n",
    "#     df.query(\"model == 'tune'\")\n",
    "#     .groupby([\"fold\", \"iter\", \"n_tumors\", \"drug_id\"])\n",
    "#     .apply(eval_utils.pcorr)\n",
    "#     .to_frame(\"pcc\")\n",
    "#     .dropna()\n",
    "#     .reset_index()\n",
    "# )"
   ]
  },
  {
   "cell_type": "code",
   "execution_count": null,
   "metadata": {},
   "outputs": [],
   "source": [
    "# from scipy.optimize import curve_fit\n",
    "# from scipy import stats"
   ]
  },
  {
   "cell_type": "code",
   "execution_count": null,
   "metadata": {},
   "outputs": [],
   "source": [
    "# mae_metrics = (\n",
    "#     df.query(\"model == 'tune'\")\n",
    "#     # .groupby([\"iter\", \"n_tumors\"])\n",
    "#     .groupby([\"fold\", \"iter\", \"n_tumors\"])\n",
    "#     .apply(lambda g: skm.mean_absolute_error(g[\"y_true\"], g[\"y_pred\"]))\n",
    "#     .to_frame(\"mae\")\n",
    "#     .reset_index()\n",
    "# )"
   ]
  },
  {
   "cell_type": "code",
   "execution_count": null,
   "metadata": {},
   "outputs": [],
   "source": [
    "# mae_drug_metrics: pd.DataFrame = (\n",
    "#     df.query(\"model == 'tune'\")\n",
    "#     .groupby([\"fold\", \"iter\", \"n_tumors\", \"drug_id\"])\n",
    "#     .apply(lambda g: skm.mean_absolute_percentage_error(g[\"y_true\"], g[\"y_pred\"]))\n",
    "#     .to_frame(\"mae\")\n",
    "#     .reset_index()\n",
    "# )"
   ]
  },
  {
   "cell_type": "code",
   "execution_count": null,
   "metadata": {},
   "outputs": [],
   "source": [
    "# def power_law(x, a, b):\n",
    "#     return a * np.power(x, b)\n",
    "\n",
    "\n",
    "# mae_metrics_geq_xmin = mae_metrics.query(\"n_tumors > 32\")\n",
    "# x_data = mae_metrics_geq_xmin[\"n_tumors\"].values\n",
    "# y_data = mae_metrics_geq_xmin[\"mae\"].values\n",
    "\n",
    "# params, covariance = curve_fit(power_law, x_data, y_data)\n",
    "# perr = np.sqrt(np.diag(covariance))\n",
    "# a, b = params\n",
    "\n",
    "# x_fit = np.linspace(4, 128, 100)\n",
    "# y_fit = power_law(x_fit, a, b)\n",
    "\n",
    "# alpha = 0.1  # 90% confidence level\n",
    "\n",
    "# dof = max(0, len(x_data) - len(params))  # degrees of freedom\n",
    "# t_val = stats.t.ppf(1 - alpha / 2, dof)  # t-value for the confidence interval\n",
    "\n",
    "# # Define functions to calculate the upper and lower bounds\n",
    "# y_upper = power_law(x_fit, a + perr[0] * t_val, b + perr[1] * t_val)\n",
    "# y_lower = power_law(x_fit, a - perr[0] * t_val, b - perr[1] * t_val)"
   ]
  },
  {
   "cell_type": "code",
   "execution_count": null,
   "metadata": {},
   "outputs": [],
   "source": [
    "# NOTE: \n",
    "# 1. for discussion -> may need to develop other PDxOs for other cancer types -> action item - develop organoids\n",
    "# 2. we still need ds ft for maximal performance"
   ]
  },
  {
   "cell_type": "code",
   "execution_count": null,
   "metadata": {},
   "outputs": [],
   "source": [
    "# scale_config = dict(type=\"log\", base=2)\n",
    "# scale_config = dict()\n",
    "\n",
    "# circles = (\n",
    "#     alt.Chart(mae_metrics)\n",
    "#     .mark_circle()\n",
    "#     .encode(\n",
    "#         alt.X(\"n_tumors:Q\").scale(**scale_config).title(\"No. PDxO Lines\"),\n",
    "#         alt.Y(\"mae:Q\").scale(**scale_config).title(\"Mean Absolute Error\"),\n",
    "#         alt.Color(\"fold:N\"),\n",
    "#     )\n",
    "# )\n",
    "\n",
    "# power_law_source = pd.DataFrame(\n",
    "#     {\"n_tumors\": x_fit, \"mae\": y_fit, \"mae_upper\": y_upper, \"mae_lower\": y_lower}\n",
    "# )\n",
    "# power_law_base = alt.Chart(power_law_source).encode(\n",
    "#     alt.X(\"n_tumors:Q\").scale(**scale_config)\n",
    "# )\n",
    "\n",
    "# power_law_line = power_law_base.mark_line().encode(alt.Y(\"mae:Q\").scale(**scale_config))\n",
    "# power_law_bound = power_law_base.mark_area(color=\"lightgray\", opacity=0.5).encode(\n",
    "#     alt.Y(\"mae_lower:Q\").scale(**scale_config), alt.Y2(\"mae_upper:Q\")\n",
    "# )\n",
    "\n",
    "# chart: alt.Chart = power_law_bound + power_law_line + circles\n",
    "# chart.resolve_scale(color=\"independent\").properties(width=700)"
   ]
  },
  {
   "cell_type": "code",
   "execution_count": null,
   "metadata": {},
   "outputs": [],
   "source": [
    "# func = lambda g: pd.Series(\n",
    "#     {\n",
    "#         \"pcc\": eval_utils.pcorr(g, min_obs=5),\n",
    "#         # \"n_tumors_test\": len(g),\n",
    "#         # \"n_tumors\": g[\"n_tumors\"].iloc[0],\n",
    "#     }\n",
    "# )\n",
    "\n",
    "# pcc_drug_metrics: pd.DataFrame = (\n",
    "#     df.groupby([\"iter\", \"n_tumors\", \"drug_id\"]).apply(func).reset_index().dropna()\n",
    "# )\n",
    "\n",
    "# pcc_drug_metrics.head()"
   ]
  },
  {
   "cell_type": "code",
   "execution_count": null,
   "metadata": {},
   "outputs": [],
   "source": [
    "# pcc_drug_metrics[\"drug_id\"].unique()"
   ]
  },
  {
   "cell_type": "code",
   "execution_count": null,
   "metadata": {},
   "outputs": [],
   "source": [
    "# source = pcc_drug_metrics.groupby([\"drug_id\", \"n_tumors\"])[\"pcc\"].mean().reset_index()\n",
    "# source = pcc_drug_metrics[pcc_drug_metrics[\"drug_id\"] == \"Olaparib\"]\n",
    "# source = pcc_drug_metrics[pcc_drug_metrics[\"drug_id\"] == \"Alisertib\"]\n",
    "# source = pcc_drug_metrics[pcc_drug_metrics[\"drug_id\"] == \"Afatinib\"]\n",
    "# source = pcc_drug_metrics[pcc_drug_metrics[\"drug_id\"] == \"AZD5363\"]\n",
    "# source = pcc_drug_metrics[pcc_drug_metrics[\"drug_id\"] == \"5-azacytidine\"]\n",
    "# source = pcc_drug_metrics[pcc_drug_metrics[\"drug_id\"] == \"Lapatinib\"]\n",
    "# source = pcc_drug_metrics[pcc_drug_metrics[\"drug_id\"] == \"Vinorelbine\"]\n",
    "# source = pcc_drug_metrics[pcc_drug_metrics[\"drug_id\"] == \"SN-38\"]\n",
    "# source = pcc_drug_metrics[pcc_drug_metrics[\"drug_id\"] == \"Selumetinib\"]\n",
    "# chart = alt.Chart(source).mark_circle().encode(\n",
    "#     alt.X(\"n_tumors:Q\").scale(type=\"log\", base=2),\n",
    "#     alt.Y(\"pcc:Q\"),\n",
    "#     alt.Color(\"fold:N\"),\n",
    "# )\n",
    "\n",
    "# chart.properties(width=700)"
   ]
  },
  {
   "cell_type": "code",
   "execution_count": null,
   "metadata": {},
   "outputs": [],
   "source": [
    "# source = pcc_drug_metrics.groupby([\"drug_id\", \"n_tumors\"])[\"pcc\"].mean().reset_index()\n",
    "# source = pcc_drug_metrics[pcc_drug_metrics[\"drug_id\"] == \"Alisertib\"]\n",
    "# chart = alt.Chart(source).mark_circle().encode(\n",
    "#     alt.X(\"n_tumors:Q\").scale(type=\"log\", base=2),\n",
    "#     alt.Y(\"pcc:Q\"),\n",
    "#     alt.Color(\"fold:N\"),\n",
    "# )\n",
    "\n",
    "# chart.properties(width=700)"
   ]
  },
  {
   "cell_type": "code",
   "execution_count": null,
   "metadata": {},
   "outputs": [],
   "source": [
    "# circles = (\n",
    "#     alt.Chart(mae_metrics)\n",
    "#     .mark_circle()\n",
    "#     .encode(alt.X(\"n_tumors:Q\"), alt.Y(\"mae:Q\"), alt.Color(\"fold:N\"))\n",
    "# )\n",
    "\n",
    "# line = alt.Chart(pl_source).mark_line().encode(alt.X(\"n_tumors:Q\"), alt.Y(\"mae:Q\"))\n",
    "\n",
    "# (circles + line).resolve_scale(color=\"independent\").properties(width=700)"
   ]
  },
  {
   "cell_type": "code",
   "execution_count": null,
   "metadata": {},
   "outputs": [],
   "source": [
    "# tmpdir = Path(\"./temp\")\n",
    "# tmpdir.mkdir(exist_ok=True)"
   ]
  },
  {
   "cell_type": "code",
   "execution_count": null,
   "metadata": {},
   "outputs": [],
   "source": [
    "# url = str(tmpdir / \"temp.json\")\n",
    "# pcc.to_json(url, orient=\"records\")"
   ]
  },
  {
   "cell_type": "code",
   "execution_count": null,
   "metadata": {},
   "outputs": [],
   "source": [
    "# source = pcc.groupby([\"n_tumors\", \"drug_id\"])[\"pcc\"].mean().to_frame(\"pcc\").reset_index()\n",
    "# alt.Chart(source).transform_filter(\n",
    "#     # alt.datum.drug_id == \"Ipatasertib\"\n",
    "#     alt.datum.drug_id == \"Alisertib\"\n",
    "# ).mark_circle().encode(alt.X(\"n_tumors:Q\"), alt.Y(\"pcc:Q\"), alt.Color(\"drug_id:N\"))"
   ]
  },
  {
   "cell_type": "code",
   "execution_count": null,
   "metadata": {},
   "outputs": [],
   "source": [
    "# NOTE: look at MAE for the residual response"
   ]
  },
  {
   "cell_type": "code",
   "execution_count": null,
   "metadata": {},
   "outputs": [],
   "source": [
    "# Look at the resulting ranking for a given tumor?\n",
    "# -> what is the best z-score vs best predicted z-score"
   ]
  },
  {
   "cell_type": "code",
   "execution_count": null,
   "metadata": {},
   "outputs": [],
   "source": [
    "# dataset_dir = root / \"inputs/CellModelPassportsGDSCv1v2HCIv9AllDrugsHallmarkCombat\"\n",
    "\n",
    "# drug_meta = pd.read_csv(dataset_dir / \"MetaDrugAnnotations.csv\", index_col=0)\n",
    "# cell_meta = pd.read_csv(dataset_dir / \"MetaSampleAnnotations.csv\", index_col=0)\n",
    "\n",
    "# D = Dataset.from_csv(\n",
    "#     dataset_dir / \"LabelsLogIC50.csv\",\n",
    "#     cell_meta=cell_meta,\n",
    "#     drug_meta=drug_meta,\n",
    "#     name=\"CellModelPassportsGDSCHCI\",\n",
    "# )\n",
    "\n",
    "# cell_ids = D.cell_meta[D.cell_meta[\"domain\"] == \"CELL\"].index\n",
    "# pdmc_ids = D.cell_meta[D.cell_meta[\"domain\"] == \"PDMC\"].index\n",
    "\n",
    "# cell_ds = D.select_cells(cell_ids, name=\"cell_ds\")\n",
    "# pdmc_ds = D.select_cells(pdmc_ids, name=\"pdmc_ds\")\n",
    "\n",
    "# print(cell_ds)\n",
    "# print(pdmc_ds)"
   ]
  },
  {
   "cell_type": "code",
   "execution_count": null,
   "metadata": {},
   "outputs": [],
   "source": [
    "# NOTE: this is very dependent on the number fold and the"
   ]
  },
  {
   "cell_type": "code",
   "execution_count": null,
   "metadata": {},
   "outputs": [],
   "source": [
    "# NOTE: why would we still want to do vs background\n",
    "# -> we need to have relative response in order to select drugs\n",
    "# -> so by computing vs the background dataset, we can better assess our\n",
    "#    ability to predict differential response"
   ]
  },
  {
   "cell_type": "code",
   "execution_count": null,
   "metadata": {},
   "outputs": [],
   "source": []
  }
 ],
 "metadata": {
  "kernelspec": {
   "display_name": "cdrpy-tf-cpu-v2",
   "language": "python",
   "name": "python3"
  },
  "language_info": {
   "codemirror_mode": {
    "name": "ipython",
    "version": 3
   },
   "file_extension": ".py",
   "mimetype": "text/x-python",
   "name": "python",
   "nbconvert_exporter": "python",
   "pygments_lexer": "ipython3",
   "version": "3.9.13"
  }
 },
 "nbformat": 4,
 "nbformat_minor": 2
}
